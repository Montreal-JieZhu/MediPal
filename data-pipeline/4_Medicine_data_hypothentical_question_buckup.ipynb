{
 "cells": [
  {
   "cell_type": "markdown",
   "id": "0ee57847",
   "metadata": {},
   "source": [
    "### In this section, I will involve a LLM as an question-generator to make hypothetical questions based on the docments\n",
    "#### That is one of reasons why I call the RAG system as ***Agentic-RAG***"
   ]
  },
  {
   "cell_type": "code",
   "execution_count": 17,
   "id": "a82302bd",
   "metadata": {},
   "outputs": [],
   "source": [
    "import json\n",
    "import uuid\n",
    "import os\n",
    "from typing import List\n",
    "from pathlib import Path\n",
    "from pydantic import BaseModel, Field"
   ]
  },
  {
   "cell_type": "code",
   "execution_count": 2,
   "id": "fbf38d40",
   "metadata": {},
   "outputs": [],
   "source": [
    "# This function will load the json file to json object\n",
    "def load_json_list(path: str):    \n",
    "    with open(path, mode = \"r\", encoding=\"utf-8\") as f:\n",
    "        return json.load(f)"
   ]
  },
  {
   "cell_type": "code",
   "execution_count": 3,
   "id": "b0c68cfe",
   "metadata": {},
   "outputs": [],
   "source": [
    "data = load_json_list(r\"datasets\\chuncked_medicine_data.json\")"
   ]
  },
  {
   "cell_type": "code",
   "execution_count": 4,
   "id": "6d5f9654",
   "metadata": {},
   "outputs": [
    {
     "data": {
      "text/plain": [
       "[{'doc_id': '1bf5880b-93ec-4ac9-a0cb-eb35693ccce4',\n",
       "  'questions': ['why is Phenylephrine prescribed?'],\n",
       "  'docs': ['phenylephrine is used to relieve nasal discomfort caused by colds, allergies, and hay fever. it is also used to relieve sinus congestion and pressure. phenylephrine will relieve symptoms but will not treat the cause of the symptoms or speed recovery. phenylephrine is in a class of medications called nasal decongestants. it works by reducing swelling of the blood vessels in the nasal passages.about Phenylephrine'],\n",
       "  'original_doc': 'phenylephrine is used to relieve nasal discomfort caused by colds, allergies, and hay fever. it is also used to relieve sinus congestion and pressure. phenylephrine will relieve symptoms but will not treat the cause of the symptoms or speed recovery. phenylephrine is in a class of medications called nasal decongestants. it works by reducing swelling of the blood vessels in the nasal passages.about Phenylephrine'},\n",
       " {'doc_id': 'f7ad6ffd-7176-4c1d-a7ee-bec020443c2c',\n",
       "  'questions': ['how should Phenylephrine be used?'],\n",
       "  'docs': ['phenylephrine comes as a tablet, a liquid, or a dissolving strip to take by mouth. it is usually taken every 4 hours as needed. follow the directions on your prescription label or the package label carefully, and ask your doctor or pharmacist to explain any part you do not understand. take phenylephrine exactly as directed. do not take more or less of it or take it more often than prescribed by your doctor or directed on the label.phenylephrine comes alone and in combination with other',\n",
       "   'and in combination with other medications. ask your doctor or pharmacist for advice on which product is best for your symptoms. check nonprescription cough and cold product labels carefully before using two or more products at the same time. these products may contain the same active ingredient(s) and taking them together could cause you to receive an overdose. this is especially important if you will be giving cough and cold medications to a child.nonprescription cough and cold combination',\n",
       "   'cough and cold combination products, including products that contain phenylephrine, can cause serious side effects or death in young children. do not give these products to children younger than 4 years of age. if you give these products to children 4 to 11 years of age, use caution and follow the package directions carefully.if you are giving phenylephrine or a combination product that contains phenylephrine to a child, read the package label carefully to be sure that it is the right product',\n",
       "   \"that it is the right product for a child of that age. do not give phenylephrine products that are made for adults to children.before you give a phenylephrine product to a child, check the package label to find out how much medication the child should receive. give the dose that matches the child's age on the chart. ask the child's doctor if you don't know how much medication to give the child.if you are taking the liquid, do not use a household spoon to measure your dose. use the measuring\",\n",
       "   'your dose. use the measuring spoon or cup that came with the medication or use a spoon made especially for measuring medication.if your symptoms do not get better within 7 days or if you have a fever, stop taking phenylephrine and call your doctor.if you are taking the dissolving strips, place one strip on your tongue and allow it to dissolve.about Phenylephrine'],\n",
       "  'original_doc': \"phenylephrine comes as a tablet, a liquid, or a dissolving strip to take by mouth. it is usually taken every 4 hours as needed. follow the directions on your prescription label or the package label carefully, and ask your doctor or pharmacist to explain any part you do not understand. take phenylephrine exactly as directed. do not take more or less of it or take it more often than prescribed by your doctor or directed on the label.phenylephrine comes alone and in combination with other medications. ask your doctor or pharmacist for advice on which product is best for your symptoms. check nonprescription cough and cold product labels carefully before using two or more products at the same time. these products may contain the same active ingredient(s) and taking them together could cause you to receive an overdose. this is especially important if you will be giving cough and cold medications to a child.nonprescription cough and cold combination products, including products that contain phenylephrine, can cause serious side effects or death in young children. do not give these products to children younger than 4 years of age. if you give these products to children 4 to 11 years of age, use caution and follow the package directions carefully.if you are giving phenylephrine or a combination product that contains phenylephrine to a child, read the package label carefully to be sure that it is the right product for a child of that age. do not give phenylephrine products that are made for adults to children.before you give a phenylephrine product to a child, check the package label to find out how much medication the child should receive. give the dose that matches the child's age on the chart. ask the child's doctor if you don't know how much medication to give the child.if you are taking the liquid, do not use a household spoon to measure your dose. use the measuring spoon or cup that came with the medication or use a spoon made especially for measuring medication.if your symptoms do not get better within 7 days or if you have a fever, stop taking phenylephrine and call your doctor.if you are taking the dissolving strips, place one strip on your tongue and allow it to dissolve.about Phenylephrine\"}]"
      ]
     },
     "execution_count": 4,
     "metadata": {},
     "output_type": "execute_result"
    }
   ],
   "source": [
    "data[:2]"
   ]
  },
  {
   "cell_type": "code",
   "execution_count": 5,
   "id": "c46ec4e5",
   "metadata": {},
   "outputs": [],
   "source": [
    "from huggingface_hub import login"
   ]
  },
  {
   "cell_type": "code",
   "execution_count": 6,
   "id": "8e80bd5b",
   "metadata": {},
   "outputs": [
    {
     "name": "stderr",
     "output_type": "stream",
     "text": [
      "Note: Environment variable`HF_TOKEN` is set and is the current active token independently from the token you've just configured.\n"
     ]
    },
    {
     "name": "stdout",
     "output_type": "stream",
     "text": [
      "Login Huggingface so that we can access the model\n"
     ]
    }
   ],
   "source": [
    "with open(\"keys.txt\") as f:\n",
    "    os.environ[\"HF_TOKEN\"] = f.read().strip()\n",
    "\n",
    "# login using env var\n",
    "login(os.environ[\"HF_TOKEN\"])\n",
    "\n",
    "print(f\"Login Huggingface so that we can access the model\")"
   ]
  },
  {
   "cell_type": "markdown",
   "id": "20f90976",
   "metadata": {},
   "source": [
    "### Now I need to use a local LLM to generate hypothetical question for the content.\n",
    "\n",
    "#### I tested three models in my test notebook(That's a mess. I will never show it to you). Result is showing Below:\n",
    "\n",
    "#### Task 1: Generate hypothetical questions for a document and output JSON\n",
    "* meta-llama/Llama-3.2-1B-Instruct did OK job. very fast.\n",
    "* meta-llama/Meta-Llama-3-8B-Instruct is out of control no matter how I prompt it. very slow!\n",
    "* ContactDoctor/Bio-Medical-Llama-3-8B did amazing job. fast enought.\n",
    "\n",
    "#### Task 2: Summarize the document\n",
    "* meta-llama/Llama-3.2-1B-Instruct did OK job. very fast.\n",
    "* meta-llama/Meta-Llama-3-8B-Instruct is out of control. very slow!\n",
    "* ContactDoctor/Bio-Medical-Llama-3-8B did amazing job. fast enought.\n",
    "\n",
    "#### So I have no any reason not to select ContactDoctor/Bio-Medical-Llama-3-8B\n",
    "\n",
    "#### As the model provider's citation:\n",
    "\n",
    "@misc{ContactDoctor_Bio-Medical-Llama-3-8B, author = ContactDoctor, title = {ContactDoctor-Bio-Medical: A High-Performance Biomedical Language Model}, year = {2024}, howpublished = {https://huggingface.co/ContactDoctor/Bio-Medical-Llama-3-8B}, }\n",
    "\n",
    "Bio-Medical-Llama-3-8B model is a specialized large language model designed for biomedical applications. It is finetuned from the meta-llama/Meta-Llama-3-8B-Instruct model using a custom dataset containing over 500,000 diverse entries. These entries include a mix of synthetic and manually curated data, ensuring high quality and broad coverage of biomedical topics.\n",
    "\n",
    "The model is trained to understand and generate text related to various biomedical fields, making it a valuable tool for researchers, clinicians, and other professionals in the biomedical domain.\n"
   ]
  },
  {
   "cell_type": "code",
   "execution_count": 7,
   "id": "7d8a0a52",
   "metadata": {},
   "outputs": [],
   "source": [
    "model_id = \"ContactDoctor/Bio-Medical-Llama-3-8B\""
   ]
  },
  {
   "cell_type": "code",
   "execution_count": 12,
   "id": "4ffba088",
   "metadata": {},
   "outputs": [],
   "source": [
    "from transformers import AutoTokenizer, AutoModelForCausalLM, pipeline\n",
    "from langchain_huggingface import HuggingFacePipeline, ChatHuggingFace\n",
    "from langchain_core.prompts import ChatPromptTemplate\n",
    "from pydantic import BaseModel, Field\n",
    "from transformers import BitsAndBytesConfig\n",
    "import torch"
   ]
  },
  {
   "cell_type": "markdown",
   "id": "fc63c2dd",
   "metadata": {},
   "source": [
    "#### Better quantization will speed up the inference time extrordinately."
   ]
  },
  {
   "cell_type": "code",
   "execution_count": 14,
   "id": "a6b8a954",
   "metadata": {},
   "outputs": [],
   "source": [
    "def best_dtype():\n",
    "    if torch.cuda.is_available():\n",
    "        if torch.cuda.is_bf16_supported():\n",
    "            return torch.bfloat16\n",
    "        else:\n",
    "            return torch.float16\n",
    "        \n",
    "    return torch.float32\n",
    "\n",
    "def best_device():\n",
    "    return \"cuda\" if torch.cuda.is_available() else \"cpu\""
   ]
  },
  {
   "cell_type": "code",
   "execution_count": 15,
   "id": "cd2b9e0a",
   "metadata": {},
   "outputs": [],
   "source": [
    "# ContactDoctor/Bio-Medical-Llama-3-8B works best at bfloat16 quantization.\n",
    "# In order to load a lighter LLM and still don't lose the performance.\n",
    "# I will load it in 8bit and keep the dtype as bfloat16. This is a balance choise.\n",
    "def load_model(model_id: str):\n",
    "    bnb_cfg = None\n",
    "\n",
    "    if best_device() == \"cuda\":\n",
    "        bnb_cfg = BitsAndBytesConfig(\n",
    "            load_in_8bit=True, # I don't want to lost LLM's performance     \n",
    "            load_in_8bit_fp32_cpu_offload=False,\n",
    "        )\n",
    "\n",
    "        model = AutoModelForCausalLM.from_pretrained(\n",
    "            model_id,\n",
    "            quantization_config = bnb_cfg,\n",
    "            dtype = best_dtype(),\n",
    "            device_map = \"auto\",                        \n",
    "        )\n",
    "        print(f\"The bnb configuration: {bnb_cfg}\")\n",
    "    else: #CPU\n",
    "        model = AutoModelForCausalLM.from_pretrained(\n",
    "            model_id,\n",
    "            dtype = best_dtype(),\n",
    "            device_map={\"\":best_device()}, \n",
    "            low_cpu_mem_usage=True           \n",
    "        )\n",
    "\n",
    "    return model"
   ]
  },
  {
   "cell_type": "code",
   "execution_count": null,
   "id": "0560185f",
   "metadata": {},
   "outputs": [],
   "source": [
    "tokenizer = AutoTokenizer.from_pretrained(model_id)\n",
    "\n",
    "tokenizer.pad_token = tokenizer.eos_token\n",
    "\n",
    "model = load_model(model_id)\n",
    "\n",
    "print(\"Load tokenizer done!\")"
   ]
  },
  {
   "cell_type": "code",
   "execution_count": null,
   "id": "811b4f63",
   "metadata": {},
   "outputs": [],
   "source": [
    "# Check the model's context size which is the maximum amount of tokens we can feed\n",
    "\n",
    "print(f\"Context size: {tokenizer.model_max_length}\")"
   ]
  },
  {
   "cell_type": "code",
   "execution_count": null,
   "id": "650ed871",
   "metadata": {},
   "outputs": [],
   "source": [
    "pipe = pipeline(\n",
    "    \"text-generation\", \n",
    "    model=model, \n",
    "    tokenizer=tokenizer,\n",
    "    return_full_text=False,   \n",
    "    )"
   ]
  },
  {
   "cell_type": "code",
   "execution_count": null,
   "id": "2b274a19",
   "metadata": {},
   "outputs": [],
   "source": [
    "hug_pipe = HuggingFacePipeline(pipeline=pipe)"
   ]
  },
  {
   "cell_type": "code",
   "execution_count": null,
   "id": "587d1a6d",
   "metadata": {},
   "outputs": [],
   "source": [
    "question_generator = ChatHuggingFace(llm=hug_pipe)"
   ]
  },
  {
   "cell_type": "code",
   "execution_count": null,
   "id": "b1751e1f",
   "metadata": {},
   "outputs": [],
   "source": [
    "# LLM model is ready. \n",
    "# Here is the definition of the structure of output schema\n",
    "class QuestionList(BaseModel):\n",
    "    questions: List[str] = Field(\n",
    "        ...,\n",
    "        description=\"A list of unique, concise questions in English; each ends with a question mark.\"\n",
    "    )"
   ]
  },
  {
   "cell_type": "code",
   "execution_count": null,
   "id": "ab1b3dd4",
   "metadata": {},
   "outputs": [],
   "source": [
    "structured_generator = question_generator.with_structured_output(QuestionList)"
   ]
  },
  {
   "cell_type": "code",
   "execution_count": null,
   "id": "e829e560",
   "metadata": {},
   "outputs": [],
   "source": [
    "# Prompt engineering can guide the LLM to generate output we expect.\n",
    "\n",
    "# def prompt_maker(tok, doc_text: str, n: int) -> str:\n",
    "\n",
    "#     messages = [\n",
    "#         {\"role\": \"system\", \"content\": \"You are a medical student. You like ask questions when you read clinical documents.\"},\n",
    "#         {\"role\": \"user\", \"content\": (\n",
    "#         f\"Read the document and generate {n} clinically relevant questions.\\n\"    \n",
    "#         \"Requirements:\\n\" \n",
    "#         \"1) The questions you generate should be from different medical perspectives.\\n\"\n",
    "#         \"2) Don't produce answers. Questions only.\\n\"\n",
    "#         \"3) Output only JSON format, for example: {'questions:': ['question1','question2',...,'question5']}.\\n\"\n",
    "#         f\"Document:\\n{doc_text}\\n\\n\"\n",
    "#         \"JSON:\"\n",
    "#         )}\n",
    "#     ]\n",
    "\n",
    "#     prompt = tok.apply_chat_template(messages, tokenize=False, add_generation_prompt=True)\n",
    "\n",
    "#     return prompt\n",
    "\n",
    "prompt = ChatPromptTemplate.from_messages([\n",
    "    (\"system\", \n",
    "     \"You are a medical student. You like ask questions when you read clinical documents.\"),\n",
    "    (\"user\", \n",
    "     \"1.From the document below, write exactly {n} unique QUESTIONS only. \"\n",
    "     \"2.The questions you generate should be from different medical perspectives. \"\n",
    "     \"3.Don't generate answer. \"\n",
    "     \"4.Output only JSON format, for example: {'questions:': ['question1','question2',...,'question5']}.\"),    \n",
    "    (\"user\", \"Document:\\n{doc}\")\n",
    "])"
   ]
  },
  {
   "cell_type": "code",
   "execution_count": null,
   "id": "c83933f8",
   "metadata": {},
   "outputs": [],
   "source": [
    "# A simple chain which will feed a prompt to the generator to produce stucture json object with questions\n",
    "chain = prompt | structured_generator   # output is a QuestionList pydantic object"
   ]
  },
  {
   "cell_type": "code",
   "execution_count": null,
   "id": "529a167e",
   "metadata": {},
   "outputs": [],
   "source": [
    "# Decide how many questions it need to generate based on the length of the document.\n",
    "# From my experience, 500 to 2000 : 5 questions, 100 to 500 : 3 questions, less than 100 : 1 question.\n",
    "# But it can be varied.\n",
    "def decide_n_questions(txt: str):\n",
    "    wc = len(txt.split())\n",
    "    if wc > 500:\n",
    "        return 5\n",
    "    elif wc > 100:\n",
    "        return 3\n",
    "    else:\n",
    "        return 1"
   ]
  },
  {
   "cell_type": "code",
   "execution_count": null,
   "id": "38c7b4f4",
   "metadata": {},
   "outputs": [],
   "source": [
    "# Now let's iterate all medicine's docments\n",
    "\n",
    "for content in data:\n",
    "    for doc in content[\"docs\"]:\n",
    "        n = decide_n_questions(doc)\n",
    "        questions_list = chain.invoke({\"n\": n, \"doc\": doc})"
   ]
  }
 ],
 "metadata": {
  "kernelspec": {
   "display_name": "SFT_QLoRA_Llama3_1B",
   "language": "python",
   "name": "python3"
  },
  "language_info": {
   "codemirror_mode": {
    "name": "ipython",
    "version": 3
   },
   "file_extension": ".py",
   "mimetype": "text/x-python",
   "name": "python",
   "nbconvert_exporter": "python",
   "pygments_lexer": "ipython3",
   "version": "3.11.13"
  }
 },
 "nbformat": 4,
 "nbformat_minor": 5
}
