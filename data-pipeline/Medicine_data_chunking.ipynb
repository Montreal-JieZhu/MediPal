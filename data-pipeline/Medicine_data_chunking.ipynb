{
 "cells": [
  {
   "cell_type": "markdown",
   "id": "99b5f297",
   "metadata": {},
   "source": [
    "### In this section, I will chunk the medicine data properly \n",
    "    1. So that embedding model can process it easily.\n",
    "    2. So that we can retrieve relevant docs efficiently.\n",
    "\n",
    "### "
   ]
  },
  {
   "cell_type": "code",
   "execution_count": null,
   "id": "0d7747e0",
   "metadata": {},
   "outputs": [],
   "source": []
  }
 ],
 "metadata": {
  "language_info": {
   "name": "python"
  }
 },
 "nbformat": 4,
 "nbformat_minor": 5
}
