{
 "cells": [
  {
   "cell_type": "code",
   "execution_count": 1,
   "id": "14ebfd74",
   "metadata": {},
   "outputs": [],
   "source": [
    "from typing import TypedDict\n",
    "from langgraph.graph import StateGraph, START, END\n"
   ]
  },
  {
   "cell_type": "code",
   "execution_count": 2,
   "id": "f9460008",
   "metadata": {},
   "outputs": [],
   "source": [
    "class AgentState(TypedDict):\n",
    "    number1: int\n",
    "    operation: str\n",
    "    number2: int\n",
    "    finalNumber: int"
   ]
  },
  {
   "cell_type": "code",
   "execution_count": 4,
   "id": "a5cdfbdf",
   "metadata": {},
   "outputs": [],
   "source": [
    "def adder(state: AgentState) -> AgentState:\n",
    "    \"\"\"balabala\"\"\"\n",
    "    state['finalNumber'] = state['number1'] + state['number2']\n",
    "\n",
    "    return state\n",
    "\n",
    "def subtractor(state: AgentState) -> AgentState:\n",
    "    \"\"\"ddssf \"\"\"\n",
    "    state['finalNumber'] = state['number1'] - state['number2']\n",
    "    return state"
   ]
  },
  {
   "cell_type": "code",
   "execution_count": 5,
   "id": "440f13a5",
   "metadata": {},
   "outputs": [],
   "source": [
    "def decide_next_node(state: AgentState) -> str:\n",
    "    \"\"\"  ddd \"\"\"\n",
    "    if state['operation'] == \"+\":\n",
    "        return \"addition_operation\"\n",
    "    else:\n",
    "        return \"subtraction_operation\""
   ]
  },
  {
   "cell_type": "code",
   "execution_count": 20,
   "id": "c391927c",
   "metadata": {},
   "outputs": [],
   "source": [
    "graph = StateGraph(AgentState)\n",
    "\n",
    "graph.add_node(\"add_node\", adder)\n",
    "graph.add_node(\"subtract_node\", subtractor)\n",
    "graph.add_node(\"router\", lambda state: state) # passthrough function\n",
    "graph.add_edge(START, \"router\")\n",
    "\n",
    "graph.add_conditional_edges(\n",
    "    source=\"router\",\n",
    "    path=decide_next_node,\n",
    "    path_map={\n",
    "        \"addition_operation\": \"add_node\",\n",
    "        \"subtraction_operation\": \"subtract_node\"\n",
    "    }\n",
    ")\n",
    "\n",
    "graph.add_edge(\"add_node\", END)\n",
    "graph.add_edge(\"subtract_node\", END)\n",
    "\n",
    "app = graph.compile()\n",
    "\n"
   ]
  },
  {
   "cell_type": "code",
   "execution_count": 21,
   "id": "34f625e3",
   "metadata": {},
   "outputs": [
    {
     "data": {
      "text/plain": [
       "{'number1': 1, 'operation': '+', 'number2': 2, 'finalNumber': 3}"
      ]
     },
     "execution_count": 21,
     "metadata": {},
     "output_type": "execute_result"
    }
   ],
   "source": [
    "state_1 = AgentState(number1=1,number2=2,operation=\"+\")\n",
    "app.invoke(state_1)"
   ]
  },
  {
   "cell_type": "code",
   "execution_count": 22,
   "id": "dd0864a2",
   "metadata": {},
   "outputs": [
    {
     "data": {
      "text/plain": [
       "{'number1': 1, 'operation': '-', 'number2': 2, 'finalNumber': -1}"
      ]
     },
     "execution_count": 22,
     "metadata": {},
     "output_type": "execute_result"
    }
   ],
   "source": [
    "state_1 = AgentState(number1=1,number2=2,operation=\"-\")\n",
    "app.invoke(state_1)"
   ]
  },
  {
   "cell_type": "code",
   "execution_count": 16,
   "id": "aa615edc",
   "metadata": {},
   "outputs": [],
   "source": [
    "from typing import TypedDict\n",
    "from langgraph.graph import StateGraph, START, END"
   ]
  },
  {
   "cell_type": "code",
   "execution_count": 42,
   "id": "a4d294a8",
   "metadata": {},
   "outputs": [],
   "source": [
    "class AgentState(TypedDict):\n",
    "    number1: int\n",
    "    operation1: str\n",
    "    number2: int\n",
    "\n",
    "    number3: int\n",
    "    operation2: str\n",
    "    number4: int\n",
    "\n",
    "    finalNumber1: int\n",
    "    finalNumber2: int"
   ]
  },
  {
   "cell_type": "code",
   "execution_count": 43,
   "id": "401515f8",
   "metadata": {},
   "outputs": [],
   "source": [
    "def decide_add_sub1(state: AgentState) -> str:\n",
    "    print(f\"Operation1:{state['operation1']}\\n\")\n",
    "    if state['operation1'] == \"+\":\n",
    "        print(f\"go to addition_operation1\\n\")\n",
    "        return \"addition_operation1\"\n",
    "    else:\n",
    "        print(f\"go to subtraction_operation1\\n\")\n",
    "        return \"subtraction_operation1\"  \n",
    "    \n",
    "def decide_add_sub2(state: AgentState) -> str:\n",
    "    print(f\"Operation2:{state['operation2']}\\n\")\n",
    "    if state['operation2'] == \"+\":\n",
    "        print(f\"go to addition_operation2\\n\")\n",
    "        return \"addition_operation2\"\n",
    "    else:\n",
    "        print(f\"go to subtraction_operation2\\n\")\n",
    "        return \"subtraction_operation2\"  "
   ]
  },
  {
   "cell_type": "code",
   "execution_count": 44,
   "id": "f771829d",
   "metadata": {},
   "outputs": [],
   "source": [
    "def adder1(state: AgentState) -> AgentState:\n",
    "    \"\"\"balabala\"\"\"\n",
    "    state['finalNumber1'] = state['number1'] + state['number2']\n",
    "\n",
    "    return state\n",
    "\n",
    "def subtractor1(state: AgentState) -> AgentState:\n",
    "    \"\"\"ddssf \"\"\"\n",
    "    state['finalNumber1'] = state['number1'] - state['number2']\n",
    "    return state"
   ]
  },
  {
   "cell_type": "code",
   "execution_count": 45,
   "id": "585a004b",
   "metadata": {},
   "outputs": [],
   "source": [
    "def adder2(state: AgentState) -> AgentState:\n",
    "    \"\"\"balabala\"\"\"\n",
    "    state['finalNumber2'] = state['number3'] + state['number4']\n",
    "\n",
    "    return state\n",
    "\n",
    "def subtractor2(state: AgentState) -> AgentState:\n",
    "    \"\"\"ddssf \"\"\"\n",
    "    state['finalNumber2'] = state['number3'] - state['number4']\n",
    "    return state"
   ]
  },
  {
   "cell_type": "code",
   "execution_count": 47,
   "id": "f0d25d1a",
   "metadata": {},
   "outputs": [],
   "source": [
    "graph = StateGraph(AgentState)\n",
    "\n",
    "#graph.add_node(\"router1\", lambda state: state)\n",
    "graph.add_node(\"add_node1\", adder1)\n",
    "graph.add_node(\"subtract_node1\", subtractor1)\n",
    "graph.add_node(\"router2\", lambda state: state)\n",
    "graph.add_node(\"add_node2\",adder2)\n",
    "graph.add_node(\"subtract_node2\", subtractor2)\n",
    "\n",
    "#graph.add_edge(START, \"router1\")\n",
    "\n",
    "graph.add_conditional_edges(source=START,\n",
    "                            path=decide_add_sub1,\n",
    "                            path_map={\n",
    "                                \"addition_operation1\":\"add_node1\",\n",
    "                                \"subtraction_operation1\":\"subtract_node1\"\n",
    "                            })\n",
    "\n",
    "graph.add_conditional_edges(source=\"router2\",\n",
    "                            path=decide_add_sub2,\n",
    "                            path_map={\n",
    "                                \"addition_operation2\":\"add_node2\",\n",
    "                                \"subtraction_operation2\":\"subtract_node2\"\n",
    "                            })\n",
    "\n",
    "graph.add_edge(\"add_node1\",\"router2\")\n",
    "graph.add_edge(\"subtract_node1\",\"router2\")\n",
    "graph.add_edge(\"add_node2\",END)\n",
    "graph.add_edge(\"subtract_node2\",END)\n",
    "\n",
    "app = graph.compile()\n"
   ]
  },
  {
   "cell_type": "code",
   "execution_count": 48,
   "id": "3d66eb83",
   "metadata": {},
   "outputs": [],
   "source": [
    "state_1 = AgentState(number1=332,number2=234522,operation1=\"-\",number3=2323,number4=555555555,operation2=\"+\")\n",
    "state_2 = AgentState(number1=332,number2=234522,operation1=\"+\",number3=2323,number4=555555555,operation2=\"+\")"
   ]
  },
  {
   "cell_type": "code",
   "execution_count": 49,
   "id": "34d51d12",
   "metadata": {},
   "outputs": [
    {
     "name": "stdout",
     "output_type": "stream",
     "text": [
      "Operation1:-\n",
      "\n",
      "go to subtraction_operation1\n",
      "\n",
      "Operation2:+\n",
      "\n",
      "go to addition_operation2\n",
      "\n"
     ]
    }
   ],
   "source": [
    "result = app.invoke(state_1)"
   ]
  },
  {
   "cell_type": "code",
   "execution_count": 50,
   "id": "f55a2d5e",
   "metadata": {},
   "outputs": [
    {
     "data": {
      "text/plain": [
       "{'number1': 332,\n",
       " 'operation1': '-',\n",
       " 'number2': 234522,\n",
       " 'number3': 2323,\n",
       " 'operation2': '+',\n",
       " 'number4': 555555555,\n",
       " 'finalNumber1': -234190,\n",
       " 'finalNumber2': 555557878}"
      ]
     },
     "execution_count": 50,
     "metadata": {},
     "output_type": "execute_result"
    }
   ],
   "source": [
    "result"
   ]
  },
  {
   "cell_type": "code",
   "execution_count": 51,
   "id": "914ad9e0",
   "metadata": {},
   "outputs": [
    {
     "name": "stdout",
     "output_type": "stream",
     "text": [
      "Operation1:+\n",
      "\n",
      "go to addition_operation1\n",
      "\n",
      "Operation2:+\n",
      "\n",
      "go to addition_operation2\n",
      "\n"
     ]
    }
   ],
   "source": [
    "result = app.invoke(state_2)"
   ]
  },
  {
   "cell_type": "code",
   "execution_count": 52,
   "id": "be039522",
   "metadata": {},
   "outputs": [
    {
     "data": {
      "text/plain": [
       "{'number1': 332,\n",
       " 'operation1': '+',\n",
       " 'number2': 234522,\n",
       " 'number3': 2323,\n",
       " 'operation2': '+',\n",
       " 'number4': 555555555,\n",
       " 'finalNumber1': 234854,\n",
       " 'finalNumber2': 555557878}"
      ]
     },
     "execution_count": 52,
     "metadata": {},
     "output_type": "execute_result"
    }
   ],
   "source": [
    "result"
   ]
  },
  {
   "cell_type": "code",
   "execution_count": 27,
   "id": "6e099063",
   "metadata": {},
   "outputs": [],
   "source": [
    "from langgraph.graph import StateGraph, START, END\n",
    "from typing import TypedDict, List, Dict\n",
    "import random"
   ]
  },
  {
   "cell_type": "code",
   "execution_count": 28,
   "id": "74b75b44",
   "metadata": {},
   "outputs": [],
   "source": [
    "class AgentState(TypedDict):\n",
    "    name: str\n",
    "    number: List[int]\n",
    "    counter: int"
   ]
  },
  {
   "cell_type": "code",
   "execution_count": 39,
   "id": "2b541f14",
   "metadata": {},
   "outputs": [],
   "source": [
    "def greeting_node(state: AgentState) -> AgentState:\n",
    "    \"\"\"Greeting Node\"\"\"\n",
    "    print(f\"\"\"hi there, {state['name']}\"\"\")\n",
    "    state[\"counter\"] = 0\n",
    "\n",
    "    return state\n",
    "\n",
    "def random_node(state: AgentState) -> AgentState:\n",
    "    \"\"\"Random number\"\"\"\n",
    "\n",
    "    state[\"number\"].append(random.randint(-5,5))\n",
    "    state[\"counter\"] += 1\n",
    "\n",
    "    return state\n",
    "\n",
    "def should_continue(state: AgentState) -> str:\n",
    "    \"\"\"decide what to do next\"\"\"\n",
    "    if sum(state[\"number\"]) != 0:\n",
    "        print(\"Entering loop\", state[\"counter\"])\n",
    "        return \"loop\"\n",
    "    else:\n",
    "        return \"exit\""
   ]
  },
  {
   "cell_type": "code",
   "execution_count": 40,
   "id": "e819a45e",
   "metadata": {},
   "outputs": [],
   "source": [
    "graph = StateGraph(AgentState)\n",
    "\n",
    "graph.add_node(\"greeting_node\", greeting_node)\n",
    "graph.add_node(\"random_node\", random_node)\n",
    "graph.add_edge(START, \"greeting_node\")\n",
    "graph.add_edge(\"greeting_node\",\"random_node\")\n",
    "\n",
    "graph.add_conditional_edges(\n",
    "    source=\"random_node\",\n",
    "    path=should_continue,\n",
    "    path_map={\n",
    "        \"loop\": \"random_node\",\n",
    "        \"exit\": END\n",
    "    }\n",
    ")\n",
    "\n",
    "app = graph.compile()"
   ]
  },
  {
   "cell_type": "code",
   "execution_count": 41,
   "id": "fa23dfe1",
   "metadata": {},
   "outputs": [
    {
     "name": "stdout",
     "output_type": "stream",
     "text": [
      "hi there, Jerry\n",
      "Entering loop 1\n",
      "Entering loop 2\n",
      "Entering loop 3\n",
      "Entering loop 4\n",
      "Entering loop 5\n",
      "Entering loop 6\n",
      "Entering loop 7\n",
      "Entering loop 8\n",
      "Entering loop 9\n",
      "Entering loop 10\n",
      "Entering loop 11\n",
      "Entering loop 12\n",
      "Entering loop 13\n",
      "Entering loop 14\n"
     ]
    },
    {
     "data": {
      "text/plain": [
       "{'name': 'Jerry',\n",
       " 'number': [2, 5, 3, -3, -3, -3, 1, 3, 3, -1, 5, 0, -3, -4, -5],\n",
       " 'counter': 15}"
      ]
     },
     "execution_count": 41,
     "metadata": {},
     "output_type": "execute_result"
    }
   ],
   "source": [
    "app.invoke({\"name\": \"Jerry\", \"number\": [], \"counter\":-3})"
   ]
  },
  {
   "cell_type": "code",
   "execution_count": null,
   "id": "5f5e5193",
   "metadata": {},
   "outputs": [],
   "source": []
  }
 ],
 "metadata": {
  "kernelspec": {
   "display_name": "SFT_QLoRA_Llama3_1B",
   "language": "python",
   "name": "python3"
  },
  "language_info": {
   "codemirror_mode": {
    "name": "ipython",
    "version": 3
   },
   "file_extension": ".py",
   "mimetype": "text/x-python",
   "name": "python",
   "nbconvert_exporter": "python",
   "pygments_lexer": "ipython3",
   "version": "3.11.13"
  }
 },
 "nbformat": 4,
 "nbformat_minor": 5
}
