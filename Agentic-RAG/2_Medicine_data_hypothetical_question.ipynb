{
 "cells": [
  {
   "cell_type": "markdown",
   "id": "0ee57847",
   "metadata": {},
   "source": [
    "### In this section, I will involve a medical-domain LLM(Bio-Medical-Llama-3-8B) as an question-generator to make hypothetical questions based on the chunked docments\n",
    "\n",
    "### Why I choose ContactDoctor/Bio-Medical-Llama-3-8B?\n",
    "\n",
    "#### Because:\n",
    "\n",
    "1. It is fine-tuned based on a bounch of clinical documents. So it knows this domian better than general LLM.\n",
    "\n",
    "2. I tested three models in my test notebook(That's a mess. I will never show it to you). Result is showing Below:\n",
    "\n",
    "#### Task 1: Generate hypothetical questions for a document and output JSON\n",
    "* meta-llama/Llama-3.2-1B-Instruct did OK job. very fast.\n",
    "* meta-llama/Meta-Llama-3-8B-Instruct is out of control, no matter how I prompt it. it run very slowly!\n",
    "* ContactDoctor/Bio-Medical-Llama-3-8B did amazing job. fast enought.\n",
    "\n",
    "#### Task 2: Summarize the document\n",
    "* meta-llama/Llama-3.2-1B-Instruct did OK job. very fast.\n",
    "* meta-llama/Meta-Llama-3-8B-Instruct is still out of control. very slow!\n",
    "* ContactDoctor/Bio-Medical-Llama-3-8B did amazing job. fast enought.\n",
    "\n",
    "#### So I have no any reason not to choose ContactDoctor/Bio-Medical-Llama-3-8B\n",
    "\n",
    "#### As the model provider's citation:\n",
    "\n",
    "@misc{ContactDoctor_Bio-Medical-Llama-3-8B, author = ContactDoctor, title = {ContactDoctor-Bio-Medical: A High-Performance Biomedical Language Model}, year = {2024}, howpublished = {https://huggingface.co/ContactDoctor/Bio-Medical-Llama-3-8B}, }\n",
    "\n",
    "Bio-Medical-Llama-3-8B model is a specialized large language model designed for biomedical applications. It is finetuned from the meta-llama/Meta-Llama-3-8B-Instruct model using a custom dataset containing over 500,000 diverse entries. These entries include a mix of synthetic and manually curated data, ensuring high quality and broad coverage of biomedical topics.\n",
    "\n",
    "The model is trained to understand and generate text related to various biomedical fields, making it a valuable tool for researchers, clinicians, and other professionals in the biomedical domain."
   ]
  },
  {
   "cell_type": "code",
   "execution_count": 1,
   "id": "a82302bd",
   "metadata": {},
   "outputs": [],
   "source": [
    "from mytools import best_dtype, best_device, login_huggingface\n",
    "from pathlib import Path\n",
    "import os, re, json, ast\n",
    "from typing import List\n",
    "from transformers import AutoTokenizer, AutoModelForCausalLM, pipeline\n",
    "from langchain_huggingface import HuggingFacePipeline, ChatHuggingFace\n",
    "from langchain_core.prompts import ChatPromptTemplate\n",
    "from langchain_core.output_parsers import PydanticOutputParser\n",
    "from langchain_core.runnables import RunnableLambda\n",
    "from langchain_core.output_parsers import StrOutputParser\n",
    "from pydantic import BaseModel, Field"
   ]
  },
  {
   "cell_type": "code",
   "execution_count": 2,
   "id": "fbf38d40",
   "metadata": {},
   "outputs": [],
   "source": [
    "# This function will load the json file to json object\n",
    "def load_json_list(path: str):    \n",
    "    with open(path, mode = \"r\", encoding=\"utf-8\") as f:\n",
    "        return json.load(f)"
   ]
  },
  {
   "cell_type": "code",
   "execution_count": 3,
   "id": "96717523",
   "metadata": {},
   "outputs": [
    {
     "name": "stdout",
     "output_type": "stream",
     "text": [
      "/home/jovyan/work/datasets/chunked_medicine_data.json\n"
     ]
    }
   ],
   "source": [
    "workspace_base_path = os.getcwd()\n",
    "dataset_path = os.path.join(workspace_base_path, \"datasets\", \"chunked_medicine_data.json\") \n",
    "print(dataset_path)"
   ]
  },
  {
   "cell_type": "code",
   "execution_count": 24,
   "id": "b0c68cfe",
   "metadata": {},
   "outputs": [],
   "source": [
    "data = load_json_list(dataset_path)"
   ]
  },
  {
   "cell_type": "code",
   "execution_count": 5,
   "id": "6d5f9654",
   "metadata": {},
   "outputs": [
    {
     "data": {
      "text/plain": [
       "[{'doc_id': '1bf5880b-93ec-4ac9-a0cb-eb35693ccce4',\n",
       "  'questions': ['why is Phenylephrine prescribed?'],\n",
       "  'docs': ['phenylephrine is used to relieve nasal discomfort caused by colds, allergies, and hay fever. it is also used to relieve sinus congestion and pressure. phenylephrine will relieve symptoms but will not treat the cause of the symptoms or speed recovery. phenylephrine is in a class of medications called nasal decongestants. it works by reducing swelling of the blood vessels in the nasal passages.about Phenylephrine'],\n",
       "  'original_doc': 'phenylephrine is used to relieve nasal discomfort caused by colds, allergies, and hay fever. it is also used to relieve sinus congestion and pressure. phenylephrine will relieve symptoms but will not treat the cause of the symptoms or speed recovery. phenylephrine is in a class of medications called nasal decongestants. it works by reducing swelling of the blood vessels in the nasal passages.about Phenylephrine'},\n",
       " {'doc_id': 'f7ad6ffd-7176-4c1d-a7ee-bec020443c2c',\n",
       "  'questions': ['how should Phenylephrine be used?'],\n",
       "  'docs': ['phenylephrine comes as a tablet, a liquid, or a dissolving strip to take by mouth. it is usually taken every 4 hours as needed. follow the directions on your prescription label or the package label carefully, and ask your doctor or pharmacist to explain any part you do not understand. take phenylephrine exactly as directed. do not take more or less of it or take it more often than prescribed by your doctor or directed on the label.phenylephrine comes alone and in combination with other',\n",
       "   'and in combination with other medications. ask your doctor or pharmacist for advice on which product is best for your symptoms. check nonprescription cough and cold product labels carefully before using two or more products at the same time. these products may contain the same active ingredient(s) and taking them together could cause you to receive an overdose. this is especially important if you will be giving cough and cold medications to a child.nonprescription cough and cold combination',\n",
       "   'cough and cold combination products, including products that contain phenylephrine, can cause serious side effects or death in young children. do not give these products to children younger than 4 years of age. if you give these products to children 4 to 11 years of age, use caution and follow the package directions carefully.if you are giving phenylephrine or a combination product that contains phenylephrine to a child, read the package label carefully to be sure that it is the right product',\n",
       "   \"that it is the right product for a child of that age. do not give phenylephrine products that are made for adults to children.before you give a phenylephrine product to a child, check the package label to find out how much medication the child should receive. give the dose that matches the child's age on the chart. ask the child's doctor if you don't know how much medication to give the child.if you are taking the liquid, do not use a household spoon to measure your dose. use the measuring\",\n",
       "   'your dose. use the measuring spoon or cup that came with the medication or use a spoon made especially for measuring medication.if your symptoms do not get better within 7 days or if you have a fever, stop taking phenylephrine and call your doctor.if you are taking the dissolving strips, place one strip on your tongue and allow it to dissolve.about Phenylephrine'],\n",
       "  'original_doc': \"phenylephrine comes as a tablet, a liquid, or a dissolving strip to take by mouth. it is usually taken every 4 hours as needed. follow the directions on your prescription label or the package label carefully, and ask your doctor or pharmacist to explain any part you do not understand. take phenylephrine exactly as directed. do not take more or less of it or take it more often than prescribed by your doctor or directed on the label.phenylephrine comes alone and in combination with other medications. ask your doctor or pharmacist for advice on which product is best for your symptoms. check nonprescription cough and cold product labels carefully before using two or more products at the same time. these products may contain the same active ingredient(s) and taking them together could cause you to receive an overdose. this is especially important if you will be giving cough and cold medications to a child.nonprescription cough and cold combination products, including products that contain phenylephrine, can cause serious side effects or death in young children. do not give these products to children younger than 4 years of age. if you give these products to children 4 to 11 years of age, use caution and follow the package directions carefully.if you are giving phenylephrine or a combination product that contains phenylephrine to a child, read the package label carefully to be sure that it is the right product for a child of that age. do not give phenylephrine products that are made for adults to children.before you give a phenylephrine product to a child, check the package label to find out how much medication the child should receive. give the dose that matches the child's age on the chart. ask the child's doctor if you don't know how much medication to give the child.if you are taking the liquid, do not use a household spoon to measure your dose. use the measuring spoon or cup that came with the medication or use a spoon made especially for measuring medication.if your symptoms do not get better within 7 days or if you have a fever, stop taking phenylephrine and call your doctor.if you are taking the dissolving strips, place one strip on your tongue and allow it to dissolve.about Phenylephrine\"}]"
      ]
     },
     "execution_count": 5,
     "metadata": {},
     "output_type": "execute_result"
    }
   ],
   "source": [
    "data[:2]"
   ]
  },
  {
   "cell_type": "code",
   "execution_count": 5,
   "id": "c46ec4e5",
   "metadata": {},
   "outputs": [
    {
     "name": "stdout",
     "output_type": "stream",
     "text": [
      "Login HuggingFace!\n"
     ]
    }
   ],
   "source": [
    "login_huggingface()"
   ]
  },
  {
   "cell_type": "markdown",
   "id": "20f90976",
   "metadata": {},
   "source": [
    "### Now I need to use a local LLM to generate hypothetical question for the content."
   ]
  },
  {
   "cell_type": "code",
   "execution_count": null,
   "id": "7d8a0a52",
   "metadata": {},
   "outputs": [],
   "source": [
    "#model_id = \"meta-llama/Meta-Llama-3-8B-Instruct\"\n",
    "model_id = \"ContactDoctor/Bio-Medical-Llama-3-8B\""
   ]
  },
  {
   "cell_type": "code",
   "execution_count": 26,
   "id": "0560185f",
   "metadata": {},
   "outputs": [
    {
     "data": {
      "application/vnd.jupyter.widget-view+json": {
       "model_id": "495ace3126b04953885f0aa961a07b9d",
       "version_major": 2,
       "version_minor": 0
      },
      "text/plain": [
       "tokenizer_config.json:   0%|          | 0.00/51.0k [00:00<?, ?B/s]"
      ]
     },
     "metadata": {},
     "output_type": "display_data"
    },
    {
     "data": {
      "application/vnd.jupyter.widget-view+json": {
       "model_id": "0a133057c5304ba487c09bdffd821787",
       "version_major": 2,
       "version_minor": 0
      },
      "text/plain": [
       "tokenizer.json:   0%|          | 0.00/9.09M [00:00<?, ?B/s]"
      ]
     },
     "metadata": {},
     "output_type": "display_data"
    },
    {
     "data": {
      "application/vnd.jupyter.widget-view+json": {
       "model_id": "1416e919f1074057b8bdbb216842e0b2",
       "version_major": 2,
       "version_minor": 0
      },
      "text/plain": [
       "special_tokens_map.json:   0%|          | 0.00/73.0 [00:00<?, ?B/s]"
      ]
     },
     "metadata": {},
     "output_type": "display_data"
    },
    {
     "data": {
      "application/vnd.jupyter.widget-view+json": {
       "model_id": "9a61440ee7584a838d177462fdbfa296",
       "version_major": 2,
       "version_minor": 0
      },
      "text/plain": [
       "config.json:   0%|          | 0.00/654 [00:00<?, ?B/s]"
      ]
     },
     "metadata": {},
     "output_type": "display_data"
    },
    {
     "data": {
      "application/vnd.jupyter.widget-view+json": {
       "model_id": "3433bf7a7d9b403ba837517579d02c6b",
       "version_major": 2,
       "version_minor": 0
      },
      "text/plain": [
       "model.safetensors.index.json:   0%|          | 0.00/23.9k [00:00<?, ?B/s]"
      ]
     },
     "metadata": {},
     "output_type": "display_data"
    },
    {
     "data": {
      "application/vnd.jupyter.widget-view+json": {
       "model_id": "7648ae7f1bf949028710b691ccba6bc0",
       "version_major": 2,
       "version_minor": 0
      },
      "text/plain": [
       "Fetching 4 files:   0%|          | 0/4 [00:00<?, ?it/s]"
      ]
     },
     "metadata": {},
     "output_type": "display_data"
    },
    {
     "data": {
      "application/vnd.jupyter.widget-view+json": {
       "model_id": "61c4c725795a4842b851d776f360a5e0",
       "version_major": 2,
       "version_minor": 0
      },
      "text/plain": [
       "model-00003-of-00004.safetensors:   0%|          | 0.00/4.92G [00:00<?, ?B/s]"
      ]
     },
     "metadata": {},
     "output_type": "display_data"
    },
    {
     "data": {
      "application/vnd.jupyter.widget-view+json": {
       "model_id": "22d07616e8de480db535ea7ca792e1be",
       "version_major": 2,
       "version_minor": 0
      },
      "text/plain": [
       "model-00001-of-00004.safetensors:   0%|          | 0.00/4.98G [00:00<?, ?B/s]"
      ]
     },
     "metadata": {},
     "output_type": "display_data"
    },
    {
     "data": {
      "application/vnd.jupyter.widget-view+json": {
       "model_id": "1431eb04ff9e48c18be14a28d3cee987",
       "version_major": 2,
       "version_minor": 0
      },
      "text/plain": [
       "model-00004-of-00004.safetensors:   0%|          | 0.00/1.17G [00:00<?, ?B/s]"
      ]
     },
     "metadata": {},
     "output_type": "display_data"
    },
    {
     "data": {
      "application/vnd.jupyter.widget-view+json": {
       "model_id": "cda5186c3ae5433c99bcfd0a59d0d097",
       "version_major": 2,
       "version_minor": 0
      },
      "text/plain": [
       "model-00002-of-00004.safetensors:   0%|          | 0.00/5.00G [00:00<?, ?B/s]"
      ]
     },
     "metadata": {},
     "output_type": "display_data"
    },
    {
     "data": {
      "application/vnd.jupyter.widget-view+json": {
       "model_id": "3a36a903594e44df8045533376a3ac63",
       "version_major": 2,
       "version_minor": 0
      },
      "text/plain": [
       "Loading checkpoint shards:   0%|          | 0/4 [00:00<?, ?it/s]"
      ]
     },
     "metadata": {},
     "output_type": "display_data"
    },
    {
     "data": {
      "application/vnd.jupyter.widget-view+json": {
       "model_id": "d7826555918741bca7c8290264e631e8",
       "version_major": 2,
       "version_minor": 0
      },
      "text/plain": [
       "generation_config.json:   0%|          | 0.00/187 [00:00<?, ?B/s]"
      ]
     },
     "metadata": {},
     "output_type": "display_data"
    },
    {
     "name": "stdout",
     "output_type": "stream",
     "text": [
      "Load tokenizer and base model done!\n"
     ]
    }
   ],
   "source": [
    "tokenizer = AutoTokenizer.from_pretrained(model_id)\n",
    "\n",
    "tokenizer.pad_token = tokenizer.eos_token\n",
    "\n",
    "model = AutoModelForCausalLM.from_pretrained(\n",
    "            model_id,\n",
    "            dtype = best_dtype(),\n",
    "            device_map={\"\":best_device()}, \n",
    "            low_cpu_mem_usage=True           \n",
    "        )\n",
    "# As per my test a few times, I don't think inference this LLM model with quanlization is a good idea. As it did not that good job.\n",
    "# If I load it fully, it can make amazing job. So I need to comment below line and load it in normal way.\n",
    "#model = load_model(model_id)  \n",
    "\n",
    "print(\"Load tokenizer and base model done!\")"
   ]
  },
  {
   "cell_type": "code",
   "execution_count": 14,
   "id": "d9b47dfb",
   "metadata": {},
   "outputs": [
    {
     "name": "stdout",
     "output_type": "stream",
     "text": [
      "LlamaForCausalLM(\n",
      "  (model): LlamaModel(\n",
      "    (embed_tokens): Embedding(128256, 4096)\n",
      "    (layers): ModuleList(\n",
      "      (0-31): 32 x LlamaDecoderLayer(\n",
      "        (self_attn): LlamaAttention(\n",
      "          (q_proj): Linear(in_features=4096, out_features=4096, bias=False)\n",
      "          (k_proj): Linear(in_features=4096, out_features=1024, bias=False)\n",
      "          (v_proj): Linear(in_features=4096, out_features=1024, bias=False)\n",
      "          (o_proj): Linear(in_features=4096, out_features=4096, bias=False)\n",
      "        )\n",
      "        (mlp): LlamaMLP(\n",
      "          (gate_proj): Linear(in_features=4096, out_features=14336, bias=False)\n",
      "          (up_proj): Linear(in_features=4096, out_features=14336, bias=False)\n",
      "          (down_proj): Linear(in_features=14336, out_features=4096, bias=False)\n",
      "          (act_fn): SiLU()\n",
      "        )\n",
      "        (input_layernorm): LlamaRMSNorm((4096,), eps=1e-05)\n",
      "        (post_attention_layernorm): LlamaRMSNorm((4096,), eps=1e-05)\n",
      "      )\n",
      "    )\n",
      "    (norm): LlamaRMSNorm((4096,), eps=1e-05)\n",
      "    (rotary_emb): LlamaRotaryEmbedding()\n",
      "  )\n",
      "  (lm_head): Linear(in_features=4096, out_features=128256, bias=False)\n",
      ")\n",
      "LlamaConfig {\n",
      "  \"architectures\": [\n",
      "    \"LlamaForCausalLM\"\n",
      "  ],\n",
      "  \"attention_bias\": false,\n",
      "  \"attention_dropout\": 0.0,\n",
      "  \"bos_token_id\": 128000,\n",
      "  \"dtype\": \"bfloat16\",\n",
      "  \"eos_token_id\": 128009,\n",
      "  \"head_dim\": 128,\n",
      "  \"hidden_act\": \"silu\",\n",
      "  \"hidden_size\": 4096,\n",
      "  \"initializer_range\": 0.02,\n",
      "  \"intermediate_size\": 14336,\n",
      "  \"max_position_embeddings\": 8192,\n",
      "  \"mlp_bias\": false,\n",
      "  \"model_type\": \"llama\",\n",
      "  \"num_attention_heads\": 32,\n",
      "  \"num_hidden_layers\": 32,\n",
      "  \"num_key_value_heads\": 8,\n",
      "  \"pretraining_tp\": 1,\n",
      "  \"rms_norm_eps\": 1e-05,\n",
      "  \"rope_scaling\": null,\n",
      "  \"rope_theta\": 500000.0,\n",
      "  \"tie_word_embeddings\": false,\n",
      "  \"transformers_version\": \"4.56.1\",\n",
      "  \"use_cache\": true,\n",
      "  \"vocab_size\": 128256\n",
      "}\n",
      "\n"
     ]
    }
   ],
   "source": [
    "print(model)                    # full architecture tree (long but useful)\n",
    "print(model.config)             # core hyperparameters (dims, layers, heads…)"
   ]
  },
  {
   "cell_type": "code",
   "execution_count": 27,
   "id": "650ed871",
   "metadata": {},
   "outputs": [
    {
     "name": "stderr",
     "output_type": "stream",
     "text": [
      "Device set to use cuda\n"
     ]
    }
   ],
   "source": [
    "pipe = pipeline(\n",
    "    \"text-generation\", \n",
    "    model=model, \n",
    "    tokenizer=tokenizer,\n",
    "    return_full_text=False,   \n",
    "    )\n",
    "\n",
    "# Wrapper normal piple with huggingfacepipeline\n",
    "hug_pipe = HuggingFacePipeline(pipeline=pipe)\n",
    "\n",
    "# Transfer the pipeline to Chat mode.\n",
    "# Because this is a way we can use ChatPromptTemplate to make better prompt.\n",
    "question_generator = ChatHuggingFace(llm=hug_pipe)"
   ]
  },
  {
   "cell_type": "code",
   "execution_count": 28,
   "id": "2175a341",
   "metadata": {},
   "outputs": [],
   "source": [
    "# it is a dynamic prompt which instruct the LLM to response the number of questions based on the length of doc.\n",
    "prompt = ChatPromptTemplate.from_messages([\n",
    "    (\"system\",\n",
    "     \"You are a cautious medical student who generates clinically relevant, self-contained questions. \"\n",
    "     \"Ground every question strictly in the provided document; do not invent details or rely on outside knowledge.\"),\n",
    "    (\"user\",\n",
    "     \"Instructions:\\n\"\n",
    "     \"1) From the document below, write exactly {n} unique QUESTIONS in English only.\\n\"\n",
    "     \"2) Cover different medical perspectives (aim for breadth), such as: symptoms/signs; diagnosis/differential; \"\n",
    "     \"investigations/labs/imaging; treatment/procedures; medications (dose, interactions, adverse effects); \"\n",
    "     \"contraindications/precautions; risk factors/prognosis; prevention/patient counseling; special populations \"\n",
    "     \"(e.g., pregnancy, breastfeeding, pediatrics, geriatrics).\\n\"\n",
    "     \"3) Each question must be concise (≤ 25 words), self-contained (avoid pronouns like 'it/this/that'), and \"\n",
    "     \"directly supported by the document.\\n\"\n",
    "     \"4) Do NOT provide any answers or explanations.\\n\"\n",
    "     \"5) Return ONLY a JSON list that matches exactly this schema: [\\\"question1\\\", \\\"question2\\\", ..., \\\"question{n}\\\"]\\n\"\n",
    "     \"6) Enclose the JSON list between <json> and </json> tags.\\n\"\n",
    "     \"7) If the document does not support {n} distinct perspectives, still produce {n} questions but avoid near-duplicates; \"\n",
    "     \"prefer covering as many perspectives as possible.\"),\n",
    "    (\"user\", \"Document:\\n{doc}\\n\")\n",
    "])"
   ]
  },
  {
   "cell_type": "markdown",
   "id": "89831ac4",
   "metadata": {},
   "source": [
    "### Important Note:\n",
    "1. Structured Outputs with response_format: {type: \"json_schema\", ...} is only supported with the gpt-4o-mini, gpt-4o-mini-2024-07-18, and gpt-4o-2024-08-06 model snapshots and later.(Reference: https://platform.openai.com/docs/guides/structured-outputs). For now, OpenAI and Claude's LLM support Structured outputs. Huggingface's Model usually output plain text. But we can do CoT or other prompt engineering to guide the model output what we expect.\n",
    "\n",
    "2. So Never put the whole parser.get_format_instructions()'s structions into the chat_prompt. Just print it out and copy & pasty useful part into the prompt. In this case, I copy & pasty this {\"questions\": {\"items\": {\"type\": \"string\"}, \"title\": \"Questions\", \"type\": \"array\"}} to tell LLM this what I need.\n",
    "\n",
    "3. Never put parser in the chain. We should always use our own regex partern to extract the string we expect, then pass to the parser to do validate, otherwise it will break the process at random point.\n",
    "\n",
    "### If we don't follow those two rules, we will get totally mess."
   ]
  },
  {
   "cell_type": "code",
   "execution_count": 29,
   "id": "d9cd05fd",
   "metadata": {},
   "outputs": [],
   "source": [
    "def parse_questions(text: str) -> List[str]:\n",
    "    print(f\"Raw return text: {text}\")\n",
    "    if text is None:\n",
    "        return []\n",
    "\n",
    "    s = text.strip()\n",
    "    from_json_tag = False\n",
    "\n",
    "    # 1) Extract content inside <json> ... </json> (also tolerate </json> and <\\json>)\n",
    "    m = re.search(r\"<json>\\s*(.*?)\\s*<\\s*/?\\\\?json\\s*>\", s, flags=re.DOTALL | re.IGNORECASE)\n",
    "    if m:\n",
    "        s = m.group(1).strip()\n",
    "        from_json_tag = True\n",
    "\n",
    "    # 2) Try strict JSON\n",
    "    try:\n",
    "        obj = json.loads(s)\n",
    "        if isinstance(obj, list):\n",
    "            return [str(x).strip() for x in obj if str(x).strip()]\n",
    "        if isinstance(obj, str):\n",
    "            q = obj.strip()\n",
    "            return [q] if q else []\n",
    "    except Exception:\n",
    "        pass\n",
    "\n",
    "    # 3) JSON-like list embedded in extra text\n",
    "    m = re.search(r\"\\[\\s*[\\s\\S]*?\\s*\\]\", s)\n",
    "    if m:\n",
    "        candidate = m.group(0)\n",
    "        try:\n",
    "            obj = json.loads(candidate)\n",
    "            if isinstance(obj, list):\n",
    "                return [str(x).strip() for x in obj if str(x).strip()]\n",
    "        except Exception:\n",
    "            try:\n",
    "                obj = ast.literal_eval(candidate)\n",
    "                if isinstance(obj, list):\n",
    "                    return [str(x).strip() for x in obj if str(x).strip()]\n",
    "            except Exception:\n",
    "                pass\n",
    "\n",
    "    # 4) Quoted strings fallback\n",
    "    rough = re.findall(r'\"([^\"]+)\"', s)\n",
    "    if rough:\n",
    "        return [q.strip() for q in rough if q.strip()]\n",
    "\n",
    "    # 5) If we specifically pulled from <json> tags and it's non-empty text, treat as single-question payload\n",
    "    if from_json_tag and s:\n",
    "        return [s]\n",
    "\n",
    "    # 6) NEW: Plain-text fallback — collect every sentence ending with '?'\n",
    "    #    Handles single or multiple questions not in quotes/lists/tags.\n",
    "    qs = [q.strip() for q in re.findall(r'([^?]*\\?)', s, flags=re.DOTALL)]\n",
    "    qs = [q for q in (q.strip() for q in qs) if q]  # clean empties\n",
    "    if qs:\n",
    "        # Optionally deduplicate while preserving order\n",
    "        seen = set()\n",
    "        uniq = []\n",
    "        for q in qs:\n",
    "            if q not in seen:\n",
    "                seen.add(q)\n",
    "                uniq.append(q)\n",
    "        return uniq\n",
    "    print(\"Return empty list\")\n",
    "    return []"
   ]
  },
  {
   "cell_type": "code",
   "execution_count": 30,
   "id": "2794ba8f",
   "metadata": {},
   "outputs": [],
   "source": [
    "# Decide how many questions it need to generate based on the length of the document.\n",
    "# From my experience, 500 to 2000 : 10 questions, 100 to 500 : 5 questions, less than 100 : 1 question.\n",
    "# But it can be varied.\n",
    "def decide_n_questions(txt: str):\n",
    "    wc = len(txt.split(\" \"))    \n",
    "    if wc > 500:\n",
    "        return 10\n",
    "    elif wc > 100:\n",
    "        return 5\n",
    "    else:\n",
    "        return 1"
   ]
  },
  {
   "cell_type": "code",
   "execution_count": 31,
   "id": "84a4e6d7",
   "metadata": {},
   "outputs": [],
   "source": [
    "# If question_generator already returns text:\n",
    "full_chain = (prompt | question_generator | StrOutputParser() | RunnableLambda(parse_questions))"
   ]
  },
  {
   "cell_type": "code",
   "execution_count": null,
   "id": "b5e82c0d",
   "metadata": {},
   "outputs": [],
   "source": [
    "# Now let's iterate all medicine's docments and invoke chain to automatically generate question. \n",
    "\n",
    "for content in data[:500]:\n",
    "    new_questions = []\n",
    "    for doc in content[\"docs\"]:\n",
    "        n = decide_n_questions(doc)   \n",
    "        res = full_chain.invoke({\"n\": n, \"doc\": doc})        \n",
    "        if len(res) > 0:\n",
    "            new_questions.extend(res)\n",
    "    content['questions'].extend(new_questions)"
   ]
  },
  {
   "cell_type": "code",
   "execution_count": 23,
   "id": "524b13a2",
   "metadata": {},
   "outputs": [
    {
     "data": {
      "text/plain": [
       "[{'doc_id': '1bf5880b-93ec-4ac9-a0cb-eb35693ccce4',\n",
       "  'questions': ['why is Phenylephrine prescribed?',\n",
       "   'What are the typical uses for phenylephrine?',\n",
       "   'Can phenylephrine be used to treat the cause of nasal congestion?',\n",
       "   'Can phenylephrine be used to relieve nasal discomfort caused by common cold?'],\n",
       "  'docs': ['phenylephrine is used to relieve nasal discomfort caused by colds, allergies, and hay fever. it is also used to relieve sinus congestion and pressure. phenylephrine will relieve symptoms but will not treat the cause of the symptoms or speed recovery. phenylephrine is in a class of medications called nasal decongestants. it works by reducing swelling of the blood vessels in the nasal passages.about Phenylephrine'],\n",
       "  'original_doc': 'phenylephrine is used to relieve nasal discomfort caused by colds, allergies, and hay fever. it is also used to relieve sinus congestion and pressure. phenylephrine will relieve symptoms but will not treat the cause of the symptoms or speed recovery. phenylephrine is in a class of medications called nasal decongestants. it works by reducing swelling of the blood vessels in the nasal passages.about Phenylephrine'},\n",
       " {'doc_id': 'f7ad6ffd-7176-4c1d-a7ee-bec020443c2c',\n",
       "  'questions': ['how should Phenylephrine be used?',\n",
       "   'can phenylephrine be taken more often than every 4 hours as needed?',\n",
       "   \"What is the potential risk of combining nonprescription cough and cold medications without a physician's advice?\",\n",
       "   'Can phenylephrine or cough and cold combination products be given to children younger than 4 years of age?',\n",
       "   'Can a phenylephrine product be given to a child even if it is labeled for adults only?',\n",
       "   'What is the recommended method to measure the dose of phenylephrine?',\n",
       "   'can phenylephrine be taken more often than every 4 hours as needed?',\n",
       "   'Can using multiple nonprescription cough and cold combination medications result in an overdose if their active ingredients are not carefully considered?',\n",
       "   'Can phenylephrine or cough and cold combination products with phenylephrine be given to children under 4 years of age?',\n",
       "   'What are the correct steps to follow when administering phenylephrine products to children?',\n",
       "   'Can I use the same spoon for both food and medication?',\n",
       "   'What are the typical dosing intervals for phenylephrine tablets, liquids, or dissolving strips when taken orally?',\n",
       "   'Can a nonprescription cough and cold combination product be given to a pediatric patient?',\n",
       "   'Can phenylephrine cough and cold combination products be safely given to children aged 4 to 11 years old?',\n",
       "   'Can phenylephrine products made for adults be given to children?',\n",
       "   'What is the proper method to measure the dose of phenylephrine?'],\n",
       "  'docs': ['phenylephrine comes as a tablet, a liquid, or a dissolving strip to take by mouth. it is usually taken every 4 hours as needed. follow the directions on your prescription label or the package label carefully, and ask your doctor or pharmacist to explain any part you do not understand. take phenylephrine exactly as directed. do not take more or less of it or take it more often than prescribed by your doctor or directed on the label.phenylephrine comes alone and in combination with other',\n",
       "   'and in combination with other medications. ask your doctor or pharmacist for advice on which product is best for your symptoms. check nonprescription cough and cold product labels carefully before using two or more products at the same time. these products may contain the same active ingredient(s) and taking them together could cause you to receive an overdose. this is especially important if you will be giving cough and cold medications to a child.nonprescription cough and cold combination',\n",
       "   'cough and cold combination products, including products that contain phenylephrine, can cause serious side effects or death in young children. do not give these products to children younger than 4 years of age. if you give these products to children 4 to 11 years of age, use caution and follow the package directions carefully.if you are giving phenylephrine or a combination product that contains phenylephrine to a child, read the package label carefully to be sure that it is the right product',\n",
       "   \"that it is the right product for a child of that age. do not give phenylephrine products that are made for adults to children.before you give a phenylephrine product to a child, check the package label to find out how much medication the child should receive. give the dose that matches the child's age on the chart. ask the child's doctor if you don't know how much medication to give the child.if you are taking the liquid, do not use a household spoon to measure your dose. use the measuring\",\n",
       "   'your dose. use the measuring spoon or cup that came with the medication or use a spoon made especially for measuring medication.if your symptoms do not get better within 7 days or if you have a fever, stop taking phenylephrine and call your doctor.if you are taking the dissolving strips, place one strip on your tongue and allow it to dissolve.about Phenylephrine'],\n",
       "  'original_doc': \"phenylephrine comes as a tablet, a liquid, or a dissolving strip to take by mouth. it is usually taken every 4 hours as needed. follow the directions on your prescription label or the package label carefully, and ask your doctor or pharmacist to explain any part you do not understand. take phenylephrine exactly as directed. do not take more or less of it or take it more often than prescribed by your doctor or directed on the label.phenylephrine comes alone and in combination with other medications. ask your doctor or pharmacist for advice on which product is best for your symptoms. check nonprescription cough and cold product labels carefully before using two or more products at the same time. these products may contain the same active ingredient(s) and taking them together could cause you to receive an overdose. this is especially important if you will be giving cough and cold medications to a child.nonprescription cough and cold combination products, including products that contain phenylephrine, can cause serious side effects or death in young children. do not give these products to children younger than 4 years of age. if you give these products to children 4 to 11 years of age, use caution and follow the package directions carefully.if you are giving phenylephrine or a combination product that contains phenylephrine to a child, read the package label carefully to be sure that it is the right product for a child of that age. do not give phenylephrine products that are made for adults to children.before you give a phenylephrine product to a child, check the package label to find out how much medication the child should receive. give the dose that matches the child's age on the chart. ask the child's doctor if you don't know how much medication to give the child.if you are taking the liquid, do not use a household spoon to measure your dose. use the measuring spoon or cup that came with the medication or use a spoon made especially for measuring medication.if your symptoms do not get better within 7 days or if you have a fever, stop taking phenylephrine and call your doctor.if you are taking the dissolving strips, place one strip on your tongue and allow it to dissolve.about Phenylephrine\"},\n",
       " {'doc_id': '4e28ed7a-13e6-4334-99a6-4d8583d52122',\n",
       "  'questions': ['other uses for Phenylephrine',\n",
       "   'Can phenylephrine be used for other purposes than those specified?',\n",
       "   'Can phenylephrine be used for other purposes than those specified?',\n",
       "   'Can phenylephrine be used for other purposes than specified?'],\n",
       "  'docs': ['Phenylephrine may be prescribed for other uses; ask your doctor or pharmacist for more information.'],\n",
       "  'original_doc': 'Phenylephrine may be prescribed for other uses; ask your doctor or pharmacist for more information.'},\n",
       " {'doc_id': '22a4ba55-1113-4c1d-9db3-f7eaabb7999a',\n",
       "  'questions': ['what special precautions should i follow about Phenylephrine',\n",
       "   'Should phenylephrine be used with caution in patients taking a monoamine oxidase (MAO) inhibitor?',\n",
       "   'Should phenylephrine be used with caution in patients with pre-existing thyroid disease?',\n",
       "   'Should phenylephrine be discontinued prior to dental surgery?',\n",
       "   'Should phenylephrine be used with monoamine oxidase inhibitors?',\n",
       "   'Can phenylephrine use in pregnancy lead to fetal hemodynamic changes?',\n",
       "   'Can phenylephrine be used during dental surgery without informing the dentist?',\n",
       "   'Should phenylephrine be used with monoamine oxidase inhibitors?',\n",
       "   'Can phenylephrine use in pregnant women lead to complications in the baby?',\n",
       "   'What should I tell my dentist or surgeon if I am scheduled for surgery while taking phenylephrine?'],\n",
       "  'docs': ['before taking phenylephrine,tell your doctor and pharmacist if you are allergic to phenylephrine, any other medications, or any of the ingredients in phenylephrine preparations.do not take phenylephrine if you are taking a monoamine oxidase (mao) inhibitor, such as isocarboxazid (marplan), phenelzine (nardil), selegiline (eldepryl, emsam, zelapar), and tranylcypromine (parnate), or if you have stopped taking one of these medications within the past 2 weeks.tell your doctor and pharmacist what',\n",
       "   'doctor and pharmacist what other prescription and nonprescription medications, vitamins, nutritional supplements, and herbal products you are taking or plan to take.tell your doctor if you have or have ever had high blood pressure, diabetes, trouble urinating because of an enlarged prostate gland, or thyroid or heart disease.tell your doctor if you are pregnant, plan to become pregnant, or are breast-feeding. if you become pregnant while taking phenylephrine, call your doctor.if you are having',\n",
       "   'your doctor.if you are having surgery, including dental surgery, tell the doctor or dentist that you are taking phenylephrine.if you have phenylketonuria (pku, an inherited condition in which a special diet must be followed to prevent damage to your brain that can cause severe intellectual disability), you should know that some phenylephrine products may be sweetened with aspartame, a source of phenylalanine.about Phenylephrine'],\n",
       "  'original_doc': 'before taking phenylephrine,tell your doctor and pharmacist if you are allergic to phenylephrine, any other medications, or any of the ingredients in phenylephrine preparations.do not take phenylephrine if you are taking a monoamine oxidase (mao) inhibitor, such as isocarboxazid (marplan), phenelzine (nardil), selegiline (eldepryl, emsam, zelapar), and tranylcypromine (parnate), or if you have stopped taking one of these medications within the past 2 weeks.tell your doctor and pharmacist what other prescription and nonprescription medications, vitamins, nutritional supplements, and herbal products you are taking or plan to take.tell your doctor if you have or have ever had high blood pressure, diabetes, trouble urinating because of an enlarged prostate gland, or thyroid or heart disease.tell your doctor if you are pregnant, plan to become pregnant, or are breast-feeding. if you become pregnant while taking phenylephrine, call your doctor.if you are having surgery, including dental surgery, tell the doctor or dentist that you are taking phenylephrine.if you have phenylketonuria (pku, an inherited condition in which a special diet must be followed to prevent damage to your brain that can cause severe intellectual disability), you should know that some phenylephrine products may be sweetened with aspartame, a source of phenylalanine.about Phenylephrine'},\n",
       " {'doc_id': '88423ccc-adf6-4ecb-9d4a-48ead1e5f2b7',\n",
       "  'questions': ['what special dietary instructions should i follow about Phenylephrine',\n",
       "   'Can a normal diet be safely continued in patients receiving phenylephrine without medical supervision?',\n",
       "   'What is the indication for continuing a normal diet when taking Phenylephrine, as per the provided information?',\n",
       "   'Can phenylephrine be administered to patients with coronary artery disease?'],\n",
       "  'docs': ['unless your doctor tells you otherwise, continue your normal diet.about Phenylephrine'],\n",
       "  'original_doc': 'unless your doctor tells you otherwise, continue your normal diet.about Phenylephrine'}]"
      ]
     },
     "execution_count": 23,
     "metadata": {},
     "output_type": "execute_result"
    }
   ],
   "source": [
    "data[:5]"
   ]
  },
  {
   "cell_type": "code",
   "execution_count": null,
   "id": "48abc0fc",
   "metadata": {},
   "outputs": [],
   "source": [
    "save_to = os.path.join(workspace_base_path, \"datasets\", \"medicine_data_hypotheticalquestions2.json\") \n",
    "\n",
    "out_path = Path(save_to)\n",
    "out_path.parent.mkdir(parents=True, exist_ok=True)  # make folder if needed\n",
    "\n",
    "with out_path.open(\"w\", encoding=\"utf-8\") as f:\n",
    "    json.dump(data, f, ensure_ascii=False, indent=2)"
   ]
  },
  {
   "cell_type": "code",
   "execution_count": null,
   "id": "bf94f1de",
   "metadata": {},
   "outputs": [],
   "source": []
  }
 ],
 "metadata": {
  "kernelspec": {
   "display_name": "ai311",
   "language": "python",
   "name": "python3"
  },
  "language_info": {
   "codemirror_mode": {
    "name": "ipython",
    "version": 3
   },
   "file_extension": ".py",
   "mimetype": "text/x-python",
   "name": "python",
   "nbconvert_exporter": "python",
   "pygments_lexer": "ipython3",
   "version": "3.11.13"
  }
 },
 "nbformat": 4,
 "nbformat_minor": 5
}
