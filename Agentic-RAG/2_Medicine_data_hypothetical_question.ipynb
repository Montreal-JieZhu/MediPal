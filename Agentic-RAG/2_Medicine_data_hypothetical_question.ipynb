{
 "cells": [
  {
   "cell_type": "markdown",
   "id": "0ee57847",
   "metadata": {},
   "source": [
    "### In this section, I will involve a medical-domain LLM(Bio-Medical-Llama-3-8B) as an question-generator to make hypothetical questions based on the chunked docments\n",
    "\n",
    "### Why I choose ContactDoctor/Bio-Medical-Llama-3-8B?\n",
    "\n",
    "#### Because:\n",
    "\n",
    "1. It is fine-tuned based on a bounch of clinical documents. So it knows this domian better than general LLM.\n",
    "\n",
    "2. I tested three models in my test notebook(That's a mess. I will never show it to you). Result is showing Below:\n",
    "\n",
    "#### Task 1: Generate hypothetical questions for a document and output JSON\n",
    "* meta-llama/Llama-3.2-1B-Instruct did OK job. very fast.\n",
    "* meta-llama/Meta-Llama-3-8B-Instruct is out of control, no matter how I prompt it. it run very slowly!\n",
    "* ContactDoctor/Bio-Medical-Llama-3-8B did amazing job. fast enought.\n",
    "\n",
    "#### Task 2: Summarize the document\n",
    "* meta-llama/Llama-3.2-1B-Instruct did OK job. very fast.\n",
    "* meta-llama/Meta-Llama-3-8B-Instruct is still out of control. very slow!\n",
    "* ContactDoctor/Bio-Medical-Llama-3-8B did amazing job. fast enought.\n",
    "\n",
    "#### So I have no any reason not to choose ContactDoctor/Bio-Medical-Llama-3-8B\n",
    "\n",
    "#### As the model provider's citation:\n",
    "\n",
    "@misc{ContactDoctor_Bio-Medical-Llama-3-8B, author = ContactDoctor, title = {ContactDoctor-Bio-Medical: A High-Performance Biomedical Language Model}, year = {2024}, howpublished = {https://huggingface.co/ContactDoctor/Bio-Medical-Llama-3-8B}, }\n",
    "\n",
    "Bio-Medical-Llama-3-8B model is a specialized large language model designed for biomedical applications. It is finetuned from the meta-llama/Meta-Llama-3-8B-Instruct model using a custom dataset containing over 500,000 diverse entries. These entries include a mix of synthetic and manually curated data, ensuring high quality and broad coverage of biomedical topics.\n",
    "\n",
    "The model is trained to understand and generate text related to various biomedical fields, making it a valuable tool for researchers, clinicians, and other professionals in the biomedical domain."
   ]
  },
  {
   "cell_type": "code",
   "execution_count": 25,
   "id": "a82302bd",
   "metadata": {},
   "outputs": [],
   "source": [
    "import json\n",
    "import uuid\n",
    "import os\n",
    "import re\n",
    "from typing import List\n",
    "from pathlib import Path"
   ]
  },
  {
   "cell_type": "code",
   "execution_count": 26,
   "id": "fbf38d40",
   "metadata": {},
   "outputs": [],
   "source": [
    "# This function will load the json file to json object\n",
    "def load_json_list(path: str):    \n",
    "    with open(path, mode = \"r\", encoding=\"utf-8\") as f:\n",
    "        return json.load(f)"
   ]
  },
  {
   "cell_type": "code",
   "execution_count": 27,
   "id": "96717523",
   "metadata": {},
   "outputs": [
    {
     "name": "stdout",
     "output_type": "stream",
     "text": [
      "/home/jovyan/work/datasets/chunked_medicine_data.json\n"
     ]
    }
   ],
   "source": [
    "workspace_base_path = os.getcwd()\n",
    "dataset_path = os.path.join(workspace_base_path, \"datasets\", \"chunked_medicine_data.json\") \n",
    "print(dataset_path)"
   ]
  },
  {
   "cell_type": "code",
   "execution_count": 28,
   "id": "b0c68cfe",
   "metadata": {},
   "outputs": [],
   "source": [
    "data = load_json_list(dataset_path)"
   ]
  },
  {
   "cell_type": "code",
   "execution_count": 29,
   "id": "6d5f9654",
   "metadata": {},
   "outputs": [
    {
     "data": {
      "text/plain": [
       "[{'doc_id': 'b2bf17e4-42dc-4647-bde3-f6314b67c650',\n",
       "  'questions': ['why is Phenylephrine prescribed?'],\n",
       "  'docs': ['phenylephrine is used to relieve nasal discomfort caused by colds, allergies, and hay fever. it is also used to relieve sinus congestion and pressure. phenylephrine will relieve symptoms but will not treat the cause of the symptoms or speed recovery. phenylephrine is in a class of medications called nasal decongestants. it works by reducing swelling of the blood vessels in the nasal passages.about Phenylephrine'],\n",
       "  'original_doc': 'phenylephrine is used to relieve nasal discomfort caused by colds, allergies, and hay fever. it is also used to relieve sinus congestion and pressure. phenylephrine will relieve symptoms but will not treat the cause of the symptoms or speed recovery. phenylephrine is in a class of medications called nasal decongestants. it works by reducing swelling of the blood vessels in the nasal passages.about Phenylephrine'},\n",
       " {'doc_id': '1ee18da3-2fa4-4794-b1d5-dc2b8ae42ddb',\n",
       "  'questions': ['how should Phenylephrine be used?'],\n",
       "  'docs': ['phenylephrine comes as a tablet, a liquid, or a dissolving strip to take by mouth. it is usually taken every 4 hours as needed. follow the directions on your prescription label or the package label carefully, and ask your doctor or pharmacist to explain any part you do not understand. take phenylephrine exactly as directed. do not take more or less of it or take it more often than prescribed by your doctor or directed on the label.phenylephrine comes alone and in combination with other',\n",
       "   'and in combination with other medications. ask your doctor or pharmacist for advice on which product is best for your symptoms. check nonprescription cough and cold product labels carefully before using two or more products at the same time. these products may contain the same active ingredient(s) and taking them together could cause you to receive an overdose. this is especially important if you will be giving cough and cold medications to a child.nonprescription cough and cold combination',\n",
       "   'cough and cold combination products, including products that contain phenylephrine, can cause serious side effects or death in young children. do not give these products to children younger than 4 years of age. if you give these products to children 4 to 11 years of age, use caution and follow the package directions carefully.if you are giving phenylephrine or a combination product that contains phenylephrine to a child, read the package label carefully to be sure that it is the right product',\n",
       "   \"that it is the right product for a child of that age. do not give phenylephrine products that are made for adults to children.before you give a phenylephrine product to a child, check the package label to find out how much medication the child should receive. give the dose that matches the child's age on the chart. ask the child's doctor if you don't know how much medication to give the child.if you are taking the liquid, do not use a household spoon to measure your dose. use the measuring\",\n",
       "   'your dose. use the measuring spoon or cup that came with the medication or use a spoon made especially for measuring medication.if your symptoms do not get better within 7 days or if you have a fever, stop taking phenylephrine and call your doctor.if you are taking the dissolving strips, place one strip on your tongue and allow it to dissolve.about Phenylephrine'],\n",
       "  'original_doc': \"phenylephrine comes as a tablet, a liquid, or a dissolving strip to take by mouth. it is usually taken every 4 hours as needed. follow the directions on your prescription label or the package label carefully, and ask your doctor or pharmacist to explain any part you do not understand. take phenylephrine exactly as directed. do not take more or less of it or take it more often than prescribed by your doctor or directed on the label.phenylephrine comes alone and in combination with other medications. ask your doctor or pharmacist for advice on which product is best for your symptoms. check nonprescription cough and cold product labels carefully before using two or more products at the same time. these products may contain the same active ingredient(s) and taking them together could cause you to receive an overdose. this is especially important if you will be giving cough and cold medications to a child.nonprescription cough and cold combination products, including products that contain phenylephrine, can cause serious side effects or death in young children. do not give these products to children younger than 4 years of age. if you give these products to children 4 to 11 years of age, use caution and follow the package directions carefully.if you are giving phenylephrine or a combination product that contains phenylephrine to a child, read the package label carefully to be sure that it is the right product for a child of that age. do not give phenylephrine products that are made for adults to children.before you give a phenylephrine product to a child, check the package label to find out how much medication the child should receive. give the dose that matches the child's age on the chart. ask the child's doctor if you don't know how much medication to give the child.if you are taking the liquid, do not use a household spoon to measure your dose. use the measuring spoon or cup that came with the medication or use a spoon made especially for measuring medication.if your symptoms do not get better within 7 days or if you have a fever, stop taking phenylephrine and call your doctor.if you are taking the dissolving strips, place one strip on your tongue and allow it to dissolve.about Phenylephrine\"}]"
      ]
     },
     "execution_count": 29,
     "metadata": {},
     "output_type": "execute_result"
    }
   ],
   "source": [
    "data[:2]"
   ]
  },
  {
   "cell_type": "code",
   "execution_count": 30,
   "id": "c46ec4e5",
   "metadata": {},
   "outputs": [],
   "source": [
    "from huggingface_hub import login"
   ]
  },
  {
   "cell_type": "code",
   "execution_count": 31,
   "id": "8e80bd5b",
   "metadata": {},
   "outputs": [
    {
     "name": "stderr",
     "output_type": "stream",
     "text": [
      "Note: Environment variable`HF_TOKEN` is set and is the current active token independently from the token you've just configured.\n"
     ]
    },
    {
     "name": "stdout",
     "output_type": "stream",
     "text": [
      "Login Huggingface so that we can access the model\n"
     ]
    }
   ],
   "source": [
    "with open(\"keys.txt\") as f:\n",
    "    os.environ[\"HF_TOKEN\"] = f.read().strip()\n",
    "\n",
    "# login using env var\n",
    "login(os.environ[\"HF_TOKEN\"])\n",
    "\n",
    "print(f\"Login Huggingface so that we can access the model\")"
   ]
  },
  {
   "cell_type": "markdown",
   "id": "20f90976",
   "metadata": {},
   "source": [
    "### Now I need to use a local LLM to generate hypothetical question for the content."
   ]
  },
  {
   "cell_type": "code",
   "execution_count": 32,
   "id": "7d8a0a52",
   "metadata": {},
   "outputs": [],
   "source": [
    "model_id = \"ContactDoctor/Bio-Medical-Llama-3-8B\""
   ]
  },
  {
   "cell_type": "code",
   "execution_count": 33,
   "id": "4ffba088",
   "metadata": {},
   "outputs": [],
   "source": [
    "from transformers import AutoTokenizer, AutoModelForCausalLM, pipeline\n",
    "from langchain_huggingface import HuggingFacePipeline, ChatHuggingFace\n",
    "from langchain_core.prompts import ChatPromptTemplate\n",
    "from langchain_core.output_parsers import PydanticOutputParser\n",
    "from pydantic import BaseModel, Field\n",
    "from transformers import BitsAndBytesConfig\n",
    "import torch"
   ]
  },
  {
   "cell_type": "markdown",
   "id": "fc63c2dd",
   "metadata": {},
   "source": [
    "#### Better quantization will speed up the inference time extrordinately."
   ]
  },
  {
   "cell_type": "code",
   "execution_count": 34,
   "id": "a6b8a954",
   "metadata": {},
   "outputs": [],
   "source": [
    "def best_dtype():\n",
    "    if torch.cuda.is_available():\n",
    "        if torch.cuda.is_bf16_supported():\n",
    "            return torch.bfloat16\n",
    "        else:\n",
    "            return torch.float16\n",
    "        \n",
    "    return torch.float32\n",
    "\n",
    "def best_device():\n",
    "    return \"cuda\" if torch.cuda.is_available() else \"cpu\""
   ]
  },
  {
   "cell_type": "code",
   "execution_count": 35,
   "id": "50e5937d",
   "metadata": {},
   "outputs": [
    {
     "name": "stdout",
     "output_type": "stream",
     "text": [
      "torch.bfloat16\n"
     ]
    }
   ],
   "source": [
    "print(best_dtype())"
   ]
  },
  {
   "cell_type": "code",
   "execution_count": 36,
   "id": "cd2b9e0a",
   "metadata": {},
   "outputs": [],
   "source": [
    "# ContactDoctor/Bio-Medical-Llama-3-8B works best at bfloat16 quantization.\n",
    "# In order to load a lighter LLM and still don't lose the performance.\n",
    "# I will load it in 8bit and keep the dtype as bfloat16. This is a balance choise.\n",
    "def load_model(model_id: str):\n",
    "    bnb_cfg = None\n",
    "\n",
    "    if best_device() == \"cuda\":\n",
    "        bnb_cfg = BitsAndBytesConfig(\n",
    "            load_in_8bit=True, # I don't want to lost LLM's performance     \n",
    "            load_in_8bit_fp32_cpu_offload=False,\n",
    "        )\n",
    "\n",
    "        model = AutoModelForCausalLM.from_pretrained(\n",
    "            model_id,\n",
    "            quantization_config = bnb_cfg,\n",
    "            dtype = best_dtype(),\n",
    "            device_map = \"auto\",                        \n",
    "        )\n",
    "        print(f\"The bnb configuration: {bnb_cfg}\")\n",
    "    else: #CPU\n",
    "        model = AutoModelForCausalLM.from_pretrained(\n",
    "            model_id,\n",
    "            dtype = best_dtype(),\n",
    "            device_map={\"\":best_device()}, \n",
    "            low_cpu_mem_usage=True           \n",
    "        )\n",
    "\n",
    "    return model"
   ]
  },
  {
   "cell_type": "code",
   "execution_count": 37,
   "id": "0560185f",
   "metadata": {},
   "outputs": [
    {
     "data": {
      "application/vnd.jupyter.widget-view+json": {
       "model_id": "d10d5c84d8a14838927ea87d2fa77255",
       "version_major": 2,
       "version_minor": 0
      },
      "text/plain": [
       "Loading checkpoint shards:   0%|          | 0/2 [00:00<?, ?it/s]"
      ]
     },
     "metadata": {},
     "output_type": "display_data"
    },
    {
     "name": "stdout",
     "output_type": "stream",
     "text": [
      "Load tokenizer and base model done!\n"
     ]
    }
   ],
   "source": [
    "tokenizer = AutoTokenizer.from_pretrained(model_id)\n",
    "\n",
    "tokenizer.pad_token = tokenizer.eos_token\n",
    "\n",
    "model = AutoModelForCausalLM.from_pretrained(\n",
    "            model_id,\n",
    "            dtype = best_dtype(),\n",
    "            device_map={\"\":best_device()}, \n",
    "            low_cpu_mem_usage=True           \n",
    "        )\n",
    "# As per my test a few times, I don't think inference this LLM model with quanlization is a good idea. As it did not that good job.\n",
    "# If I load it fully, it can make amazing job. So I need to comment below line and load it in normal way.\n",
    "#model = load_model(model_id)  \n",
    "\n",
    "print(\"Load tokenizer and base model done!\")"
   ]
  },
  {
   "cell_type": "code",
   "execution_count": 14,
   "id": "d9b47dfb",
   "metadata": {},
   "outputs": [
    {
     "name": "stdout",
     "output_type": "stream",
     "text": [
      "LlamaForCausalLM(\n",
      "  (model): LlamaModel(\n",
      "    (embed_tokens): Embedding(128256, 4096)\n",
      "    (layers): ModuleList(\n",
      "      (0-31): 32 x LlamaDecoderLayer(\n",
      "        (self_attn): LlamaAttention(\n",
      "          (q_proj): Linear(in_features=4096, out_features=4096, bias=False)\n",
      "          (k_proj): Linear(in_features=4096, out_features=1024, bias=False)\n",
      "          (v_proj): Linear(in_features=4096, out_features=1024, bias=False)\n",
      "          (o_proj): Linear(in_features=4096, out_features=4096, bias=False)\n",
      "        )\n",
      "        (mlp): LlamaMLP(\n",
      "          (gate_proj): Linear(in_features=4096, out_features=14336, bias=False)\n",
      "          (up_proj): Linear(in_features=4096, out_features=14336, bias=False)\n",
      "          (down_proj): Linear(in_features=14336, out_features=4096, bias=False)\n",
      "          (act_fn): SiLU()\n",
      "        )\n",
      "        (input_layernorm): LlamaRMSNorm((4096,), eps=1e-05)\n",
      "        (post_attention_layernorm): LlamaRMSNorm((4096,), eps=1e-05)\n",
      "      )\n",
      "    )\n",
      "    (norm): LlamaRMSNorm((4096,), eps=1e-05)\n",
      "    (rotary_emb): LlamaRotaryEmbedding()\n",
      "  )\n",
      "  (lm_head): Linear(in_features=4096, out_features=128256, bias=False)\n",
      ")\n",
      "LlamaConfig {\n",
      "  \"architectures\": [\n",
      "    \"LlamaForCausalLM\"\n",
      "  ],\n",
      "  \"attention_bias\": false,\n",
      "  \"attention_dropout\": 0.0,\n",
      "  \"bos_token_id\": 128000,\n",
      "  \"dtype\": \"bfloat16\",\n",
      "  \"eos_token_id\": 128009,\n",
      "  \"head_dim\": 128,\n",
      "  \"hidden_act\": \"silu\",\n",
      "  \"hidden_size\": 4096,\n",
      "  \"initializer_range\": 0.02,\n",
      "  \"intermediate_size\": 14336,\n",
      "  \"max_position_embeddings\": 8192,\n",
      "  \"mlp_bias\": false,\n",
      "  \"model_type\": \"llama\",\n",
      "  \"num_attention_heads\": 32,\n",
      "  \"num_hidden_layers\": 32,\n",
      "  \"num_key_value_heads\": 8,\n",
      "  \"pretraining_tp\": 1,\n",
      "  \"rms_norm_eps\": 1e-05,\n",
      "  \"rope_scaling\": null,\n",
      "  \"rope_theta\": 500000.0,\n",
      "  \"tie_word_embeddings\": false,\n",
      "  \"transformers_version\": \"4.56.1\",\n",
      "  \"use_cache\": true,\n",
      "  \"vocab_size\": 128256\n",
      "}\n",
      "\n"
     ]
    }
   ],
   "source": [
    "print(model)                    # full architecture tree (long but useful)\n",
    "print(model.config)             # core hyperparameters (dims, layers, heads…)"
   ]
  },
  {
   "cell_type": "code",
   "execution_count": 15,
   "id": "650ed871",
   "metadata": {},
   "outputs": [
    {
     "name": "stderr",
     "output_type": "stream",
     "text": [
      "Device set to use cuda\n"
     ]
    }
   ],
   "source": [
    "pipe = pipeline(\n",
    "    \"text-generation\", \n",
    "    model=model, \n",
    "    tokenizer=tokenizer,\n",
    "    return_full_text=False,   \n",
    "    )"
   ]
  },
  {
   "cell_type": "code",
   "execution_count": 16,
   "id": "2b274a19",
   "metadata": {},
   "outputs": [],
   "source": [
    "# Wrapper normal piple with huggingfacepipeline\n",
    "hug_pipe = HuggingFacePipeline(pipeline=pipe)"
   ]
  },
  {
   "cell_type": "code",
   "execution_count": 17,
   "id": "587d1a6d",
   "metadata": {},
   "outputs": [],
   "source": [
    "# Transfer the pipeline to Chat mode.\n",
    "# Because this is a way we can use ChatPromptTemplate to make better prompt.\n",
    "question_generator = ChatHuggingFace(llm=hug_pipe)"
   ]
  },
  {
   "cell_type": "code",
   "execution_count": 19,
   "id": "b1751e1f",
   "metadata": {},
   "outputs": [],
   "source": [
    "# LLM model is ready. \n",
    "# Here is the definition of the structure of output schema\n",
    "class QuestionList(BaseModel):\n",
    "    questions: List[str] = Field(\n",
    "        ...\n",
    "    )"
   ]
  },
  {
   "cell_type": "code",
   "execution_count": 20,
   "id": "ab1b3dd4",
   "metadata": {},
   "outputs": [
    {
     "name": "stdout",
     "output_type": "stream",
     "text": [
      "The output should be formatted as a JSON instance that conforms to the JSON schema below.\n",
      "\n",
      "As an example, for the schema {\"properties\": {\"foo\": {\"title\": \"Foo\", \"description\": \"a list of strings\", \"type\": \"array\", \"items\": {\"type\": \"string\"}}}, \"required\": [\"foo\"]}\n",
      "the object {\"foo\": [\"bar\", \"baz\"]} is a well-formatted instance of the schema. The object {\"properties\": {\"foo\": [\"bar\", \"baz\"]}} is not well-formatted.\n",
      "\n",
      "Here is the output schema:\n",
      "```\n",
      "{\"properties\": {\"questions\": {\"items\": {\"type\": \"string\"}, \"title\": \"Questions\", \"type\": \"array\"}}, \"required\": [\"questions\"]}\n",
      "```\n"
     ]
    }
   ],
   "source": [
    "#structured_generator = question_generator.with_structured_output(QuestionList)\n",
    "\n",
    "parser = PydanticOutputParser(pydantic_object=QuestionList)\n",
    "format_instructions = parser.get_format_instructions() # tells the model exact JSON shape\n",
    "print(format_instructions)"
   ]
  },
  {
   "cell_type": "code",
   "execution_count": 21,
   "id": "e829e560",
   "metadata": {},
   "outputs": [],
   "source": [
    "# it is a dynamic prompt which instruct the LLM to response the number of questions based on the length of doc.\n",
    "prompt = ChatPromptTemplate.from_messages([\n",
    "    (\"system\", \n",
    "     \"You are a medical student. You like ask questions when you read clinical documents.\"),\n",
    "    (\"user\", \n",
    "     \"1.From the document below, write exactly {n} unique QUESTIONS only. \"\n",
    "     \"2.The questions you generate should be from different medical perspectives. \"\n",
    "     \"3.Don't generate answer. \"\n",
    "     \"4.Return ONLY a JSON object that matches this schema:\\n {{\\\"questions\\\": {{\\\"items\\\": {{\\\"type\\\": \\\"string\\\"}}, \\\"title\\\": \\\"Questions\\\", \\\"type\\\": \\\"array\\\"}}}}. \\n\\n\"\n",
    "     \"5.Put the JSON between <json> and </json> tags.\\n\\n\"),    \n",
    "    (\"user\", \"Document:\\n{doc}\\n\\n\")    \n",
    "])"
   ]
  },
  {
   "cell_type": "code",
   "execution_count": 22,
   "id": "e0c9639b",
   "metadata": {},
   "outputs": [
    {
     "data": {
      "text/plain": [
       "ChatPromptTemplate(input_variables=['doc', 'n'], input_types={}, partial_variables={}, messages=[SystemMessagePromptTemplate(prompt=PromptTemplate(input_variables=[], input_types={}, partial_variables={}, template='You are a medical student. You like ask questions when you read clinical documents.'), additional_kwargs={}), HumanMessagePromptTemplate(prompt=PromptTemplate(input_variables=['n'], input_types={}, partial_variables={}, template='1.From the document below, write exactly {n} unique QUESTIONS only. 2.The questions you generate should be from different medical perspectives. 3.Don\\'t generate answer. 4.Return ONLY a JSON object that matches this schema:\\n {{\"questions\": {{\"items\": {{\"type\": \"string\"}}, \"title\": \"Questions\", \"type\": \"array\"}}}}. \\n\\n5.Put the JSON between <json> and </json> tags.\\n\\n'), additional_kwargs={}), HumanMessagePromptTemplate(prompt=PromptTemplate(input_variables=['doc'], input_types={}, partial_variables={}, template='Document:\\n{doc}\\n\\n'), additional_kwargs={})])"
      ]
     },
     "execution_count": 22,
     "metadata": {},
     "output_type": "execute_result"
    }
   ],
   "source": [
    "prompt"
   ]
  },
  {
   "cell_type": "markdown",
   "id": "89831ac4",
   "metadata": {},
   "source": [
    "### Important Note:\n",
    "1. Structured Outputs with response_format: {type: \"json_schema\", ...} is only supported with the gpt-4o-mini, gpt-4o-mini-2024-07-18, and gpt-4o-2024-08-06 model snapshots and later.(Reference: https://platform.openai.com/docs/guides/structured-outputs). For now, OpenAI and Claude's LLM support Structured outputs. Huggingface's Model usually output plain text. But we can do CoT or other prompt engineering to guide the model output what we expect.\n",
    "\n",
    "2. So Never put the whole parser.get_format_instructions()'s structions into the chat_prompt. Just print it out and copy & pasty useful part into the prompt. In this case, I copy & pasty this {\"questions\": {\"items\": {\"type\": \"string\"}, \"title\": \"Questions\", \"type\": \"array\"}} to tell LLM this what I need.\n",
    "\n",
    "3. Never put parser in the chain. We should always use our own regex partern to extract the string we expect, then pass to the parser to do validate, otherwise it will break the process at random point.\n",
    "\n",
    "### If we don't follow those two rules, we will get totally mess."
   ]
  },
  {
   "cell_type": "code",
   "execution_count": 23,
   "id": "c83933f8",
   "metadata": {},
   "outputs": [],
   "source": [
    "# A simple chain which will feed a prompt to the generator to produce stucture json object with questions\n",
    "#chain = prompt | question_generator | parser  # returns a QuestionList object\n",
    "chain = prompt | question_generator"
   ]
  },
  {
   "cell_type": "code",
   "execution_count": 24,
   "id": "317eae2b",
   "metadata": {},
   "outputs": [
    {
     "name": "stdout",
     "output_type": "stream",
     "text": [
      " <json>\n",
      "{\"questions\": [\"What is the age range for the phenylephrine products mentioned in the document?\", \"How should one measure the dose of phenylephrine liquid medication?\", \"Are there any phenylephrine products that are made for adults and can be given to children?\"]}\n",
      "</json>\n"
     ]
    }
   ],
   "source": [
    "# one shot testing\n",
    "doc = \"that it is the right product for a child of that age. do not give phenylephrine products that are made for adults to children.before you give a phenylephrine product to a child, check the package label to find out how much medication the child should receive. give the dose that matches the child's age on the chart. ask the child's doctor if you don't know how much medication to give the child.if you are taking the liquid, do not use a household spoon to measure your dose. use the measuring\"\n",
    "n = 3\n",
    "res: QuestionList = chain.invoke({\n",
    "    \"n\": n,\n",
    "    \"doc\": doc,\n",
    "    #\"format_instructions\": format_instructions\n",
    "})\n",
    "print(res.content) "
   ]
  },
  {
   "cell_type": "code",
   "execution_count": 151,
   "id": "529a167e",
   "metadata": {},
   "outputs": [],
   "source": [
    "# Decide how many questions it need to generate based on the length of the document.\n",
    "# From my experience, 500 to 2000 : 10 questions, 100 to 500 : 5 questions, less than 100 : 1 question.\n",
    "# But it can be varied.\n",
    "def decide_n_questions(txt: str):\n",
    "    wc = len(txt.split(\" \"))    \n",
    "    if wc > 500:\n",
    "        return 10\n",
    "    elif wc > 100:\n",
    "        return 5\n",
    "    else:\n",
    "        return 1"
   ]
  },
  {
   "cell_type": "code",
   "execution_count": null,
   "id": "2aab6af1",
   "metadata": {},
   "outputs": [],
   "source": [
    "# This is very important function using regex to extract the json string from output\n",
    "\n",
    "pattern = re.compile(r'(?P<json>\\{\\s*\"questions\"\\s*:\\s*\\[.*?\\]\\s*\\})', re.DOTALL) # compile it once, so that it is reusable.\n",
    "\n",
    "def parser_questions(doc: str):    \n",
    "    m = pattern.search(doc)\n",
    "    if m:\n",
    "        doc = m.group('json')  # -> {\"questions\": [\"Q1?\", \"Q2?\"]}\n",
    "        # Now parse to Pydantic    \n",
    "        return parser.parse(doc.strip())\n",
    "    else:\n",
    "        return None"
   ]
  },
  {
   "cell_type": "code",
   "execution_count": null,
   "id": "d33cc260",
   "metadata": {},
   "outputs": [],
   "source": [
    "# Now let's iterate all medicine's docments and invoke chain to automatically generate question. \n",
    "\n",
    "for content in data:\n",
    "    new_questions = []\n",
    "    for doc in content[\"docs\"]:\n",
    "        n = decide_n_questions(doc)   \n",
    "        res = chain.invoke({\"n\": n, \"doc\": doc})            \n",
    "        n_q = parser_questions(res.content)\n",
    "        if n_q:\n",
    "            new_questions.extend(n_q.questions)\n",
    "    content['questions'].extend(new_questions)\n"
   ]
  },
  {
   "cell_type": "code",
   "execution_count": 164,
   "id": "524b13a2",
   "metadata": {},
   "outputs": [
    {
     "data": {
      "text/plain": [
       "[{'doc_id': 'b2bf17e4-42dc-4647-bde3-f6314b67c650',\n",
       "  'questions': ['why is Phenylephrine prescribed?'],\n",
       "  'docs': ['phenylephrine is used to relieve nasal discomfort caused by colds, allergies, and hay fever. it is also used to relieve sinus congestion and pressure. phenylephrine will relieve symptoms but will not treat the cause of the symptoms or speed recovery. phenylephrine is in a class of medications called nasal decongestants. it works by reducing swelling of the blood vessels in the nasal passages.about Phenylephrine'],\n",
       "  'original_doc': 'phenylephrine is used to relieve nasal discomfort caused by colds, allergies, and hay fever. it is also used to relieve sinus congestion and pressure. phenylephrine will relieve symptoms but will not treat the cause of the symptoms or speed recovery. phenylephrine is in a class of medications called nasal decongestants. it works by reducing swelling of the blood vessels in the nasal passages.about Phenylephrine'},\n",
       " {'doc_id': '1ee18da3-2fa4-4794-b1d5-dc2b8ae42ddb',\n",
       "  'questions': ['how should Phenylephrine be used?',\n",
       "   'Is phenylephrine safe for use in patients with mitral valve disease?',\n",
       "   'What is the risk of overdose when giving cough and cold medications to a child?',\n",
       "   'Can a cough and cold combination product be safely given to children younger than 4 years of age?',\n",
       "   'How does the healthcare provider ensure that the phenylephrine product given to a child is the right one for his/her age?',\n",
       "   'Does phenylephrine have any role in prophylaxis of sinusitis in patients undergoing tonsillectomy?'],\n",
       "  'docs': ['phenylephrine comes as a tablet, a liquid, or a dissolving strip to take by mouth. it is usually taken every 4 hours as needed. follow the directions on your prescription label or the package label carefully, and ask your doctor or pharmacist to explain any part you do not understand. take phenylephrine exactly as directed. do not take more or less of it or take it more often than prescribed by your doctor or directed on the label.phenylephrine comes alone and in combination with other',\n",
       "   'and in combination with other medications. ask your doctor or pharmacist for advice on which product is best for your symptoms. check nonprescription cough and cold product labels carefully before using two or more products at the same time. these products may contain the same active ingredient(s) and taking them together could cause you to receive an overdose. this is especially important if you will be giving cough and cold medications to a child.nonprescription cough and cold combination',\n",
       "   'cough and cold combination products, including products that contain phenylephrine, can cause serious side effects or death in young children. do not give these products to children younger than 4 years of age. if you give these products to children 4 to 11 years of age, use caution and follow the package directions carefully.if you are giving phenylephrine or a combination product that contains phenylephrine to a child, read the package label carefully to be sure that it is the right product',\n",
       "   \"that it is the right product for a child of that age. do not give phenylephrine products that are made for adults to children.before you give a phenylephrine product to a child, check the package label to find out how much medication the child should receive. give the dose that matches the child's age on the chart. ask the child's doctor if you don't know how much medication to give the child.if you are taking the liquid, do not use a household spoon to measure your dose. use the measuring\",\n",
       "   'your dose. use the measuring spoon or cup that came with the medication or use a spoon made especially for measuring medication.if your symptoms do not get better within 7 days or if you have a fever, stop taking phenylephrine and call your doctor.if you are taking the dissolving strips, place one strip on your tongue and allow it to dissolve.about Phenylephrine'],\n",
       "  'original_doc': \"phenylephrine comes as a tablet, a liquid, or a dissolving strip to take by mouth. it is usually taken every 4 hours as needed. follow the directions on your prescription label or the package label carefully, and ask your doctor or pharmacist to explain any part you do not understand. take phenylephrine exactly as directed. do not take more or less of it or take it more often than prescribed by your doctor or directed on the label.phenylephrine comes alone and in combination with other medications. ask your doctor or pharmacist for advice on which product is best for your symptoms. check nonprescription cough and cold product labels carefully before using two or more products at the same time. these products may contain the same active ingredient(s) and taking them together could cause you to receive an overdose. this is especially important if you will be giving cough and cold medications to a child.nonprescription cough and cold combination products, including products that contain phenylephrine, can cause serious side effects or death in young children. do not give these products to children younger than 4 years of age. if you give these products to children 4 to 11 years of age, use caution and follow the package directions carefully.if you are giving phenylephrine or a combination product that contains phenylephrine to a child, read the package label carefully to be sure that it is the right product for a child of that age. do not give phenylephrine products that are made for adults to children.before you give a phenylephrine product to a child, check the package label to find out how much medication the child should receive. give the dose that matches the child's age on the chart. ask the child's doctor if you don't know how much medication to give the child.if you are taking the liquid, do not use a household spoon to measure your dose. use the measuring spoon or cup that came with the medication or use a spoon made especially for measuring medication.if your symptoms do not get better within 7 days or if you have a fever, stop taking phenylephrine and call your doctor.if you are taking the dissolving strips, place one strip on your tongue and allow it to dissolve.about Phenylephrine\"},\n",
       " {'doc_id': 'af2a67a3-a9f9-49ae-b476-17a0e6d43434',\n",
       "  'questions': ['other uses for Phenylephrine',\n",
       "   'Is phenylephrine commonly used for nasal decongestion?'],\n",
       "  'docs': ['Phenylephrine may be prescribed for other uses; ask your doctor or pharmacist for more information.'],\n",
       "  'original_doc': 'Phenylephrine may be prescribed for other uses; ask your doctor or pharmacist for more information.'},\n",
       " {'doc_id': 'b68d0bf2-cdd0-4607-99e8-b737d8b0921f',\n",
       "  'questions': ['what special precautions should i follow about Phenylephrine',\n",
       "   'Does phenylephrine interact with MAO inhibitors?',\n",
       "   'What are the common side effects associated with phenylephrine?',\n",
       "   'Does phenylephrine increase the risk of stroke in patients with hypertension?'],\n",
       "  'docs': ['before taking phenylephrine,tell your doctor and pharmacist if you are allergic to phenylephrine, any other medications, or any of the ingredients in phenylephrine preparations.do not take phenylephrine if you are taking a monoamine oxidase (mao) inhibitor, such as isocarboxazid (marplan), phenelzine (nardil), selegiline (eldepryl, emsam, zelapar), and tranylcypromine (parnate), or if you have stopped taking one of these medications within the past 2 weeks.tell your doctor and pharmacist what',\n",
       "   'doctor and pharmacist what other prescription and nonprescription medications, vitamins, nutritional supplements, and herbal products you are taking or plan to take.tell your doctor if you have or have ever had high blood pressure, diabetes, trouble urinating because of an enlarged prostate gland, or thyroid or heart disease.tell your doctor if you are pregnant, plan to become pregnant, or are breast-feeding. if you become pregnant while taking phenylephrine, call your doctor.if you are having',\n",
       "   'your doctor.if you are having surgery, including dental surgery, tell the doctor or dentist that you are taking phenylephrine.if you have phenylketonuria (pku, an inherited condition in which a special diet must be followed to prevent damage to your brain that can cause severe intellectual disability), you should know that some phenylephrine products may be sweetened with aspartame, a source of phenylalanine.about Phenylephrine'],\n",
       "  'original_doc': 'before taking phenylephrine,tell your doctor and pharmacist if you are allergic to phenylephrine, any other medications, or any of the ingredients in phenylephrine preparations.do not take phenylephrine if you are taking a monoamine oxidase (mao) inhibitor, such as isocarboxazid (marplan), phenelzine (nardil), selegiline (eldepryl, emsam, zelapar), and tranylcypromine (parnate), or if you have stopped taking one of these medications within the past 2 weeks.tell your doctor and pharmacist what other prescription and nonprescription medications, vitamins, nutritional supplements, and herbal products you are taking or plan to take.tell your doctor if you have or have ever had high blood pressure, diabetes, trouble urinating because of an enlarged prostate gland, or thyroid or heart disease.tell your doctor if you are pregnant, plan to become pregnant, or are breast-feeding. if you become pregnant while taking phenylephrine, call your doctor.if you are having surgery, including dental surgery, tell the doctor or dentist that you are taking phenylephrine.if you have phenylketonuria (pku, an inherited condition in which a special diet must be followed to prevent damage to your brain that can cause severe intellectual disability), you should know that some phenylephrine products may be sweetened with aspartame, a source of phenylalanine.about Phenylephrine'},\n",
       " {'doc_id': 'da92392a-5df0-4494-a55a-2677d0d4b826',\n",
       "  'questions': ['what special dietary instructions should i follow about Phenylephrine',\n",
       "   'What is the rationale behind continuing a normal diet unless otherwise specified by a doctor?'],\n",
       "  'docs': ['unless your doctor tells you otherwise, continue your normal diet.about Phenylephrine'],\n",
       "  'original_doc': 'unless your doctor tells you otherwise, continue your normal diet.about Phenylephrine'}]"
      ]
     },
     "execution_count": 164,
     "metadata": {},
     "output_type": "execute_result"
    }
   ],
   "source": [
    "data[:5]"
   ]
  },
  {
   "cell_type": "code",
   "execution_count": null,
   "id": "48abc0fc",
   "metadata": {},
   "outputs": [],
   "source": [
    "save_to = os.path.join(workspace_base_path, \"datasets\", \"medicine_data_hypotheticalquestions.json\") \n",
    "\n",
    "out_path = Path(save_to)\n",
    "out_path.parent.mkdir(parents=True, exist_ok=True)  # make folder if needed\n",
    "\n",
    "with out_path.open(\"w\", encoding=\"utf-8\") as f:\n",
    "    json.dump(data, f, ensure_ascii=False, indent=2)"
   ]
  },
  {
   "cell_type": "code",
   "execution_count": null,
   "id": "bf94f1de",
   "metadata": {},
   "outputs": [],
   "source": []
  }
 ],
 "metadata": {
  "kernelspec": {
   "display_name": "ai311",
   "language": "python",
   "name": "python3"
  },
  "language_info": {
   "codemirror_mode": {
    "name": "ipython",
    "version": 3
   },
   "file_extension": ".py",
   "mimetype": "text/x-python",
   "name": "python",
   "nbconvert_exporter": "python",
   "pygments_lexer": "ipython3",
   "version": "3.11.13"
  }
 },
 "nbformat": 4,
 "nbformat_minor": 5
}
