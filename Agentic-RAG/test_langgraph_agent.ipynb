{
 "cells": [
  {
   "cell_type": "code",
   "execution_count": 2,
   "id": "5888c160",
   "metadata": {},
   "outputs": [],
   "source": [
    "from typing import TypedDict, List\n",
    "from langgraph.graph import StateGraph, START, END\n",
    "from langchain_core.messages import HumanMessage\n",
    "from langchain_openai import ChatOpenAI\n",
    "from dotenv import load_dotenv"
   ]
  },
  {
   "cell_type": "code",
   "execution_count": 3,
   "id": "57b3f86f",
   "metadata": {},
   "outputs": [
    {
     "data": {
      "text/plain": [
       "True"
      ]
     },
     "execution_count": 3,
     "metadata": {},
     "output_type": "execute_result"
    }
   ],
   "source": [
    "load_dotenv()"
   ]
  },
  {
   "cell_type": "code",
   "execution_count": 6,
   "id": "1b4c9782",
   "metadata": {},
   "outputs": [],
   "source": [
    "class AgentState(TypedDict):\n",
    "    messages: List[HumanMessage]"
   ]
  },
  {
   "cell_type": "code",
   "execution_count": 5,
   "id": "1979c016",
   "metadata": {},
   "outputs": [],
   "source": [
    "llm = ChatOpenAI(model = \"gpt-4o\")"
   ]
  },
  {
   "cell_type": "code",
   "execution_count": 7,
   "id": "566bc864",
   "metadata": {},
   "outputs": [],
   "source": [
    "def process(state: AgentState) -> AgentState:\n",
    "    response = llm.invoke(state[\"messages\"])\n",
    "    print(f\"\\n AI: {response.content}\")\n",
    "    return state"
   ]
  },
  {
   "cell_type": "code",
   "execution_count": 8,
   "id": "6de6d8f5",
   "metadata": {},
   "outputs": [],
   "source": [
    "graph = StateGraph(AgentState)\n",
    "\n",
    "graph.add_node(\"process_node\", process)\n",
    "graph.add_edge(START, \"process_node\")\n",
    "graph.add_edge(\"process_node\", END)\n",
    "\n",
    "app = graph.compile()"
   ]
  },
  {
   "cell_type": "code",
   "execution_count": 10,
   "id": "5a3362fb",
   "metadata": {},
   "outputs": [
    {
     "name": "stdout",
     "output_type": "stream",
     "text": [
      "\n",
      " AI: I'm just a computer program, so I don't have feelings, but I'm here and ready to help you with whatever you need! How can I assist you today?\n",
      "{'messages': [HumanMessage(content='how are you doing?', additional_kwargs={}, response_metadata={})]}\n"
     ]
    }
   ],
   "source": [
    "user_input = input(\"Enter:\")\n",
    "result = app.invoke({\"messages\": [HumanMessage(content=user_input)]})\n",
    "\n",
    "print(result)"
   ]
  },
  {
   "cell_type": "code",
   "execution_count": 11,
   "id": "57ccaa3a",
   "metadata": {},
   "outputs": [],
   "source": [
    "import os\n",
    "from typing import TypedDict, List, Union\n",
    "from langchain_core.messages import HumanMessage, AIMessage\n",
    "from langchain_openai import ChatOpenAI\n",
    "from langgraph.graph import StateGraph, START, END\n",
    "from dotenv import load_dotenv"
   ]
  },
  {
   "cell_type": "code",
   "execution_count": 12,
   "id": "506925f3",
   "metadata": {},
   "outputs": [
    {
     "data": {
      "text/plain": [
       "True"
      ]
     },
     "execution_count": 12,
     "metadata": {},
     "output_type": "execute_result"
    }
   ],
   "source": [
    "load_dotenv()"
   ]
  },
  {
   "cell_type": "code",
   "execution_count": 13,
   "id": "6120b3e2",
   "metadata": {},
   "outputs": [],
   "source": [
    "class AgentState(TypedDict):\n",
    "    messages: List[Union[HumanMessage, AIMessage]]"
   ]
  },
  {
   "cell_type": "code",
   "execution_count": null,
   "id": "cb4a23a2",
   "metadata": {},
   "outputs": [],
   "source": [
    "llm = ChatOpenAI(model=\"gpt-4o\")"
   ]
  },
  {
   "cell_type": "code",
   "execution_count": 14,
   "id": "a0cacb58",
   "metadata": {},
   "outputs": [],
   "source": [
    "def process(state: AgentState) -> AgentState:\n",
    "    \"\"\" ddd\"\"\"\n",
    "    response = llm.invoke(state[\"messages\"])\n",
    "    state[\"messages\"].append(AIMessage(content=response.content))\n",
    "    print(f\"\\n AI: {response.content}\")\n",
    "\n",
    "    return state"
   ]
  },
  {
   "cell_type": "code",
   "execution_count": 15,
   "id": "2c34e1ab",
   "metadata": {},
   "outputs": [],
   "source": [
    "graph = StateGraph(AgentState)\n",
    "\n",
    "graph.add_node(\"process_node\", process)\n",
    "graph.add_edge(START, \"process_node\")\n",
    "graph.add_edge(\"process_node\", END)\n",
    "\n",
    "app = graph.compile()\n",
    "\n",
    "conversation_history = []"
   ]
  },
  {
   "cell_type": "code",
   "execution_count": 19,
   "id": "c353bd2c",
   "metadata": {},
   "outputs": [
    {
     "name": "stdout",
     "output_type": "stream",
     "text": [
      "\n",
      " AI: Your name is Jerry.\n",
      "result:{'messages': [HumanMessage(content='Hi, my name is Jerry', additional_kwargs={}, response_metadata={}), AIMessage(content='Hello Jerry! How can I assist you today?', additional_kwargs={}, response_metadata={}), HumanMessage(content='what is my name?', additional_kwargs={}, response_metadata={}), AIMessage(content='Your name is Jerry.', additional_kwargs={}, response_metadata={}), HumanMessage(content='What is Phenylephrine used for?', additional_kwargs={}, response_metadata={}), AIMessage(content=\"Phenylephrine is a medication commonly used as a decongestant to relieve nasal congestion caused by colds, allergies, or sinus infections. It works by constricting blood vessels in the nasal passages, which reduces swelling and congestion. Phenylephrine can be found in oral forms, such as tablets and syrups, as well as in nasal sprays and ophthalmic solutions for other uses like treating redness in the eyes. It's important to follow the dosage instructions and consult a healthcare provider if you have any health conditions or are taking other medications.\", additional_kwargs={}, response_metadata={}), HumanMessage(content='what is my name?', additional_kwargs={}, response_metadata={}), AIMessage(content='Your name is Jerry.', additional_kwargs={}, response_metadata={})]}\n",
      "History conversation: [HumanMessage(content='Hi, my name is Jerry', additional_kwargs={}, response_metadata={}), AIMessage(content='Hello Jerry! How can I assist you today?', additional_kwargs={}, response_metadata={}), HumanMessage(content='what is my name?', additional_kwargs={}, response_metadata={}), AIMessage(content='Your name is Jerry.', additional_kwargs={}, response_metadata={}), HumanMessage(content='What is Phenylephrine used for?', additional_kwargs={}, response_metadata={}), AIMessage(content=\"Phenylephrine is a medication commonly used as a decongestant to relieve nasal congestion caused by colds, allergies, or sinus infections. It works by constricting blood vessels in the nasal passages, which reduces swelling and congestion. Phenylephrine can be found in oral forms, such as tablets and syrups, as well as in nasal sprays and ophthalmic solutions for other uses like treating redness in the eyes. It's important to follow the dosage instructions and consult a healthcare provider if you have any health conditions or are taking other medications.\", additional_kwargs={}, response_metadata={}), HumanMessage(content='what is my name?', additional_kwargs={}, response_metadata={}), AIMessage(content='Your name is Jerry.', additional_kwargs={}, response_metadata={})]\n"
     ]
    }
   ],
   "source": [
    "user_input = input(\"Enter: \")\n",
    "conversation_history.append(HumanMessage(content=user_input))\n",
    "result = app.invoke({\"messages\": conversation_history})\n",
    "print(f\"result:{result}\")\n",
    "conversation_history = result[\"messages\"]\n",
    "print(f\"History conversation: {conversation_history}\")"
   ]
  },
  {
   "cell_type": "code",
   "execution_count": 25,
   "id": "a51386e3",
   "metadata": {},
   "outputs": [
    {
     "name": "stdout",
     "output_type": "stream",
     "text": [
      "[1, 2, 3, 4, 5, 6]\n"
     ]
    }
   ],
   "source": [
    "lst = [1, 2, 3, 4, 5, 6, 7]\n",
    "last_three = lst[: -1]\n",
    "print(last_three)"
   ]
  },
  {
   "cell_type": "code",
   "execution_count": 3,
   "id": "f4cb99b1",
   "metadata": {},
   "outputs": [],
   "source": [
    "from typing import TypedDict, Annotated, Sequence\n",
    "from dotenv import load_dotenv\n",
    "from langchain_core.messages import BaseMessage, ToolMessage, SystemMessage\n",
    "from langchain_openai import ChatOpenAI\n",
    "from langchain_core.tools import tool\n",
    "from langgraph.graph.message import add_messages\n",
    "from langgraph.graph import StateGraph, START, END\n",
    "from langgraph.prebuilt import ToolNode"
   ]
  },
  {
   "cell_type": "code",
   "execution_count": 4,
   "id": "5e8b3dc6",
   "metadata": {},
   "outputs": [
    {
     "data": {
      "text/plain": [
       "True"
      ]
     },
     "execution_count": 4,
     "metadata": {},
     "output_type": "execute_result"
    }
   ],
   "source": [
    "load_dotenv()"
   ]
  },
  {
   "cell_type": "code",
   "execution_count": 43,
   "id": "7a5e04f4",
   "metadata": {},
   "outputs": [],
   "source": [
    "class AgentState(TypedDict):\n",
    "    messages: Annotated[Sequence[BaseMessage], add_messages] # add_messages will automatically append messages to the list.\n",
    "\n",
    "@tool\n",
    "def add(a: int, b: int):\n",
    "    \"\"\"add two numbers\"\"\"\n",
    "    return a + b\n",
    "\n",
    "@tool\n",
    "def substract(a: int, b: int):\n",
    "    \"\"\"Substract two numbers\"\"\"\n",
    "    return a - b\n",
    "\n",
    "@tool\n",
    "def multiply(a: int, b: int):\n",
    "    \"\"\"Multiply two numbers\"\"\"\n",
    "    return a * b\n",
    "\n",
    "tools = [add, substract, multiply]\n",
    "\n",
    "model = ChatOpenAI(model = \"gpt-4o\").bind_tools(tools)"
   ]
  },
  {
   "cell_type": "code",
   "execution_count": 44,
   "id": "bf9b3ad6",
   "metadata": {},
   "outputs": [],
   "source": [
    "def model_call(state: AgentState) -> AgentState:\n",
    "    system_prompt = SystemMessage(\n",
    "        content=\"You are my AI assistant, please answer my query to the best of your ability.\"\n",
    "    )\n",
    "    #print([system_prompt] + state[\"messages\"])\n",
    "    response = model.invoke([system_prompt] + state[\"messages\"])\n",
    "    #print(response)\n",
    "    return AgentState({\"messages\": [response]})"
   ]
  },
  {
   "cell_type": "code",
   "execution_count": 45,
   "id": "ec6a5258",
   "metadata": {},
   "outputs": [],
   "source": [
    "def should_continue(state: AgentState) -> str:\n",
    "    messages = state[\"messages\"]\n",
    "    last_massage = messages[-1]\n",
    "    print(last_massage)\n",
    "    if last_massage.tool_calls:\n",
    "        return \"continue\"\n",
    "    else:\n",
    "        return \"end\""
   ]
  },
  {
   "cell_type": "code",
   "execution_count": 46,
   "id": "370be233",
   "metadata": {},
   "outputs": [],
   "source": [
    "graph = StateGraph(AgentState)\n",
    "\n",
    "graph.add_node(\"our_agent\", model_call)\n",
    "\n",
    "tool_node = ToolNode(tools=tools)\n",
    "graph.add_node(\"tool\", tool_node)\n",
    "\n",
    "graph.add_edge(START, \"our_agent\")\n",
    "\n",
    "graph.add_conditional_edges(\n",
    "    source=\"our_agent\",\n",
    "    path=should_continue,\n",
    "    path_map={\n",
    "        \"continue\": \"tool\",\n",
    "        \"end\": END,\n",
    "    },\n",
    ")\n",
    "\n",
    "graph.add_edge(\"tool\", \"our_agent\")\n",
    "\n",
    "app = graph.compile()"
   ]
  },
  {
   "cell_type": "code",
   "execution_count": 47,
   "id": "18b4f123",
   "metadata": {},
   "outputs": [],
   "source": [
    "def print_stream(stream):\n",
    "\n",
    "    for s in stream:\n",
    "        message = s[\"messages\"][-1]\n",
    "        if isinstance(message,tuple):\n",
    "            print(message)\n",
    "        else:\n",
    "            message.pretty_print()"
   ]
  },
  {
   "cell_type": "code",
   "execution_count": 48,
   "id": "88aa01a5",
   "metadata": {},
   "outputs": [
    {
     "name": "stdout",
     "output_type": "stream",
     "text": [
      "================================\u001b[1m Human Message \u001b[0m=================================\n",
      "\n",
      "add 40 + 4, then use the result multiply by 2. Finally, determin whether 'How are you doing?' is a clinical question\n",
      "content='' additional_kwargs={'tool_calls': [{'id': 'call_NNAQXVtHqrtuhstEsJRrd7Ik', 'function': {'arguments': '{\"a\":40,\"b\":4}', 'name': 'add'}, 'type': 'function'}], 'refusal': None} response_metadata={'token_usage': {'completion_tokens': 17, 'prompt_tokens': 140, 'total_tokens': 157, 'completion_tokens_details': {'accepted_prediction_tokens': 0, 'audio_tokens': 0, 'reasoning_tokens': 0, 'rejected_prediction_tokens': 0}, 'prompt_tokens_details': {'audio_tokens': 0, 'cached_tokens': 0}}, 'model_name': 'gpt-4o-2024-08-06', 'system_fingerprint': 'fp_cbf1785567', 'id': 'chatcmpl-CIo4UjQClavoOFxhNHmT12i1JBrQ1', 'service_tier': 'default', 'finish_reason': 'tool_calls', 'logprobs': None} id='run--6b5f0d0f-3625-40d2-89fd-d4ac406061d7-0' tool_calls=[{'name': 'add', 'args': {'a': 40, 'b': 4}, 'id': 'call_NNAQXVtHqrtuhstEsJRrd7Ik', 'type': 'tool_call'}] usage_metadata={'input_tokens': 140, 'output_tokens': 17, 'total_tokens': 157, 'input_token_details': {'audio': 0, 'cache_read': 0}, 'output_token_details': {'audio': 0, 'reasoning': 0}}\n",
      "==================================\u001b[1m Ai Message \u001b[0m==================================\n",
      "Tool Calls:\n",
      "  add (call_NNAQXVtHqrtuhstEsJRrd7Ik)\n",
      " Call ID: call_NNAQXVtHqrtuhstEsJRrd7Ik\n",
      "  Args:\n",
      "    a: 40\n",
      "    b: 4\n",
      "=================================\u001b[1m Tool Message \u001b[0m=================================\n",
      "Name: add\n",
      "\n",
      "44\n",
      "content='' additional_kwargs={'tool_calls': [{'id': 'call_XfLVUN2V07uowRqxL3RKPoRb', 'function': {'arguments': '{\"a\":44,\"b\":2}', 'name': 'multiply'}, 'type': 'function'}], 'refusal': None} response_metadata={'token_usage': {'completion_tokens': 17, 'prompt_tokens': 165, 'total_tokens': 182, 'completion_tokens_details': {'accepted_prediction_tokens': 0, 'audio_tokens': 0, 'reasoning_tokens': 0, 'rejected_prediction_tokens': 0}, 'prompt_tokens_details': {'audio_tokens': 0, 'cached_tokens': 0}}, 'model_name': 'gpt-4o-2024-08-06', 'system_fingerprint': 'fp_cbf1785567', 'id': 'chatcmpl-CIo4Vq1PxwauQGKCfpSIGK0wi9uYY', 'service_tier': 'default', 'finish_reason': 'tool_calls', 'logprobs': None} id='run--9c073858-5be7-48b8-925d-475212c003c7-0' tool_calls=[{'name': 'multiply', 'args': {'a': 44, 'b': 2}, 'id': 'call_XfLVUN2V07uowRqxL3RKPoRb', 'type': 'tool_call'}] usage_metadata={'input_tokens': 165, 'output_tokens': 17, 'total_tokens': 182, 'input_token_details': {'audio': 0, 'cache_read': 0}, 'output_token_details': {'audio': 0, 'reasoning': 0}}\n",
      "==================================\u001b[1m Ai Message \u001b[0m==================================\n",
      "Tool Calls:\n",
      "  multiply (call_XfLVUN2V07uowRqxL3RKPoRb)\n",
      " Call ID: call_XfLVUN2V07uowRqxL3RKPoRb\n",
      "  Args:\n",
      "    a: 44\n",
      "    b: 2\n",
      "=================================\u001b[1m Tool Message \u001b[0m=================================\n",
      "Name: multiply\n",
      "\n",
      "88\n",
      "content='The result of adding 40 and 4 is 44. When you multiply 44 by 2, you get 88.\\n\\nRegarding the question \"How are you doing?\", it is generally considered a casual or polite inquiry into someone\\'s well-being, rather than a clinical question. A clinical question would typically involve specific medical or health-related content.' additional_kwargs={'refusal': None} response_metadata={'token_usage': {'completion_tokens': 70, 'prompt_tokens': 190, 'total_tokens': 260, 'completion_tokens_details': {'accepted_prediction_tokens': 0, 'audio_tokens': 0, 'reasoning_tokens': 0, 'rejected_prediction_tokens': 0}, 'prompt_tokens_details': {'audio_tokens': 0, 'cached_tokens': 0}}, 'model_name': 'gpt-4o-2024-08-06', 'system_fingerprint': 'fp_cbf1785567', 'id': 'chatcmpl-CIo4WPDkipOn7E0tkSF2pqL1teoJG', 'service_tier': 'default', 'finish_reason': 'stop', 'logprobs': None} id='run--add76f66-a224-4c7f-acdc-cefbed22871a-0' usage_metadata={'input_tokens': 190, 'output_tokens': 70, 'total_tokens': 260, 'input_token_details': {'audio': 0, 'cache_read': 0}, 'output_token_details': {'audio': 0, 'reasoning': 0}}\n",
      "==================================\u001b[1m Ai Message \u001b[0m==================================\n",
      "\n",
      "The result of adding 40 and 4 is 44. When you multiply 44 by 2, you get 88.\n",
      "\n",
      "Regarding the question \"How are you doing?\", it is generally considered a casual or polite inquiry into someone's well-being, rather than a clinical question. A clinical question would typically involve specific medical or health-related content.\n"
     ]
    }
   ],
   "source": [
    "input = {\"messages\": [\"user\", \"add 40 + 4, then use the result multiply by 2. Finally, determin whether 'How are you doing?' is a clinical question\"]}\n",
    "\n",
    "print_stream(app.stream(input, stream_mode=\"values\"))"
   ]
  },
  {
   "cell_type": "code",
   "execution_count": 14,
   "id": "c89bf4b4",
   "metadata": {},
   "outputs": [],
   "source": [
    "from typing import TypedDict, Annotated, Sequence\n",
    "from dotenv import load_dotenv\n",
    "from langchain_core.messages import BaseMessage, ToolMessage, SystemMessage, HumanMessage\n",
    "from langchain_openai import ChatOpenAI\n",
    "from langchain_core.tools import tool\n",
    "from langgraph.graph.message import add_messages\n",
    "from langgraph.graph import StateGraph, START, END\n",
    "from langgraph.prebuilt import ToolNode"
   ]
  },
  {
   "cell_type": "code",
   "execution_count": 5,
   "id": "02b2d620",
   "metadata": {},
   "outputs": [
    {
     "data": {
      "text/plain": [
       "True"
      ]
     },
     "execution_count": 5,
     "metadata": {},
     "output_type": "execute_result"
    }
   ],
   "source": [
    "load_dotenv()"
   ]
  },
  {
   "cell_type": "code",
   "execution_count": 6,
   "id": "bffe4d6c",
   "metadata": {},
   "outputs": [],
   "source": [
    "document_content = \"\""
   ]
  },
  {
   "cell_type": "code",
   "execution_count": 7,
   "id": "c20a3b2c",
   "metadata": {},
   "outputs": [],
   "source": [
    "class AgentState(TypedDict):\n",
    "    messages: Annotated[Sequence[BaseMessage], add_messages] # add_messages will automatically append messages to the list."
   ]
  },
  {
   "cell_type": "code",
   "execution_count": 8,
   "id": "d8f5a248",
   "metadata": {},
   "outputs": [],
   "source": [
    "@tool\n",
    "def update(content: str) -> str:\n",
    "    \"\"\"Updates the document with the provided content\"\"\"\n",
    "    global document_content\n",
    "    document_content = content\n",
    "    return f\"Document has been updated successfully! The current content is:\\n{document_content}\"\n",
    "\n",
    "def save(filename: str) -> str:\n",
    "    \"\"\" \n",
    "    save the current document to a text file and finish the process\n",
    "\n",
    "    Args:\n",
    "        filename: Name for the text file.\n",
    "    \"\"\"\n",
    "    global document_content\n",
    "    if not filename.endswith(\".txt\"):\n",
    "        filename = f\"{filename}.txt\"\n",
    "\n",
    "    try:\n",
    "        with open(filename,\"w\") as file:\n",
    "            file.write(document_content)\n",
    "\n",
    "        print(f\"\\n Document has been saved to: {filename}\")\n",
    "\n",
    "        return f\"Document has been saved to: {filename}\"\n",
    "    except Exception as e:\n",
    "        return f\"Error saving document:{str(e)}\"\n",
    "    \n",
    "\n",
    "tools = [update, save]\n"
   ]
  },
  {
   "cell_type": "code",
   "execution_count": 9,
   "id": "b900c692",
   "metadata": {},
   "outputs": [],
   "source": [
    "model = ChatOpenAI(model=\"gpt-4o\").bind_tools(tools)"
   ]
  },
  {
   "cell_type": "code",
   "execution_count": 10,
   "id": "776fee57",
   "metadata": {},
   "outputs": [],
   "source": [
    "def our_agent(state: AgentState) -> AgentState:\n",
    "    #global document_content\n",
    "    system_prompt = SystemMessage(content=f\"\"\"\n",
    "    You are Drafter, a helpful writing assistant. You are going to help the user update and modify documents.\n",
    "    - If the user wants to update or modify content, use the 'update' tool with the complete updated content.\n",
    "    - If the user wants to save and finish, you need to use the 'save' tool.\n",
    "    - Make sure to always show the current document state after modifications.\n",
    "\n",
    "    The current document content is: {document_content}                                                                                                                        \n",
    "    \"\"\")\n",
    "\n",
    "    if not state[\"messages\"]:\n",
    "        user_input = \"I'am ready to help you update a document. What would you like to create?\"\n",
    "        user_message = HumanMessage(content=user_input)\n",
    "    else:\n",
    "        user_input = input(\"\\nWhat would you like to do with the document?\")\n",
    "        print(f\"\\n USER:{user_input}\")\n",
    "        user_message = HumanMessage(content=user_input)\n",
    "\n",
    "    all_messages = [system_prompt] + list(state[\"messages\"]) + [user_message]\n",
    "\n",
    "    response = model.invoke(all_messages)\n",
    "\n",
    "    print(f\"\\n AI: {response.content}\")\n",
    "\n",
    "    if hasattr(response, \"tool_calls\") and response.tool_calls:\n",
    "        print(f\"\"\"USING TOOLS: {[tc[\"name\"] for tc in response.tool_calls]}\"\"\")\n",
    "\n",
    "    return {\"messages\": list(state[\"messages\"]) + [user_message, response]}\n",
    "\n",
    "def should_continue(state: AgentState) -> str:\n",
    "    \"\"\"Determine if we should continue or end the conversation\"\"\"\n",
    "    \n",
    "    messages = state[\"messages\"]\n",
    "\n",
    "    if not messages:\n",
    "        return \"continue\"\n",
    "    \n",
    "    for message in reversed(messages):\n",
    "        if(isinstance(message, ToolMessage)) and \"saved\" in message.content.lower() and \"document\" in message.content.lower():\n",
    "            return \"end\"\n",
    "        \n",
    "    return \"continue\"\n",
    "\n",
    "\n",
    "def print_messages(messages):\n",
    "    \"\"\"Pretty printer\"\"\"\n",
    "\n",
    "    if not messages:\n",
    "        return\n",
    "    \n",
    "    for message in messages[-3:]:\n",
    "        if isinstance(message, ToolMessage):\n",
    "            print(f\"Tool result: {message.content}\")\n",
    "\n"
   ]
  },
  {
   "cell_type": "code",
   "execution_count": 11,
   "id": "6cb0deee",
   "metadata": {},
   "outputs": [],
   "source": [
    "graph = StateGraph(AgentState)\n",
    "\n",
    "graph.add_node(\"agent\", our_agent)\n",
    "graph.add_node(\"tools\", ToolNode(tools))\n",
    "\n",
    "graph.add_edge(START, \"agent\")\n",
    "graph.add_edge(\"agent\", \"tools\")\n",
    "\n",
    "graph.add_conditional_edges(\n",
    "    source=\"tools\",\n",
    "    path=should_continue,\n",
    "    path_map={\n",
    "        \"continue\": \"agent\",\n",
    "        \"end\": END\n",
    "    }\n",
    ")\n",
    "\n",
    "app = graph.compile()"
   ]
  },
  {
   "cell_type": "code",
   "execution_count": 12,
   "id": "262c19dd",
   "metadata": {},
   "outputs": [],
   "source": [
    "def run_document_agent():\n",
    "    print(\"\\n====Drafter====\\n\")\n",
    "\n",
    "    state = AgentState(messages=[])\n",
    "\n",
    "    for step in app.stream(state, stream_mode=\"values\"):\n",
    "        if \"messages\" in step:\n",
    "            print_messages(step[\"messages\"])\n",
    "\n",
    "    print(\"\\n==========Drafter end =================\")"
   ]
  },
  {
   "cell_type": "code",
   "execution_count": 17,
   "id": "84da1098",
   "metadata": {},
   "outputs": [
    {
     "name": "stdout",
     "output_type": "stream",
     "text": [
      "\n",
      "====Drafter====\n",
      "\n",
      "\n",
      " AI: It seems you want to make some changes to the document. Please let me know what updates or modifications you'd like to make to the current document.\n",
      "\n",
      " USER:I don't feel good today\n",
      "\n",
      " AI: If you'd like to update the document to reflect this, we can include a note mentioning you're unwell, and perhaps suggest rescheduling due to not feeling well. Would you like me to make that change?\n",
      "\n",
      " USER:so i need to send a message to my friend to tell him I can not have diner with him. Can you write me the message?\n",
      "\n",
      " AI: Certainly! Here's a message you could consider sending:\n",
      "\n",
      "---\n",
      "\n",
      "Hi [Friend's Name],\n",
      "\n",
      "I hope you're doing well. I wanted to let you know that I'm not feeling well today and, unfortunately, won't be able to make it to our dinner. I'm really sorry for the sudden change of plans.\n",
      "\n",
      "Let's definitely try to reschedule for another time when I'm feeling better. I appreciate your understanding.\n",
      "\n",
      "Take care,\n",
      "\n",
      "Jerry\n",
      "\n",
      "---\n",
      "\n",
      "Would you like to replace the current document content with this message?\n",
      "\n",
      " USER:do you have any medicine recommand me to heal me headache?\n",
      "\n",
      " AI: I'm not qualified to provide medical advice, but I can suggest some general approaches that might help with a headache:\n",
      "\n",
      "1. **Hydration**: Make sure you're drinking enough water.\n",
      "2. **Rest**: Try to rest in a quiet, dark room.\n",
      "3. **Over-the-counter pain relief**: Common options include acetaminophen (Tylenol) or ibuprofen (Advil). Be sure to follow the dosing instructions.\n",
      "4. **Cold or warm compress**: Applying a cold or warm cloth to your forehead or the back of your neck might help.\n",
      "5. **Limit screen time**: Reducing screen exposure can sometimes alleviate symptoms.\n",
      "\n",
      "If your headache persists or worsens, it might be best to consult a healthcare professional. Is there anything else I can assist you with regarding the document or anything else?\n",
      "\n",
      " USER:how can I take it?\n",
      "\n",
      " AI: For over-the-counter pain relief, like acetaminophen (Tylenol) or ibuprofen (Advil), you should always:\n",
      "\n",
      "1. **Read the Label**: Follow the instructions on the package for dosage and usage.\n",
      "   \n",
      "2. **Dosage**:\n",
      "   - **Acetaminophen (Tylenol)**: Typically, adults can take 500 mg to 1000 mg every 4 to 6 hours as needed, with a maximum of 3000 mg per day. However, specific products and formulas might differ, so always check the label.\n",
      "   - **Ibuprofen (Advil)**: Adults usually take 200 to 400 mg every 4 to 6 hours, with a maximum of 1200 mg per day for over-the-counter use.\n",
      "\n",
      "3. **Considerations**:\n",
      "   - Take with food or milk if it upsets your stomach.\n",
      "   - Avoid taking more than one product containing the same active ingredient (e.g., don't take Tylenol if another medication you're using also contains acetaminophen).\n",
      "\n",
      "4. **Cautions**:\n",
      "   - If you have any underlying health conditions or are taking other medications, consult with a healthcare professional or pharmacist to ensure it's safe.\n",
      "\n",
      "Always remember, these are general guidelines and individual needs may vary, and consulting with a healthcare provider is recommended for personal advice.\n",
      "\n",
      " USER:save it\n",
      "\n",
      " AI: \n",
      "USING TOOLS: ['save']\n",
      "\n",
      " Document has been saved to: Unable_to_Attend_Meeting_Letter.txt\n",
      "Tool result: Document has been saved to: Unable_to_Attend_Meeting_Letter.txt\n",
      "\n",
      "==========Drafter end =================\n"
     ]
    }
   ],
   "source": [
    "run_document_agent()"
   ]
  },
  {
   "cell_type": "code",
   "execution_count": null,
   "id": "85f1494f",
   "metadata": {},
   "outputs": [],
   "source": []
  }
 ],
 "metadata": {
  "kernelspec": {
   "display_name": "SFT_QLoRA_Llama3_1B",
   "language": "python",
   "name": "python3"
  },
  "language_info": {
   "codemirror_mode": {
    "name": "ipython",
    "version": 3
   },
   "file_extension": ".py",
   "mimetype": "text/x-python",
   "name": "python",
   "nbconvert_exporter": "python",
   "pygments_lexer": "ipython3",
   "version": "3.11.13"
  }
 },
 "nbformat": 4,
 "nbformat_minor": 5
}
