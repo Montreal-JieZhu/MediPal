{
 "cells": [
  {
   "cell_type": "markdown",
   "id": "882e4567",
   "metadata": {},
   "source": [
    "### In this section, I will build an Agentic RAG\n",
    "\n",
    "Before, I already used a medical-domain LLM to generate hypothentical questions for each chunk. \n",
    "\n",
    "The project's main purpose is medical Q&A.  So I am going to implement Multi-Vector as the foundation of the RAG system.\n",
    "\n",
    "That means I am going to:\n",
    "* Embedding those questions to vectorestore and put chunked documents to docstore.\n",
    "* I will use doc_id which were generated at chunking stage to be a link between vectorstore and docstore.\n",
    "\n",
    "About the Agentic components:\n",
    "* I will involve an agent to do reranking for the retrieved documents so that it can provide the most relevant context. \n",
    "* The agent can remember history conversation so that it can still retrieve the relevant documents in multi-turns conversation.\n",
    "* The agent can genrate similar questions which will be used to retrieve documents.\n",
    "* The agent can do function calling/MCP when there is no relevant document."
   ]
  },
  {
   "cell_type": "code",
   "execution_count": 22,
   "id": "185c2930",
   "metadata": {},
   "outputs": [],
   "source": [
    "# Multi-Vector implementation\n",
    "import os\n",
    "import json\n",
    "import copy\n",
    "import re\n",
    "from langchain.retrievers.multi_vector import MultiVectorRetriever\n",
    "from langchain.storage import InMemoryStore\n",
    "from langchain_chroma import Chroma\n",
    "from langchain_core.documents import Document\n",
    "from langchain_huggingface import HuggingFaceEmbeddings\n",
    "from huggingface_hub import login"
   ]
  },
  {
   "cell_type": "code",
   "execution_count": 2,
   "id": "ad1ff1e1",
   "metadata": {},
   "outputs": [],
   "source": [
    "# This function will load the json file to json object\n",
    "def load_json_list(path: str):    \n",
    "    with open(path, mode = \"r\", encoding=\"utf-8\") as f:\n",
    "        return json.load(f)"
   ]
  },
  {
   "cell_type": "code",
   "execution_count": 3,
   "id": "3bfc87b4",
   "metadata": {},
   "outputs": [
    {
     "name": "stdout",
     "output_type": "stream",
     "text": [
      "c:\\Users\\Montr\\AI_Projects\\MediPal\\Agentic-RAG\\datasets\\medicine_data_hypotheticalquestions.json\n"
     ]
    }
   ],
   "source": [
    "workspace_base_path = os.getcwd()\n",
    "dataset_path = os.path.join(workspace_base_path, \"datasets\", \"medicine_data_hypotheticalquestions.json\") \n",
    "print(dataset_path)"
   ]
  },
  {
   "cell_type": "code",
   "execution_count": 4,
   "id": "e39eff7b",
   "metadata": {},
   "outputs": [],
   "source": [
    "data = load_json_list(dataset_path)"
   ]
  },
  {
   "cell_type": "code",
   "execution_count": 5,
   "id": "98d0e581",
   "metadata": {},
   "outputs": [
    {
     "data": {
      "text/plain": [
       "[{'doc_id': '1b8794c4-5946-4a50-bf09-d920746db8cb',\n",
       "  'questions': ['what special precautions should i follow about Chlordiazepoxide',\n",
       "   'What should people who are pregnant or breastfeeding know about Chlordiazepoxide?',\n",
       "   'What does the document say about drive car operate machinery until know how?'],\n",
       "  'original_doc': 'before taking chlordiazepoxide,tell your doctor and pharmacist if you are allergic to chlordiazepoxide, alprazolam (xanax), clonazepam (klonopin), clorazepate (gen-xene, tranxene), diazepam (diastat, valium), estazolam, flurazepam, lorazepam (ativan), oxazepam, temazepam (restoril), triazolam (halcion), any other medications, or any of the ingredients in tablets and capsules. ask your pharmacist for a list of the ingredients.tell your doctor and pharmacist what prescription and nonprescription medications, vitamins, nutritional supplements, and herbal products you are taking or plan to take while taking chlordiazepoxide. your doctor may need to change the doses of your medications or monitor you carefully for side effects.tell your doctor if you have or have ever had glaucoma; seizures; or lung, heart, or liver disease.tell your doctor if you are pregnant, plan to become pregnant, or are breastfeeding. if you become pregnant while taking chlordiazepoxide, call your doctor immediately.talk to your doctor about the risks and benefits of taking chlordiazepoxide if you are 65 years of age or older. older adults should not usually take chlordiazepoxide because it is not as safe or effective as other medication(s) that can be used to treat the same condition.if you are having surgery, including dental surgery, tell the doctor or dentist that you are taking chlordiazepoxide.you should know that Chlordiazepoxide may make you drowsy. do not drive a car or operate machinery until you know how Chlordiazepoxide affects you.'},\n",
       " {'doc_id': '58dbfea6-83fc-4c75-9481-01b0d22f7232',\n",
       "  'questions': ['what should i do if i forget a dose about Chlordiazepoxide',\n",
       "   'What should you do if you miss a dose of Chlordiazepoxide?'],\n",
       "  'original_doc': 'if you take several doses per day and miss a dose, skip the missed dose and continue your regular dosing schedule. do not take a double dose to make up for a missed one.about Chlordiazepoxide'},\n",
       " {'doc_id': '55470e85-8429-4f01-8d55-b42e879518b6',\n",
       "  'questions': ['what side effects can Chlordiazepoxide cause?',\n",
       "   'What side effects may occur with Chlordiazepoxide?',\n",
       "   'What should you tell your doctor before using Chlordiazepoxide?',\n",
       "   'Are there any dietary instructions while using Chlordiazepoxide?'],\n",
       "  'original_doc': \"chlordiazepoxide may cause side effects. tell your doctor if any of these symptoms are severe or do not go away:drowsinessdizzinesstirednessweaknessdry mouthdiarrheaupset stomachchanges in appetitetell your doctor if any of these symptoms are severe or do not go away:restlessness or excitementconstipationdifficulty urinatingfrequent urinationblurred visionchanges in sex drive or abilitysome side effects can be serious. if you experience any of the following symptoms or those listed in the important warning section, call your doctor immediately or get emergency medical help:shuffling walkpersistent, fine tremor or inability to sit stillfeverdifficulty breathing or swallowingsevere skin rashyellowing of the skin or eyesirregular heartbeatif you experience a serious side effect, you or your doctor may send a report to the food and drug administration's (fda) medwatch adverse event reporting program online (https://www.fda.gov/safety/medwatch) or by phone ([phone]).about Chlordiazepoxide\"}]"
      ]
     },
     "execution_count": 5,
     "metadata": {},
     "output_type": "execute_result"
    }
   ],
   "source": [
    "data[50:53]"
   ]
  },
  {
   "cell_type": "code",
   "execution_count": 6,
   "id": "9cb1775b",
   "metadata": {},
   "outputs": [
    {
     "name": "stderr",
     "output_type": "stream",
     "text": [
      "Note: Environment variable`HF_TOKEN` is set and is the current active token independently from the token you've just configured.\n"
     ]
    },
    {
     "name": "stdout",
     "output_type": "stream",
     "text": [
      "Login Huggingface so that we can access the model\n"
     ]
    }
   ],
   "source": [
    "with open(\"keys.txt\") as f:\n",
    "    os.environ[\"HF_TOKEN\"] = f.read().strip()\n",
    "\n",
    "# login using env var\n",
    "login(os.environ[\"HF_TOKEN\"])\n",
    "\n",
    "print(f\"Login Huggingface so that we can access the model\")"
   ]
  },
  {
   "cell_type": "markdown",
   "id": "a0dccc9b",
   "metadata": {},
   "source": [
    "##### I choose sentence-transformers/embeddinggemma-300m-medical, as it is a sentence-transformers model finetuned from google/embeddinggemma-300m on the miriad/miriad-4.4M dataset (specifically the first 100.000 question-passage pairs from tomaarsen/miriad-4.4M-split). It maps sentences & documents to a 768-dimensional dense vector space and can be used for medical information retrieval, specifically designed for searching for passages (up to 1k tokens) of scientific medical papers using detailed medical questions.\n",
    "\n",
    "* Reference: https://huggingface.co/sentence-transformers/embeddinggemma-300m-medical\n",
    "\n",
    "@inproceedings{reimers-2019-sentence-bert,\n",
    "    title = \"Sentence-BERT: Sentence Embeddings using Siamese BERT-Networks\",\n",
    "    author = \"Reimers, Nils and Gurevych, Iryna\",\n",
    "    booktitle = \"Proceedings of the 2019 Conference on Empirical Methods in Natural Language Processing\",\n",
    "    month = \"11\",\n",
    "    year = \"2019\",\n",
    "    publisher = \"Association for Computational Linguistics\",\n",
    "    url = \"https://arxiv.org/abs/1908.10084\",\n",
    "}\n",
    "\n",
    "@misc{gao2021scaling,\n",
    "    title={Scaling Deep Contrastive Learning Batch Size under Memory Limited Setup},\n",
    "    author={Luyu Gao and Yunyi Zhang and Jiawei Han and Jamie Callan},\n",
    "    year={2021},\n",
    "    eprint={2101.06983},\n",
    "    archivePrefix={arXiv},\n",
    "    primaryClass={cs.LG}\n",
    "}\n"
   ]
  },
  {
   "cell_type": "code",
   "execution_count": 7,
   "id": "90a50206",
   "metadata": {},
   "outputs": [],
   "source": [
    "embedding_model_id = \"sentence-transformers/embeddinggemma-300m-medical\""
   ]
  },
  {
   "cell_type": "code",
   "execution_count": 8,
   "id": "ff0d49b8",
   "metadata": {},
   "outputs": [
    {
     "name": "stderr",
     "output_type": "stream",
     "text": [
      "W0917 10:12:52.642000 51104 Lib\\site-packages\\torch\\distributed\\elastic\\multiprocessing\\redirects.py:29] NOTE: Redirects are currently not supported in Windows or MacOs.\n",
      "You are trying to use a model that was created with Sentence Transformers version 5.2.0.dev0, but you're currently using version 5.1.0. This might cause unexpected behavior or errors. In that case, try to update to the latest version.\n"
     ]
    }
   ],
   "source": [
    "embedding_model = HuggingFaceEmbeddings(\n",
    "    model_name=embedding_model_id,\n",
    "    model_kwargs = {'device': 'cpu'},\n",
    "    # Normalizing helps cosine similarity behave better across models\n",
    "    encode_kwargs={\"normalize_embeddings\": True},\n",
    ")"
   ]
  },
  {
   "cell_type": "code",
   "execution_count": 9,
   "id": "0d6579d6",
   "metadata": {},
   "outputs": [],
   "source": [
    "# The function will make a multi-vector db and return a retriever\n",
    "\n",
    "def medicine_documents_retriever(vectordb_name: str, data):\n",
    "    # The storage layer for the original documents\n",
    "    docstore = InMemoryStore()\n",
    "    id_key = \"doc_id\"\n",
    "\n",
    "    # The vectorstore to use to index the questions\n",
    "    vectorstore = Chroma(collection_name = vectordb_name, embedding_function = embedding_model)\n",
    "    # The Multi-Vector retriever\n",
    "    retriever = MultiVectorRetriever(\n",
    "        vectorstore=vectorstore,\n",
    "        docstore=docstore,\n",
    "        id_key=id_key,\n",
    "    )\n",
    "\n",
    "    doc_ids = []\n",
    "    questions = []\n",
    "    docs = []\n",
    "    for d in data[:50]:\n",
    "        doc_id = d[\"doc_id\"]\n",
    "        doc_ids.append(doc_id)\n",
    "        docs.append(Document(metadata={\"doc_id\": doc_id}, page_content=d[\"original_doc\"]))\n",
    "        for q in d[\"questions\"]:\n",
    "            questions.append(Document(metadata={\"doc_id\": doc_id}, page_content=q))\n",
    "\n",
    "    retriever.vectorstore.add_documents(questions)\n",
    "    retriever.docstore.mset(list(zip(doc_ids,docs)))\n",
    "\n",
    "    return retriever "
   ]
  },
  {
   "cell_type": "code",
   "execution_count": 10,
   "id": "6663f36a",
   "metadata": {},
   "outputs": [],
   "source": [
    "retriever = medicine_documents_retriever(vectordb_name=\"medicinedocs\", data=data)"
   ]
  },
  {
   "cell_type": "code",
   "execution_count": 12,
   "id": "889987fc",
   "metadata": {},
   "outputs": [
    {
     "data": {
      "text/plain": [
       "[Document(id='d847d324-bca5-4d5d-b060-8c09c17d859a', metadata={'doc_id': '88423ccc-adf6-4ecb-9d4a-48ead1e5f2b7'}, page_content='what special dietary instructions should i follow about Phenylephrine'),\n",
       " Document(id='e320f072-c0f6-4832-bcfe-2b9eec9ec031', metadata={'doc_id': '88423ccc-adf6-4ecb-9d4a-48ead1e5f2b7'}, page_content='Are there any dietary instructions while using Phenylephrine?'),\n",
       " Document(id='25aa6403-35c1-40b5-b515-7e3cdebb267d', metadata={'doc_id': '0ff6d87b-c64f-4ac8-853b-d143cb09a386'}, page_content='Are there any dietary instructions while using Phenylephrine?'),\n",
       " Document(id='4bf57a3b-054d-402a-9eef-92ce22fe6380', metadata={'doc_id': '22a4ba55-1113-4c1d-9db3-f7eaabb7999a'}, page_content='what special precautions should i follow about Phenylephrine'),\n",
       " Document(id='ed51dbb8-a48b-4ef0-a3b5-3155c6a64127', metadata={'doc_id': '0ff6d87b-c64f-4ac8-853b-d143cb09a386'}, page_content='what other information should i know about Phenylephrine'),\n",
       " Document(id='b8f2d46e-8c68-4cd9-b670-a2423d3f5fab', metadata={'doc_id': '22a4ba55-1113-4c1d-9db3-f7eaabb7999a'}, page_content='What should people who are pregnant or breastfeeding know about Phenylephrine?')]"
      ]
     },
     "execution_count": 12,
     "metadata": {},
     "output_type": "execute_result"
    }
   ],
   "source": [
    "retriever.vectorstore.similarity_search(\"what special dietary instructions should i follow about Phenylephrine\",k=6)"
   ]
  },
  {
   "cell_type": "code",
   "execution_count": 13,
   "id": "6c0f7b51",
   "metadata": {},
   "outputs": [
    {
     "data": {
      "text/plain": [
       "[Document(metadata={'doc_id': '88423ccc-adf6-4ecb-9d4a-48ead1e5f2b7'}, page_content='unless your doctor tells you otherwise, continue your normal diet.about Phenylephrine'),\n",
       " Document(metadata={'doc_id': '0ff6d87b-c64f-4ac8-853b-d143cb09a386'}, page_content='ask your pharmacist any questions you have about phenylephrine.keep a written list of all of the prescription and nonprescription (over-the-counter) medicines, vitamins, minerals, and dietary supplements you are taking. bring this list with you each time you visit a doctor or if you are admitted to the hospital. you should carry the list with you in case of emergencies.about Phenylephrine'),\n",
       " Document(metadata={'doc_id': '22a4ba55-1113-4c1d-9db3-f7eaabb7999a'}, page_content='before taking phenylephrine,tell your doctor and pharmacist if you are allergic to phenylephrine, any other medications, or any of the ingredients in phenylephrine preparations.do not take phenylephrine if you are taking a monoamine oxidase (mao) inhibitor, such as isocarboxazid (marplan), phenelzine (nardil), selegiline (eldepryl, emsam, zelapar), and tranylcypromine (parnate), or if you have stopped taking one of these medications within the past 2 weeks.tell your doctor and pharmacist what other prescription and nonprescription medications, vitamins, nutritional supplements, and herbal products you are taking or plan to take.tell your doctor if you have or have ever had high blood pressure, diabetes, trouble urinating because of an enlarged prostate gland, or thyroid or heart disease.tell your doctor if you are pregnant, plan to become pregnant, or are breast-feeding. if you become pregnant while taking phenylephrine, call your doctor.if you are having surgery, including dental surgery, tell the doctor or dentist that you are taking phenylephrine.if you have phenylketonuria (pku, an inherited condition in which a special diet must be followed to prevent damage to your brain that can cause severe intellectual disability), you should know that some phenylephrine products may be sweetened with aspartame, a source of phenylalanine.about Phenylephrine')]"
      ]
     },
     "execution_count": 13,
     "metadata": {},
     "output_type": "execute_result"
    }
   ],
   "source": [
    "retriever.invoke(\"what special dietary instructions should i follow about Phenylephrine\", kwargs={\"k\":10})"
   ]
  },
  {
   "cell_type": "markdown",
   "id": "a3eedb7e",
   "metadata": {},
   "source": [
    "#### It is working as I expected, we can see the the questions' doc_id are matching the documents' doc_id exactly.\n",
    "#### That means when we search by question. It will firstly match the similar questions, then output the documents which are related to those questions.\n",
    "\n",
    "### Next, I will involve a cross-encoder(ncbi/MedCPT-Cross-Encoder) to rerank the retrieved documents and output top_k(3) most relevant ones.\n",
    "\n",
    "##### This corssEncoder(Bert) model was fine-tuned on 30522 medical related tokens\n",
    "##### The clinical knowledge usually can rank relevance more accuracy.\n",
    "\n",
    "Citation:\n",
    "\n",
    "@article{jin2023medcpt,\n",
    "  title={MedCPT: Contrastive Pre-trained Transformers with large-scale PubMed search logs for zero-shot biomedical information retrieval},\n",
    "  author={Jin, Qiao and Kim, Won and Chen, Qingyu and Comeau, Donald C and Yeganova, Lana and Wilbur, W John and Lu, Zhiyong},\n",
    "  journal={Bioinformatics},\n",
    "  volume={39},\n",
    "  number={11},\n",
    "  pages={btad651},\n",
    "  year={2023},\n",
    "  publisher={Oxford University Press}\n",
    "}\n"
   ]
  },
  {
   "cell_type": "code",
   "execution_count": 11,
   "id": "c96722e9",
   "metadata": {},
   "outputs": [],
   "source": [
    "cross_encoder_model_id = \"ncbi/MedCPT-Cross-Encoder\" "
   ]
  },
  {
   "cell_type": "code",
   "execution_count": 12,
   "id": "53e4813e",
   "metadata": {},
   "outputs": [],
   "source": [
    "from sentence_transformers import CrossEncoder"
   ]
  },
  {
   "cell_type": "code",
   "execution_count": 13,
   "id": "7b2a88eb",
   "metadata": {},
   "outputs": [],
   "source": [
    "cross_encoder = CrossEncoder(cross_encoder_model_id)"
   ]
  },
  {
   "cell_type": "code",
   "execution_count": 14,
   "id": "429847cb",
   "metadata": {},
   "outputs": [],
   "source": [
    "# The functiion leverages cross-encoder to evaluate the original query and the retrieved documents.\n",
    "# It gives every (query, document) pair a score, then sort them.\n",
    "def rerank(query: str, retrieved_docs: list[Document]):\n",
    "    pairs = [[query, d.page_content] for d in retrieved_docs]\n",
    "    scores = cross_encoder.predict(pairs, batch_size=32)\n",
    "    for r_d, score in zip(retrieved_docs, scores):\n",
    "        r_d.metadata[\"rerank_score\"] = float(score)\n",
    "\n",
    "    retrieved_docs.sort(key= lambda d: d.metadata[\"rerank_score\"], reverse=True)\n",
    "    return retrieved_docs"
   ]
  },
  {
   "cell_type": "code",
   "execution_count": 16,
   "id": "2cfd5c1a",
   "metadata": {},
   "outputs": [],
   "source": [
    "# This function just wrap up all the function before.\n",
    "# 1. retrieve documents -> 2. Rerank documents -> 3. Pick top_k\n",
    "def ask(query: str, retriever, top_k):\n",
    "    retrieved_docs = retriever.invoke(query, kwargs={\"k\":10})\n",
    "    retrieved_docs = copy.deepcopy(retrieved_docs) # Avoid rerank changes original documents\n",
    "    reranked_docs = rerank(query,retrieved_docs)\n",
    "    return reranked_docs[:top_k]"
   ]
  },
  {
   "cell_type": "code",
   "execution_count": 17,
   "id": "ec8dd78d",
   "metadata": {},
   "outputs": [
    {
     "data": {
      "text/plain": [
       "[Document(metadata={'doc_id': '1bf5880b-93ec-4ac9-a0cb-eb35693ccce4', 'rerank_score': 0.9999985694885254}, page_content='phenylephrine is used to relieve nasal discomfort caused by colds, allergies, and hay fever. it is also used to relieve sinus congestion and pressure. phenylephrine will relieve symptoms but will not treat the cause of the symptoms or speed recovery. phenylephrine is in a class of medications called nasal decongestants. it works by reducing swelling of the blood vessels in the nasal passages.about Phenylephrine'),\n",
       " Document(metadata={'doc_id': 'bb119108-9008-4636-bda2-7f7ad0d185ed', 'rerank_score': 0.09486568719148636}, page_content='Hydrocortisone Injection may be prescribed for other uses; ask your doctor or pharmacist for more information.')]"
      ]
     },
     "execution_count": 17,
     "metadata": {},
     "output_type": "execute_result"
    }
   ],
   "source": [
    "ask(\"My nasal is disconfort. Do you have a medicine to relieve sinus congestion and pressure?\",retriever,top_k = 2)"
   ]
  },
  {
   "cell_type": "markdown",
   "id": "960a3f36",
   "metadata": {},
   "source": [
    "#### The rerank model is just working so good. Keep it and move next.\n",
    "\n",
    "#### Beside rerank, I think query is the most important thing. As it retrieve most related documents of which a LLM makes use to generate most helpful response.\n",
    "#### But in multi-turn conversation, users don't make a query with every previous details.\n",
    "For example, in the third turn the user really want to ask 'How do I take Phenylephrine?'\n",
    "\n",
    "But he types 'How do I take it?'. From the context, 'it' means 'Phenylephrine'.\n",
    "\n",
    "If we retrieve by query  'How do I take it?', we can get unrelevant document.  'How do I take Phenylephrine?' makes more sense.\n",
    "\n",
    "#### This is why I need to put an agent to transfer the query so that it is aligned to the conversation.\n",
    "#### In this case, I choose in-memory storage for history conversation. \n",
    "#### If we need long-term and short-term memory, I need to design a memory and session management module with redis, SQL DB and vector DB.\n",
    "\n",
    "#### Let's do it!"
   ]
  },
  {
   "cell_type": "code",
   "execution_count": 20,
   "id": "57594f61",
   "metadata": {},
   "outputs": [],
   "source": [
    "from langchain_core.chat_history import BaseChatMessageHistory\n",
    "from langchain_community.chat_message_histories import ChatMessageHistory\n",
    "from transformers import AutoTokenizer, AutoModelForCausalLM, pipeline\n",
    "from langchain_huggingface import ChatHuggingFace, HuggingFacePipeline\n",
    "from langchain_core.prompts import ChatPromptTemplate\n",
    "from operator import itemgetter\n",
    "from langchain_core.runnables import RunnableLambda\n",
    "import torch\n",
    "import uuid"
   ]
  },
  {
   "cell_type": "code",
   "execution_count": 23,
   "id": "f12ecbb9",
   "metadata": {},
   "outputs": [],
   "source": [
    "query_rewrite_model_id = \"ContactDoctor/Bio-Medical-Llama-3-8B\""
   ]
  },
  {
   "cell_type": "code",
   "execution_count": 24,
   "id": "c0111a12",
   "metadata": {},
   "outputs": [],
   "source": [
    "def best_dtype():\n",
    "    if torch.cuda.is_available():\n",
    "        if torch.cuda.is_bf16_supported():\n",
    "            return torch.bfloat16\n",
    "        else:\n",
    "            return torch.float16\n",
    "        \n",
    "    return torch.float32\n",
    "\n",
    "def best_device():\n",
    "    return \"cuda\" if torch.cuda.is_available() else \"cpu\""
   ]
  },
  {
   "cell_type": "code",
   "execution_count": 26,
   "id": "79a21aff",
   "metadata": {},
   "outputs": [
    {
     "data": {
      "application/vnd.jupyter.widget-view+json": {
       "model_id": "55085ab1eb5e4ff3bce6116260370b42",
       "version_major": 2,
       "version_minor": 0
      },
      "text/plain": [
       "Loading checkpoint shards:   0%|          | 0/2 [00:00<?, ?it/s]"
      ]
     },
     "metadata": {},
     "output_type": "display_data"
    },
    {
     "name": "stdout",
     "output_type": "stream",
     "text": [
      "Load tokenizer and base model done!\n"
     ]
    }
   ],
   "source": [
    "query_rewrite_tokenizer = AutoTokenizer.from_pretrained(query_rewrite_model_id)\n",
    "\n",
    "query_rewrite_model = AutoModelForCausalLM.from_pretrained(\n",
    "    query_rewrite_model_id,\n",
    "    dtype = best_dtype(),\n",
    "    device_map={\"\":best_device()}, \n",
    "    low_cpu_mem_usage=True     \n",
    ")\n",
    "print(\"Load tokenizer and base model done!\")"
   ]
  },
  {
   "cell_type": "code",
   "execution_count": null,
   "id": "d14ff209",
   "metadata": {},
   "outputs": [],
   "source": [
    "print(query_rewrite_model)                    # full architecture tree (long but useful)\n",
    "print(query_rewrite_model.config)             # core hyperparameters (dims, layers, heads…)"
   ]
  },
  {
   "cell_type": "code",
   "execution_count": 27,
   "id": "9879013c",
   "metadata": {},
   "outputs": [
    {
     "name": "stderr",
     "output_type": "stream",
     "text": [
      "Device set to use cuda\n"
     ]
    }
   ],
   "source": [
    "query_rewrite_pipe = pipeline(\n",
    "    \"text-generation\", \n",
    "    model=query_rewrite_model, \n",
    "    tokenizer=query_rewrite_tokenizer,\n",
    "    return_full_text=False,   \n",
    "    )"
   ]
  },
  {
   "cell_type": "code",
   "execution_count": 28,
   "id": "206127a0",
   "metadata": {},
   "outputs": [],
   "source": [
    "# Wrapper normal piple with huggingfacepipeline\n",
    "hug_query_rewrite_pipe = HuggingFacePipeline(pipeline=query_rewrite_pipe)"
   ]
  },
  {
   "cell_type": "code",
   "execution_count": 29,
   "id": "afd489b9",
   "metadata": {},
   "outputs": [],
   "source": [
    "query_rewriter = ChatHuggingFace(llm=hug_query_rewrite_pipe)"
   ]
  },
  {
   "cell_type": "code",
   "execution_count": 93,
   "id": "dea5d054",
   "metadata": {},
   "outputs": [],
   "source": [
    "# Minimal chat history store (in-memory)\n",
    "session_store: dict[str, BaseChatMessageHistory] = {}\n",
    "\n",
    "# Get history message by session_id\n",
    "def get_history(session_id: str) -> BaseChatMessageHistory:\n",
    "    if session_id not in session_store:\n",
    "        session_store[session_id] = ChatMessageHistory()\n",
    "    return session_store[session_id]"
   ]
  },
  {
   "cell_type": "code",
   "execution_count": 94,
   "id": "90dd3b03",
   "metadata": {},
   "outputs": [],
   "source": [
    "# Testing if the query rewriting part\n",
    "# First of all, open a session using UUID to generate a unique session ID\n",
    "session_id = str(uuid.uuid4())"
   ]
  },
  {
   "cell_type": "code",
   "execution_count": 95,
   "id": "4bbd49b7",
   "metadata": {},
   "outputs": [],
   "source": [
    "# First turn: ask a question\n",
    "query_1 = \"My nasal is disconfort. Do you have a medicine to relieve sinus congestion and pressure?\""
   ]
  },
  {
   "cell_type": "code",
   "execution_count": 96,
   "id": "5151545c",
   "metadata": {},
   "outputs": [],
   "source": [
    "history = get_history(session_id)"
   ]
  },
  {
   "cell_type": "code",
   "execution_count": 97,
   "id": "6d560350",
   "metadata": {},
   "outputs": [],
   "source": [
    "history.add_user_message(query_1)"
   ]
  },
  {
   "cell_type": "code",
   "execution_count": 98,
   "id": "8622a168",
   "metadata": {},
   "outputs": [],
   "source": [
    "doc_1 = ask(query_1, retriever, top_k=1)"
   ]
  },
  {
   "cell_type": "code",
   "execution_count": 99,
   "id": "ef4aedf2",
   "metadata": {},
   "outputs": [
    {
     "data": {
      "text/plain": [
       "[Document(metadata={'doc_id': '1bf5880b-93ec-4ac9-a0cb-eb35693ccce4', 'rerank_score': 0.9999985694885254}, page_content='phenylephrine is used to relieve nasal discomfort caused by colds, allergies, and hay fever. it is also used to relieve sinus congestion and pressure. phenylephrine will relieve symptoms but will not treat the cause of the symptoms or speed recovery. phenylephrine is in a class of medications called nasal decongestants. it works by reducing swelling of the blood vessels in the nasal passages.about Phenylephrine')]"
      ]
     },
     "execution_count": 99,
     "metadata": {},
     "output_type": "execute_result"
    }
   ],
   "source": [
    "doc_1"
   ]
  },
  {
   "cell_type": "code",
   "execution_count": 100,
   "id": "2d9968b8",
   "metadata": {},
   "outputs": [],
   "source": [
    "# The first document is what exactly I am expecting\n",
    "# Put is to history store\n",
    "history.add_ai_message(doc_1[0].page_content)\n"
   ]
  },
  {
   "cell_type": "code",
   "execution_count": 101,
   "id": "97968082",
   "metadata": {},
   "outputs": [
    {
     "data": {
      "text/plain": [
       "InMemoryChatMessageHistory(messages=[HumanMessage(content='My nasal is disconfort. Do you have a medicine to relieve sinus congestion and pressure?', additional_kwargs={}, response_metadata={}), AIMessage(content='phenylephrine is used to relieve nasal discomfort caused by colds, allergies, and hay fever. it is also used to relieve sinus congestion and pressure. phenylephrine will relieve symptoms but will not treat the cause of the symptoms or speed recovery. phenylephrine is in a class of medications called nasal decongestants. it works by reducing swelling of the blood vessels in the nasal passages.about Phenylephrine', additional_kwargs={}, response_metadata={})])"
      ]
     },
     "execution_count": 101,
     "metadata": {},
     "output_type": "execute_result"
    }
   ],
   "source": [
    "history"
   ]
  },
  {
   "cell_type": "code",
   "execution_count": 102,
   "id": "32eefaa6",
   "metadata": {},
   "outputs": [],
   "source": [
    "# second turn: ask a question\n",
    "query_2 = \"How can I use it?\""
   ]
  },
  {
   "cell_type": "code",
   "execution_count": 103,
   "id": "20cbbb51",
   "metadata": {},
   "outputs": [],
   "source": [
    "history = get_history(session_id)"
   ]
  },
  {
   "cell_type": "markdown",
   "id": "0cb8bb85",
   "metadata": {},
   "source": [
    "#### It is a point where an agent can transfer \"How can I use it?\" to a retrievable query."
   ]
  },
  {
   "cell_type": "code",
   "execution_count": 21,
   "id": "0a6f08b1",
   "metadata": {},
   "outputs": [
    {
     "ename": "NameError",
     "evalue": "name 'query_rewriter' is not defined",
     "output_type": "error",
     "traceback": [
      "\u001b[31m---------------------------------------------------------------------------\u001b[39m",
      "\u001b[31mNameError\u001b[39m                                 Traceback (most recent call last)",
      "\u001b[36mCell\u001b[39m\u001b[36m \u001b[39m\u001b[32mIn[21]\u001b[39m\u001b[32m, line 17\u001b[39m\n\u001b[32m     11\u001b[39m \u001b[38;5;28;01mdef\u001b[39;00m\u001b[38;5;250m \u001b[39m\u001b[34mhistory_as_text\u001b[39m(history: BaseChatMessageHistory) -> \u001b[38;5;28mstr\u001b[39m:\n\u001b[32m     12\u001b[39m     \u001b[38;5;28;01mreturn\u001b[39;00m \u001b[33m\"\u001b[39m\u001b[38;5;130;01m\\n\u001b[39;00m\u001b[33m\"\u001b[39m.join([\n\u001b[32m     13\u001b[39m         \u001b[33mf\u001b[39m\u001b[33m\"\u001b[39m\u001b[38;5;132;01m{\u001b[39;00mm.type.upper()\u001b[38;5;132;01m}\u001b[39;00m\u001b[33m: \u001b[39m\u001b[38;5;132;01m{\u001b[39;00mm.content\u001b[38;5;132;01m}\u001b[39;00m\u001b[33m\"\u001b[39m   \u001b[38;5;66;03m# e.g. \"HUMAN: …\" or \"AI: …\"\u001b[39;00m\n\u001b[32m     14\u001b[39m         \u001b[38;5;28;01mfor\u001b[39;00m m \u001b[38;5;129;01min\u001b[39;00m history.messages])\n\u001b[32m     16\u001b[39m rewrite_chain = (\n\u001b[32m---> \u001b[39m\u001b[32m17\u001b[39m     rewriter_prompt | \u001b[43mquery_rewriter\u001b[49m\n\u001b[32m     18\u001b[39m )\n",
      "\u001b[31mNameError\u001b[39m: name 'query_rewriter' is not defined"
     ]
    }
   ],
   "source": [
    "rewriter_prompt = ChatPromptTemplate.from_messages([\n",
    "    (\"system\",\n",
    "     \"You rewrite user questions to be fully self-contained for document retrieval. \"\n",
    "     \"Use the history conversation to resolve references. Keep the contextual meaning. \"\n",
    "     \"Output just the rewritten question, no explanations. \\n\"\n",
    "     \"History conversation: {history} \\n\"),    \n",
    "    (\"human\", \"{question}\")\n",
    "])\n",
    "\n",
    "# Convert history message to a string\n",
    "def history_as_text(history: BaseChatMessageHistory) -> str:\n",
    "    return \"\\n\".join([\n",
    "        f\"{m.type.upper()}: {m.content}\"   # e.g. \"HUMAN: …\" or \"AI: …\"\n",
    "        for m in history.messages])\n",
    "\n",
    "rewrite_chain = (\n",
    "    rewriter_prompt | query_rewriter\n",
    ")"
   ]
  },
  {
   "cell_type": "code",
   "execution_count": null,
   "id": "c7081ae7",
   "metadata": {},
   "outputs": [
    {
     "data": {
      "text/plain": [
       "ChatPromptTemplate(input_variables=['history', 'question'], input_types={}, partial_variables={}, messages=[SystemMessagePromptTemplate(prompt=PromptTemplate(input_variables=['history'], input_types={}, partial_variables={}, template='You rewrite user questions to be fully self-contained for document retrieval. Use the conversation history to resolve references. Keep the meaning. Output just the rewritten query, no explanations. \\nDocument: {history} \\n'), additional_kwargs={}), HumanMessagePromptTemplate(prompt=PromptTemplate(input_variables=['question'], input_types={}, partial_variables={}, template='{question}'), additional_kwargs={})])"
      ]
     },
     "execution_count": 114,
     "metadata": {},
     "output_type": "execute_result"
    }
   ],
   "source": [
    "rewriter_prompt.pretty_print()"
   ]
  },
  {
   "cell_type": "code",
   "execution_count": 110,
   "id": "129d915d",
   "metadata": {},
   "outputs": [
    {
     "data": {
      "text/plain": [
       "'HUMAN: My nasal is disconfort. Do you have a medicine to relieve sinus congestion and pressure?\\nAI: phenylephrine is used to relieve nasal discomfort caused by colds, allergies, and hay fever. it is also used to relieve sinus congestion and pressure. phenylephrine will relieve symptoms but will not treat the cause of the symptoms or speed recovery. phenylephrine is in a class of medications called nasal decongestants. it works by reducing swelling of the blood vessels in the nasal passages.about Phenylephrine'"
      ]
     },
     "execution_count": 110,
     "metadata": {},
     "output_type": "execute_result"
    }
   ],
   "source": [
    "history_as_text(get_history(session_id))"
   ]
  },
  {
   "cell_type": "code",
   "execution_count": null,
   "id": "25b02859",
   "metadata": {},
   "outputs": [],
   "source": [
    "# 2) Rewrite\n",
    "rewritten = rewrite_chain.invoke({\"question\": query_2, \"history\": history_as_text(get_history(session_id))})"
   ]
  },
  {
   "cell_type": "code",
   "execution_count": 116,
   "id": "09712f61",
   "metadata": {},
   "outputs": [
    {
     "data": {
      "text/plain": [
       "AIMessage(content=' how to use phenylephrine for sinus congestion and pressure?', additional_kwargs={}, response_metadata={}, id='run--182c4bc3-4bb9-47c2-a90b-8ac99e09954d-0')"
      ]
     },
     "execution_count": 116,
     "metadata": {},
     "output_type": "execute_result"
    }
   ],
   "source": [
    "rewritten"
   ]
  },
  {
   "cell_type": "markdown",
   "id": "a7b656c6",
   "metadata": {},
   "source": [
    "#### The query rewriting part is working well now.\n",
    "#### But sometimes, the user types questions which have multiply meaning. For example: How can I have it?\n",
    "* It could mean \"What is the dosage instruction to take it?\"\n",
    "* It also could mean \"Where and how can I buy it?\" \n",
    "#### This example remind me to involve Query Decomposition technique which will transfer a query to a few querys in different angles."
   ]
  },
  {
   "cell_type": "code",
   "execution_count": null,
   "id": "9908cc37",
   "metadata": {},
   "outputs": [],
   "source": [
    "# I will use the same LLM model to do the job with different prompt\n",
    "\n",
    "decompose_prompt = ChatPromptTemplate.from_messages([\n",
    "    (\"system\",\n",
    "     \"You are a medical doctor. You generate exactly TWO distinct, clinically-relevant question variants from the user's Original question, \"\n",
    "     \"covering different angles (e.g., indications/contraindications, dosing vs. administration, \"\n",
    "     \"adult vs. pediatric, interactions vs. adverse effects). \"\n",
    "     \"Return a JSON list of 2 strings, no extra text.\"),\n",
    "    (\"human\", \"Original question: {base_question}\")\n",
    "])"
   ]
  },
  {
   "cell_type": "code",
   "execution_count": null,
   "id": "0cbe109d",
   "metadata": {},
   "outputs": [],
   "source": [
    "decompose_prompt.pretty_print()"
   ]
  },
  {
   "cell_type": "code",
   "execution_count": null,
   "id": "2f3bbe9c",
   "metadata": {},
   "outputs": [],
   "source": [
    "query_decomposer = query_rewriter  # reuse or swap to a different model"
   ]
  },
  {
   "cell_type": "code",
   "execution_count": null,
   "id": "a7293aa0",
   "metadata": {},
   "outputs": [],
   "source": [
    "def parse_json_list(s: str):\n",
    "    #import json, re\n",
    "    # Be forgiving to slight model formatting\n",
    "    s = s.strip()\n",
    "    m = re.search(r\"\\[.*\\]\", s, flags=re.S)\n",
    "    if not m:\n",
    "        return []\n",
    "    try:\n",
    "        data = json.loads(m.group(0))\n",
    "        return [x.strip() for x in data if isinstance(x, str)]\n",
    "    except Exception:\n",
    "        return []"
   ]
  },
  {
   "cell_type": "code",
   "execution_count": null,
   "id": "e576d3a1",
   "metadata": {},
   "outputs": [],
   "source": [
    "decompose_chain = (\n",
    "    {\"base_question\": itemgetter(\"question\")}\n",
    "    | decompose_prompt\n",
    "    | query_decomposer\n",
    "    | RunnableLambda(parse_json_list)\n",
    ")"
   ]
  },
  {
   "cell_type": "code",
   "execution_count": null,
   "id": "ca045b0c",
   "metadata": {},
   "outputs": [],
   "source": [
    "query_3 = \"How can I have Phenylephrine?\""
   ]
  },
  {
   "cell_type": "code",
   "execution_count": null,
   "id": "726489b4",
   "metadata": {},
   "outputs": [],
   "source": [
    "decompose_chain.invoke({\"question\":query_3})"
   ]
  },
  {
   "cell_type": "code",
   "execution_count": null,
   "id": "2a8457a2",
   "metadata": {},
   "outputs": [],
   "source": []
  }
 ],
 "metadata": {
  "kernelspec": {
   "display_name": "SFT_QLoRA_Llama3_1B",
   "language": "python",
   "name": "python3"
  },
  "language_info": {
   "codemirror_mode": {
    "name": "ipython",
    "version": 3
   },
   "file_extension": ".py",
   "mimetype": "text/x-python",
   "name": "python",
   "nbconvert_exporter": "python",
   "pygments_lexer": "ipython3",
   "version": "3.11.13"
  }
 },
 "nbformat": 4,
 "nbformat_minor": 5
}
