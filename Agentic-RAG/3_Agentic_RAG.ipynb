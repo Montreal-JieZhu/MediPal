{
 "cells": [
  {
   "cell_type": "markdown",
   "id": "882e4567",
   "metadata": {},
   "source": [
    "### In this section, I will build an Agentic RAG\n",
    "\n",
    "Before, I already used a medical-domain LLM to generate hypothentical questions for each chunk. \n",
    "\n",
    "The project's main purpose is medical Q&A.  So I am going to implement Multi-Vector as the foundation of the RAG system.\n",
    "\n",
    "That means I am going to:\n",
    "* Embedding those questions to vectorestore and put chunked documents to docstore.\n",
    "* I will use UUID to be a link between vectorstore and docstore.\n",
    "\n",
    "About the Agentic components:\n",
    "* I will involve an agent to do reranking for the retrieved documents so that it can provide the most relevant context. \n",
    "* The agent can remember history conversation so that it can still retrieve the relevant documents in multi-turns conversation.\n",
    "* The agent can genrate similar questions which will be used to retrieve documents.\n",
    "* The agent can do function calling/MCP when there is no relevant document."
   ]
  },
  {
   "cell_type": "code",
   "execution_count": 20,
   "id": "185c2930",
   "metadata": {},
   "outputs": [],
   "source": [
    "# Multi-Vector implementation\n",
    "import os\n",
    "import json\n",
    "from langchain.retrievers.multi_vector import MultiVectorRetriever\n",
    "from langchain.storage import InMemoryStore\n",
    "from langchain_chroma import Chroma\n",
    "from langchain_core.documents import Document\n",
    "from langchain_huggingface import HuggingFaceEmbeddings\n",
    "from huggingface_hub import login"
   ]
  },
  {
   "cell_type": "code",
   "execution_count": 12,
   "id": "ad1ff1e1",
   "metadata": {},
   "outputs": [],
   "source": [
    "# This function will load the json file to json object\n",
    "def load_json_list(path: str):    \n",
    "    with open(path, mode = \"r\", encoding=\"utf-8\") as f:\n",
    "        return json.load(f)"
   ]
  },
  {
   "cell_type": "code",
   "execution_count": 13,
   "id": "3bfc87b4",
   "metadata": {},
   "outputs": [
    {
     "name": "stdout",
     "output_type": "stream",
     "text": [
      "c:\\Users\\Montr\\AI_Projects\\MediPal\\Agentic-RAG\\datasets\\medicine_data_hypothenticalquestions.json\n"
     ]
    }
   ],
   "source": [
    "workspace_base_path = os.getcwd()\n",
    "dataset_path = os.path.join(workspace_base_path, \"datasets\", \"medicine_data_hypothenticalquestions.json\") \n",
    "print(dataset_path)"
   ]
  },
  {
   "cell_type": "code",
   "execution_count": 14,
   "id": "e39eff7b",
   "metadata": {},
   "outputs": [],
   "source": [
    "data = load_json_list(dataset_path)"
   ]
  },
  {
   "cell_type": "code",
   "execution_count": 16,
   "id": "98d0e581",
   "metadata": {},
   "outputs": [
    {
     "data": {
      "text/plain": [
       "[{'doc_id': '1b8794c4-5946-4a50-bf09-d920746db8cb',\n",
       "  'questions': ['what special precautions should i follow about Chlordiazepoxide',\n",
       "   'What should people who are pregnant or breastfeeding know about Chlordiazepoxide?',\n",
       "   'What does the document say about drive car operate machinery until know how?'],\n",
       "  'original_doc': 'before taking chlordiazepoxide,tell your doctor and pharmacist if you are allergic to chlordiazepoxide, alprazolam (xanax), clonazepam (klonopin), clorazepate (gen-xene, tranxene), diazepam (diastat, valium), estazolam, flurazepam, lorazepam (ativan), oxazepam, temazepam (restoril), triazolam (halcion), any other medications, or any of the ingredients in tablets and capsules. ask your pharmacist for a list of the ingredients.tell your doctor and pharmacist what prescription and nonprescription medications, vitamins, nutritional supplements, and herbal products you are taking or plan to take while taking chlordiazepoxide. your doctor may need to change the doses of your medications or monitor you carefully for side effects.tell your doctor if you have or have ever had glaucoma; seizures; or lung, heart, or liver disease.tell your doctor if you are pregnant, plan to become pregnant, or are breastfeeding. if you become pregnant while taking chlordiazepoxide, call your doctor immediately.talk to your doctor about the risks and benefits of taking chlordiazepoxide if you are 65 years of age or older. older adults should not usually take chlordiazepoxide because it is not as safe or effective as other medication(s) that can be used to treat the same condition.if you are having surgery, including dental surgery, tell the doctor or dentist that you are taking chlordiazepoxide.you should know that Chlordiazepoxide may make you drowsy. do not drive a car or operate machinery until you know how Chlordiazepoxide affects you.'},\n",
       " {'doc_id': '58dbfea6-83fc-4c75-9481-01b0d22f7232',\n",
       "  'questions': ['what should i do if i forget a dose about Chlordiazepoxide',\n",
       "   'What should you do if you miss a dose of Chlordiazepoxide?'],\n",
       "  'original_doc': 'if you take several doses per day and miss a dose, skip the missed dose and continue your regular dosing schedule. do not take a double dose to make up for a missed one.about Chlordiazepoxide'},\n",
       " {'doc_id': '55470e85-8429-4f01-8d55-b42e879518b6',\n",
       "  'questions': ['what side effects can Chlordiazepoxide cause?',\n",
       "   'What side effects may occur with Chlordiazepoxide?',\n",
       "   'What should you tell your doctor before using Chlordiazepoxide?',\n",
       "   'Are there any dietary instructions while using Chlordiazepoxide?'],\n",
       "  'original_doc': \"chlordiazepoxide may cause side effects. tell your doctor if any of these symptoms are severe or do not go away:drowsinessdizzinesstirednessweaknessdry mouthdiarrheaupset stomachchanges in appetitetell your doctor if any of these symptoms are severe or do not go away:restlessness or excitementconstipationdifficulty urinatingfrequent urinationblurred visionchanges in sex drive or abilitysome side effects can be serious. if you experience any of the following symptoms or those listed in the important warning section, call your doctor immediately or get emergency medical help:shuffling walkpersistent, fine tremor or inability to sit stillfeverdifficulty breathing or swallowingsevere skin rashyellowing of the skin or eyesirregular heartbeatif you experience a serious side effect, you or your doctor may send a report to the food and drug administration's (fda) medwatch adverse event reporting program online (https://www.fda.gov/safety/medwatch) or by phone ([phone]).about Chlordiazepoxide\"}]"
      ]
     },
     "execution_count": 16,
     "metadata": {},
     "output_type": "execute_result"
    }
   ],
   "source": [
    "data[50:53]"
   ]
  },
  {
   "cell_type": "code",
   "execution_count": 3,
   "id": "9cb1775b",
   "metadata": {},
   "outputs": [
    {
     "name": "stderr",
     "output_type": "stream",
     "text": [
      "Note: Environment variable`HF_TOKEN` is set and is the current active token independently from the token you've just configured.\n"
     ]
    },
    {
     "name": "stdout",
     "output_type": "stream",
     "text": [
      "Login Huggingface so that we can access the model\n"
     ]
    }
   ],
   "source": [
    "with open(\"keys.txt\") as f:\n",
    "    os.environ[\"HF_TOKEN\"] = f.read().strip()\n",
    "\n",
    "# login using env var\n",
    "login(os.environ[\"HF_TOKEN\"])\n",
    "\n",
    "print(f\"Login Huggingface so that we can access the model\")"
   ]
  },
  {
   "cell_type": "markdown",
   "id": "a0dccc9b",
   "metadata": {},
   "source": [
    "##### I choose sentence-transformers/embeddinggemma-300m-medical, as it is a sentence-transformers model finetuned from google/embeddinggemma-300m on the miriad/miriad-4.4M dataset (specifically the first 100.000 question-passage pairs from tomaarsen/miriad-4.4M-split). It maps sentences & documents to a 768-dimensional dense vector space and can be used for medical information retrieval, specifically designed for searching for passages (up to 1k tokens) of scientific medical papers using detailed medical questions.\n",
    "\n",
    "* Reference: https://huggingface.co/sentence-transformers/embeddinggemma-300m-medical"
   ]
  },
  {
   "cell_type": "code",
   "execution_count": 4,
   "id": "90a50206",
   "metadata": {},
   "outputs": [],
   "source": [
    "embedding_model_id = \"sentence-transformers/embeddinggemma-300m-medical\""
   ]
  },
  {
   "cell_type": "code",
   "execution_count": 6,
   "id": "ff0d49b8",
   "metadata": {},
   "outputs": [
    {
     "name": "stderr",
     "output_type": "stream",
     "text": [
      "You are trying to use a model that was created with Sentence Transformers version 5.2.0.dev0, but you're currently using version 5.1.0. This might cause unexpected behavior or errors. In that case, try to update to the latest version.\n"
     ]
    }
   ],
   "source": [
    "embeddings = HuggingFaceEmbeddings(\n",
    "    model_name=embedding_model_id,\n",
    "    model_kwargs = {'device': 'cpu'},\n",
    "    # Normalizing helps cosine similarity behave better across models\n",
    "    encode_kwargs={\"normalize_embeddings\": True},\n",
    ")"
   ]
  },
  {
   "cell_type": "code",
   "execution_count": 21,
   "id": "310b2f6a",
   "metadata": {},
   "outputs": [],
   "source": [
    "# The storage layer for the parent documents\n",
    "docstore = InMemoryStore()\n",
    "id_key = \"doc_id\""
   ]
  },
  {
   "cell_type": "code",
   "execution_count": 22,
   "id": "f93eefe6",
   "metadata": {},
   "outputs": [],
   "source": [
    "# The vectorstore to use to index the child chunks\n",
    "vectorstore = Chroma(\n",
    "    collection_name=\"medicinedocs\", embedding_function=embeddings\n",
    ")"
   ]
  },
  {
   "cell_type": "code",
   "execution_count": 23,
   "id": "35b9b081",
   "metadata": {},
   "outputs": [],
   "source": [
    "# The retriever (empty to start)\n",
    "retriever = MultiVectorRetriever(\n",
    "    vectorstore=vectorstore,\n",
    "    docstore=docstore,\n",
    "    id_key=id_key,\n",
    ")"
   ]
  },
  {
   "cell_type": "code",
   "execution_count": 18,
   "id": "67150eb5",
   "metadata": {},
   "outputs": [
    {
     "data": {
      "text/plain": [
       "Document(metadata={}, page_content='dd')"
      ]
     },
     "execution_count": 18,
     "metadata": {},
     "output_type": "execute_result"
    }
   ],
   "source": [
    "Document(\"dd\")"
   ]
  },
  {
   "cell_type": "code",
   "execution_count": 30,
   "id": "9cc43a81",
   "metadata": {},
   "outputs": [],
   "source": [
    "doc_ids = []\n",
    "questions = []\n",
    "docs = []"
   ]
  },
  {
   "cell_type": "code",
   "execution_count": 31,
   "id": "84c6d7e7",
   "metadata": {},
   "outputs": [],
   "source": [
    "for d in data[:50]:\n",
    "    doc_id = d[\"doc_id\"]\n",
    "    doc_ids.append(doc_id)\n",
    "    docs.append(Document(metadata={\"doc_id\": doc_id}, page_content=d[\"original_doc\"]))\n",
    "    for q in d[\"questions\"]:\n",
    "        questions.append(Document(metadata={\"doc_id\": doc_id}, page_content=q))"
   ]
  },
  {
   "cell_type": "code",
   "execution_count": 33,
   "id": "dece78d7",
   "metadata": {},
   "outputs": [
    {
     "name": "stdout",
     "output_type": "stream",
     "text": [
      "50\n",
      "139\n",
      "50\n",
      "page_content='chlordiazepoxide is also used to treat irritable bowel syndrome. talk to your doctor about the possible risks of using Chlordiazepoxide for your condition.Chlordiazepoxide is sometimes prescribed for other uses; ask your doctor or pharmacist for more information.' metadata={'doc_id': 'cac34868-f689-43f7-8bd5-09a8346c6cb8'}\n",
      "page_content='What is Chlordiazepoxide used for?' metadata={'doc_id': 'cac34868-f689-43f7-8bd5-09a8346c6cb8'}\n",
      "cac34868-f689-43f7-8bd5-09a8346c6cb8\n"
     ]
    }
   ],
   "source": [
    "print(len(docs))\n",
    "print(len(questions))\n",
    "print(len(doc_ids))\n",
    "\n",
    "print(docs[-1])\n",
    "print(questions[-1])\n",
    "print(doc_ids[-1])"
   ]
  },
  {
   "cell_type": "code",
   "execution_count": 34,
   "id": "38fe1ba9",
   "metadata": {},
   "outputs": [],
   "source": [
    "retriever.vectorstore.add_documents(questions)\n",
    "retriever.docstore.mset(list(zip(doc_ids,docs)))"
   ]
  },
  {
   "cell_type": "code",
   "execution_count": 50,
   "id": "198ca522",
   "metadata": {},
   "outputs": [
    {
     "data": {
      "text/plain": [
       "[Document(id='51ad4230-f8ba-45fb-82ab-8346fbeca2cf', metadata={'doc_id': '88423ccc-adf6-4ecb-9d4a-48ead1e5f2b7'}, page_content='what special dietary instructions should i follow about Phenylephrine'),\n",
       " Document(id='9de1dc96-b6bd-4e31-b3fc-3d85b5e71924', metadata={'doc_id': '88423ccc-adf6-4ecb-9d4a-48ead1e5f2b7'}, page_content='Are there any dietary instructions while using Phenylephrine?'),\n",
       " Document(id='8777aca2-7d1e-40dd-9d69-4f0650b17742', metadata={'doc_id': '0ff6d87b-c64f-4ac8-853b-d143cb09a386'}, page_content='Are there any dietary instructions while using Phenylephrine?'),\n",
       " Document(id='115c3e53-b666-4395-9da1-ae171e290929', metadata={'doc_id': '22a4ba55-1113-4c1d-9db3-f7eaabb7999a'}, page_content='what special precautions should i follow about Phenylephrine'),\n",
       " Document(id='6c9a241f-b657-45e7-89c5-fc1c318ada4d', metadata={'doc_id': '0ff6d87b-c64f-4ac8-853b-d143cb09a386'}, page_content='what other information should i know about Phenylephrine')]"
      ]
     },
     "execution_count": 50,
     "metadata": {},
     "output_type": "execute_result"
    }
   ],
   "source": [
    "retriever.vectorstore.similarity_search(\"what special dietary instructions should i follow about Phenylephrine\", k = 5)"
   ]
  },
  {
   "cell_type": "code",
   "execution_count": 44,
   "id": "d414533c",
   "metadata": {},
   "outputs": [
    {
     "data": {
      "text/plain": [
       "[Document(metadata={'doc_id': '88423ccc-adf6-4ecb-9d4a-48ead1e5f2b7'}, page_content='unless your doctor tells you otherwise, continue your normal diet.about Phenylephrine'),\n",
       " Document(metadata={'doc_id': '0ff6d87b-c64f-4ac8-853b-d143cb09a386'}, page_content='ask your pharmacist any questions you have about phenylephrine.keep a written list of all of the prescription and nonprescription (over-the-counter) medicines, vitamins, minerals, and dietary supplements you are taking. bring this list with you each time you visit a doctor or if you are admitted to the hospital. you should carry the list with you in case of emergencies.about Phenylephrine'),\n",
       " Document(metadata={'doc_id': '22a4ba55-1113-4c1d-9db3-f7eaabb7999a'}, page_content='before taking phenylephrine,tell your doctor and pharmacist if you are allergic to phenylephrine, any other medications, or any of the ingredients in phenylephrine preparations.do not take phenylephrine if you are taking a monoamine oxidase (mao) inhibitor, such as isocarboxazid (marplan), phenelzine (nardil), selegiline (eldepryl, emsam, zelapar), and tranylcypromine (parnate), or if you have stopped taking one of these medications within the past 2 weeks.tell your doctor and pharmacist what other prescription and nonprescription medications, vitamins, nutritional supplements, and herbal products you are taking or plan to take.tell your doctor if you have or have ever had high blood pressure, diabetes, trouble urinating because of an enlarged prostate gland, or thyroid or heart disease.tell your doctor if you are pregnant, plan to become pregnant, or are breast-feeding. if you become pregnant while taking phenylephrine, call your doctor.if you are having surgery, including dental surgery, tell the doctor or dentist that you are taking phenylephrine.if you have phenylketonuria (pku, an inherited condition in which a special diet must be followed to prevent damage to your brain that can cause severe intellectual disability), you should know that some phenylephrine products may be sweetened with aspartame, a source of phenylalanine.about Phenylephrine')]"
      ]
     },
     "execution_count": 44,
     "metadata": {},
     "output_type": "execute_result"
    }
   ],
   "source": [
    "retriever.get_relevant_documents(\"what special dietary instructions should i follow about Phenylephrine\", k = 5)"
   ]
  },
  {
   "cell_type": "code",
   "execution_count": 51,
   "id": "a3eedb7e",
   "metadata": {},
   "outputs": [
    {
     "data": {
      "text/plain": [
       "[Document(metadata={'doc_id': '88423ccc-adf6-4ecb-9d4a-48ead1e5f2b7'}, page_content='unless your doctor tells you otherwise, continue your normal diet.about Phenylephrine'),\n",
       " Document(metadata={'doc_id': '0ff6d87b-c64f-4ac8-853b-d143cb09a386'}, page_content='ask your pharmacist any questions you have about phenylephrine.keep a written list of all of the prescription and nonprescription (over-the-counter) medicines, vitamins, minerals, and dietary supplements you are taking. bring this list with you each time you visit a doctor or if you are admitted to the hospital. you should carry the list with you in case of emergencies.about Phenylephrine'),\n",
       " Document(metadata={'doc_id': '22a4ba55-1113-4c1d-9db3-f7eaabb7999a'}, page_content='before taking phenylephrine,tell your doctor and pharmacist if you are allergic to phenylephrine, any other medications, or any of the ingredients in phenylephrine preparations.do not take phenylephrine if you are taking a monoamine oxidase (mao) inhibitor, such as isocarboxazid (marplan), phenelzine (nardil), selegiline (eldepryl, emsam, zelapar), and tranylcypromine (parnate), or if you have stopped taking one of these medications within the past 2 weeks.tell your doctor and pharmacist what other prescription and nonprescription medications, vitamins, nutritional supplements, and herbal products you are taking or plan to take.tell your doctor if you have or have ever had high blood pressure, diabetes, trouble urinating because of an enlarged prostate gland, or thyroid or heart disease.tell your doctor if you are pregnant, plan to become pregnant, or are breast-feeding. if you become pregnant while taking phenylephrine, call your doctor.if you are having surgery, including dental surgery, tell the doctor or dentist that you are taking phenylephrine.if you have phenylketonuria (pku, an inherited condition in which a special diet must be followed to prevent damage to your brain that can cause severe intellectual disability), you should know that some phenylephrine products may be sweetened with aspartame, a source of phenylalanine.about Phenylephrine')]"
      ]
     },
     "execution_count": 51,
     "metadata": {},
     "output_type": "execute_result"
    }
   ],
   "source": [
    "retriever.invoke(\"what special dietary instructions should i follow about Phenylephrine\")"
   ]
  },
  {
   "cell_type": "code",
   "execution_count": null,
   "id": "c96722e9",
   "metadata": {},
   "outputs": [
    {
     "data": {
      "text/plain": [
       "3"
      ]
     },
     "execution_count": 46,
     "metadata": {},
     "output_type": "execute_result"
    }
   ],
   "source": []
  },
  {
   "cell_type": "code",
   "execution_count": null,
   "id": "53e4813e",
   "metadata": {},
   "outputs": [],
   "source": []
  }
 ],
 "metadata": {
  "kernelspec": {
   "display_name": "SFT_QLoRA_Llama3_1B",
   "language": "python",
   "name": "python3"
  },
  "language_info": {
   "codemirror_mode": {
    "name": "ipython",
    "version": 3
   },
   "file_extension": ".py",
   "mimetype": "text/x-python",
   "name": "python",
   "nbconvert_exporter": "python",
   "pygments_lexer": "ipython3",
   "version": "3.11.13"
  }
 },
 "nbformat": 4,
 "nbformat_minor": 5
}
