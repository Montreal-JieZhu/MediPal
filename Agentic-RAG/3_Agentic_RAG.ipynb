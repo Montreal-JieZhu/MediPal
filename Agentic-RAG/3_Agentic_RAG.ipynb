{
 "cells": [
  {
   "cell_type": "markdown",
   "id": "882e4567",
   "metadata": {},
   "source": [
    "### In this section, I will build an Agentic RAG\n",
    "\n",
    "Before, I already used a medical-domain LLM to generate hypothentical questions for each chunk. \n",
    "\n",
    "The project's main purpose is medical Q&A.  So I am going to implement Multi-Vector as the foundation of the RAG system.\n",
    "\n",
    "That means I am going to:\n",
    "* Embedding those questions to vectorestore and put chunked documents to docstore.\n",
    "* I will use doc_id which were generated at chunking stage to be a link between vectorstore and docstore.\n",
    "\n",
    "About the Agentic components:\n",
    "* I will involve an agent to do reranking for the retrieved documents so that it can provide the most relevant context. \n",
    "* The agent can remember history conversation so that it can still retrieve the relevant documents in multi-turns conversation.\n",
    "* The agent can genrate similar questions which will be used to retrieve documents.\n",
    "* The agent can do function calling/MCP when there is no relevant document."
   ]
  },
  {
   "cell_type": "code",
   "execution_count": 20,
   "id": "185c2930",
   "metadata": {},
   "outputs": [],
   "source": [
    "# Multi-Vector implementation\n",
    "import os\n",
    "import json\n",
    "from langchain.retrievers.multi_vector import MultiVectorRetriever\n",
    "from langchain.storage import InMemoryStore\n",
    "from langchain_chroma import Chroma\n",
    "from langchain_core.documents import Document\n",
    "from langchain_huggingface import HuggingFaceEmbeddings\n",
    "from huggingface_hub import login"
   ]
  },
  {
   "cell_type": "code",
   "execution_count": 12,
   "id": "ad1ff1e1",
   "metadata": {},
   "outputs": [],
   "source": [
    "# This function will load the json file to json object\n",
    "def load_json_list(path: str):    \n",
    "    with open(path, mode = \"r\", encoding=\"utf-8\") as f:\n",
    "        return json.load(f)"
   ]
  },
  {
   "cell_type": "code",
   "execution_count": 13,
   "id": "3bfc87b4",
   "metadata": {},
   "outputs": [
    {
     "name": "stdout",
     "output_type": "stream",
     "text": [
      "c:\\Users\\Montr\\AI_Projects\\MediPal\\Agentic-RAG\\datasets\\medicine_data_hypothenticalquestions.json\n"
     ]
    }
   ],
   "source": [
    "workspace_base_path = os.getcwd()\n",
    "dataset_path = os.path.join(workspace_base_path, \"datasets\", \"medicine_data_hypothenticalquestions.json\") \n",
    "print(dataset_path)"
   ]
  },
  {
   "cell_type": "code",
   "execution_count": 14,
   "id": "e39eff7b",
   "metadata": {},
   "outputs": [],
   "source": [
    "data = load_json_list(dataset_path)"
   ]
  },
  {
   "cell_type": "code",
   "execution_count": 16,
   "id": "98d0e581",
   "metadata": {},
   "outputs": [
    {
     "data": {
      "text/plain": [
       "[{'doc_id': '1b8794c4-5946-4a50-bf09-d920746db8cb',\n",
       "  'questions': ['what special precautions should i follow about Chlordiazepoxide',\n",
       "   'What should people who are pregnant or breastfeeding know about Chlordiazepoxide?',\n",
       "   'What does the document say about drive car operate machinery until know how?'],\n",
       "  'original_doc': 'before taking chlordiazepoxide,tell your doctor and pharmacist if you are allergic to chlordiazepoxide, alprazolam (xanax), clonazepam (klonopin), clorazepate (gen-xene, tranxene), diazepam (diastat, valium), estazolam, flurazepam, lorazepam (ativan), oxazepam, temazepam (restoril), triazolam (halcion), any other medications, or any of the ingredients in tablets and capsules. ask your pharmacist for a list of the ingredients.tell your doctor and pharmacist what prescription and nonprescription medications, vitamins, nutritional supplements, and herbal products you are taking or plan to take while taking chlordiazepoxide. your doctor may need to change the doses of your medications or monitor you carefully for side effects.tell your doctor if you have or have ever had glaucoma; seizures; or lung, heart, or liver disease.tell your doctor if you are pregnant, plan to become pregnant, or are breastfeeding. if you become pregnant while taking chlordiazepoxide, call your doctor immediately.talk to your doctor about the risks and benefits of taking chlordiazepoxide if you are 65 years of age or older. older adults should not usually take chlordiazepoxide because it is not as safe or effective as other medication(s) that can be used to treat the same condition.if you are having surgery, including dental surgery, tell the doctor or dentist that you are taking chlordiazepoxide.you should know that Chlordiazepoxide may make you drowsy. do not drive a car or operate machinery until you know how Chlordiazepoxide affects you.'},\n",
       " {'doc_id': '58dbfea6-83fc-4c75-9481-01b0d22f7232',\n",
       "  'questions': ['what should i do if i forget a dose about Chlordiazepoxide',\n",
       "   'What should you do if you miss a dose of Chlordiazepoxide?'],\n",
       "  'original_doc': 'if you take several doses per day and miss a dose, skip the missed dose and continue your regular dosing schedule. do not take a double dose to make up for a missed one.about Chlordiazepoxide'},\n",
       " {'doc_id': '55470e85-8429-4f01-8d55-b42e879518b6',\n",
       "  'questions': ['what side effects can Chlordiazepoxide cause?',\n",
       "   'What side effects may occur with Chlordiazepoxide?',\n",
       "   'What should you tell your doctor before using Chlordiazepoxide?',\n",
       "   'Are there any dietary instructions while using Chlordiazepoxide?'],\n",
       "  'original_doc': \"chlordiazepoxide may cause side effects. tell your doctor if any of these symptoms are severe or do not go away:drowsinessdizzinesstirednessweaknessdry mouthdiarrheaupset stomachchanges in appetitetell your doctor if any of these symptoms are severe or do not go away:restlessness or excitementconstipationdifficulty urinatingfrequent urinationblurred visionchanges in sex drive or abilitysome side effects can be serious. if you experience any of the following symptoms or those listed in the important warning section, call your doctor immediately or get emergency medical help:shuffling walkpersistent, fine tremor or inability to sit stillfeverdifficulty breathing or swallowingsevere skin rashyellowing of the skin or eyesirregular heartbeatif you experience a serious side effect, you or your doctor may send a report to the food and drug administration's (fda) medwatch adverse event reporting program online (https://www.fda.gov/safety/medwatch) or by phone ([phone]).about Chlordiazepoxide\"}]"
      ]
     },
     "execution_count": 16,
     "metadata": {},
     "output_type": "execute_result"
    }
   ],
   "source": [
    "data[50:53]"
   ]
  },
  {
   "cell_type": "code",
   "execution_count": 3,
   "id": "9cb1775b",
   "metadata": {},
   "outputs": [
    {
     "name": "stderr",
     "output_type": "stream",
     "text": [
      "Note: Environment variable`HF_TOKEN` is set and is the current active token independently from the token you've just configured.\n"
     ]
    },
    {
     "name": "stdout",
     "output_type": "stream",
     "text": [
      "Login Huggingface so that we can access the model\n"
     ]
    }
   ],
   "source": [
    "with open(\"keys.txt\") as f:\n",
    "    os.environ[\"HF_TOKEN\"] = f.read().strip()\n",
    "\n",
    "# login using env var\n",
    "login(os.environ[\"HF_TOKEN\"])\n",
    "\n",
    "print(f\"Login Huggingface so that we can access the model\")"
   ]
  },
  {
   "cell_type": "markdown",
   "id": "a0dccc9b",
   "metadata": {},
   "source": [
    "##### I choose sentence-transformers/embeddinggemma-300m-medical, as it is a sentence-transformers model finetuned from google/embeddinggemma-300m on the miriad/miriad-4.4M dataset (specifically the first 100.000 question-passage pairs from tomaarsen/miriad-4.4M-split). It maps sentences & documents to a 768-dimensional dense vector space and can be used for medical information retrieval, specifically designed for searching for passages (up to 1k tokens) of scientific medical papers using detailed medical questions.\n",
    "\n",
    "* Reference: https://huggingface.co/sentence-transformers/embeddinggemma-300m-medical\n",
    "\n",
    "@inproceedings{reimers-2019-sentence-bert,\n",
    "    title = \"Sentence-BERT: Sentence Embeddings using Siamese BERT-Networks\",\n",
    "    author = \"Reimers, Nils and Gurevych, Iryna\",\n",
    "    booktitle = \"Proceedings of the 2019 Conference on Empirical Methods in Natural Language Processing\",\n",
    "    month = \"11\",\n",
    "    year = \"2019\",\n",
    "    publisher = \"Association for Computational Linguistics\",\n",
    "    url = \"https://arxiv.org/abs/1908.10084\",\n",
    "}\n",
    "\n",
    "@misc{gao2021scaling,\n",
    "    title={Scaling Deep Contrastive Learning Batch Size under Memory Limited Setup},\n",
    "    author={Luyu Gao and Yunyi Zhang and Jiawei Han and Jamie Callan},\n",
    "    year={2021},\n",
    "    eprint={2101.06983},\n",
    "    archivePrefix={arXiv},\n",
    "    primaryClass={cs.LG}\n",
    "}\n"
   ]
  },
  {
   "cell_type": "code",
   "execution_count": 4,
   "id": "90a50206",
   "metadata": {},
   "outputs": [],
   "source": [
    "embedding_model_id = \"sentence-transformers/embeddinggemma-300m-medical\""
   ]
  },
  {
   "cell_type": "code",
   "execution_count": 6,
   "id": "ff0d49b8",
   "metadata": {},
   "outputs": [
    {
     "name": "stderr",
     "output_type": "stream",
     "text": [
      "You are trying to use a model that was created with Sentence Transformers version 5.2.0.dev0, but you're currently using version 5.1.0. This might cause unexpected behavior or errors. In that case, try to update to the latest version.\n"
     ]
    }
   ],
   "source": [
    "embeddings = HuggingFaceEmbeddings(\n",
    "    model_name=embedding_model_id,\n",
    "    model_kwargs = {'device': 'cpu'},\n",
    "    # Normalizing helps cosine similarity behave better across models\n",
    "    encode_kwargs={\"normalize_embeddings\": True},\n",
    ")"
   ]
  },
  {
   "cell_type": "code",
   "execution_count": 21,
   "id": "310b2f6a",
   "metadata": {},
   "outputs": [],
   "source": [
    "# The storage layer for the parent documents\n",
    "docstore = InMemoryStore()\n",
    "id_key = \"doc_id\""
   ]
  },
  {
   "cell_type": "code",
   "execution_count": 22,
   "id": "f93eefe6",
   "metadata": {},
   "outputs": [],
   "source": [
    "# The vectorstore to use to index the child chunks\n",
    "vectorstore = Chroma(\n",
    "    collection_name=\"medicinedocs\", embedding_function=embeddings\n",
    ")"
   ]
  },
  {
   "cell_type": "code",
   "execution_count": 23,
   "id": "35b9b081",
   "metadata": {},
   "outputs": [],
   "source": [
    "# The retriever (empty to start)\n",
    "retriever = MultiVectorRetriever(\n",
    "    vectorstore=vectorstore,\n",
    "    docstore=docstore,\n",
    "    id_key=id_key,\n",
    ")"
   ]
  },
  {
   "cell_type": "code",
   "execution_count": null,
   "id": "84c6d7e7",
   "metadata": {},
   "outputs": [],
   "source": [
    "doc_ids = []\n",
    "questions = []\n",
    "docs = []\n",
    "for d in data:\n",
    "    doc_id = d[\"doc_id\"]\n",
    "    doc_ids.append(doc_id)\n",
    "    docs.append(Document(metadata={\"doc_id\": doc_id}, page_content=d[\"original_doc\"]))\n",
    "    for q in d[\"questions\"]:\n",
    "        questions.append(Document(metadata={\"doc_id\": doc_id}, page_content=q))"
   ]
  },
  {
   "cell_type": "code",
   "execution_count": 34,
   "id": "38fe1ba9",
   "metadata": {},
   "outputs": [],
   "source": [
    "retriever.vectorstore.add_documents(questions)\n",
    "retriever.docstore.mset(list(zip(doc_ids,docs)))"
   ]
  },
  {
   "cell_type": "code",
   "execution_count": 52,
   "id": "198ca522",
   "metadata": {},
   "outputs": [
    {
     "data": {
      "text/plain": [
       "[Document(id='51ad4230-f8ba-45fb-82ab-8346fbeca2cf', metadata={'doc_id': '88423ccc-adf6-4ecb-9d4a-48ead1e5f2b7'}, page_content='what special dietary instructions should i follow about Phenylephrine'),\n",
       " Document(id='9de1dc96-b6bd-4e31-b3fc-3d85b5e71924', metadata={'doc_id': '88423ccc-adf6-4ecb-9d4a-48ead1e5f2b7'}, page_content='Are there any dietary instructions while using Phenylephrine?'),\n",
       " Document(id='8777aca2-7d1e-40dd-9d69-4f0650b17742', metadata={'doc_id': '0ff6d87b-c64f-4ac8-853b-d143cb09a386'}, page_content='Are there any dietary instructions while using Phenylephrine?'),\n",
       " Document(id='115c3e53-b666-4395-9da1-ae171e290929', metadata={'doc_id': '22a4ba55-1113-4c1d-9db3-f7eaabb7999a'}, page_content='what special precautions should i follow about Phenylephrine')]"
      ]
     },
     "execution_count": 52,
     "metadata": {},
     "output_type": "execute_result"
    }
   ],
   "source": [
    "retriever.vectorstore.similarity_search(\"what special dietary instructions should i follow about Phenylephrine\")"
   ]
  },
  {
   "cell_type": "code",
   "execution_count": 53,
   "id": "d414533c",
   "metadata": {},
   "outputs": [
    {
     "data": {
      "text/plain": [
       "[Document(metadata={'doc_id': '88423ccc-adf6-4ecb-9d4a-48ead1e5f2b7'}, page_content='unless your doctor tells you otherwise, continue your normal diet.about Phenylephrine'),\n",
       " Document(metadata={'doc_id': '0ff6d87b-c64f-4ac8-853b-d143cb09a386'}, page_content='ask your pharmacist any questions you have about phenylephrine.keep a written list of all of the prescription and nonprescription (over-the-counter) medicines, vitamins, minerals, and dietary supplements you are taking. bring this list with you each time you visit a doctor or if you are admitted to the hospital. you should carry the list with you in case of emergencies.about Phenylephrine'),\n",
       " Document(metadata={'doc_id': '22a4ba55-1113-4c1d-9db3-f7eaabb7999a'}, page_content='before taking phenylephrine,tell your doctor and pharmacist if you are allergic to phenylephrine, any other medications, or any of the ingredients in phenylephrine preparations.do not take phenylephrine if you are taking a monoamine oxidase (mao) inhibitor, such as isocarboxazid (marplan), phenelzine (nardil), selegiline (eldepryl, emsam, zelapar), and tranylcypromine (parnate), or if you have stopped taking one of these medications within the past 2 weeks.tell your doctor and pharmacist what other prescription and nonprescription medications, vitamins, nutritional supplements, and herbal products you are taking or plan to take.tell your doctor if you have or have ever had high blood pressure, diabetes, trouble urinating because of an enlarged prostate gland, or thyroid or heart disease.tell your doctor if you are pregnant, plan to become pregnant, or are breast-feeding. if you become pregnant while taking phenylephrine, call your doctor.if you are having surgery, including dental surgery, tell the doctor or dentist that you are taking phenylephrine.if you have phenylketonuria (pku, an inherited condition in which a special diet must be followed to prevent damage to your brain that can cause severe intellectual disability), you should know that some phenylephrine products may be sweetened with aspartame, a source of phenylalanine.about Phenylephrine')]"
      ]
     },
     "execution_count": 53,
     "metadata": {},
     "output_type": "execute_result"
    }
   ],
   "source": [
    "retriever.get_relevant_documents(\"what special dietary instructions should i follow about Phenylephrine\")"
   ]
  },
  {
   "cell_type": "markdown",
   "id": "a3eedb7e",
   "metadata": {},
   "source": [
    "#### It is working as I expected, we can see the the questions' doc_id are matching the documents' doc_id exactly.\n",
    "#### That means when we search by question. It will firstly match the similar questions, then output the documents which are related to those questions.\n",
    "\n",
    "### Next, I will involve a cross-encoder(ncbi/MedCPT-Cross-Encoder) to rerank the retrieved documents and output top_k(3) most relevant ones.\n",
    "\n",
    "##### This corssEncoder(Bert) model was fine-tuned on 30522 medical related tokens\n",
    "##### The clinical knowledge usually can rank relevance more accuracy.\n",
    "\n",
    "Citation:\n",
    "\n",
    "@article{jin2023medcpt,\n",
    "  title={MedCPT: Contrastive Pre-trained Transformers with large-scale PubMed search logs for zero-shot biomedical information retrieval},\n",
    "  author={Jin, Qiao and Kim, Won and Chen, Qingyu and Comeau, Donald C and Yeganova, Lana and Wilbur, W John and Lu, Zhiyong},\n",
    "  journal={Bioinformatics},\n",
    "  volume={39},\n",
    "  number={11},\n",
    "  pages={btad651},\n",
    "  year={2023},\n",
    "  publisher={Oxford University Press}\n",
    "}\n"
   ]
  },
  {
   "cell_type": "code",
   "execution_count": 56,
   "id": "c96722e9",
   "metadata": {},
   "outputs": [],
   "source": [
    "cross_encoder_model_id = \"ncbi/MedCPT-Cross-Encoder\" "
   ]
  },
  {
   "cell_type": "code",
   "execution_count": 54,
   "id": "53e4813e",
   "metadata": {},
   "outputs": [],
   "source": [
    "from sentence_transformers import CrossEncoder"
   ]
  },
  {
   "cell_type": "code",
   "execution_count": 58,
   "id": "7b2a88eb",
   "metadata": {},
   "outputs": [
    {
     "name": "stderr",
     "output_type": "stream",
     "text": [
      "Xet Storage is enabled for this repo, but the 'hf_xet' package is not installed. Falling back to regular HTTP download. For better performance, install the package with: `pip install huggingface_hub[hf_xet]` or `pip install hf_xet`\n"
     ]
    }
   ],
   "source": [
    "cross_encoder = CrossEncoder(cross_encoder_model_id)"
   ]
  },
  {
   "cell_type": "code",
   "execution_count": 77,
   "id": "2cd9c8b1",
   "metadata": {},
   "outputs": [],
   "source": [
    "query = \"What should people who are pregnant or breastfeeding know about Phenylephrine?\""
   ]
  },
  {
   "cell_type": "code",
   "execution_count": 78,
   "id": "94f514bd",
   "metadata": {},
   "outputs": [],
   "source": [
    "retrieved_docs = retriever.get_relevant_documents(query, k=10)"
   ]
  },
  {
   "cell_type": "code",
   "execution_count": 79,
   "id": "cfe262ca",
   "metadata": {},
   "outputs": [
    {
     "data": {
      "text/plain": [
       "[Document(metadata={'doc_id': '22a4ba55-1113-4c1d-9db3-f7eaabb7999a', 'rerank_score': 0.9999969005584717}, page_content='before taking phenylephrine,tell your doctor and pharmacist if you are allergic to phenylephrine, any other medications, or any of the ingredients in phenylephrine preparations.do not take phenylephrine if you are taking a monoamine oxidase (mao) inhibitor, such as isocarboxazid (marplan), phenelzine (nardil), selegiline (eldepryl, emsam, zelapar), and tranylcypromine (parnate), or if you have stopped taking one of these medications within the past 2 weeks.tell your doctor and pharmacist what other prescription and nonprescription medications, vitamins, nutritional supplements, and herbal products you are taking or plan to take.tell your doctor if you have or have ever had high blood pressure, diabetes, trouble urinating because of an enlarged prostate gland, or thyroid or heart disease.tell your doctor if you are pregnant, plan to become pregnant, or are breast-feeding. if you become pregnant while taking phenylephrine, call your doctor.if you are having surgery, including dental surgery, tell the doctor or dentist that you are taking phenylephrine.if you have phenylketonuria (pku, an inherited condition in which a special diet must be followed to prevent damage to your brain that can cause severe intellectual disability), you should know that some phenylephrine products may be sweetened with aspartame, a source of phenylalanine.about Phenylephrine'),\n",
       " Document(metadata={'doc_id': '0ff6d87b-c64f-4ac8-853b-d143cb09a386'}, page_content='ask your pharmacist any questions you have about phenylephrine.keep a written list of all of the prescription and nonprescription (over-the-counter) medicines, vitamins, minerals, and dietary supplements you are taking. bring this list with you each time you visit a doctor or if you are admitted to the hospital. you should carry the list with you in case of emergencies.about Phenylephrine'),\n",
       " Document(metadata={'doc_id': 'e36207d5-1410-47ca-b68a-05ed7bb7921e'}, page_content=\"phenylephrine may cause side effects. some side effects can be serious. if you experience any of these symptoms, stop using phenylephrine and call your doctor:nervousnessdizzinesssleeplessnessphenylephrine may cause other side effects. call your doctor if you have any unusual problems while taking Phenylephrine.if you experience a serious side effect, you or your doctor may send a report to the food and drug administration's (fda) medwatch adverse event reporting program online (https://www.fda.gov/safety/medwatch) or by phone ([phone]).\")]"
      ]
     },
     "execution_count": 79,
     "metadata": {},
     "output_type": "execute_result"
    }
   ],
   "source": [
    "retrieved_docs"
   ]
  },
  {
   "cell_type": "code",
   "execution_count": 80,
   "id": "86543e06",
   "metadata": {},
   "outputs": [],
   "source": [
    "pairs = [[query, d.page_content] for d in retrieved_docs]\n",
    "scores = cross_encoder.predict(pairs, batch_size=32)"
   ]
  },
  {
   "cell_type": "code",
   "execution_count": 81,
   "id": "014303af",
   "metadata": {},
   "outputs": [
    {
     "data": {
      "text/plain": [
       "array([0.9999995 , 0.9999871 , 0.79549545], dtype=float32)"
      ]
     },
     "execution_count": 81,
     "metadata": {},
     "output_type": "execute_result"
    }
   ],
   "source": [
    "scores"
   ]
  },
  {
   "cell_type": "code",
   "execution_count": 82,
   "id": "fa75c271",
   "metadata": {},
   "outputs": [],
   "source": [
    "for r_d, score in zip(retrieved_docs, scores):\n",
    "    r_d.metadata[\"rerank_score\"] = float(score)"
   ]
  },
  {
   "cell_type": "code",
   "execution_count": 85,
   "id": "94893377",
   "metadata": {},
   "outputs": [
    {
     "data": {
      "text/plain": [
       "[Document(metadata={'doc_id': '22a4ba55-1113-4c1d-9db3-f7eaabb7999a', 'rerank_score': 0.9999995231628418}, page_content='before taking phenylephrine,tell your doctor and pharmacist if you are allergic to phenylephrine, any other medications, or any of the ingredients in phenylephrine preparations.do not take phenylephrine if you are taking a monoamine oxidase (mao) inhibitor, such as isocarboxazid (marplan), phenelzine (nardil), selegiline (eldepryl, emsam, zelapar), and tranylcypromine (parnate), or if you have stopped taking one of these medications within the past 2 weeks.tell your doctor and pharmacist what other prescription and nonprescription medications, vitamins, nutritional supplements, and herbal products you are taking or plan to take.tell your doctor if you have or have ever had high blood pressure, diabetes, trouble urinating because of an enlarged prostate gland, or thyroid or heart disease.tell your doctor if you are pregnant, plan to become pregnant, or are breast-feeding. if you become pregnant while taking phenylephrine, call your doctor.if you are having surgery, including dental surgery, tell the doctor or dentist that you are taking phenylephrine.if you have phenylketonuria (pku, an inherited condition in which a special diet must be followed to prevent damage to your brain that can cause severe intellectual disability), you should know that some phenylephrine products may be sweetened with aspartame, a source of phenylalanine.about Phenylephrine'),\n",
       " Document(metadata={'doc_id': '0ff6d87b-c64f-4ac8-853b-d143cb09a386', 'rerank_score': 0.9999871253967285}, page_content='ask your pharmacist any questions you have about phenylephrine.keep a written list of all of the prescription and nonprescription (over-the-counter) medicines, vitamins, minerals, and dietary supplements you are taking. bring this list with you each time you visit a doctor or if you are admitted to the hospital. you should carry the list with you in case of emergencies.about Phenylephrine'),\n",
       " Document(metadata={'doc_id': 'e36207d5-1410-47ca-b68a-05ed7bb7921e', 'rerank_score': 0.7954954504966736}, page_content=\"phenylephrine may cause side effects. some side effects can be serious. if you experience any of these symptoms, stop using phenylephrine and call your doctor:nervousnessdizzinesssleeplessnessphenylephrine may cause other side effects. call your doctor if you have any unusual problems while taking Phenylephrine.if you experience a serious side effect, you or your doctor may send a report to the food and drug administration's (fda) medwatch adverse event reporting program online (https://www.fda.gov/safety/medwatch) or by phone ([phone]).\")]"
      ]
     },
     "execution_count": 85,
     "metadata": {},
     "output_type": "execute_result"
    }
   ],
   "source": [
    "retrieved_docs"
   ]
  },
  {
   "cell_type": "code",
   "execution_count": 84,
   "id": "5ecf4e5c",
   "metadata": {},
   "outputs": [],
   "source": [
    "retrieved_docs.sort(key= lambda d: d.metadata[\"rerank_score\"], reverse=True)"
   ]
  },
  {
   "cell_type": "code",
   "execution_count": 86,
   "id": "a54117a0",
   "metadata": {},
   "outputs": [
    {
     "data": {
      "text/plain": [
       "[Document(metadata={'doc_id': '22a4ba55-1113-4c1d-9db3-f7eaabb7999a', 'rerank_score': 0.9999995231628418}, page_content='before taking phenylephrine,tell your doctor and pharmacist if you are allergic to phenylephrine, any other medications, or any of the ingredients in phenylephrine preparations.do not take phenylephrine if you are taking a monoamine oxidase (mao) inhibitor, such as isocarboxazid (marplan), phenelzine (nardil), selegiline (eldepryl, emsam, zelapar), and tranylcypromine (parnate), or if you have stopped taking one of these medications within the past 2 weeks.tell your doctor and pharmacist what other prescription and nonprescription medications, vitamins, nutritional supplements, and herbal products you are taking or plan to take.tell your doctor if you have or have ever had high blood pressure, diabetes, trouble urinating because of an enlarged prostate gland, or thyroid or heart disease.tell your doctor if you are pregnant, plan to become pregnant, or are breast-feeding. if you become pregnant while taking phenylephrine, call your doctor.if you are having surgery, including dental surgery, tell the doctor or dentist that you are taking phenylephrine.if you have phenylketonuria (pku, an inherited condition in which a special diet must be followed to prevent damage to your brain that can cause severe intellectual disability), you should know that some phenylephrine products may be sweetened with aspartame, a source of phenylalanine.about Phenylephrine'),\n",
       " Document(metadata={'doc_id': '0ff6d87b-c64f-4ac8-853b-d143cb09a386', 'rerank_score': 0.9999871253967285}, page_content='ask your pharmacist any questions you have about phenylephrine.keep a written list of all of the prescription and nonprescription (over-the-counter) medicines, vitamins, minerals, and dietary supplements you are taking. bring this list with you each time you visit a doctor or if you are admitted to the hospital. you should carry the list with you in case of emergencies.about Phenylephrine'),\n",
       " Document(metadata={'doc_id': 'e36207d5-1410-47ca-b68a-05ed7bb7921e', 'rerank_score': 0.7954954504966736}, page_content=\"phenylephrine may cause side effects. some side effects can be serious. if you experience any of these symptoms, stop using phenylephrine and call your doctor:nervousnessdizzinesssleeplessnessphenylephrine may cause other side effects. call your doctor if you have any unusual problems while taking Phenylephrine.if you experience a serious side effect, you or your doctor may send a report to the food and drug administration's (fda) medwatch adverse event reporting program online (https://www.fda.gov/safety/medwatch) or by phone ([phone]).\")]"
      ]
     },
     "execution_count": 86,
     "metadata": {},
     "output_type": "execute_result"
    }
   ],
   "source": [
    "retrieved_docs"
   ]
  },
  {
   "cell_type": "markdown",
   "id": "960a3f36",
   "metadata": {},
   "source": [
    "#### The rerank model is just working so good. Keep it and move next.\n",
    "\n",
    "#### Beside rerank, I think query is the most important thing to retrieve most useful documents of which LLM makes use to generate most helpful response.\n",
    "#### But sometimes, users type a query which might be not even close to their intent.\n",
    "For example, the user really want to ask 'What is the recommended dosage and usage instructions for Phenylephrine to prevent a relapse of cold symptoms?'\n",
    "\n",
    "But he types 'How do I take Phenylephrine so I don’t get sick again?'. 'How' probably means 'the recommended dosage and usage instructions'.\n",
    "\n",
    "So the retriever probably fetch the documents which don't address user's real requirement.\n",
    "#### This is why I need to involve Query Decomposition technique which will transfer a query to a few querys.\n",
    "#### Now a Query Decomposer(Agent) is coming in.\n",
    "### Let's do it!"
   ]
  },
  {
   "cell_type": "code",
   "execution_count": null,
   "id": "57594f61",
   "metadata": {},
   "outputs": [],
   "source": []
  }
 ],
 "metadata": {
  "kernelspec": {
   "display_name": "SFT_QLoRA_Llama3_1B",
   "language": "python",
   "name": "python3"
  },
  "language_info": {
   "codemirror_mode": {
    "name": "ipython",
    "version": 3
   },
   "file_extension": ".py",
   "mimetype": "text/x-python",
   "name": "python",
   "nbconvert_exporter": "python",
   "pygments_lexer": "ipython3",
   "version": "3.11.13"
  }
 },
 "nbformat": 4,
 "nbformat_minor": 5
}
