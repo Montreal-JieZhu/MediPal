{
 "cells": [
  {
   "cell_type": "code",
   "execution_count": null,
   "id": "83ee3c63",
   "metadata": {},
   "outputs": [],
   "source": [
    "from mytools import login_huggingface, best_dtype, best_device\n",
    "from dotenv import load_dotenv\n",
    "from datetime import datetime\n",
    "from typing import List\n",
    "import streamlit as sl\n",
    "import uuid\n",
    "import json\n",
    "import os\n",
    "\n",
    "from transformers import AutoTokenizer, AutoModelForCausalLM, pipeline\n",
    "\n",
    "from langchain_core.tools import tool\n",
    "from langchain_openai import ChatOpenAI\n",
    "from langchain_core.output_parsers import JsonOutputParser\n",
    "from langchain_core.pydantic_v1 import BaseModel, Field\n",
    "from langchain_huggingface import HuggingFacePipeline, HuggingFaceEndpoint, ChatHuggingFace\n",
    "from langchain_core.messages import SystemMessage, AIMessage, HumanMessage, ToolMessage"
   ]
  },
  {
   "cell_type": "code",
   "execution_count": null,
   "id": "151760bb",
   "metadata": {},
   "outputs": [],
   "source": [
    "load_dotenv()"
   ]
  },
  {
   "cell_type": "code",
   "execution_count": null,
   "id": "23c2c058",
   "metadata": {},
   "outputs": [],
   "source": [
    "#model_id = \"meta-llama/Meta-Llama-3-8B-Instruct\"\n",
    "\n",
    "model_id= \"ContactDoctor/Bio-Medical-Llama-3-8B\""
   ]
  },
  {
   "cell_type": "code",
   "execution_count": null,
   "id": "38c50c25",
   "metadata": {},
   "outputs": [],
   "source": [
    "login_huggingface() "
   ]
  },
  {
   "cell_type": "code",
   "execution_count": null,
   "id": "4eb22dbb",
   "metadata": {},
   "outputs": [],
   "source": [
    "# tokenizer = AutoTokenizer.from_pretrained(model_id)\n",
    "\n",
    "# model = AutoModelForCausalLM.from_pretrained(\n",
    "#     model_id,\n",
    "#     dtype = best_dtype(),\n",
    "#     device_map={\"\":best_device()}, \n",
    "#     low_cpu_mem_usage=True     \n",
    "# )\n",
    "# print(\"Load tokenizer and base model done!\")\n",
    "\n",
    "# original_pipeline = pipeline(\n",
    "#     \"text-generation\", \n",
    "#     model=model, \n",
    "#     tokenizer=tokenizer,\n",
    "#     return_full_text=False,   \n",
    "# )"
   ]
  },
  {
   "cell_type": "code",
   "execution_count": null,
   "id": "ba4bc578",
   "metadata": {},
   "outputs": [],
   "source": [
    "hug_pipeline = HuggingFacePipeline(\n",
    "    model_id=model_id,    \n",
    "    pipeline_kwargs={\n",
    "        \"task\": \"text-generation\",\n",
    "        \"max_new_tokens\": 1024,\n",
    "        \"top_k\": 50,\n",
    "        \"temperature\": 0.2\n",
    "    }\n",
    ")\n",
    "\n",
    "# Wrapper normal piple with huggingfacepipeline\n",
    "#hug_pipeline = HuggingFacePipeline(pipeline=original_pipeline)\n",
    "\n",
    "master_agent = ChatHuggingFace(llm=hug_pipeline) # It is the brain of the whole system"
   ]
  },
  {
   "cell_type": "code",
   "execution_count": null,
   "id": "3a054343",
   "metadata": {},
   "outputs": [],
   "source": [
    "def create_asana_task(task_name: str, due_on: str = \"today\") -> str:\n",
    "    \"\"\"\n",
    "    Create an assana task by given the name of the task and when it is due\n",
    "    Example Call:\n",
    "\n",
    "    create_asana_task(\"test task\", \"2024-06-24\")\n",
    "    Args:\n",
    "        task_name (str): The name of the task in Asana\n",
    "        due_on (str): The date the task is due in the format: yyyy-MM-dd. If not given, the current day is used\n",
    "    Returns:\n",
    "        str: The API response of adding the task to Asana or an error message if the API call threw an error\n",
    "\n",
    "    \"\"\"\n",
    "    print(f\"Task: {task_name} has been created!\")\n",
    "    return str(uuid.uuid4())\n",
    "\n",
    "\n",
    "def add(a: int, b: int) -> int:\n",
    "    \"\"\"\n",
    "    Add two numbers\n",
    "    Example Call:\n",
    "    add(3, 5)\n",
    "    Args:\n",
    "        a (int): the first number\n",
    "        b (int): the second number\n",
    "    Returns:\n",
    "    int: The result of a add b\n",
    "\n",
    "    \"\"\"\n",
    "    return a + b"
   ]
  },
  {
   "cell_type": "code",
   "execution_count": null,
   "id": "5c592997",
   "metadata": {},
   "outputs": [],
   "source": [
    "available_tool = {\n",
    "    \"create_asana_task\": create_asana_task,\n",
    "    \"add two numbers\": add\n",
    "}"
   ]
  },
  {
   "cell_type": "code",
   "execution_count": null,
   "id": "58e1620e",
   "metadata": {},
   "outputs": [],
   "source": [
    "tool_descriptions = [f\"{name}:\\n {func.__doc__}\\n\\n\" for name, func in available_tool.items()]"
   ]
  },
  {
   "cell_type": "code",
   "execution_count": null,
   "id": "00150df9",
   "metadata": {},
   "outputs": [],
   "source": [
    "class ToolCall(BaseModel):\n",
    "    name: str = Field(description=\"Name of the function to run\")\n",
    "    args: str = Field(description=\"Arguments for the function call (empty if no arguments are needed for the tool call)\")\n",
    "\n",
    "class ToolCallOrResponse(BaseModel):\n",
    "    tool_calls: List[ToolCall] = Field(description=\"List of tool calls, empty array if you don't need to invoke a tool\")\n",
    "    content: str = Field(description=\"Response to the user if a tool doesn't need to be invoked\")"
   ]
  },
  {
   "cell_type": "code",
   "execution_count": null,
   "id": "75eeaa62",
   "metadata": {},
   "outputs": [],
   "source": [
    "tool_text = f\"\"\"\n",
    "You always response with a JSON object that has two required keys:\n",
    "    tool_calls: List[ToolCall] = Field(description=\"List of tool calls, empty array if you don't need to invoke a tool\")\n",
    "    content: str = Field(description=\"Response to the user if a tool doesn't need to be invoked\")\n",
    "\n",
    "Here is the type for ToolCall (object with two keys):\n",
    "    name: str = Field(description=\"Name of the function to run\")\n",
    "    args: str = Field(description=\"Arguments for the function call (empty if no arguments are needed for the tool call)\")\n",
    "\n",
    "Don't start your answer with \"Here is the JSON response\", just give the JSON object.\n",
    "\n",
    "The tools you have access to are:\n",
    "{\"\".join(tool_descriptions)}\n",
    "\n",
    "Any message that starts with \"Thought:\" is you thinking to yourself. This isn't told to the user so you still need to communicate what you did with those tools.\n",
    "Don't repeat an action. If a thought tells you that you already took an action for a user, don't do it again.\n",
    "\"\"\""
   ]
  },
  {
   "cell_type": "code",
   "execution_count": null,
   "id": "44ef7029",
   "metadata": {},
   "outputs": [],
   "source": [
    "def prompt_ai(message, nested_calls=0, invoked_tools=[]):\n",
    "    if nested_calls > 3:\n",
    "        raise Exception(\"Failsafe - AI is failing too much!\")\n",
    "    \n",
    "    parser = JsonOutputParser(pydantic_object=ToolCallOrResponse)\n",
    "\n",
    "    asana_chatbot_chain = master_agent | parser\n",
    "\n",
    "    try: \n",
    "        ai_response = asana_chatbot_chain.invoke(message)\n",
    "    except:\n",
    "        return prompt_ai(message, nested_calls + 1)\n",
    "    \n",
    "    if len(ai_response[\"tool_calls\"]) > 0:\n",
    "        for tool_call in ai_response[\"tool_calls\"]:\n",
    "            if str(tool_call) not in invoked_tools:\n",
    "                tool_name = tool_call[\"name\"].lower()\n",
    "                selected_tool = available_tool[tool_name]\n",
    "                tool_output = selected_tool(**tool_call[\"args\"])\n",
    "\n",
    "                message.append(AIMessage(content=f\"\"\"Thought: I called {tool_name} with args {tool_call[\"args\"]} and got back: {tool_output}.\"\"\"))\n",
    "                invoked_tools.append(str(tool_call))\n",
    "            else:\n",
    "                return ai_response\n",
    "            \n",
    "        return prompt_ai(message, nested_calls + 1, invoked_tools)\n",
    "    \n",
    "    return ai_response\n"
   ]
  },
  {
   "cell_type": "code",
   "execution_count": null,
   "id": "5d03a6c3",
   "metadata": {},
   "outputs": [],
   "source": [
    "sl.title(\"Asana Chatbot\")\n",
    "\n",
    "if \"messages\" not in sl.session_state:\n",
    "    sl.session_state.messages = [\n",
    "        SystemMessage(content=f\"Help me create a task in Asana.\\n {tool_text}\")\n",
    "    ]\n",
    "\n",
    "for message in sl.session_state.messages:\n",
    "    message_json = json.load(message.json())\n",
    "    message_type = message_json[\"type\"]\n",
    "    message_content = message_json[\"content\"]\n",
    "    if message_type in [\"human\",\"ai\",\"system\"] and not message_content.startswith(\"Thought:\"):\n",
    "        with sl.chat_message(message_type):\n",
    "            sl.markdown(message_content)\n",
    "\n",
    "if prompt := sl.chat_input(\"what would you like to do today?\"):\n",
    "    sl.chat_message(\"user\").markdown(prompt)\n",
    "\n",
    "    sl.session_state.messages.append(HumanMessage(content=prompt))\n",
    "\n",
    "    with sl.chat_message(\"assistant\"):\n",
    "        ai_response = prompt_ai(sl.session_state.messages)\n",
    "        sl.markdown(ai_response[\"content\"])\n",
    "\n",
    "    sl.session_state.messages.append(AIMessage(content=ai_response[\"content\"]))\n"
   ]
  }
 ],
 "metadata": {
  "kernelspec": {
   "display_name": "SFT_QLoRA_Llama3_1B",
   "language": "python",
   "name": "python3"
  },
  "language_info": {
   "name": "python",
   "version": "3.11.13"
  }
 },
 "nbformat": 4,
 "nbformat_minor": 5
}
