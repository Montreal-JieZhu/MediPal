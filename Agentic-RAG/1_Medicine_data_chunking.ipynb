{
 "cells": [
  {
   "cell_type": "markdown",
   "id": "99b5f297",
   "metadata": {},
   "source": [
    "### In this section, I will chunk the cleaned medicine data \n",
    "    1. So that embedding model(BERTModel) can process it properly.\n",
    "    2. So that we can retrieve relevant docs efficiently based on the query.\n",
    "\n",
    "### Analysis:\n",
    "1. As per the previous stage, we saw each medicine has multiple sub sections. Most of sub sections' contents have less than 500 words.\n",
    "2. The embedding model I choose is sentence-transformers/embeddinggemma-300m-medical. It can handle 1024 tokens at a time.\n",
    "![](../screenshots/length_distribution.png \"\")\n",
    "3. I will embedding hypothentical questions instead of the contents. \n",
    "\n",
    "#### Conclusion: I don't need to split the content that small. I will keep the original content as many as possible. So I will just split the content which's length is larger than 500. \n"
   ]
  },
  {
   "cell_type": "code",
   "execution_count": 1,
   "id": "eb55bd14",
   "metadata": {},
   "outputs": [],
   "source": [
    "import json\n",
    "import uuid\n",
    "import os\n",
    "from pathlib import Path\n",
    "from langchain_text_splitters import RecursiveCharacterTextSplitter"
   ]
  },
  {
   "cell_type": "code",
   "execution_count": 2,
   "id": "0d7747e0",
   "metadata": {},
   "outputs": [],
   "source": [
    "# This function will load the json file to json object\n",
    "def load_json_list(path: str):    \n",
    "    with open(path, mode = \"r\", encoding=\"utf-8\") as f:\n",
    "        return json.load(f)"
   ]
  },
  {
   "cell_type": "code",
   "execution_count": 3,
   "id": "a63be479",
   "metadata": {},
   "outputs": [
    {
     "name": "stdout",
     "output_type": "stream",
     "text": [
      "c:\\Users\\Montr\\AI_Projects\\MediPal\\data-pipeline\\datasets\\cleaned_medicine_data.json\n"
     ]
    }
   ],
   "source": [
    "workspace_base_path = os.getcwd()\n",
    "parent_path = os.path.dirname(workspace_base_path)\n",
    "dataset_path = os.path.join(parent_path, \"data-pipeline\" ,\"datasets\", \"cleaned_medicine_data.json\") \n",
    "print(dataset_path)"
   ]
  },
  {
   "cell_type": "code",
   "execution_count": 5,
   "id": "955d9e94",
   "metadata": {},
   "outputs": [],
   "source": [
    "data = load_json_list(dataset_path)"
   ]
  },
  {
   "cell_type": "code",
   "execution_count": 6,
   "id": "156286d8",
   "metadata": {},
   "outputs": [
    {
     "data": {
      "text/plain": [
       "[{'id': 1,\n",
       "  'drug_name': 'Phenylephrine',\n",
       "  'pronunciation': \"pronounced as (fen il ef' rin)\",\n",
       "  'url': 'https://medlineplus.gov/druginfo/meds/a606008.html',\n",
       "  'subtitles': [{'title': 'why is Phenylephrine prescribed?',\n",
       "    'content': 'phenylephrine is used to relieve nasal discomfort caused by colds, allergies, and hay fever. it is also used to relieve sinus congestion and pressure. phenylephrine will relieve symptoms but will not treat the cause of the symptoms or speed recovery. phenylephrine is in a class of medications called nasal decongestants. it works by reducing swelling of the blood vessels in the nasal passages.about Phenylephrine'},\n",
       "   {'title': 'how should Phenylephrine be used?',\n",
       "    'content': \"phenylephrine comes as a tablet, a liquid, or a dissolving strip to take by mouth. it is usually taken every 4 hours as needed. follow the directions on your prescription label or the package label carefully, and ask your doctor or pharmacist to explain any part you do not understand. take phenylephrine exactly as directed. do not take more or less of it or take it more often than prescribed by your doctor or directed on the label.phenylephrine comes alone and in combination with other medications. ask your doctor or pharmacist for advice on which product is best for your symptoms. check nonprescription cough and cold product labels carefully before using two or more products at the same time. these products may contain the same active ingredient(s) and taking them together could cause you to receive an overdose. this is especially important if you will be giving cough and cold medications to a child.nonprescription cough and cold combination products, including products that contain phenylephrine, can cause serious side effects or death in young children. do not give these products to children younger than 4 years of age. if you give these products to children 4 to 11 years of age, use caution and follow the package directions carefully.if you are giving phenylephrine or a combination product that contains phenylephrine to a child, read the package label carefully to be sure that it is the right product for a child of that age. do not give phenylephrine products that are made for adults to children.before you give a phenylephrine product to a child, check the package label to find out how much medication the child should receive. give the dose that matches the child's age on the chart. ask the child's doctor if you don't know how much medication to give the child.if you are taking the liquid, do not use a household spoon to measure your dose. use the measuring spoon or cup that came with the medication or use a spoon made especially for measuring medication.if your symptoms do not get better within 7 days or if you have a fever, stop taking phenylephrine and call your doctor.if you are taking the dissolving strips, place one strip on your tongue and allow it to dissolve.about Phenylephrine\"},\n",
       "   {'title': 'other uses for Phenylephrine',\n",
       "    'content': 'Phenylephrine may be prescribed for other uses; ask your doctor or pharmacist for more information.'},\n",
       "   {'title': 'what special precautions should i follow about Phenylephrine',\n",
       "    'content': 'before taking phenylephrine,tell your doctor and pharmacist if you are allergic to phenylephrine, any other medications, or any of the ingredients in phenylephrine preparations.do not take phenylephrine if you are taking a monoamine oxidase (mao) inhibitor, such as isocarboxazid (marplan), phenelzine (nardil), selegiline (eldepryl, emsam, zelapar), and tranylcypromine (parnate), or if you have stopped taking one of these medications within the past 2 weeks.tell your doctor and pharmacist what other prescription and nonprescription medications, vitamins, nutritional supplements, and herbal products you are taking or plan to take.tell your doctor if you have or have ever had high blood pressure, diabetes, trouble urinating because of an enlarged prostate gland, or thyroid or heart disease.tell your doctor if you are pregnant, plan to become pregnant, or are breast-feeding. if you become pregnant while taking phenylephrine, call your doctor.if you are having surgery, including dental surgery, tell the doctor or dentist that you are taking phenylephrine.if you have phenylketonuria (pku, an inherited condition in which a special diet must be followed to prevent damage to your brain that can cause severe intellectual disability), you should know that some phenylephrine products may be sweetened with aspartame, a source of phenylalanine.about Phenylephrine'},\n",
       "   {'title': 'what special dietary instructions should i follow about Phenylephrine',\n",
       "    'content': 'unless your doctor tells you otherwise, continue your normal diet.about Phenylephrine'},\n",
       "   {'title': 'what should i do if i forget a dose about Phenylephrine',\n",
       "    'content': 'Phenylephrine is usually taken as needed. if your doctor has told you to take phenylephrine regularly, take the missed dose as soon as you remember it. however, if it is almost time for the next dose, skip the missed dose and continue your regular dosing schedule. do not take a double dose to make up for a missed one.'},\n",
       "   {'title': 'what side effects can Phenylephrine cause?',\n",
       "    'content': \"phenylephrine may cause side effects. some side effects can be serious. if you experience any of these symptoms, stop using phenylephrine and call your doctor:nervousnessdizzinesssleeplessnessphenylephrine may cause other side effects. call your doctor if you have any unusual problems while taking Phenylephrine.if you experience a serious side effect, you or your doctor may send a report to the food and drug administration's (fda) medwatch adverse event reporting program online (https://www.fda.gov/safety/medwatch) or by phone ([phone]).\"},\n",
       "   {'title': 'what should i know about storage and disposal of Phenylephrine?',\n",
       "    'content': \"keep Phenylephrine in the container it came in, tightly closed, and out of reach of children. store it at room temperature and away from excess heat and moisture (not in the bathroom).keep all medication out of sight and reach of children as many containers are not child-resistant. always lock safety caps. place the medication in a safe location â\\x80\\x93 one that is up and away and out of their sight and reach.https://www.upandaway.orgdispose of unneeded medications in a way so that pets, children, and other people cannot take them. do not flush Phenylephrine down the toilet. use a medicine take-back program. talk to your pharmacist about take-back programs in your community. visit the fda's safe disposal of medicines websitehttps://goo.gl/c4rm4pfor more information.\"},\n",
       "   {'title': 'in case of emergency/overdoseabout Phenylephrine',\n",
       "    'content': \"in case of overdose, call the poison control helpline at [phone]. information is also available online athttps://www.poisonhelp.org/help. if the victim has collapsed, had a seizure, has trouble breathing, or can't be awakened, immediately call emergency services at 911.about Phenylephrine\"},\n",
       "   {'title': 'what other information should i know about Phenylephrine',\n",
       "    'content': 'ask your pharmacist any questions you have about phenylephrine.keep a written list of all of the prescription and nonprescription (over-the-counter) medicines, vitamins, minerals, and dietary supplements you are taking. bring this list with you each time you visit a doctor or if you are admitted to the hospital. you should carry the list with you in case of emergencies.about Phenylephrine'}]}]"
      ]
     },
     "execution_count": 6,
     "metadata": {},
     "output_type": "execute_result"
    }
   ],
   "source": [
    "data[:1]"
   ]
  },
  {
   "cell_type": "code",
   "execution_count": null,
   "id": "b84804dd",
   "metadata": {},
   "outputs": [],
   "source": [
    "\"\"\" \n",
    "split text by a fixed size with overlap.\n",
    "It is very important to know what the max length of the input chunk. The choosen embedding model document will tell you so.\n",
    "In this case, we choose sentence-transformers/embeddinggemma-300m-medical. It can handle 1024 tokens at a time. \n",
    "\"\"\"\n",
    "text_splitter = RecursiveCharacterTextSplitter(chunk_size=500, chunk_overlap=30)"
   ]
  },
  {
   "cell_type": "code",
   "execution_count": 8,
   "id": "c9c06e17",
   "metadata": {},
   "outputs": [],
   "source": [
    "approch_orig_data = []\n",
    "for d in data:    \n",
    "    for t in d[\"subtitles\"]:   \n",
    "        id_key = str(uuid.uuid4()) \n",
    "        docs_list = [] \n",
    "        chunked_docs = text_splitter.create_documents([t[\"content\"]])\n",
    "        for cd in chunked_docs:\n",
    "            docs_list.append(cd.page_content)        \n",
    "        approch_orig_data.append({\"doc_id\" : id_key, \"questions\" : [t[\"title\"]], \"docs\" : docs_list,\"original_doc\":t[\"content\"]})"
   ]
  },
  {
   "cell_type": "code",
   "execution_count": 9,
   "id": "82a8bd23",
   "metadata": {},
   "outputs": [
    {
     "data": {
      "text/plain": [
       "[{'doc_id': 'b2bf17e4-42dc-4647-bde3-f6314b67c650',\n",
       "  'questions': ['why is Phenylephrine prescribed?'],\n",
       "  'docs': ['phenylephrine is used to relieve nasal discomfort caused by colds, allergies, and hay fever. it is also used to relieve sinus congestion and pressure. phenylephrine will relieve symptoms but will not treat the cause of the symptoms or speed recovery. phenylephrine is in a class of medications called nasal decongestants. it works by reducing swelling of the blood vessels in the nasal passages.about Phenylephrine'],\n",
       "  'original_doc': 'phenylephrine is used to relieve nasal discomfort caused by colds, allergies, and hay fever. it is also used to relieve sinus congestion and pressure. phenylephrine will relieve symptoms but will not treat the cause of the symptoms or speed recovery. phenylephrine is in a class of medications called nasal decongestants. it works by reducing swelling of the blood vessels in the nasal passages.about Phenylephrine'},\n",
       " {'doc_id': '1ee18da3-2fa4-4794-b1d5-dc2b8ae42ddb',\n",
       "  'questions': ['how should Phenylephrine be used?'],\n",
       "  'docs': ['phenylephrine comes as a tablet, a liquid, or a dissolving strip to take by mouth. it is usually taken every 4 hours as needed. follow the directions on your prescription label or the package label carefully, and ask your doctor or pharmacist to explain any part you do not understand. take phenylephrine exactly as directed. do not take more or less of it or take it more often than prescribed by your doctor or directed on the label.phenylephrine comes alone and in combination with other',\n",
       "   'and in combination with other medications. ask your doctor or pharmacist for advice on which product is best for your symptoms. check nonprescription cough and cold product labels carefully before using two or more products at the same time. these products may contain the same active ingredient(s) and taking them together could cause you to receive an overdose. this is especially important if you will be giving cough and cold medications to a child.nonprescription cough and cold combination',\n",
       "   'cough and cold combination products, including products that contain phenylephrine, can cause serious side effects or death in young children. do not give these products to children younger than 4 years of age. if you give these products to children 4 to 11 years of age, use caution and follow the package directions carefully.if you are giving phenylephrine or a combination product that contains phenylephrine to a child, read the package label carefully to be sure that it is the right product',\n",
       "   \"that it is the right product for a child of that age. do not give phenylephrine products that are made for adults to children.before you give a phenylephrine product to a child, check the package label to find out how much medication the child should receive. give the dose that matches the child's age on the chart. ask the child's doctor if you don't know how much medication to give the child.if you are taking the liquid, do not use a household spoon to measure your dose. use the measuring\",\n",
       "   'your dose. use the measuring spoon or cup that came with the medication or use a spoon made especially for measuring medication.if your symptoms do not get better within 7 days or if you have a fever, stop taking phenylephrine and call your doctor.if you are taking the dissolving strips, place one strip on your tongue and allow it to dissolve.about Phenylephrine'],\n",
       "  'original_doc': \"phenylephrine comes as a tablet, a liquid, or a dissolving strip to take by mouth. it is usually taken every 4 hours as needed. follow the directions on your prescription label or the package label carefully, and ask your doctor or pharmacist to explain any part you do not understand. take phenylephrine exactly as directed. do not take more or less of it or take it more often than prescribed by your doctor or directed on the label.phenylephrine comes alone and in combination with other medications. ask your doctor or pharmacist for advice on which product is best for your symptoms. check nonprescription cough and cold product labels carefully before using two or more products at the same time. these products may contain the same active ingredient(s) and taking them together could cause you to receive an overdose. this is especially important if you will be giving cough and cold medications to a child.nonprescription cough and cold combination products, including products that contain phenylephrine, can cause serious side effects or death in young children. do not give these products to children younger than 4 years of age. if you give these products to children 4 to 11 years of age, use caution and follow the package directions carefully.if you are giving phenylephrine or a combination product that contains phenylephrine to a child, read the package label carefully to be sure that it is the right product for a child of that age. do not give phenylephrine products that are made for adults to children.before you give a phenylephrine product to a child, check the package label to find out how much medication the child should receive. give the dose that matches the child's age on the chart. ask the child's doctor if you don't know how much medication to give the child.if you are taking the liquid, do not use a household spoon to measure your dose. use the measuring spoon or cup that came with the medication or use a spoon made especially for measuring medication.if your symptoms do not get better within 7 days or if you have a fever, stop taking phenylephrine and call your doctor.if you are taking the dissolving strips, place one strip on your tongue and allow it to dissolve.about Phenylephrine\"},\n",
       " {'doc_id': 'af2a67a3-a9f9-49ae-b476-17a0e6d43434',\n",
       "  'questions': ['other uses for Phenylephrine'],\n",
       "  'docs': ['Phenylephrine may be prescribed for other uses; ask your doctor or pharmacist for more information.'],\n",
       "  'original_doc': 'Phenylephrine may be prescribed for other uses; ask your doctor or pharmacist for more information.'}]"
      ]
     },
     "execution_count": 9,
     "metadata": {},
     "output_type": "execute_result"
    }
   ],
   "source": [
    "approch_orig_data[:3]"
   ]
  },
  {
   "cell_type": "code",
   "execution_count": null,
   "id": "14ec1944",
   "metadata": {},
   "outputs": [],
   "source": [
    "save_to = os.path.join(workspace_base_path, \"datasets\", \"chunked_medicine_data.json\")\n",
    "out_path = Path(save_to)\n",
    "out_path.parent.mkdir(parents=True, exist_ok=True)  # make folder if needed\n",
    "\n",
    "with out_path.open(\"w\", encoding=\"utf-8\") as f:\n",
    "    json.dump(approch_orig_data, f, ensure_ascii=False, indent=2)\n"
   ]
  },
  {
   "cell_type": "code",
   "execution_count": null,
   "id": "009906f2",
   "metadata": {},
   "outputs": [],
   "source": []
  }
 ],
 "metadata": {
  "kernelspec": {
   "display_name": "SFT_QLoRA_Llama3_1B",
   "language": "python",
   "name": "python3"
  },
  "language_info": {
   "codemirror_mode": {
    "name": "ipython",
    "version": 3
   },
   "file_extension": ".py",
   "mimetype": "text/x-python",
   "name": "python",
   "nbconvert_exporter": "python",
   "pygments_lexer": "ipython3",
   "version": "3.11.13"
  }
 },
 "nbformat": 4,
 "nbformat_minor": 5
}
