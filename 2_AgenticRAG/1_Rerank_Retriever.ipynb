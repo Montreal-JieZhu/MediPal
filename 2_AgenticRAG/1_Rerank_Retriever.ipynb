{
 "cells": [
  {
   "cell_type": "markdown",
   "id": "31218495",
   "metadata": {},
   "source": [
    "## MediPal -- Multi-Vector Retriever with rerank"
   ]
  },
  {
   "cell_type": "markdown",
   "id": "882e4567",
   "metadata": {},
   "source": [
    "### In this section, I will build a multi-vector retriever with Re-rank mechanism\n",
    "![](../screenshots/rerank_retriever.PNG \"\")\n",
    "\n",
    "Before, I already used a medical-domain LLM to generate questions from different aspects based on the given content.\n",
    "\n",
    "As per previous plan, I am going to implement Multi-Vector as the foundation of the RAG.\n",
    "\n",
    "That means I am going to:\n",
    "* Embed those questions to vectorestore and put documents to docstore.\n",
    "* Utilize doc_id which were generated at chunking stage to be a link between vectorstore and docstore.\n",
    "* Use an cross-encoder to rerank the retrieved docs."
   ]
  },
  {
   "cell_type": "code",
   "execution_count": null,
   "id": "185c2930",
   "metadata": {},
   "outputs": [
    {
     "name": "stderr",
     "output_type": "stream",
     "text": [
      "W0925 21:44:02.014000 41564 Lib\\site-packages\\torch\\distributed\\elastic\\multiprocessing\\redirects.py:29] NOTE: Redirects are currently not supported in Windows or MacOs.\n"
     ]
    }
   ],
   "source": [
    "# Multi-Vector implementation\n",
    "from mytools import timed, login_huggingface\n",
    "import os, json, copy\n",
    "from langchain.retrievers.multi_vector import MultiVectorRetriever\n",
    "from langchain.storage import InMemoryStore\n",
    "from langchain_chroma import Chroma\n",
    "from langchain_core.documents import Document\n",
    "from langchain_huggingface import HuggingFaceEmbeddings\n",
    "from sentence_transformers import CrossEncoder"
   ]
  },
  {
   "cell_type": "markdown",
   "id": "a0dccc9b",
   "metadata": {},
   "source": [
    "##### I choose sentence-transformers/embeddinggemma-300m-medical, as it is a sentence-transformers model finetuned from google/embeddinggemma-300m on the miriad/miriad-4.4M dataset. It maps sentences & documents to a 768-dimensional dense vector space and can be used for medical information retrieval, specifically designed for searching for passages (up to 1k tokens) of scientific medical papers using detailed medical questions.\n",
    "\n",
    "##### Citation:\n",
    "\n",
    "@inproceedings{reimers-2019-sentence-bert,\n",
    "    title = \"Sentence-BERT: Sentence Embeddings using Siamese BERT-Networks\",\n",
    "    author = \"Reimers, Nils and Gurevych, Iryna\",\n",
    "    booktitle = \"Proceedings of the 2019 Conference on Empirical Methods in Natural Language Processing\",\n",
    "    month = \"11\",\n",
    "    year = \"2019\",\n",
    "    publisher = \"Association for Computational Linguistics\",\n",
    "    url = \"https://arxiv.org/abs/1908.10084\",\n",
    "}\n",
    "\n",
    "@misc{gao2021scaling,\n",
    "    title={Scaling Deep Contrastive Learning Batch Size under Memory Limited Setup},\n",
    "    author={Luyu Gao and Yunyi Zhang and Jiawei Han and Jamie Callan},\n",
    "    year={2021},\n",
    "    eprint={2101.06983},\n",
    "    archivePrefix={arXiv},\n",
    "    primaryClass={cs.LG}\n",
    "}"
   ]
  },
  {
   "cell_type": "markdown",
   "id": "a3eedb7e",
   "metadata": {},
   "source": [
    "### I involve a cross-encoder(ncbi/MedCPT-Cross-Encoder) to rerank the retrieved documents and output top_k(n) ones.\n",
    "##### This crossEncoder(Bert) model was fine-tuned on 30522 medical related tokens.\n",
    "\n",
    "##### Citation:\n",
    "\n",
    "@article{jin2023medcpt,\n",
    "  title={MedCPT: Contrastive Pre-trained Transformers with large-scale PubMed search logs for zero-shot biomedical information retrieval},\n",
    "  author={Jin, Qiao and Kim, Won and Chen, Qingyu and Comeau, Donald C and Yeganova, Lana and Wilbur, W John and Lu, Zhiyong},\n",
    "  journal={Bioinformatics},\n",
    "  volume={39},\n",
    "  number={11},\n",
    "  pages={btad651},\n",
    "  year={2023},\n",
    "  publisher={Oxford University Press}\n",
    "}\n"
   ]
  },
  {
   "cell_type": "code",
   "execution_count": null,
   "id": "72f6ce2a",
   "metadata": {},
   "outputs": [],
   "source": [
    "class Rerank_Retriever():\n",
    "    \"\"\"\n",
    "        Rerank_Retriever class definition:\n",
    "            Attributes:\n",
    "                workspace_base_path: The current workspace.\n",
    "                dataset_path: The path to the medicine dataset.                \n",
    "                embedding_model_id: The name of the embedding model.\n",
    "                cross_encoder_model_id: The name of crossEncoder model which is used to do reranking.\n",
    "                embedding_model: A embedding model.\n",
    "                retriever: It is a very important retriever who will similarity search the documents based on query.\n",
    "\n",
    "            Functions:\n",
    "                load_json_list: Load json file to json objects.\n",
    "                login_huggingface: Login huggingface to gain the access to the LLMs\n",
    "                build_medicine_retriever: Build a multi-vector db which contains vectorstore and docstore. Embedding generated questions to vectorstore and Storing original documents to docstore.\n",
    "                load_embedding_model: Load embedding model.\n",
    "                load_crossencoder: Load cross encoder model.\n",
    "                retrieve: Wrap retriever and reranker up to fetch top_k relevant documents.\n",
    "    \"\"\"\n",
    "    def __init__(self) -> None:\n",
    "\n",
    "        self.workspace_base_path = os.getcwd()\n",
    "        self.dataset_path = os.path.join(self.workspace_base_path, \"datasets\", \"medicine_data_questions.json\")  \n",
    "        self.chunked_dataset_path = os.path.join(self.workspace_base_path, \"datasets\", \"chunked_medicine_data.json\")  \n",
    "        self.vector_persist_directory = os.path.join(self.workspace_base_path, \"datasets\", \"vectordb\")\n",
    "        self.embedding_model_id = \"sentence-transformers/embeddinggemma-300m-medical\"\n",
    "        self.cross_encoder_model_id = \"ncbi/MedCPT-Cross-Encoder\" \n",
    "        self.vectorstore = None\n",
    "        self.embedding_model = None\n",
    "        self.retriever = None\n",
    "        self.cross_encoder = None\n",
    "\n",
    "    @timed\n",
    "    def load_embedding_model(self):        \n",
    "        self.embedding_model = HuggingFaceEmbeddings(\n",
    "            model_name=self.embedding_model_id,\n",
    "            model_kwargs = {'device': 'cpu'},            \n",
    "            # Normalizing helps cosine similarity behave better across models\n",
    "            encode_kwargs={\"normalize_embeddings\": True},\n",
    "        )      \n",
    "    \n",
    "    @timed\n",
    "    def load_crossencoder(self):\n",
    "        self.cross_encoder = CrossEncoder(self.cross_encoder_model_id)\n",
    "\n",
    "    def load_questions_data(self):    \n",
    "        with open(self.dataset_path, mode = \"r\", encoding=\"utf-8\") as f:\n",
    "            return json.load(f)\n",
    "        \n",
    "    def load_chunked_data(self):    \n",
    "        with open(self.chunked_dataset_path, mode = \"r\", encoding=\"utf-8\") as f:\n",
    "            return json.load(f)      \n",
    "        \n",
    "    def build_medicine_retriever(self):        \n",
    "        questions_data = self.load_questions_data()  \n",
    "        chunked_data = self.load_chunked_data()          \n",
    "        docstore = InMemoryStore()\n",
    "        id_key = \"doc_id\"\n",
    "\n",
    "        # The vectorstore to use to index the questions\n",
    "        self.vectorstore = Chroma(\n",
    "            collection_name = \"medicine_data\", \n",
    "            embedding_function = self.embedding_model,\n",
    "            persist_directory=self.vector_persist_directory\n",
    "        )\n",
    "        # The Multi-Vector retriever\n",
    "        self.retriever = MultiVectorRetriever(\n",
    "            vectorstore=self.vectorstore,\n",
    "            docstore=docstore,\n",
    "            id_key=id_key,\n",
    "        )\n",
    "\n",
    "        doc_ids = list()\n",
    "        questions = list()\n",
    "        docs = list()\n",
    "        for d in questions_data:\n",
    "            doc_id = d[\"doc_id\"]\n",
    "            doc_ids.append(doc_id)\n",
    "            docs.append(Document(metadata={\"doc_id\": doc_id}, page_content=d[\"original_doc\"]))\n",
    "            for q in d[\"questions\"]:\n",
    "                questions.append(Document(metadata={\"doc_id\": doc_id}, page_content=q))\n",
    "\n",
    "        for d in chunked_data: \n",
    "            doc_id = d[\"doc_id\"]        \n",
    "            for q in d[\"docs\"]:\n",
    "                questions.append(Document(metadata={\"doc_id\": doc_id}, page_content=q))\n",
    "\n",
    "        self.retriever.vectorstore.add_documents(questions)\n",
    "        self.retriever.docstore.mset(list(zip(doc_ids,docs)))  \n",
    "        \n",
    "    def load_existing_retriever(self):\n",
    "        questions_data = self.load_questions_data()\n",
    "        docstore = InMemoryStore()\n",
    "        id_key = \"doc_id\"\n",
    "        # The vectorstore to use to index the questions\n",
    "        self.vectorstore = Chroma(\n",
    "            collection_name = \"medicine_data\", \n",
    "            embedding_function = self.embedding_model,\n",
    "            persist_directory=self.vector_persist_directory\n",
    "        )\n",
    "        # The Multi-Vector retriever\n",
    "        self.retriever = MultiVectorRetriever(\n",
    "            vectorstore=self.vectorstore,\n",
    "            docstore=docstore,\n",
    "            id_key=id_key,\n",
    "        )\n",
    "\n",
    "        doc_ids = list()        \n",
    "        docs = list()\n",
    "        for d in questions_data:\n",
    "            doc_id = d[\"doc_id\"]\n",
    "            doc_ids.append(doc_id)\n",
    "            docs.append(Document(metadata={\"doc_id\": doc_id}, page_content=d[\"original_doc\"]))\n",
    "            \n",
    "        self.retriever.docstore.mset(list(zip(doc_ids,docs)))\n",
    "\n",
    "    @timed       \n",
    "    def setup_retriever(self):\n",
    "        login_huggingface()      \n",
    "        self.load_embedding_model()\n",
    "        self.load_crossencoder()\n",
    "\n",
    "        if os.path.isdir(self.vector_persist_directory) and os.listdir(self.vector_persist_directory):\n",
    "            self.load_existing_retriever()\n",
    "        else:\n",
    "            self.build_medicine_retriever()\n",
    "\n",
    "    @timed\n",
    "    def retrieve(self, query: str, top_k: int=5):\n",
    "        retrieved_docs = self.retriever.invoke(query, kwargs={\"k\":10})\n",
    "        retrieved_docs = copy.deepcopy(retrieved_docs) # Avoid rerank changes original documents\n",
    "        #Rerank part\n",
    "        pairs = [[query, d.page_content] for d in retrieved_docs]\n",
    "        scores = self.cross_encoder.predict(pairs, batch_size=32)\n",
    "        for r_d, score in zip(retrieved_docs, scores):\n",
    "            r_d.metadata[\"rerank_score\"] = float(score)\n",
    "        retrieved_docs.sort(key= lambda d: d.metadata[\"rerank_score\"], reverse=True)\n",
    "        #Rerank part\n",
    "        return retrieved_docs[ :top_k]"
   ]
  },
  {
   "cell_type": "code",
   "execution_count": null,
   "id": "e5a7e0d1",
   "metadata": {},
   "outputs": [],
   "source": [
    "rag = Rerank_Retriever()"
   ]
  },
  {
   "cell_type": "code",
   "execution_count": 4,
   "id": "425a0e04",
   "metadata": {},
   "outputs": [
    {
     "name": "stdout",
     "output_type": "stream",
     "text": [
      "setup_retriever starts runing!\n",
      "Login HuggingFace!\n",
      "load_embedding_model starts runing!\n"
     ]
    },
    {
     "name": "stderr",
     "output_type": "stream",
     "text": [
      "You are trying to use a model that was created with Sentence Transformers version 5.2.0.dev0, but you're currently using version 5.1.0. This might cause unexpected behavior or errors. In that case, try to update to the latest version.\n"
     ]
    },
    {
     "name": "stdout",
     "output_type": "stream",
     "text": [
      "load_embedding_model took 4.7082s\n",
      "load_crossencoder starts runing!\n",
      "load_crossencoder took 1.4767s\n",
      "setup_retriever took 8.3227s\n"
     ]
    }
   ],
   "source": [
    "rag.setup_retriever()"
   ]
  },
  {
   "cell_type": "code",
   "execution_count": 5,
   "id": "f369f64e",
   "metadata": {},
   "outputs": [
    {
     "name": "stdout",
     "output_type": "stream",
     "text": [
      "retrieve starts runing!\n",
      "retrieve took 7.5131s\n"
     ]
    },
    {
     "data": {
      "text/plain": [
       "[Document(metadata={'doc_id': 'f7ad6ffd-7176-4c1d-a7ee-bec020443c2c', 'rerank_score': 0.9999997615814209}, page_content=\"phenylephrine comes as a tablet, a liquid, or a dissolving strip to take by mouth. it is usually taken every 4 hours as needed. follow the directions on your prescription label or the package label carefully, and ask your doctor or pharmacist to explain any part you do not understand. take phenylephrine exactly as directed. do not take more or less of it or take it more often than prescribed by your doctor or directed on the label.phenylephrine comes alone and in combination with other medications. ask your doctor or pharmacist for advice on which product is best for your symptoms. check nonprescription cough and cold product labels carefully before using two or more products at the same time. these products may contain the same active ingredient(s) and taking them together could cause you to receive an overdose. this is especially important if you will be giving cough and cold medications to a child.nonprescription cough and cold combination products, including products that contain phenylephrine, can cause serious side effects or death in young children. do not give these products to children younger than 4 years of age. if you give these products to children 4 to 11 years of age, use caution and follow the package directions carefully.if you are giving phenylephrine or a combination product that contains phenylephrine to a child, read the package label carefully to be sure that it is the right product for a child of that age. do not give phenylephrine products that are made for adults to children.before you give a phenylephrine product to a child, check the package label to find out how much medication the child should receive. give the dose that matches the child's age on the chart. ask the child's doctor if you don't know how much medication to give the child.if you are taking the liquid, do not use a household spoon to measure your dose. use the measuring spoon or cup that came with the medication or use a spoon made especially for measuring medication.if your symptoms do not get better within 7 days or if you have a fever, stop taking phenylephrine and call your doctor.if you are taking the dissolving strips, place one strip on your tongue and allow it to dissolve.about Phenylephrine\"),\n",
       " Document(metadata={'doc_id': '4e28ed7a-13e6-4334-99a6-4d8583d52122', 'rerank_score': 0.9999984502792358}, page_content='Phenylephrine may be prescribed for other uses; ask your doctor or pharmacist for more information.'),\n",
       " Document(metadata={'doc_id': '1bf5880b-93ec-4ac9-a0cb-eb35693ccce4', 'rerank_score': 0.9999791383743286}, page_content='phenylephrine is used to relieve nasal discomfort caused by colds, allergies, and hay fever. it is also used to relieve sinus congestion and pressure. phenylephrine will relieve symptoms but will not treat the cause of the symptoms or speed recovery. phenylephrine is in a class of medications called nasal decongestants. it works by reducing swelling of the blood vessels in the nasal passages.about Phenylephrine')]"
      ]
     },
     "execution_count": 5,
     "metadata": {},
     "output_type": "execute_result"
    }
   ],
   "source": [
    "rag.retrieve(\"what is Phenylephrine?\",top_k=4)"
   ]
  },
  {
   "cell_type": "code",
   "execution_count": 19,
   "id": "18c8d18f",
   "metadata": {},
   "outputs": [
    {
     "name": "stdout",
     "output_type": "stream",
     "text": [
      "retrieve starts runing!\n",
      "retrieve took 5.5456s\n"
     ]
    },
    {
     "data": {
      "text/plain": [
       "[Document(metadata={'doc_id': '955b6fca-bc0e-433a-8187-34d439546cdb', 'rerank_score': 0.5537765026092529}, page_content=\"keep Phenylephrine in the container it came in, tightly closed, and out of reach of children. store it at room temperature and away from excess heat and moisture (not in the bathroom).keep all medication out of sight and reach of children as many containers are not child-resistant. always lock safety caps. place the medication in a safe location â\\x80\\x93 one that is up and away and out of their sight and reach.https://www.upandaway.orgdispose of unneeded medications in a way so that pets, children, and other people cannot take them. do not flush Phenylephrine down the toilet. use a medicine take-back program. talk to your pharmacist about take-back programs in your community. visit the fda's safe disposal of medicines websitehttps://goo.gl/c4rm4pfor more information.\"),\n",
       " Document(metadata={'doc_id': 'f7ad6ffd-7176-4c1d-a7ee-bec020443c2c', 'rerank_score': 0.11604844033718109}, page_content=\"phenylephrine comes as a tablet, a liquid, or a dissolving strip to take by mouth. it is usually taken every 4 hours as needed. follow the directions on your prescription label or the package label carefully, and ask your doctor or pharmacist to explain any part you do not understand. take phenylephrine exactly as directed. do not take more or less of it or take it more often than prescribed by your doctor or directed on the label.phenylephrine comes alone and in combination with other medications. ask your doctor or pharmacist for advice on which product is best for your symptoms. check nonprescription cough and cold product labels carefully before using two or more products at the same time. these products may contain the same active ingredient(s) and taking them together could cause you to receive an overdose. this is especially important if you will be giving cough and cold medications to a child.nonprescription cough and cold combination products, including products that contain phenylephrine, can cause serious side effects or death in young children. do not give these products to children younger than 4 years of age. if you give these products to children 4 to 11 years of age, use caution and follow the package directions carefully.if you are giving phenylephrine or a combination product that contains phenylephrine to a child, read the package label carefully to be sure that it is the right product for a child of that age. do not give phenylephrine products that are made for adults to children.before you give a phenylephrine product to a child, check the package label to find out how much medication the child should receive. give the dose that matches the child's age on the chart. ask the child's doctor if you don't know how much medication to give the child.if you are taking the liquid, do not use a household spoon to measure your dose. use the measuring spoon or cup that came with the medication or use a spoon made especially for measuring medication.if your symptoms do not get better within 7 days or if you have a fever, stop taking phenylephrine and call your doctor.if you are taking the dissolving strips, place one strip on your tongue and allow it to dissolve.about Phenylephrine\"),\n",
       " Document(metadata={'doc_id': 'e36207d5-1410-47ca-b68a-05ed7bb7921e', 'rerank_score': 0.06362828612327576}, page_content=\"phenylephrine may cause side effects. some side effects can be serious. if you experience any of these symptoms, stop using phenylephrine and call your doctor:nervousnessdizzinesssleeplessnessphenylephrine may cause other side effects. call your doctor if you have any unusual problems while taking Phenylephrine.if you experience a serious side effect, you or your doctor may send a report to the food and drug administration's (fda) medwatch adverse event reporting program online (https://www.fda.gov/safety/medwatch) or by phone ([phone]).\"),\n",
       " Document(metadata={'doc_id': '1bf5880b-93ec-4ac9-a0cb-eb35693ccce4', 'rerank_score': 0.020243706181645393}, page_content='phenylephrine is used to relieve nasal discomfort caused by colds, allergies, and hay fever. it is also used to relieve sinus congestion and pressure. phenylephrine will relieve symptoms but will not treat the cause of the symptoms or speed recovery. phenylephrine is in a class of medications called nasal decongestants. it works by reducing swelling of the blood vessels in the nasal passages.about Phenylephrine')]"
      ]
     },
     "execution_count": 19,
     "metadata": {},
     "output_type": "execute_result"
    }
   ],
   "source": [
    "rag.retrieve(\"How can I avoid it?\",top_k=4)"
   ]
  },
  {
   "cell_type": "code",
   "execution_count": 20,
   "id": "01709ba0",
   "metadata": {},
   "outputs": [
    {
     "name": "stdout",
     "output_type": "stream",
     "text": [
      "retrieve starts runing!\n",
      "retrieve took 4.7198s\n"
     ]
    },
    {
     "data": {
      "text/plain": [
       "[Document(metadata={'doc_id': 'f7ad6ffd-7176-4c1d-a7ee-bec020443c2c', 'rerank_score': 0.04489823803305626}, page_content=\"phenylephrine comes as a tablet, a liquid, or a dissolving strip to take by mouth. it is usually taken every 4 hours as needed. follow the directions on your prescription label or the package label carefully, and ask your doctor or pharmacist to explain any part you do not understand. take phenylephrine exactly as directed. do not take more or less of it or take it more often than prescribed by your doctor or directed on the label.phenylephrine comes alone and in combination with other medications. ask your doctor or pharmacist for advice on which product is best for your symptoms. check nonprescription cough and cold product labels carefully before using two or more products at the same time. these products may contain the same active ingredient(s) and taking them together could cause you to receive an overdose. this is especially important if you will be giving cough and cold medications to a child.nonprescription cough and cold combination products, including products that contain phenylephrine, can cause serious side effects or death in young children. do not give these products to children younger than 4 years of age. if you give these products to children 4 to 11 years of age, use caution and follow the package directions carefully.if you are giving phenylephrine or a combination product that contains phenylephrine to a child, read the package label carefully to be sure that it is the right product for a child of that age. do not give phenylephrine products that are made for adults to children.before you give a phenylephrine product to a child, check the package label to find out how much medication the child should receive. give the dose that matches the child's age on the chart. ask the child's doctor if you don't know how much medication to give the child.if you are taking the liquid, do not use a household spoon to measure your dose. use the measuring spoon or cup that came with the medication or use a spoon made especially for measuring medication.if your symptoms do not get better within 7 days or if you have a fever, stop taking phenylephrine and call your doctor.if you are taking the dissolving strips, place one strip on your tongue and allow it to dissolve.about Phenylephrine\"),\n",
       " Document(metadata={'doc_id': '955b6fca-bc0e-433a-8187-34d439546cdb', 'rerank_score': 0.005256566684693098}, page_content=\"keep Phenylephrine in the container it came in, tightly closed, and out of reach of children. store it at room temperature and away from excess heat and moisture (not in the bathroom).keep all medication out of sight and reach of children as many containers are not child-resistant. always lock safety caps. place the medication in a safe location â\\x80\\x93 one that is up and away and out of their sight and reach.https://www.upandaway.orgdispose of unneeded medications in a way so that pets, children, and other people cannot take them. do not flush Phenylephrine down the toilet. use a medicine take-back program. talk to your pharmacist about take-back programs in your community. visit the fda's safe disposal of medicines websitehttps://goo.gl/c4rm4pfor more information.\"),\n",
       " Document(metadata={'doc_id': '1bf5880b-93ec-4ac9-a0cb-eb35693ccce4', 'rerank_score': 1.2600095942616463e-05}, page_content='phenylephrine is used to relieve nasal discomfort caused by colds, allergies, and hay fever. it is also used to relieve sinus congestion and pressure. phenylephrine will relieve symptoms but will not treat the cause of the symptoms or speed recovery. phenylephrine is in a class of medications called nasal decongestants. it works by reducing swelling of the blood vessels in the nasal passages.about Phenylephrine')]"
      ]
     },
     "execution_count": 20,
     "metadata": {},
     "output_type": "execute_result"
    }
   ],
   "source": [
    "rag.retrieve(\"What wrong with you?\",top_k=4)"
   ]
  }
 ],
 "metadata": {
  "kernelspec": {
   "display_name": "SFT_QLoRA_Llama3_1B",
   "language": "python",
   "name": "python3"
  },
  "language_info": {
   "codemirror_mode": {
    "name": "ipython",
    "version": 3
   },
   "file_extension": ".py",
   "mimetype": "text/x-python",
   "name": "python",
   "nbconvert_exporter": "python",
   "pygments_lexer": "ipython3",
   "version": "3.11.13"
  }
 },
 "nbformat": 4,
 "nbformat_minor": 5
}
