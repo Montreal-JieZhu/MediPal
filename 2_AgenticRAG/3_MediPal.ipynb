{
 "cells": [
  {
   "cell_type": "markdown",
   "id": "29d9ccdf",
   "metadata": {},
   "source": [
    "## MediPal -- Agentic RAG -- Completed"
   ]
  },
  {
   "cell_type": "markdown",
   "id": "e3047699",
   "metadata": {},
   "source": [
    "### In this section, I will build an agent on top of the agentic retriever, and bring everything together under the name “MediPal.”\n",
    "##### Design\n",
    "1. Primary role: MediPal focuses on handling medical and clinical conversations based on retrieved documents. However, it can also talk about general, non-medical topics when needed.\n",
    "2. Before it responds to users on medical topics, it runs a hallucination check after generating its answer. \n",
    "3. If the user is simply greeting, it immediately replies with a greeting without invoking the retriever tool.\n",
    "4. In the future, MediPal will leverage multiple tools to support users in the medical domain. For example, it can summarize conversations and save them to Notion, or even help schedule an appointment with a doctor.\n",
    "\n",
    "![](../screenshots/medipal_workflow2.PNG \"\")"
   ]
  },
  {
   "cell_type": "code",
   "execution_count": 2,
   "id": "e6a4ec76",
   "metadata": {},
   "outputs": [
    {
     "name": "stdout",
     "output_type": "stream",
     "text": [
      "Login HuggingFace!\n"
     ]
    },
    {
     "data": {
      "application/vnd.jupyter.widget-view+json": {
       "model_id": "eef8c165fd364adc84c3584122b7315c",
       "version_major": 2,
       "version_minor": 0
      },
      "text/plain": [
       "Loading checkpoint shards:   0%|          | 0/2 [00:00<?, ?it/s]"
      ]
     },
     "metadata": {},
     "output_type": "display_data"
    },
    {
     "name": "stderr",
     "output_type": "stream",
     "text": [
      "Device set to use cuda\n"
     ]
    },
    {
     "name": "stdout",
     "output_type": "stream",
     "text": [
      "Load tokenizer and base model done!\n",
      "setup_retriever starts runing!\n",
      "Login HuggingFace!\n",
      "load_embedding_model starts runing!\n",
      "load_embedding_model took 4.0499s\n",
      "load_crossencoder starts runing!\n",
      "load_crossencoder took 1.1284s\n",
      "setup_retriever took 6.6822s\n"
     ]
    }
   ],
   "source": [
    "import settings\n",
    "from mytools import logging_print, draw_langgraph\n",
    "from agentic_rag import rag_invoke, robust_binary_grader, AgentState, master_llm\n",
    "\n",
    "import random\n",
    "from langchain.prompts import PromptTemplate\n",
    "from langchain_core.output_parsers import StrOutputParser\n",
    "from langgraph.graph import StateGraph, START, END"
   ]
  },
  {
   "cell_type": "code",
   "execution_count": 3,
   "id": "3701f84b",
   "metadata": {},
   "outputs": [],
   "source": [
    "#Action node\n",
    "def answer_generater(state: AgentState) -> AgentState:\n",
    "    \"\"\" \n",
    "    Generate answer based on the retrieval documents.\n",
    "    \"\"\"\n",
    "    query = state[\"query\"]\n",
    "    document = state[\"retrieved_doc\"]\n",
    "    logging_print(f\"===Step {settings.STEP}===\\n\")    \n",
    "    logging_print(f\"Master_Agent: I am generating the answer based on the retrieved docs.\\n\")   \n",
    "    prompt = PromptTemplate(\n",
    "        template=\"\"\"You are an assistant that answers questions **only** using the retrieved documents.\n",
    "        ## Instructions\n",
    "        - Read the provided documents carefully.\n",
    "        - Answer the user query **strictly grounded in the documents**.  \n",
    "        - If the documents do not contain enough information, reply with:\n",
    "        \"I'm sorry, the provided documents do not contain enough information to answer this question.\"\n",
    "        - Do NOT add any outside knowledge or assumptions.\n",
    "        ## Inputs\n",
    "        Retrieved Documents:\n",
    "        {document}\n",
    "        User Query:\n",
    "        {question}\n",
    "        ## Output\n",
    "        Provide a concise, plain-English answer based solely on the retrieved documents.\n",
    "        \"\"\",\n",
    "        input_variables=[\"document\", \"question\"],\n",
    "    )\n",
    "    chain = prompt | master_llm | StrOutputParser()   \n",
    "    raw = chain.invoke({\"question\": query, \"document\": document})\n",
    "    logging_print(f\"Real output: {raw}\\n\")        \n",
    "    state[\"generation\"] = str(raw)\n",
    "    state[\"regenerate_counter\"] += 1\n",
    "    settings.STEP += 1\n",
    "    return state "
   ]
  },
  {
   "cell_type": "code",
   "execution_count": 4,
   "id": "7df3b5a7",
   "metadata": {},
   "outputs": [],
   "source": [
    "#Action Node\n",
    "def grade_greeting_query(state: AgentState) -> AgentState:\n",
    "    \"\"\"\n",
    "    Determine whether a query is pure greeting.\n",
    "    without relying on prior conversation context.\n",
    "    \"\"\"   \n",
    "    query = state[\"query\"]\n",
    "    logging_print(f\"===Step {settings.STEP}===\\n\")\n",
    "    logging_print(f\"\"\"Master_Agent: Got a new query: \"{query}\"\\nI will check if the query is pure greeting.\\n\"\"\")     \n",
    "   \n",
    "    prompt = PromptTemplate(\n",
    "        template=\"\"\"\n",
    "    You are a classifier that checks if a message is a **pure greeting**.\n",
    "\n",
    "    Definition of pure greeting:\n",
    "    - A short message whose sole purpose is to greet or say hello.\n",
    "    - It may include polite questions or phrases like “How are you?”, “What’s up?”, \n",
    "    “Good to meet you”, “Nice to see you”, “How’s it going?”, etc.\n",
    "    - It must NOT contain any request for information, task instructions, or other content.\n",
    "\n",
    "    Your task:\n",
    "    Given the user's input below, decide if it is a pure greeting.\n",
    "\n",
    "    User input: {question}\n",
    "\n",
    "    Return only a JSON object with a single key \"score\":\n",
    "    - Output {{\"score\": \"yes\"}} if it is a pure greeting (even if it looks like a casual question such as “What’s up?”).\n",
    "    - Output {{\"score\": \"no\"}} if it contains anything beyond a greeting.\n",
    "\n",
    "    Do not add explanation or extra text.\n",
    "    \"\"\",\n",
    "        input_variables=[\"question\"],\n",
    "    )\n",
    "\n",
    "\n",
    "    state[\"grade\"] = robust_binary_grader(prompt=prompt, question=query)\n",
    "    settings.STEP += 1\n",
    "    return state"
   ]
  },
  {
   "cell_type": "code",
   "execution_count": 5,
   "id": "82d3dae7",
   "metadata": {},
   "outputs": [],
   "source": [
    "#Decision Node\n",
    "def decide_greeting_query(state: AgentState) -> str:\n",
    "    \"\"\" \n",
    "    If it's a greeting query, go to grader node for clinical checking.\n",
    "    If it's not a greeting query, go to grader node for self-contained checking. \n",
    "    \"\"\"\n",
    "    if state['grade'][\"score\"] == \"yes\":\n",
    "        logging_print(f\"Master_Agent: The query is just greeting. Greeting back.\\n\")\n",
    "        return \"greeting\"\n",
    "    else:\n",
    "        logging_print(f\"Master_Agent: The query is not greeting. Let's call RAG.\\n\")\n",
    "        return \"call_rag\""
   ]
  },
  {
   "cell_type": "code",
   "execution_count": 6,
   "id": "1667f6c4",
   "metadata": {},
   "outputs": [],
   "source": [
    "#Action Node\n",
    "def greeting_back(state: AgentState) -> AgentState:\n",
    "    \"\"\"\n",
    "    Greeting back    \n",
    "    \"\"\"\n",
    "    query = state[\"query\"]\n",
    "\n",
    "    logging_print(f\"===Step {settings.STEP}===\\n\")    \n",
    "    logging_print(f\"Master_Agent: I am greeting.\\n\")    \n",
    "     \n",
    "    prompt = PromptTemplate(\n",
    "        template=\"\"\"You are a polite greeter.\n",
    "        When the user sends any message, you must ONLY greet them back in a friendly, natural way.\n",
    "        Do NOT answer questions, give information, or add any extra content.\n",
    "        Keep the reply short (one or two greeting sentences) and nothing else.\n",
    "\n",
    "        User message: {message}\n",
    "        Your entire reply must be ONLY the greeting, for example \"Hello!\" or \"Hi, good morning!\".\n",
    "        \"\"\",\n",
    "        input_variables=[\"message\"],\n",
    "    )\n",
    "    chain = prompt | master_llm | StrOutputParser()    \n",
    "    raw = chain.invoke({\"message\": query})\n",
    "    logging_print(f\"Real output: {raw}\\n\")      \n",
    "    state[\"generation\"] = str(raw)    \n",
    "    settings.STEP = 1\n",
    "    return state"
   ]
  },
  {
   "cell_type": "code",
   "execution_count": 18,
   "id": "cd82b2bf",
   "metadata": {},
   "outputs": [],
   "source": [
    "#Action Node\n",
    "def answer_normally(state: AgentState) -> AgentState:\n",
    "    \"\"\"\n",
    "    Greeting back    \n",
    "    \"\"\"\n",
    "    query = state[\"query\"]\n",
    "\n",
    "    logging_print(f\"===Step {settings.STEP}===\\n\")    \n",
    "    logging_print(f\"Master_Agent: I am answering normal message.\\n\")    \n",
    "     \n",
    "    prompt = PromptTemplate(\n",
    "        template=\"\"\"You are a \"Simple & Clear Answer\" assistant.\n",
    "    Your job: read the user's message and reply with a very simple, easy-to-understand answer.\n",
    "\n",
    "    Rules:\n",
    "    - Use plain English and common words.\n",
    "    - Be direct. Answer the exact question first.\n",
    "    - Keep it short: 1-2 short sentences maximum.\n",
    "    - No jargon. If a term is necessary, add a 3-5 word explanation in parentheses.\n",
    "    - No extra facts, no links, no emojis, no disclaimers, no small talk.\n",
    "    - If the user asks for steps, give 3 or fewer bullet points, each 1 short line.\n",
    "    - If the message is not a question (e.g., a statement or request), give a short, helpful response that matches the intent.\n",
    "\n",
    "    User message: {message}\n",
    "\n",
    "    Your entire reply must follow the rules above and contain only the answer.\"\"\",\n",
    "        input_variables=[\"message\"],\n",
    "    )\n",
    "    chain = prompt | master_llm | StrOutputParser()    \n",
    "    raw = chain.invoke({\"message\": query})\n",
    "    logging_print(f\"Real output: {raw}\\n\")      \n",
    "    state[\"generation\"] = str(raw)    \n",
    "    settings.STEP = 1\n",
    "    return state"
   ]
  },
  {
   "cell_type": "code",
   "execution_count": 19,
   "id": "7d6f87e5",
   "metadata": {},
   "outputs": [],
   "source": [
    "#Action Node\n",
    "def rag_calling(state: AgentState) -> AgentState:\n",
    "    \"\"\"\n",
    "    Call Agentic RAG to retrieve relevant documents.   \n",
    "    \"\"\"   \n",
    "    logging_print(f\"===Step {settings.STEP}===\\n\")  \n",
    "    logging_print(f\"Master_Agent: I am calling RAG.\\n\") \n",
    "    state = rag_invoke(state)\n",
    "    logging_print(state)\n",
    "    settings.STEP += 1\n",
    "    return state"
   ]
  },
  {
   "cell_type": "code",
   "execution_count": 20,
   "id": "8b959d59",
   "metadata": {},
   "outputs": [],
   "source": [
    "#Decision Node\n",
    "def decide_retrieve_success(state: AgentState) -> str:\n",
    "    \"\"\" \n",
    "    If rag retrieved relevant docs, go to generate answer.\n",
    "    If there is no retrieval docs, save to memory \n",
    "    \"\"\"\n",
    "    if state['grade'][\"score\"] == \"yes\":\n",
    "        logging_print(f\"Master_Agent: Let's generate the answer.\\n\")\n",
    "        return \"answer_generater\"\n",
    "    else:\n",
    "        logging_print(f\"Master_Agent: There is no relevant docs from RAG.\\n\")   \n",
    "           \n",
    "        return \"answer_normally\""
   ]
  },
  {
   "cell_type": "code",
   "execution_count": 21,
   "id": "ed37187c",
   "metadata": {},
   "outputs": [],
   "source": [
    "#Action Node\n",
    "def grade_hallucination(state: AgentState) -> AgentState:\n",
    "    \"\"\"\n",
    "    Determine whether the answer llm generated has hallucination.    \n",
    "    \"\"\"\n",
    "    generation = state[\"generation\"]    \n",
    "    retrieval_doc = state[\"retrieved_doc\"]\n",
    "\n",
    "    logging_print(f\"answer:{generation}\\n\")\n",
    "    logging_print(f\"document:{retrieval_doc}\\n\")\n",
    "\n",
    "    logging_print(f\"===Step {settings.STEP}===\\n\")  \n",
    "    logging_print(f\"Master_Agent: I am checking if the answer has hallucination.\\n\")\n",
    "    prompt = PromptTemplate(\n",
    "        template=\"\"\"\n",
    "    You are a classifier that checks if an **answer is fully supported by the provided document**.\n",
    "\n",
    "    Definition of “fully supported”:\n",
    "    - Every factual statement in the answer can be directly verified in the given document.\n",
    "    - The answer contains **no hallucination**, speculation, or information that is absent from the document.\n",
    "    - Minor rephrasing or summarizing of the document is acceptable as long as it remains faithful.\n",
    "\n",
    "    Your task:\n",
    "    Given the document and the answer below, decide if the answer is completely grounded in the document.\n",
    "\n",
    "    Document:\n",
    "    {document}\n",
    "\n",
    "    Answer:\n",
    "    {answer}\n",
    "\n",
    "    Return only a JSON object with a single key \"score\":\n",
    "    - Output {{\"score\": \"yes\"}} if the answer is fully supported by the document with no hallucination.\n",
    "    - Output {{\"score\": \"no\"}} if any part of the answer is not supported by the document.\n",
    "\n",
    "    Do not add explanation or extra text.\n",
    "    \"\"\",\n",
    "        input_variables=[\"document\", \"answer\"],\n",
    "    )\n",
    "    state[\"grade\"] = robust_binary_grader(prompt=prompt, answer=generation, document=retrieval_doc)\n",
    "    settings.STEP += 1\n",
    "    return state"
   ]
  },
  {
   "cell_type": "code",
   "execution_count": 22,
   "id": "fa57a177",
   "metadata": {},
   "outputs": [
    {
     "name": "stdout",
     "output_type": "stream",
     "text": [
      "answer:phenylephrine comes as a tablet, a liquid, or a dissolving strip to take by mouth.\n",
      "\n",
      "document:phenylephrine comes as a tablet, a liquid, or a dissolving strip to take by mouth. it is usually taken every 4 hours as needed. follow the directions on your prescription label or the package label carefully, and ask your doctor or pharmacist to explain any part you do not understand. take phenylephrine exactly as directed. do not take more or less of it or take it more often than prescribed by your doctor or directed on the label.\n",
      "\n",
      "===Step 1===\n",
      "\n",
      "Master_Agent: I am checking if the answer has hallucination.\n",
      "\n",
      "Real output: {'score': 'yes'}\n",
      "\n",
      "{'generation': 'phenylephrine comes as a tablet, a liquid, or a dissolving strip to take by mouth.', 'retrieved_doc': 'phenylephrine comes as a tablet, a liquid, or a dissolving strip to take by mouth. it is usually taken every 4 hours as needed. follow the directions on your prescription label or the package label carefully, and ask your doctor or pharmacist to explain any part you do not understand. take phenylephrine exactly as directed. do not take more or less of it or take it more often than prescribed by your doctor or directed on the label.', 'grade': {'score': 'yes'}}\n",
      "answer:Phenylephrine is usually taken as needed. if your doctor has told you to take phenylephrine regularly, take the missed dose as soon as you remember it.\n",
      "\n",
      "document:before receiving amphotericin b lipid complex injection,tell your doctor and pharmacist if you are allergic to amphotericin b, any other medications, or any of the ingredients in amphotericin b lipid complex injection. \n",
      "\n",
      "===Step 2===\n",
      "\n",
      "Master_Agent: I am checking if the answer has hallucination.\n",
      "\n",
      "Real output: {'score': 'no'}\n",
      "\n",
      "{'generation': 'Phenylephrine is usually taken as needed. if your doctor has told you to take phenylephrine regularly, take the missed dose as soon as you remember it.', 'retrieved_doc': 'before receiving amphotericin b lipid complex injection,tell your doctor and pharmacist if you are allergic to amphotericin b, any other medications, or any of the ingredients in amphotericin b lipid complex injection. ', 'grade': {'score': 'no'}}\n"
     ]
    }
   ],
   "source": [
    "#testing\n",
    "\n",
    "test_list = [\n",
    "    {\"answer\": \"phenylephrine comes as a tablet, a liquid, or a dissolving strip to take by mouth.\", \"document\":\"phenylephrine comes as a tablet, a liquid, or a dissolving strip to take by mouth. it is usually taken every 4 hours as needed. follow the directions on your prescription label or the package label carefully, and ask your doctor or pharmacist to explain any part you do not understand. take phenylephrine exactly as directed. do not take more or less of it or take it more often than prescribed by your doctor or directed on the label.\"},\n",
    "    {\"answer\": \"Phenylephrine is usually taken as needed. if your doctor has told you to take phenylephrine regularly, take the missed dose as soon as you remember it.\",\"document\":\"before receiving amphotericin b lipid complex injection,tell your doctor and pharmacist if you are allergic to amphotericin b, any other medications, or any of the ingredients in amphotericin b lipid complex injection. \"}         \n",
    "]\n",
    "\n",
    "for a in test_list:\n",
    "    state = AgentState(generation=a[\"answer\"], retrieved_doc=a[\"document\"])\n",
    "\n",
    "    result = grade_hallucination(state)\n",
    "    logging_print(result)\n"
   ]
  },
  {
   "cell_type": "code",
   "execution_count": 23,
   "id": "1f6702fb",
   "metadata": {},
   "outputs": [],
   "source": [
    "#Decision Node\n",
    "def decide_hallucination(state: AgentState) -> str:\n",
    "    \"\"\" \n",
    "    If the answer has hallucination, re-generate the answer.\n",
    "    If it ground the retrieval document, save to memory \n",
    "    \"\"\"\n",
    "    if state['grade'][\"score\"] == \"yes\":\n",
    "        logging_print(f\"Master_Agent: The answer is good now.\\n\")\n",
    "        return \"save_node\"\n",
    "    elif state[\"regenerate_counter\"] <= 3:\n",
    "        logging_print(f\"Master_Agent: The answer has hallucination. I will generate another one.\\n\")\n",
    "        return \"answer_generater\"\n",
    "    else:\n",
    "        settings.STEP = 1 #reset step  \n",
    "        return \"end\"    "
   ]
  },
  {
   "cell_type": "code",
   "execution_count": 24,
   "id": "dbd43131",
   "metadata": {},
   "outputs": [],
   "source": [
    "#Action Node\n",
    "def save_to_memory(state: AgentState) -> AgentState:\n",
    "    \"\"\" \n",
    "    Before End, save user's query and final answer to memory \n",
    "    \"\"\"   \n",
    "    logging_print(f\"===Step {settings.STEP}===\\n\")\n",
    "    logging_print(\"Master_Agent: I am saving the user query and answer to memory.\\n\")  \n",
    "    logging_print(f\"\"\"User query: {state[\"query\"]} - Generation: {state[\"generation\"]}\"\"\") \n",
    "    #history = settings.SHORT_TERM_MEMORY.get_history(state[\"session_id\"])\n",
    "\n",
    "    settings.SHORT_TERM_MEMORY.add_message(session_id=state[\"session_id\"], message=state[\"query\"], msg_type=\"human\")\n",
    "    settings.SHORT_TERM_MEMORY.add_message(session_id=state[\"session_id\"], message=state[\"generation\"], msg_type=\"ai\")\n",
    "    settings.STEP = 1 # Reset the STEP \n",
    "    return state  "
   ]
  },
  {
   "cell_type": "code",
   "execution_count": 25,
   "id": "f555fbf5",
   "metadata": {},
   "outputs": [],
   "source": [
    "medipal_graph = StateGraph(AgentState)\n",
    "# Nodes\n",
    "medipal_graph.add_node(\"grade_greeting_node\", grade_greeting_query)\n",
    "\n",
    "medipal_graph.add_node(\"decide_greeting_router\", lambda state: state)\n",
    "\n",
    "medipal_graph.add_node(\"greeting_node\", greeting_back)\n",
    "\n",
    "medipal_graph.add_node(\"call_rag_node\", rag_calling)\n",
    "\n",
    "medipal_graph.add_node(\"decide_retrieve_success_router\", lambda state: state)\n",
    "\n",
    "medipal_graph.add_node(\"generate_answer_node\", answer_generater)\n",
    "\n",
    "medipal_graph.add_node(\"grade_hallucination_node\", grade_hallucination)\n",
    "\n",
    "medipal_graph.add_node(\"decide_hallucination\", lambda state: state)\n",
    "\n",
    "medipal_graph.add_node(\"save_node\", save_to_memory)\n",
    "\n",
    "medipal_graph.add_node(\"answer_normally_node\", answer_normally)\n",
    "\n",
    "#Edges\n",
    "medipal_graph.add_edge(START, \"grade_greeting_node\")\n",
    "\n",
    "medipal_graph.add_edge(\"grade_greeting_node\", \"decide_greeting_router\")\n",
    "\n",
    "medipal_graph.add_conditional_edges(\n",
    "    source=\"decide_greeting_router\",\n",
    "    path=decide_greeting_query,\n",
    "    path_map={\n",
    "        \"greeting\": \"greeting_node\",\n",
    "        \"call_rag\": \"call_rag_node\"\n",
    "    }\n",
    ")\n",
    "\n",
    "medipal_graph.add_edge(\"call_rag_node\", \"decide_retrieve_success_router\")\n",
    "\n",
    "medipal_graph.add_conditional_edges(\n",
    "    source=\"decide_retrieve_success_router\",\n",
    "    path=decide_retrieve_success,\n",
    "    path_map={\n",
    "        \"answer_generater\": \"generate_answer_node\",\n",
    "        \"answer_normally\": \"answer_normally_node\"\n",
    "    }\n",
    ")\n",
    "\n",
    "medipal_graph.add_edge(\"generate_answer_node\", \"grade_hallucination_node\")\n",
    "\n",
    "medipal_graph.add_edge(\"grade_hallucination_node\", \"decide_hallucination\")\n",
    "\n",
    "medipal_graph.add_conditional_edges(\n",
    "    source=\"decide_hallucination\",\n",
    "    path=decide_hallucination,\n",
    "    path_map={\n",
    "        \"save_node\": \"save_node\",\n",
    "        \"answer_generater\": \"generate_answer_node\",\n",
    "        \"end\": END\n",
    "    }\n",
    ")\n",
    "\n",
    "medipal_graph.add_edge(\"answer_normally_node\", END)\n",
    "medipal_graph.add_edge(\"greeting_node\", END)\n",
    "medipal_graph.add_edge(\"save_node\", END)\n",
    "\n",
    "medipal_app = medipal_graph.compile()"
   ]
  },
  {
   "cell_type": "code",
   "execution_count": 15,
   "id": "9ca816ae",
   "metadata": {},
   "outputs": [
    {
     "data": {
      "image/png": "[encoded data removed]",
      "text/plain": [
       "<IPython.core.display.Image object>"
      ]
     },
     "metadata": {},
     "output_type": "display_data"
    }
   ],
   "source": [
    "draw_langgraph(medipal_app)"
   ]
  },
  {
   "cell_type": "code",
   "execution_count": 16,
   "id": "ada30601",
   "metadata": {},
   "outputs": [],
   "source": [
    "draw_langgraph(medipal_app, False)"
   ]
  },
  {
   "cell_type": "code",
   "execution_count": 26,
   "id": "c6d0a69f",
   "metadata": {},
   "outputs": [
    {
     "name": "stderr",
     "output_type": "stream",
     "text": [
      "You seem to be using the pipelines sequentially on GPU. In order to maximize efficiency please use a dataset\n"
     ]
    },
    {
     "name": "stdout",
     "output_type": "stream",
     "text": [
      "===Step 3===\n",
      "\n",
      "Master_Agent: Got a new query: \"can you tell me how to cook?\"\n",
      "I will check if the query is pure greeting.\n",
      "\n",
      "Real output: {'score': 'no'}\n",
      "\n",
      "Master_Agent: The query is not greeting. Let's call RAG.\n",
      "\n",
      "===Step 4===\n",
      "\n",
      "Master_Agent: I am calling RAG.\n",
      "\n",
      "===Step 4===\n",
      "\n",
      "Master_Agent: I will check if the query is self-contained.\n",
      "\n",
      "Real output: {'score': 'yes'}\n",
      "\n",
      "Master_Agent: The query is a self-contained one. We don't need to augment it. Let's check if it is a clinical query.\n",
      "\n",
      "===Step 5===\n",
      "\n",
      "Master_Agent: I am checking if the query is about medicine or clinical questions.\n",
      "\n",
      "Real output: {'score': 'no'}\n",
      "\n",
      "Master_Agent: The query is not clinical query. I can do nothing with it. \n",
      "\n",
      "===Step 6===\n",
      "\n",
      "Master_Agent: TWe mainly handle information about medications and health care. Your question may be beyond my scope of work. I apologize for not being able to provide more information.\n",
      "===Step 7===\n",
      "\n",
      "Master_Agent: I am saving the user query and retrieved docs to memory.\n",
      "\n",
      "{'session_id': 1, 'query': 'can you tell me how to cook?', 'retrieved_doc': 'TWe mainly handle information about medications and health care. Your question may be beyond my scope of work. I apologize for not being able to provide more information.', 'grade': {'score': 'no'}, 'wiki_used': False, 'brave_used': False, 'rewrite_counter': 0, 'regenerate_counter': 0}\n",
      "Master_Agent: There is no relevant docs from RAG.\n",
      "\n",
      "===Step 8===\n",
      "\n",
      "Master_Agent: I am answering normal message.\n",
      "\n",
      "Real output: 1. Preheat the oven to 350°F (180°C). 2. Wash and chop the food. 3. Put the food in a pan with oil and cook on the stove.\n",
      "\n",
      "result:{'session_id': 1, 'query': 'can you tell me how to cook?', 'retrieved_doc': 'TWe mainly handle information about medications and health care. Your question may be beyond my scope of work. I apologize for not being able to provide more information.', 'generation': '1. Preheat the oven to 350°F (180°C). 2. Wash and chop the food. 3. Put the food in a pan with oil and cook on the stove.', 'grade': {'score': 'no'}, 'wiki_used': False, 'brave_used': False, 'rewrite_counter': 0, 'regenerate_counter': 0}\n",
      "===Step 1===\n",
      "\n",
      "Master_Agent: Got a new query: \"I want to buy a house. what suggestion?\"\n",
      "I will check if the query is pure greeting.\n",
      "\n",
      "Real output: {'score': 'no'}\n",
      "\n",
      "Master_Agent: The query is not greeting. Let's call RAG.\n",
      "\n",
      "===Step 2===\n",
      "\n",
      "Master_Agent: I am calling RAG.\n",
      "\n",
      "===Step 2===\n",
      "\n",
      "Master_Agent: I will check if the query is self-contained.\n",
      "\n",
      "Real output: {'score': 'yes'}\n",
      "\n",
      "Master_Agent: The query is a self-contained one. We don't need to augment it. Let's check if it is a clinical query.\n",
      "\n",
      "===Step 3===\n",
      "\n",
      "Master_Agent: I am checking if the query is about medicine or clinical questions.\n",
      "\n",
      "Real output: {'score': 'no'}\n",
      "\n",
      "Master_Agent: The query is not clinical query. I can do nothing with it. \n",
      "\n",
      "===Step 4===\n",
      "\n",
      "Master_Agent: TWe mainly handle information about medications and health care. Your question may be beyond my scope of work. I apologize for not being able to provide more information.\n",
      "===Step 5===\n",
      "\n",
      "Master_Agent: I am saving the user query and retrieved docs to memory.\n",
      "\n",
      "{'session_id': 1, 'query': 'I want to buy a house. what suggestion?', 'retrieved_doc': 'TWe mainly handle information about medications and health care. Your question may be beyond my scope of work. I apologize for not being able to provide more information.', 'grade': {'score': 'no'}, 'wiki_used': False, 'brave_used': False, 'rewrite_counter': 0, 'regenerate_counter': 0}\n",
      "Master_Agent: There is no relevant docs from RAG.\n",
      "\n",
      "===Step 6===\n",
      "\n",
      "Master_Agent: I am answering normal message.\n",
      "\n",
      "Real output: 1. Check your credit score. 2. Save for a down payment. 3. Get pre-approved for a mortgage.\n",
      "\n",
      "result:{'session_id': 1, 'query': 'I want to buy a house. what suggestion?', 'retrieved_doc': 'TWe mainly handle information about medications and health care. Your question may be beyond my scope of work. I apologize for not being able to provide more information.', 'generation': '1. Check your credit score. 2. Save for a down payment. 3. Get pre-approved for a mortgage.', 'grade': {'score': 'no'}, 'wiki_used': False, 'brave_used': False, 'rewrite_counter': 0, 'regenerate_counter': 0}\n"
     ]
    }
   ],
   "source": [
    "questions = [    \n",
    "    \"Is there anything I can assist you with?\",    \n",
    "    \"Can I help you in any way, next?\",\n",
    "    \"Do you have any questions?\",  \n",
    "    \"Are you looking for any particular information?\",\n",
    "    \"I am a Medicine Agentic RAG. I can help you get medical and clinical documents. Just tell me what you need?\"\n",
    "]\n",
    "\n",
    "while True:\n",
    "    user_input = input(random.choice(questions))\n",
    "    if user_input.strip().lower() in [\"end\", \"exit\"]:\n",
    "        break\n",
    "    query = AgentState(query=user_input, session_id=1,wiki_used=False,brave_used=False,rewrite_counter=0,regenerate_counter=0)\n",
    "    result = medipal_app.invoke(query)\n",
    "    logging_print(f\"result:{result}\")\n",
    "    "
   ]
  },
  {
   "cell_type": "markdown",
   "id": "e6e90c15",
   "metadata": {},
   "source": [
    "#### The responses make sense when I interacted with the MediPal by cmd input.\n",
    "#### That means all components are working well.\n",
    "\n",
    "#### But RAGAS is super tool for evaluating apps based on RAG system. I prepared about 30 Q&A pairs as evaluation dataset.\n",
    "#### Below is an evaluation process with RAGAS. I will do answer_relevancy, faithfulness, context_precision, context_recall, answer_correctness matrics to see the performance."
   ]
  },
  {
   "cell_type": "code",
   "execution_count": 14,
   "id": "7a4c8cd8",
   "metadata": {},
   "outputs": [],
   "source": [
    "qa_pairs = [\n",
    "    {\n",
    "        \"question\": \"What conditions can phenylephrine help relieve?\",\n",
    "        \"answer\": \"Phenylephrine can relieve nasal discomfort caused by colds, allergies, hay fever, and also help with sinus congestion and pressure.\"\n",
    "    },\n",
    "    {\n",
    "        \"question\": \"Does phenylephrine cure the cause of symptoms?\",\n",
    "        \"answer\": \"No. Phenylephrine only relieves the symptoms but does not treat the underlying cause or speed up recovery.\"\n",
    "    },\n",
    "    {\n",
    "        \"question\": \"How does phenylephrine work in the body?\",\n",
    "        \"answer\": \"Phenylephrine is a nasal decongestant. It works by reducing swelling of the blood vessels in the nasal passages.\"\n",
    "    },\n",
    "\t{\n",
    "        \"question\": \"What allergies should you tell your doctor or pharmacist about before using pyrethrin and piperonyl butoxide shampoo?\",\n",
    "        \"answer\": \"You should mention if you are allergic to pyrethrin, piperonyl butoxide, chrysanthemums, ragweed, any other medications, or any of the shampoo's ingredients.\"\n",
    "    },\n",
    "    {\n",
    "        \"question\": \"Why is it important to tell your doctor about other medications or supplements before using pyrethrin and piperonyl butoxide shampoo?\",\n",
    "        \"answer\": \"Because prescription and nonprescription medications, vitamins, nutritional supplements, and herbal products may interact with the shampoo, so your doctor needs to know what you are taking or plan to take.\"\n",
    "    },\n",
    "    {\n",
    "        \"question\": \"What should you tell your doctor regarding your health history before using pyrethrin and piperonyl butoxide shampoo?\",\n",
    "        \"answer\": \"You should tell your doctor if you have or have ever had skin conditions, or if you are pregnant, planning to become pregnant, or are breast-feeding.\"\n",
    "    },\n",
    "\t{\n",
    "        \"question\": \"What should you do if someone swallows pyrethrin and piperonyl butoxide shampoo?\",\n",
    "        \"answer\": \"Call your local poison control center immediately.\"\n",
    "    },\n",
    "    {\n",
    "        \"question\": \"What should you do if the person has collapsed or is not breathing after swallowing pyrethrin and piperonyl butoxide shampoo?\",\n",
    "        \"answer\": \"Call local emergency services at 911 right away.\"\n",
    "    },\n",
    "    {\n",
    "        \"question\": \"Who should you contact first if pyrethrin and piperonyl butoxide shampoo is swallowed?\",\n",
    "        \"answer\": \"You should first contact your local poison control center for instructions.\"\n",
    "    },\n",
    "\t{\n",
    "        \"question\": \"What conditions can antipyrine and benzocaine otic help relieve?\",\n",
    "        \"answer\": \"It can relieve ear pain and swelling caused by middle ear infections.\"\n",
    "    },\n",
    "    {\n",
    "        \"question\": \"Can antipyrine and benzocaine otic be used with antibiotics?\",\n",
    "        \"answer\": \"Yes. It may be used along with antibiotics to treat an ear infection.\"\n",
    "    },\n",
    "    {\n",
    "        \"question\": \"How does the combination of antipyrine and benzocaine work?\",\n",
    "        \"answer\": \"They are analgesics that work by reducing pain and discomfort in the ear.\"\n",
    "    },\n",
    "\t{\n",
    "        \"question\": \"What is methylprednisolone injection used to treat?\",\n",
    "        \"answer\": \"It is used to treat severe allergic reactions, multiple sclerosis, lupus, gastrointestinal disease, certain types of arthritis, and conditions affecting the blood, skin, eyes, nervous system, thyroid, kidneys, and lungs.\"\n",
    "    },\n",
    "    {\n",
    "        \"question\": \"Can methylprednisolone injection be used with other medications?\",\n",
    "        \"answer\": \"Yes. It is sometimes used in combination with other medications to treat symptoms of low corticosteroid levels.\"\n",
    "    },\n",
    "    {\n",
    "        \"question\": \"What class of medications does methylprednisolone injection belong to?\",\n",
    "        \"answer\": \"It belongs to a class of medications called corticosteroids.\"\n",
    "    },\n",
    "    {\n",
    "        \"question\": \"How does methylprednisolone injection help people with low corticosteroid levels?\",\n",
    "        \"answer\": \"It replaces steroids that are normally produced naturally by the body.\"\n",
    "    },\n",
    "    {\n",
    "        \"question\": \"How does methylprednisolone injection treat other conditions?\",\n",
    "        \"answer\": \"It works by reducing swelling and redness and by changing the way the immune system functions.\"\n",
    "    }\t\n",
    "]"
   ]
  },
  {
   "cell_type": "code",
   "execution_count": 15,
   "id": "083bfa7e",
   "metadata": {},
   "outputs": [],
   "source": [
    "from datasets import Dataset\n",
    "from ragas import evaluate\n",
    "from ragas.metrics import answer_relevancy, faithfulness, context_precision, context_recall, answer_correctness\n",
    "import time"
   ]
  },
  {
   "cell_type": "code",
   "execution_count": 16,
   "id": "e4dc790d",
   "metadata": {},
   "outputs": [
    {
     "data": {
      "application/vnd.jupyter.widget-view+json": {
       "model_id": "15c2e503eced49bf91271e1c3da7ae36",
       "version_major": 2,
       "version_minor": 0
      },
      "text/plain": [
       "Batches:   0%|          | 0/1 [00:00<?, ?it/s]"
      ]
     },
     "metadata": {},
     "output_type": "display_data"
    },
    {
     "data": {
      "application/vnd.jupyter.widget-view+json": {
       "model_id": "5a85e51ccd924fb28bddbf811d9e28bc",
       "version_major": 2,
       "version_minor": 0
      },
      "text/plain": [
       "Batches:   0%|          | 0/1 [00:00<?, ?it/s]"
      ]
     },
     "metadata": {},
     "output_type": "display_data"
    },
    {
     "name": "stderr",
     "output_type": "stream",
     "text": [
      "You seem to be using the pipelines sequentially on GPU. In order to maximize efficiency please use a dataset\n"
     ]
    },
    {
     "data": {
      "application/vnd.jupyter.widget-view+json": {
       "model_id": "5c5a9c983618442f8646e62ab834ebd3",
       "version_major": 2,
       "version_minor": 0
      },
      "text/plain": [
       "Batches:   0%|          | 0/1 [00:00<?, ?it/s]"
      ]
     },
     "metadata": {},
     "output_type": "display_data"
    },
    {
     "data": {
      "application/vnd.jupyter.widget-view+json": {
       "model_id": "1a4973e486d849cebdc6e60be90d4109",
       "version_major": 2,
       "version_minor": 0
      },
      "text/plain": [
       "Batches:   0%|          | 0/1 [00:00<?, ?it/s]"
      ]
     },
     "metadata": {},
     "output_type": "display_data"
    },
    {
     "data": {
      "application/vnd.jupyter.widget-view+json": {
       "model_id": "d66c37532bcd4c8db98a1d5bc8176b4a",
       "version_major": 2,
       "version_minor": 0
      },
      "text/plain": [
       "Batches:   0%|          | 0/1 [00:00<?, ?it/s]"
      ]
     },
     "metadata": {},
     "output_type": "display_data"
    },
    {
     "data": {
      "application/vnd.jupyter.widget-view+json": {
       "model_id": "d336dbe40fde465aa76d19cb662a6d55",
       "version_major": 2,
       "version_minor": 0
      },
      "text/plain": [
       "Batches:   0%|          | 0/1 [00:00<?, ?it/s]"
      ]
     },
     "metadata": {},
     "output_type": "display_data"
    },
    {
     "data": {
      "application/vnd.jupyter.widget-view+json": {
       "model_id": "a46c89113d314bb5ac04da712440be6e",
       "version_major": 2,
       "version_minor": 0
      },
      "text/plain": [
       "Batches:   0%|          | 0/1 [00:00<?, ?it/s]"
      ]
     },
     "metadata": {},
     "output_type": "display_data"
    },
    {
     "data": {
      "application/vnd.jupyter.widget-view+json": {
       "model_id": "060e4df763304a8fb39acd0496ca7ae1",
       "version_major": 2,
       "version_minor": 0
      },
      "text/plain": [
       "Batches:   0%|          | 0/1 [00:00<?, ?it/s]"
      ]
     },
     "metadata": {},
     "output_type": "display_data"
    },
    {
     "data": {
      "application/vnd.jupyter.widget-view+json": {
       "model_id": "8f8b6d510e9a41e79b365ef52f5ad2e4",
       "version_major": 2,
       "version_minor": 0
      },
      "text/plain": [
       "Batches:   0%|          | 0/1 [00:00<?, ?it/s]"
      ]
     },
     "metadata": {},
     "output_type": "display_data"
    },
    {
     "data": {
      "application/vnd.jupyter.widget-view+json": {
       "model_id": "549d2e4d8d9c4e75ab6401aba6fbccfa",
       "version_major": 2,
       "version_minor": 0
      },
      "text/plain": [
       "Batches:   0%|          | 0/1 [00:00<?, ?it/s]"
      ]
     },
     "metadata": {},
     "output_type": "display_data"
    },
    {
     "data": {
      "application/vnd.jupyter.widget-view+json": {
       "model_id": "a82520615a3e4b33adb53cceb7fef948",
       "version_major": 2,
       "version_minor": 0
      },
      "text/plain": [
       "Batches:   0%|          | 0/1 [00:00<?, ?it/s]"
      ]
     },
     "metadata": {},
     "output_type": "display_data"
    },
    {
     "data": {
      "application/vnd.jupyter.widget-view+json": {
       "model_id": "ffec5a2f689f4bbfbffe4a9cd8aeab37",
       "version_major": 2,
       "version_minor": 0
      },
      "text/plain": [
       "Batches:   0%|          | 0/1 [00:00<?, ?it/s]"
      ]
     },
     "metadata": {},
     "output_type": "display_data"
    },
    {
     "data": {
      "application/vnd.jupyter.widget-view+json": {
       "model_id": "0bcd132686634150b5e1c9c375e9e03e",
       "version_major": 2,
       "version_minor": 0
      },
      "text/plain": [
       "Batches:   0%|          | 0/1 [00:00<?, ?it/s]"
      ]
     },
     "metadata": {},
     "output_type": "display_data"
    },
    {
     "data": {
      "application/vnd.jupyter.widget-view+json": {
       "model_id": "558672b749c242338d5e6f32d9030af4",
       "version_major": 2,
       "version_minor": 0
      },
      "text/plain": [
       "Batches:   0%|          | 0/1 [00:00<?, ?it/s]"
      ]
     },
     "metadata": {},
     "output_type": "display_data"
    },
    {
     "data": {
      "application/vnd.jupyter.widget-view+json": {
       "model_id": "f2e088fe275f4786a8d2b5fce3fc3ec1",
       "version_major": 2,
       "version_minor": 0
      },
      "text/plain": [
       "Batches:   0%|          | 0/1 [00:00<?, ?it/s]"
      ]
     },
     "metadata": {},
     "output_type": "display_data"
    },
    {
     "data": {
      "application/vnd.jupyter.widget-view+json": {
       "model_id": "7db7db5a56814094938b5b0e61840a31",
       "version_major": 2,
       "version_minor": 0
      },
      "text/plain": [
       "Batches:   0%|          | 0/1 [00:00<?, ?it/s]"
      ]
     },
     "metadata": {},
     "output_type": "display_data"
    },
    {
     "data": {
      "application/vnd.jupyter.widget-view+json": {
       "model_id": "c6204e9d14d84cc48da98a05dd614c03",
       "version_major": 2,
       "version_minor": 0
      },
      "text/plain": [
       "Batches:   0%|          | 0/1 [00:00<?, ?it/s]"
      ]
     },
     "metadata": {},
     "output_type": "display_data"
    },
    {
     "data": {
      "application/vnd.jupyter.widget-view+json": {
       "model_id": "70f44f7bdec4420994192153f1af4b83",
       "version_major": 2,
       "version_minor": 0
      },
      "text/plain": [
       "Batches:   0%|          | 0/1 [00:00<?, ?it/s]"
      ]
     },
     "metadata": {},
     "output_type": "display_data"
    },
    {
     "data": {
      "application/vnd.jupyter.widget-view+json": {
       "model_id": "97f4e275405b477c9ebd82bed77262a6",
       "version_major": 2,
       "version_minor": 0
      },
      "text/plain": [
       "Batches:   0%|          | 0/1 [00:00<?, ?it/s]"
      ]
     },
     "metadata": {},
     "output_type": "display_data"
    },
    {
     "data": {
      "application/vnd.jupyter.widget-view+json": {
       "model_id": "9630b1848b17493ba492d8aee4840df3",
       "version_major": 2,
       "version_minor": 0
      },
      "text/plain": [
       "Evaluating:   0%|          | 0/85 [00:00<?, ?it/s]"
      ]
     },
     "metadata": {},
     "output_type": "display_data"
    },
    {
     "name": "stdout",
     "output_type": "stream",
     "text": [
      "{'answer_relevancy': 0.9281, 'faithfulness': 0.8235, 'context_precision': 0.8824, 'context_recall': 0.8235, 'answer_correctness': 0.7584}\n"
     ]
    }
   ],
   "source": [
    "questions = []\n",
    "model_answers = []\n",
    "retrieved_contexts_lists: list[list] = []\n",
    "reference_answers = []\n",
    "for i, s in enumerate(qa_pairs):\n",
    "    question = s[\"question\"]\n",
    "    answer = s[\"answer\"]\n",
    "    questions.append(question)\n",
    "    reference_answers.append(answer)    \n",
    "    query = AgentState(query=question, session_id=1,wiki_used=False,brave_used=False,rewrite_counter=0,regenerate_counter=0)\n",
    "    result = medipal_app.invoke(query) \n",
    "    retrieved_contexts_lists.append([result[\"retrieved_doc\"]])\n",
    "    model_answers.append(result[\"generation\"])   \n",
    "\n",
    "\n",
    "data = Dataset.from_dict({\n",
    "  \"question\": questions,                 # list[str]\n",
    "  \"answer\": model_answers,               # list[str]\n",
    "  \"contexts\": retrieved_contexts_lists,  # list[list[str]]\n",
    "  \"ground_truth\": reference_answers      # list[str] (optional but needed for correctness)\n",
    "})\n",
    "# Everything is ready for evaluation\n",
    "result = evaluate(\n",
    "  data,\n",
    "  metrics=[answer_relevancy, faithfulness, context_precision, context_recall, answer_correctness]\n",
    ")\n",
    "\n",
    "logging_print(result, print_out=True)   "
   ]
  },
  {
   "cell_type": "code",
   "execution_count": null,
   "id": "6920914b",
   "metadata": {},
   "outputs": [],
   "source": []
  }
 ],
 "metadata": {
  "kernelspec": {
   "display_name": "SFT_QLoRA_Llama3_1B",
   "language": "python",
   "name": "python3"
  },
  "language_info": {
   "codemirror_mode": {
    "name": "ipython",
    "version": 3
   },
   "file_extension": ".py",
   "mimetype": "text/x-python",
   "name": "python",
   "nbconvert_exporter": "python",
   "pygments_lexer": "ipython3",
   "version": "3.11.13"
  }
 },
 "nbformat": 4,
 "nbformat_minor": 5
}
