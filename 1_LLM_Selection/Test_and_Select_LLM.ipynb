{
 "cells": [
  {
   "cell_type": "markdown",
   "id": "cb877d9c",
   "metadata": {},
   "source": [
    "## MediPal -- LLM testing and selection"
   ]
  },
  {
   "cell_type": "markdown",
   "id": "b8e7cfa1",
   "metadata": {},
   "source": [
    "### In this section, I set five tasks to test three LLMs' performance, so that I can understand them and design the application properly.\n",
    "##### Tasks:\n",
    "1. Reasoning\n",
    "2. Generate questions based on given content\n",
    "3. Answer question based on given content\n",
    "4. Solve Yes or No question\n",
    "5. Structured ouput\n",
    "\n",
    "##### Technique\n",
    "\n",
    "1. CoT prompting\n",
    "2. A few shots prompting\n",
    "\n",
    "##### Target LLMs:\n",
    "1. meta-llama/Llama-3.2-1B-Instruct \n",
    "2. meta-llama/Meta-Llama-3-8B-Instruct\n",
    "3. ContactDoctor/Bio-Medical-Llama-3-8B"
   ]
  },
  {
   "cell_type": "code",
   "execution_count": null,
   "id": "e3c7f15b",
   "metadata": {},
   "outputs": [],
   "source": [
    "import torch\n",
    "import os\n",
    "from dotenv import load_dotenv\n",
    "from huggingface_hub import login\n",
    "from transformers import AutoTokenizer, AutoModelForCausalLM, pipeline\n",
    "from langchain_huggingface import HuggingFacePipeline, ChatHuggingFace\n",
    "from langchain_core.prompts import ChatPromptTemplate, PromptTemplate"
   ]
  },
  {
   "cell_type": "code",
   "execution_count": 2,
   "id": "c1e0a11c",
   "metadata": {},
   "outputs": [],
   "source": [
    "def best_dtype():\n",
    "    \"\"\"Return the best dtype for the device\"\"\"\n",
    "    if torch.cuda.is_available():\n",
    "        if torch.cuda.is_bf16_supported():\n",
    "            return torch.bfloat16\n",
    "        else:\n",
    "            return torch.float16\n",
    "        \n",
    "    return torch.float32\n",
    "\n",
    "def best_device():\n",
    "    \"\"\"Return the device type\"\"\"\n",
    "    return \"cuda\" if torch.cuda.is_available() else \"cpu\"\n",
    "\n",
    "def login_huggingface():\n",
    "    \"\"\"Login HaggingFace\"\"\"\n",
    "    load_dotenv()\n",
    "    login(os.getenv(\"HUGGINGFACE_KEY\"))\n",
    "    print(\"Login HuggingFace!\")  "
   ]
  },
  {
   "cell_type": "code",
   "execution_count": 3,
   "id": "8a849037",
   "metadata": {},
   "outputs": [
    {
     "name": "stdout",
     "output_type": "stream",
     "text": [
      "Login HuggingFace!\n"
     ]
    }
   ],
   "source": [
    "login_huggingface()"
   ]
  },
  {
   "cell_type": "markdown",
   "id": "4974779f",
   "metadata": {},
   "source": [
    "##### Task1: Reasoning\n",
    "##### Prompts:"
   ]
  },
  {
   "cell_type": "code",
   "execution_count": 4,
   "id": "40e2aee0",
   "metadata": {},
   "outputs": [],
   "source": [
    "prompt_last_letters_basic = ChatPromptTemplate.from_messages([\n",
    "    (\"system\",\n",
    "     \"You are a precise but brief problem-solver. \"\n",
    "     \"Explain your reasoning in a few short steps labeled 'Step 1:', 'Step 2:', 'Step 3:' etc., \"\n",
    "     \"then end with a single line 'Result: <value>'. Avoid long explanations.\"),\n",
    "    (\"human\",\n",
    "     \"Given three English words: {w1}, {w2}, {w3}.\\n\"\n",
    "     \"Task:\\n\"\n",
    "     \"- For each word, ignore trailing spaces/punctuation and find the last alphabetic letter (A–Z/a–z).\\n\"\n",
    "     \"- Concatenate these three letters in the SAME order (word1 → word2 → word3).\\n\"\n",
    "     \"- For example, you got 'how', 'are', 'you', each word's last letter are 'w', 'e', 'u'. Output: 'weu'  .\\n\"\n",
    "     \"Output:\\n\"\n",
    "     \"- Write step-by-step text (Step 1/2/3...).\\n\"\n",
    "     \"- End with one final line: Result: <concatenated_string>.\")\n",
    "])\n",
    "\n",
    "prompt_simple_math = ChatPromptTemplate.from_messages([\n",
    "    (\"system\",\n",
    "     \"You are a precise but brief math tutor. \"\n",
    "     \"Explain in short steps labeled 'Step 1:', 'Step 2:', ... \"\n",
    "     \"then finish with a single line 'Result: <number>'.\"),\n",
    "    (\"human\",\n",
    "     \"John has 5 apples. His father has 8 apples. He gives 2 apples to his father. \"\n",
    "     \"How many apples does his father have?\\n\"\n",
    "     \"Solve step by step and end with: Result: <number>.\")\n",
    "])\n",
    "\n",
    "prompt_moderate_math = ChatPromptTemplate.from_messages([\n",
    "    (\"system\",\n",
    "     \"You are a precise but brief math tutor. \"\n",
    "     \"Explain in short steps labeled 'Step 1:', 'Step 2:', ... \"\n",
    "     \"then finish with a single line 'Result: <number>'.\"),\n",
    "    (\"human\",\n",
    "     \"John has 12 apples. His father has 9 apples. John gives 3 apples to his father. \"\n",
    "     \"Then John's father gives one-third (1/3) of his apples to John's sister. \"\n",
    "     \"John's sister eats 2 apples and returns the rest to John. \"\n",
    "     \"How many apples does John have at the end?\\n\"\n",
    "     \"Solve step by step and end with: Result: <number>.\")\n",
    "])"
   ]
  },
  {
   "cell_type": "markdown",
   "id": "e3bb4252",
   "metadata": {},
   "source": [
    "##### Task2: Generate questions based on given content\n",
    "##### Prompts:"
   ]
  },
  {
   "cell_type": "code",
   "execution_count": 5,
   "id": "8ae6746a",
   "metadata": {},
   "outputs": [],
   "source": [
    "prompt_generate_questions = ChatPromptTemplate.from_messages([\n",
    "    (\"system\",\n",
    "     \"You are a cautious medical student who generates clinically relevant, self-contained questions. \"\n",
    "     \"Ground every question strictly in the provided document; do not invent details or rely on outside knowledge.\"),\n",
    "    (\"user\",\n",
    "     \"Instructions:\\n\"\n",
    "     \"1) From the document below, write exactly 3 unique QUESTIONS in English only.\\n\"\n",
    "     \"2) Cover different medical perspectives (aim for breadth), such as: symptoms/signs; diagnosis/differential; \"\n",
    "     \"investigations/labs/imaging; treatment/procedures; medications (dose, interactions, adverse effects); \"\n",
    "     \"contraindications/precautions; risk factors/prognosis; prevention/patient counseling; special populations \"\n",
    "     \"(e.g., pregnancy, breastfeeding, pediatrics, geriatrics).\\n\"\n",
    "     \"3) Each question must be concise (≤ 25 words), self-contained (avoid pronouns like 'it/this/that'), and \"\n",
    "     \"directly supported by the document.\\n\"\n",
    "     \"4) Do NOT provide any answers or explanations.\\n\"\n",
    "     \"5) Return ONLY a JSON list that matches exactly this schema: [\\\"question1\\\", \\\"question2\\\", ..., \\\"question3\\\"]\\n\"\n",
    "     \"6) Enclose the JSON list between <json> and </json> tags.\\n\"\n",
    "     \"7) If the document does not support 3 distinct perspectives, still produce 3 questions but avoid near-duplicates; \"\n",
    "     \"prefer covering as many perspectives as possible.\"),\n",
    "    (\"user\", \"Document:\\n{doc}\\n\")\n",
    "])\n",
    "\n",
    "contents = [\n",
    "    \"phenylephrine is used to relieve nasal discomfort caused by colds, allergies, and hay fever. it is also used to relieve sinus congestion and pressure. phenylephrine will relieve symptoms but will not treat the cause of the symptoms or speed recovery. phenylephrine is in a class of medications called nasal decongestants. it works by reducing swelling of the blood vessels in the nasal passages.about Phenylephrine\",\n",
    "    \"Sinner's physical struggles appeared to begin late in the second set, and he rushed to place ice towels around his neck at the changeover before the start of the third. In the decider, the Italian was limping between points and frequently massaged his right thigh. At the 2-1 changeover, he didn't sit and instead put his legs up on his bench to try and ward off cramp.\",\n",
    "    \"Artificial intelligence (AI) investing is still the dominant theme in the stock market. This checks out, as it's where a massive amount of capital is getting invested to build out computing infrastructure and train models. Although it seems like AI has been the prevailing market theme for some time, there are multiple indications that this will persist for several more years, making AI a great place to invest today.\",\n",
    "    \"phenylephrine comes as a tablet, a liquid, or a dissolving strip to take by mouth. it is usually taken every 4 hours as needed. follow the directions on your prescription label or the package label carefully, and ask your doctor or pharmacist to explain any part you do not understand. take phenylephrine exactly as directed. do not take more or less of it or take it more often than prescribed by your doctor or directed on the label.phenylephrine comes alone and in combination with other medications. ask your doctor or pharmacist for advice on which product is best for your symptoms. check nonprescription cough and cold product labels carefully before using two or more products at the same time. these products may contain the same active ingredient(s) and taking them together could cause you to receive an overdose. this is especially important if you will be giving cough and cold medications to a child.nonprescription cough and cold combination products, including products that contain phenylephrine, can cause serious side effects or death in young children. do not give these products to children younger than 4 years of age. if you give these products to children 4 to 11 years of age, use caution and follow the package directions carefully.if you are giving phenylephrine or a combination product that contains phenylephrine to a child, read the package label carefully to be sure that it is the right product for a child of that age. do not give phenylephrine products that are made for adults to children.before you give a phenylephrine product to a child, check the package label to find out how much medication the child should receive. give the dose that matches the child's age on the chart. ask the child's doctor if you don't know how much medication to give the child.if you are taking the liquid, do not use a household spoon to measure your dose. use the measuring spoon or cup that came with the medication or use a spoon made especially for measuring medication.if your symptoms do not get better within 7 days or if you have a fever, stop taking phenylephrine and call your doctor.if you are taking the dissolving strips, place one strip on your tongue and allow it to dissolve.about Phenylephrine\",\n",
    "    \"if you are taking scheduled doses of aluminum hydroxide, magnesium hydroxide, take the missed dose as soon as you remember it. however, if it is almost time for the next dose, skip the missed dose and continue your regular dosing schedule. do not take a double dose to make up for a missed one.about Aluminum Hydroxide and Magnesium Hydroxide\"\n",
    "]"
   ]
  },
  {
   "cell_type": "markdown",
   "id": "277c3633",
   "metadata": {},
   "source": [
    "##### Task 3: Answer question based on given content\n",
    "##### Prompts:"
   ]
  },
  {
   "cell_type": "code",
   "execution_count": null,
   "id": "3612e6df",
   "metadata": {},
   "outputs": [],
   "source": [
    "prompt_answer_questions = PromptTemplate(\n",
    "    template=\"\"\"You are a helpful assistant that answers questions **only** using the retrieved documents.\n",
    "\n",
    "    ## Instructions\n",
    "    - Carefully read the retrieved documents below.\n",
    "    - Write your answer in a **natural, conversational tone** as if explaining to a person.\n",
    "    - Your answer must be **strictly based on the retrieved documents** — do not invent or assume information.\n",
    "    - Do **not** mention or reference the documents explicitly (e.g., do not say \"according to the document\" or \"based on the source\").\n",
    "    - If the documents do not provide enough information, respond with:\n",
    "      \"I'm sorry, the provided documents do not contain enough information to answer this question.\"\n",
    "\n",
    "    ## Inputs\n",
    "    Retrieved Documents:\n",
    "    {document}\n",
    "\n",
    "    User Query:\n",
    "    {question}\n",
    "\n",
    "    ## Output\n",
    "    Provide a **clear, natural, and human-like** answer grounded only in the retrieved documents.\n",
    "    Avoid formal or robotic phrasing, and never cite or reference the documents directly.\n",
    "    \"\"\",\n",
    "    input_variables=[\"document\", \"question\"],\n",
    ")\n",
    "\n",
    "contents = [\n",
    "    \"phenylephrine is used to relieve nasal discomfort caused by colds, allergies, and hay fever. it is also used to relieve sinus congestion and pressure. phenylephrine will relieve symptoms but will not treat the cause of the symptoms or speed recovery. phenylephrine is in a class of medications called nasal decongestants. it works by reducing swelling of the blood vessels in the nasal passages.about Phenylephrine\",\n",
    "    \"Sinner's physical struggles appeared to begin late in the second set, and he rushed to place ice towels around his neck at the changeover before the start of the third. In the decider, the Italian was limping between points and frequently massaged his right thigh. At the 2-1 changeover, he didn't sit and instead put his legs up on his bench to try and ward off cramp.\",\n",
    "    \"Artificial intelligence (AI) investing is still the dominant theme in the stock market. This checks out, as it's where a massive amount of capital is getting invested to build out computing infrastructure and train models. Although it seems like AI has been the prevailing market theme for some time, there are multiple indications that this will persist for several more years, making AI a great place to invest today.\",\n",
    "    \"phenylephrine comes as a tablet, a liquid, or a dissolving strip to take by mouth. it is usually taken every 4 hours as needed. follow the directions on your prescription label or the package label carefully, and ask your doctor or pharmacist to explain any part you do not understand. take phenylephrine exactly as directed. do not take more or less of it or take it more often than prescribed by your doctor or directed on the label.phenylephrine comes alone and in combination with other medications. ask your doctor or pharmacist for advice on which product is best for your symptoms. check nonprescription cough and cold product labels carefully before using two or more products at the same time. these products may contain the same active ingredient(s) and taking them together could cause you to receive an overdose. this is especially important if you will be giving cough and cold medications to a child.nonprescription cough and cold combination products, including products that contain phenylephrine, can cause serious side effects or death in young children. do not give these products to children younger than 4 years of age. if you give these products to children 4 to 11 years of age, use caution and follow the package directions carefully.if you are giving phenylephrine or a combination product that contains phenylephrine to a child, read the package label carefully to be sure that it is the right product for a child of that age. do not give phenylephrine products that are made for adults to children.before you give a phenylephrine product to a child, check the package label to find out how much medication the child should receive. give the dose that matches the child's age on the chart. ask the child's doctor if you don't know how much medication to give the child.if you are taking the liquid, do not use a household spoon to measure your dose. use the measuring spoon or cup that came with the medication or use a spoon made especially for measuring medication.if your symptoms do not get better within 7 days or if you have a fever, stop taking phenylephrine and call your doctor.if you are taking the dissolving strips, place one strip on your tongue and allow it to dissolve.about Phenylephrine\",\n",
    "    \"if you are taking scheduled doses of aluminum hydroxide, magnesium hydroxide, take the missed dose as soon as you remember it. however, if it is almost time for the next dose, skip the missed dose and continue your regular dosing schedule. do not take a double dose to make up for a missed one.about Aluminum Hydroxide and Magnesium Hydroxide\"\n",
    "]\n",
    "\n",
    "questions = [\n",
    "    \"What is phenylephrine used for and how does it work to relieve nasal discomfort?\",\n",
    "    \"What physical issues did Sinner experience during the match and how did he try to manage them?\",\n",
    "    \"Why is artificial intelligence considered a strong investment theme in the stock market today?\",\n",
    "    \"What precautions should be followed when giving phenylephrine to children or taking multiple cold medications that contain it?\",\n",
    "    \"What should you do if you miss a scheduled dose of aluminum hydroxide and magnesium hydroxide?\"\n",
    "]\n"
   ]
  },
  {
   "cell_type": "markdown",
   "id": "5be9301b",
   "metadata": {},
   "source": [
    "##### Task 4: Solve Yes or No question\n",
    "##### Prompts:"
   ]
  },
  {
   "cell_type": "code",
   "execution_count": 7,
   "id": "7f2a029d",
   "metadata": {},
   "outputs": [],
   "source": [
    "prompt_self_contained = PromptTemplate(\n",
    "        template=\"\"\"You are a grader for a question.\n",
    "    You must decide whether the question is self-contained—meaning that it is clear, meaningful, and understandable on its own, without any conversation history or external context.\n",
    "    Here is the user's question: {question} \\n\n",
    "    Return a binary judgment as a JSON object with a single key \"score\".\n",
    "    Respond only with {{\"score\": \"yes\"}} if the question is self-contained,\n",
    "    or {{\"score\": \"no\"}} if it is not. Do not include any explanation or extra text.\"\"\",\n",
    "        input_variables=[\"question\"],\n",
    ")\n",
    "\n",
    "self_contained_questions = [\n",
    "    {\"question\":\"What is the tallest mountain in South America?\", \"expect\":\"\"\"{\"score\": \"yes\"}\"\"\"},   \n",
    "    {\"question\":\"Can you think about it?\", \"expect\":\"\"\"{\"score\": \"no\"}\"\"\"},   \n",
    "    {\"question\":\"Can you explain how blockchain technology works?\", \"expect\":\"\"\"{\"score\": \"yes\"}\"\"\"},  \n",
    "    {\"question\":\"Do you have a medicine to relieve sinus congestion and pressure?\", \"expect\":\"\"\"{\"score\": \"yes\"}\"\"\"},        \n",
    "    {\"question\":\"How can I take it?\", \"expect\":\"\"\"{\"score\": \"no\"}\"\"\"},          \n",
    "    {\"question\": \"Who discovered penicillin?\", \"expect\": \"\"\"{\"score\": \"yes\"}\"\"\"},  \n",
    "    {\"question\": \"Can you tell me more about it?\", \"expect\": \"\"\"{\"score\": \"no\"}\"\"\"},  \n",
    "    {\"question\": \"What are the side effects of ibuprofen?\", \"expect\": \"\"\"{\"score\": \"yes\"}\"\"\"},  \n",
    "    {\"question\": \"Why do you think so?\", \"expect\": \"\"\"{\"score\": \"no\"}\"\"\"},  \n",
    "    {\"question\": \"What is the capital city of Japan?\", \"expect\": \"\"\"{\"score\": \"yes\"}\"\"\"},  \n",
    "]"
   ]
  },
  {
   "cell_type": "code",
   "execution_count": null,
   "id": "e017ff4c",
   "metadata": {},
   "outputs": [],
   "source": [
    "prompt_related_question = PromptTemplate(\n",
    "     template=\"\"\"You are a conversation coherence grader.\n",
    "     Your task is to decide whether the user's latest message is logically and topically connected to the previous conversation.\n",
    "     Conversation history:\n",
    "     {document}\n",
    "     User's latest message:\n",
    "     {question}\n",
    "     Return only a JSON object with a single key \"score\":\n",
    "     - {{\"score\": \"yes\"}} if the latest message is coherent and contextually related to the conversation history.\n",
    "     - {{\"score\": \"no\"}} if it is not related or breaks the context.\n",
    "     No explanation or extra text.\"\"\",\n",
    "     input_variables=[\"document\", \"question\"],\n",
    ")  \n",
    "\n",
    "documents = [\n",
    "   \"\"\"AI: phenylephrine comes as a tablet, a liquid, or a dissolving strip to take by mouth. it is usually taken every 4 hours as needed.\\n \n",
    "            HUMAN: What form does Phenylephrine come? \"\"\",\n",
    "   \"\"\"Sinner's physical struggles appeared to begin late in the second set, and he rushed to place ice towels around his neck at the changeover\"\"\",\n",
    "            \n",
    "   \"\"\"AI: amoxicillin is available as a capsule, tablet, chewable tablet, and liquid suspension to take by mouth.\\n \n",
    "      HUMAN: What forms does amoxicillin come in?\"\"\",\n",
    "   \"\"\"AI: metformin is usually taken once or twice daily with meals to reduce stomach upset.\\n \n",
    "      HUMAN: When should I take metformin?\"\"\",\n",
    "   \"\"\"AI: ibuprofen works by reducing hormones that cause inflammation and pain in the body.\\n \n",
    "      HUMAN: How does ibuprofen work?\"\"\",\n",
    "   \"\"\"AI: loratadine may cause headache, dry mouth, or drowsiness in some people.\\n \n",
    "      HUMAN: What are common side effects of loratadine?\"\"\",\n",
    "   \"\"\"AI: acetaminophen is generally used to relieve mild to moderate pain and reduce fever.\\n \n",
    "      HUMAN: What is acetaminophen used for?\"\"\",\n",
    "   \"\"\"AI: azithromycin is typically taken once daily for 3 to 5 days, depending on the infection type.\\n \n",
    "      HUMAN: How long do I need to take azithromycin?\"\"\",\n",
    "   \"\"\"AI: omeprazole should be taken before meals, usually in the morning, to reduce stomach acid production.\\n \n",
    "      HUMAN: When is the best time to take omeprazole?\"\"\",\n",
    "   \"\"\"AI: insulin helps lower blood sugar by allowing glucose to enter cells and be used for energy.\\n \n",
    "      HUMAN: What does insulin do in the body?\"\"\"\n",
    "]  \n",
    "\n",
    "related_questions = [\n",
    "   \"how can I take it?\",\n",
    "   \"what did happen to John?\",\n",
    "   \"how can I take it?\",\n",
    "   \"how can I take azithromycin?\",\n",
    "   \"how can I take it?\",\n",
    "   \"how can I take it?\",\n",
    "   \"how can I take azithromycin?\",\n",
    "   \"how can I take it?\",\n",
    "   \"how can I take it?\",\n",
    "   \"how can I take it?\",\n",
    "]\n",
    "\n",
    "expecting = [\n",
    "   \"\"\"{\"score\": \"yes\"}\"\"\", \n",
    "   \"\"\"{\"score\": \"no\"}\"\"\",\n",
    "   \"\"\"{\"score\": \"yes\"}\"\"\", \n",
    "   \"\"\"{\"score\": \"no\"}\"\"\", \n",
    "   \"\"\"{\"score\": \"yes\"}\"\"\", \n",
    "   \"\"\"{\"score\": \"yes\"}\"\"\", \n",
    "   \"\"\"{\"score\": \"no\"}\"\"\", \n",
    "   \"\"\"{\"score\": \"yes\"}\"\"\", \n",
    "   \"\"\"{\"score\": \"yes\"}\"\"\", \n",
    "   \"\"\"{\"score\": \"yes\"}\"\"\", \n",
    "]"
   ]
  },
  {
   "cell_type": "markdown",
   "id": "f4db620a",
   "metadata": {},
   "source": [
    "##### Task 5: Structured output"
   ]
  },
  {
   "cell_type": "code",
   "execution_count": 9,
   "id": "1c521222",
   "metadata": {},
   "outputs": [],
   "source": [
    "# Pure structure output\n",
    "prompt_structured_output = ChatPromptTemplate.from_messages([\n",
    "    (\"system\",\n",
    "     \"You are a precise assistant. \"\n",
    "     \"Read the user's request and produce your answer as structured JSON. \"\n",
    "     \"Do not include extra explanations or text outside the JSON.\"),\n",
    "    (\"human\",\n",
    "     \"Extract the following information from this sentence:\\n\"\n",
    "     \"'Alice bought 3 apples for $5 on Monday.'\\n\\n\"\n",
    "     \"Return the result in this JSON format:\\n\"\n",
    "     \"{{\\n\"\n",
    "     '  \"person\": \"\",\\n'\n",
    "     '  \"item\": \"\",\\n'\n",
    "     '  \"quantity\": ,\\n'\n",
    "     '  \"price\": \"\",\\n'\n",
    "     '  \"day\": \"\"\\n'\n",
    "     \"}}\")\n",
    "])"
   ]
  },
  {
   "cell_type": "markdown",
   "id": "64956071",
   "metadata": {},
   "source": [
    "##### First of all, Testing meta-llama/Llama-3.2-1B-Instruct"
   ]
  },
  {
   "cell_type": "code",
   "execution_count": 26,
   "id": "1b91a20e",
   "metadata": {},
   "outputs": [],
   "source": [
    "model_id = \"meta-llama/Llama-3.2-1B-Instruct\""
   ]
  },
  {
   "cell_type": "code",
   "execution_count": 27,
   "id": "cfd542a5",
   "metadata": {},
   "outputs": [
    {
     "name": "stdout",
     "output_type": "stream",
     "text": [
      "Load meta-llama/Llama-3.2-1B-Instruct done!\n"
     ]
    }
   ],
   "source": [
    "tokenizer = AutoTokenizer.from_pretrained(model_id)\n",
    "\n",
    "tokenizer.pad_token = tokenizer.eos_token\n",
    "\n",
    "model = AutoModelForCausalLM.from_pretrained(\n",
    "            model_id,\n",
    "            dtype = best_dtype(),\n",
    "            device_map={\"\":best_device()}, \n",
    "            low_cpu_mem_usage=True           \n",
    "        )\n",
    "\n",
    "print(f\"Load {model_id} done!\")"
   ]
  },
  {
   "cell_type": "code",
   "execution_count": 28,
   "id": "13058dee",
   "metadata": {},
   "outputs": [
    {
     "name": "stderr",
     "output_type": "stream",
     "text": [
      "Device set to use cuda\n"
     ]
    }
   ],
   "source": [
    "pipe = pipeline(\n",
    "    \"text-generation\", \n",
    "    model=model, \n",
    "    tokenizer=tokenizer,\n",
    "    return_full_text=False,   \n",
    "    )\n",
    "\n",
    "# Wrapper normal piple with huggingfacepipeline\n",
    "hug_pipe = HuggingFacePipeline(pipeline=pipe)\n",
    "\n",
    "# Transfer the pipeline to Chat mode.\n",
    "# Because this is a way we can use ChatPromptTemplate to make better prompt.\n",
    "Llama_1b = ChatHuggingFace(llm=hug_pipe)"
   ]
  },
  {
   "cell_type": "code",
   "execution_count": null,
   "id": "c1d67af3",
   "metadata": {},
   "outputs": [
    {
     "name": "stdout",
     "output_type": "stream",
     "text": [
      "Expecting: dgl\n",
      "\n",
      "content=\"Step 1: \\nRemove trailing spaces from 'good' to get 'good'.\\nStep 2: \\nFind last alphabetic letter in 'good' which is 'D'.\\nStep 3: \\nFind last alphabetic letter in'morning' which is 'G'.\\nStep 4: \\nFind last alphabetic letter in 'Medipal' which is 'L'.\\nStep 5: \\nConcatenate these three letters in the same order to get 'DGGL'.\" additional_kwargs={} response_metadata={} id='run--c224fad4-a593-4f4a-8632-e769d2fa7a7b-0'\n"
     ]
    }
   ],
   "source": [
    "# Reasoning test\n",
    "reason_letters_chain = prompt_last_letters_basic | Llama_1b\n",
    "result = reason_letters_chain.invoke({\"w1\":\"good\", \"w2\":\"morning\", \"w3\": \"Medipal\"})\n",
    "print(\"Expecting: dgl\\n\")\n",
    "print(result)\n",
    "# Expecting: 'dgl'\n",
    "# Result is 'DGGL'\n",
    "# It is ok!"
   ]
  },
  {
   "cell_type": "code",
   "execution_count": null,
   "id": "aacee4c4",
   "metadata": {},
   "outputs": [
    {
     "name": "stdout",
     "output_type": "stream",
     "text": [
      "content='Step 1: Start with the initial number of apples John has.\\nJohn has 5 apples.\\n\\nStep 2: Calculate the number of apples John gives to his father.\\nJohn gives 2 apples to his father.\\n\\nStep 3: Subtract the number of apples John gave to his father from the initial number of apples John has.\\n5 - 2 = 3\\n\\nResult: 3' additional_kwargs={} response_metadata={} id='run--f64dffbd-9538-4ed5-b943-2a46489568cb-0'\n"
     ]
    }
   ],
   "source": [
    "# simple math\n",
    "reason_math_chain = prompt_simple_math | Llama_1b\n",
    "result = reason_math_chain.invoke({})\n",
    "print(result)\n",
    "\n",
    "# Expecting: 10\n",
    "# Result is 3\n",
    "# bad performance!"
   ]
  },
  {
   "cell_type": "code",
   "execution_count": null,
   "id": "958e7a8e",
   "metadata": {},
   "outputs": [
    {
     "name": "stdout",
     "output_type": "stream",
     "text": [
      "content=\"Step 1: John starts with 12 apples.\\nStep 2: John gives 3 apples to his father, leaving him with 12 - 3 = 9 apples.\\nStep 3: John's father gives 1/3 of his 9 apples to John, which is (1/3) * 9 = 3 apples. Now John has 9 - 3 = 6 apples.\\nStep 4: John's sister eats 2 apples, leaving John with 6 - 2 = 4 apples.\\nStep 5: John's sister returns 2 apples to John, making the total number of apples John has 4 + 2 = 6 apples.\\n\\nResult: 6\" additional_kwargs={} response_metadata={} id='run--910fb982-5f8a-4801-a808-6a5c51722c1b-0'\n"
     ]
    }
   ],
   "source": [
    "# a little harder math\n",
    "reason_math_moderate_chain = prompt_moderate_math | Llama_1b\n",
    "result = reason_math_moderate_chain.invoke({})\n",
    "print(result)\n",
    "# Expecting: 11\n",
    "# Result is 6\n",
    "# bad performance again!"
   ]
  },
  {
   "cell_type": "code",
   "execution_count": null,
   "id": "41a3822d",
   "metadata": {},
   "outputs": [
    {
     "name": "stdout",
     "output_type": "stream",
     "text": [
      "content='Here are three questions based on the provided information:\\n\\n<json>\\n\"question1\", \"question2\", \"question3\"\\n\"Is phenylephrine used to treat colds, allergies, and hay fever?\", \"Does phenylephrine relieve sinus congestion and pressure?\", \"Is phenylephrine a class of medications called nasal decongestants?\"\\n</json>\\n\\n\"question4\", \"question5\", \"question6\"\\n\"Does phenylephrine relieve nasal discomfort caused by colds, allergies, and hay fever?\", \"Does phenylephrine reduce swelling of the blood vessels in the nasal passages?\", \"Is phenylephrine used to relieve sinus pressure?\"\\n</json>\\n\\n\"question7\", \"question8\", \"question9\"\\n\"Is phenylephrine used to relieve nasal discomfort caused by colds, allergies, and hay fever?\", \"Is phenylephrine used to relieve sinus congestion?\", \"Is phenylephrine used to relieve nasal pressure?\"\\n</json>' additional_kwargs={} response_metadata={} id='run--7c33200c-72df-45cd-b410-e4cc40cbaf49-0'\n",
      "content='<json>\\n    \"question1\": \"What is the likely diagnosis for Sinner\\'s physical struggles?\",\\n    \"question2\": \"What is the most likely cause of Sinner\\'s cramps?\",\\n    \"question3\": \"What should be done to alleviate Sinner\\'s discomfort?\"\\n</json>' additional_kwargs={} response_metadata={} id='run--56bdbdab-4b1c-4f12-a704-33d3bcd8e2c8-0'\n",
      "content='Here are three questions covering different medical perspectives:\\n\\n<json>\\n    \"question1\",\\n    \"question2\",\\n    \"question3\"\\n</json>' additional_kwargs={} response_metadata={} id='run--11ae2652-3aba-437e-9775-16f352da2169-0'\n",
      "content='<json>\\n\"question1\", \"question2\", \"question3\"\\n\"Phenylephrine should not be taken in combination with other medications without consulting a doctor or pharmacist.\", \\n\"Phenylephrine can cause serious side effects or death in young children.\", \"Phenylephrine should not be given to children under 4 years of age.\", \\n\"Phenylephrine should be used carefully in children 4 to 11 years of age with caution.\", \"Phenylephrine can cause overdose in children if given to one.\", \"Phenylephrine should not be used in combination with other cough and cold products.\", \\n\"Phenylephrine should be measured carefully in children to avoid overdose.\", \"Phenylephrine is not suitable for children under 4 years of age.\", \\n\"Phenylephrine should not be given to children who have had an allergic reaction to it before.\", \"Phenylephrine is not recommended for use in children with certain medical conditions.\", \"Phenylephrine should be used with caution in children with a fever.\", \\n\"Phenylephrine is not suitable for children who are taking certain medications.\", \"Phenylephrine should be used with caution in' additional_kwargs={} response_metadata={} id='run--0b176325-79fb-4f58-95fe-680902e2ba1c-0'\n",
      "content='<json>\\n\"question1\": \"What is the purpose of taking the missed dose of Aluminum Hydroxide and Magnesium Hydroxide when you remember it?\",\\n\"question2\": \"What should happen if you miss a dose of Aluminum Hydroxide and Magnesium Hydroxide?\",\\n\"question3\": \"What should you do if you are taking Aluminum Hydroxide and Magnesium Hydroxide and it is almost time for your next dose?\",\\n</json>' additional_kwargs={} response_metadata={} id='run--ee673a12-cab8-4e0a-88be-7a310eae6af6-0'\n"
     ]
    }
   ],
   "source": [
    "# Generate questions based on content\n",
    "generate_question_chain = prompt_generate_questions | Llama_1b\n",
    "\n",
    "for c in contents:\n",
    "    result = generate_question_chain.invoke({\"doc\": c})\n",
    "    print(result)\n",
    "\n",
    "# The generated questions have low quality and the format is a mess."
   ]
  },
  {
   "cell_type": "code",
   "execution_count": null,
   "id": "a5649474",
   "metadata": {},
   "outputs": [
    {
     "name": "stdout",
     "output_type": "stream",
     "text": [
      "content=\"Phenylephrine is used to relieve nasal discomfort caused by colds, allergies, and hay fever. It's also used to relieve sinus congestion and pressure. To do this, phenylephrine works by reducing swelling of the blood vessels in the nasal passages. This helps to relieve nasal discomfort and congestion.\" additional_kwargs={} response_metadata={} id='run--6544dea7-458a-4dd6-a7e4-cb91afedbfb2-0'\n",
      "content=\"Sinner's physical struggles seemed to start in the second set. He was limping around the court and massaging his right thigh in an attempt to alleviate the discomfort. When the Italian made the 2-1 changeover, he put his legs up on the bench to try and prevent cramps.\" additional_kwargs={} response_metadata={} id='run--1dce1962-00ea-4842-a2b3-8556eaad2182-0'\n",
      "content=\"Artificial intelligence is considered a strong investment theme in the stock market for several reasons. One of the main reasons is that it's where a massive amount of capital is getting invested to build out computing infrastructure and train models. This is because AI is a rapidly growing field with huge potential for growth, and companies are eager to get in on the ground floor of this exciting industry.\\n\\nAnother reason is that AI is being used in various sectors, including finance, healthcare, and transportation, which are all areas where there's a growing need for efficient and effective solutions. As a result, companies in these sectors are seeing significant investments in AI technology, which is driving up demand and creating new opportunities for growth.\" additional_kwargs={} response_metadata={} id='run--d414608d-4103-4f2a-a7d5-5791b313dd9a-0'\n",
      "content=\"When giving phenylephrine to kids, it's super important to be extra careful. Here are the things to keep in mind: \\n\\nYou shouldn't just give the stuff to any child under 4, as it can be really bad for them. For those between 4 and 11 years old, be sure to follow the instructions on the label carefully. If you're using a liquid or dissolving strips, be careful with the measuring spoon or cup that came with the medication. And don't use a household spoon to measure out the dose - use the one that came with the stuff or make your own.\\n\\nAlso, if you're giving the liquid, don't use your regular spoon. Use the one that's specifically designed for medicine. And remember, if your symptoms don't get better after a week or if you have a fever, you should talk to your doctor about stopping the stuff.\\n\\nJust to be extra safe, if you're taking the dissolving strips, be sure to place one on your tongue and let it dissolve, and don't touch the liquid with your fingers. That way, you'll avoid any mix-ups and make sure you get the right dose.\" additional_kwargs={} response_metadata={} id='run--ded6db7d-57db-4857-b291-1fff0089f8ff-0'\n",
      "content=\"If you miss a scheduled dose of aluminum hydroxide and magnesium hydroxide, try not to worry. The instructions say to take the missed dose as soon as you remember it, but if it's almost time for the next dose, just skip taking the missed dose and keep to your regular routine.\" additional_kwargs={} response_metadata={} id='run--d951d696-c6fc-4c2a-8f5a-b539f149d5df-0'\n"
     ]
    }
   ],
   "source": [
    "# Answer questions based on content\n",
    "\n",
    "answer_question_chain = prompt_answer_questions | Llama_1b\n",
    "\n",
    "for q, c in zip(questions,contents):\n",
    "    result = answer_question_chain.invoke({\"document\": c, \"question\": q})\n",
    "    print(result)\n",
    "\n",
    "# not bad!"
   ]
  },
  {
   "cell_type": "code",
   "execution_count": null,
   "id": "b996f374",
   "metadata": {},
   "outputs": [
    {
     "name": "stdout",
     "output_type": "stream",
     "text": [
      "Expecting:{\"score\": \"yes\"}, actual result:content='{\"score\": \"no\"}' additional_kwargs={} response_metadata={} id='run--13fd686f-7e9c-4a88-8603-d662d8ab2ca5-0'\n",
      "Expecting:{\"score\": \"no\"}, actual result:content='{\"score\": \"no\"}' additional_kwargs={} response_metadata={} id='run--a4b889f1-632d-46ae-9b8f-db85d9291776-0'\n",
      "Expecting:{\"score\": \"yes\"}, actual result:content='{\"score\": \"no\"}' additional_kwargs={} response_metadata={} id='run--f8bce220-7728-494e-ae32-292f8a859450-0'\n",
      "Expecting:{\"score\": \"yes\"}, actual result:content='{\"score\": \"no\"}' additional_kwargs={} response_metadata={} id='run--713c188b-5aa0-4426-b72f-e99432a34ce4-0'\n",
      "Expecting:{\"score\": \"no\"}, actual result:content='{\"score\": \"no\"}' additional_kwargs={} response_metadata={} id='run--0538ac44-d930-45d8-b155-fe15c8cfe4f3-0'\n",
      "Expecting:{\"score\": \"yes\"}, actual result:content='{\"score\": \"no\"}' additional_kwargs={} response_metadata={} id='run--7fcddd22-a9dd-46be-bd2d-ca27d2d25ac5-0'\n",
      "Expecting:{\"score\": \"no\"}, actual result:content='{\"score\": \"no\"}' additional_kwargs={} response_metadata={} id='run--b4577ad3-bd73-47ae-8440-3dd777a94fdc-0'\n",
      "Expecting:{\"score\": \"yes\"}, actual result:content='{\"score\": \"no\"}' additional_kwargs={} response_metadata={} id='run--b30eca00-36e5-421d-a918-8a1d43e09f52-0'\n",
      "Expecting:{\"score\": \"no\"}, actual result:content='{\"score\": \"no\"}' additional_kwargs={} response_metadata={} id='run--deeb0807-ca64-445e-aa37-b9600fe3566f-0'\n",
      "Expecting:{\"score\": \"yes\"}, actual result:content='{\"score\": \"no\"}' additional_kwargs={} response_metadata={} id='run--8b8fe225-9368-47c1-bb81-1168c8c9f846-0'\n"
     ]
    }
   ],
   "source": [
    "# Solve Yes or No question， structured_output\n",
    "self_contained_chain = prompt_self_contained | Llama_1b\n",
    "for q in self_contained_questions:\n",
    "    result = self_contained_chain.invoke({\"question\": q[\"question\"]})\n",
    "    print(f\"\"\"Expecting:{q[\"expect\"]}, actual result:{result}\"\"\")\n",
    "\n",
    "#it can not handle yes or no question at all!"
   ]
  },
  {
   "cell_type": "code",
   "execution_count": null,
   "id": "7efc8692",
   "metadata": {},
   "outputs": [
    {
     "name": "stdout",
     "output_type": "stream",
     "text": [
      "Expecting:{\"score\": \"yes\"}, actual result: content='{\"score\": \"no\"}' additional_kwargs={} response_metadata={} id='run--f82fe778-b8f1-41c8-823c-307e729dfdb1-0' \n",
      "Expecting:{\"score\": \"no\"}, actual result: content='{\"score\": \"no\"}' additional_kwargs={} response_metadata={} id='run--b1094875-b0f9-4041-8ed1-ea9fdd5e1d58-0' \n",
      "Expecting:{\"score\": \"yes\"}, actual result: content='{\"score\": \"no\"}' additional_kwargs={} response_metadata={} id='run--57d554ae-899c-4eef-8dd9-22ea6087360b-0' \n",
      "Expecting:{\"score\": \"no\"}, actual result: content='{\"score\": \"no\"}' additional_kwargs={} response_metadata={} id='run--2e51e744-63d2-4166-9d1a-729867c4689a-0' \n",
      "Expecting:{\"score\": \"yes\"}, actual result: content='{\"score\": \"no\"}' additional_kwargs={} response_metadata={} id='run--a183cefd-6b6a-4314-8268-7f906d8c2ba8-0' \n",
      "Expecting:{\"score\": \"yes\"}, actual result: content='{\"score\": \"no\"}' additional_kwargs={} response_metadata={} id='run--63be0bf9-031d-4dc4-8110-dfb454270036-0' \n",
      "Expecting:{\"score\": \"no\"}, actual result: content='{\"score\": \"no\"}' additional_kwargs={} response_metadata={} id='run--7bd56778-df1d-4246-afec-b7aae3516752-0' \n",
      "Expecting:{\"score\": \"yes\"}, actual result: content='{\"score\": \"no\"}' additional_kwargs={} response_metadata={} id='run--2baa7896-9b7f-44b8-bf43-da1d2cdf0ca1-0' \n",
      "Expecting:{\"score\": \"yes\"}, actual result: content='{\"score\": \"yes\"}' additional_kwargs={} response_metadata={} id='run--c0b69579-e7f9-4bae-afb9-987bef8f9457-0' \n",
      "Expecting:{\"score\": \"yes\"}, actual result: content='{\"score\": \"no\"}' additional_kwargs={} response_metadata={} id='run--2570a9c0-ba2f-4fe9-ab0d-88589eae0c05-0' \n"
     ]
    }
   ],
   "source": [
    "related_chain = prompt_related_question | Llama_1b\n",
    "for q, d, e in zip(related_questions, documents, expecting):\n",
    "    result  = related_chain.invoke({\"question\": q, \"document\": d})\n",
    "    print(f\"\"\"Expecting:{e}, actual result: {result} \"\"\")\n",
    "\n",
    "#1 out of 10. it can not handle yes or no question at all!"
   ]
  },
  {
   "cell_type": "code",
   "execution_count": null,
   "id": "460ac718",
   "metadata": {},
   "outputs": [
    {
     "name": "stdout",
     "output_type": "stream",
     "text": [
      "Result: content='{\\n  \"person\": \"\",\\n  \"item\": \"apples\",\\n  \"quantity\": 3,\\n  \"price\": \"$5\",\\n  \"day\": \"Monday\"\\n}' additional_kwargs={} response_metadata={} id='run--45caa7c9-4848-4bfd-814e-a133f5360225-0' \n"
     ]
    }
   ],
   "source": [
    "structured_output_chain = prompt_structured_output | Llama_1b\n",
    "result  = structured_output_chain.invoke({})\n",
    "print(f\"\"\"Result: {result} \"\"\")\n",
    "\n",
    "# Expecting {\\n  \"person\": \"Alice \",\\n  \"item\": \"apples\",\\n  \"quantity\": 3,\\n  \"price\": \"5\",\\n  \"day\": \"Monday\"\\n}\n",
    "# It is OK, but not accuracy"
   ]
  },
  {
   "cell_type": "markdown",
   "id": "64e215e1",
   "metadata": {},
   "source": [
    "##### Testing meta-llama/Meta-Llama-3-8B-Instruct"
   ]
  },
  {
   "cell_type": "code",
   "execution_count": 18,
   "id": "a2043988",
   "metadata": {},
   "outputs": [],
   "source": [
    "model_id = \"meta-llama/Meta-Llama-3-8B-Instruct\""
   ]
  },
  {
   "cell_type": "code",
   "execution_count": 20,
   "id": "61cf7deb",
   "metadata": {},
   "outputs": [
    {
     "data": {
      "application/vnd.jupyter.widget-view+json": {
       "model_id": "66b3e7cd5da94bfc9210c08f53c53197",
       "version_major": 2,
       "version_minor": 0
      },
      "text/plain": [
       "Loading checkpoint shards:   0%|          | 0/4 [00:00<?, ?it/s]"
      ]
     },
     "metadata": {},
     "output_type": "display_data"
    },
    {
     "name": "stdout",
     "output_type": "stream",
     "text": [
      "Load meta-llama/Meta-Llama-3-8B-Instruct done!\n"
     ]
    }
   ],
   "source": [
    "tokenizer = AutoTokenizer.from_pretrained(model_id)\n",
    "\n",
    "tokenizer.pad_token = tokenizer.eos_token\n",
    "\n",
    "model = AutoModelForCausalLM.from_pretrained(\n",
    "            model_id,\n",
    "            dtype = best_dtype(),\n",
    "            device_map={\"\":best_device()}, \n",
    "            low_cpu_mem_usage=True           \n",
    "        )\n",
    "\n",
    "print(f\"Load {model_id} done!\")"
   ]
  },
  {
   "cell_type": "code",
   "execution_count": 21,
   "id": "ca10ac36",
   "metadata": {},
   "outputs": [
    {
     "name": "stderr",
     "output_type": "stream",
     "text": [
      "Device set to use cuda\n"
     ]
    }
   ],
   "source": [
    "pipe = pipeline(\n",
    "    \"text-generation\", \n",
    "    model=model, \n",
    "    tokenizer=tokenizer,\n",
    "    return_full_text=False,   \n",
    "    )\n",
    "\n",
    "# Wrapper normal piple with huggingfacepipeline\n",
    "hug_pipe = HuggingFacePipeline(pipeline=pipe)\n",
    "\n",
    "# Transfer the pipeline to Chat mode.\n",
    "# Because this is a way we can use ChatPromptTemplate to make better prompt.\n",
    "Llama_8b = ChatHuggingFace(llm=hug_pipe)"
   ]
  },
  {
   "cell_type": "code",
   "execution_count": null,
   "id": "f15d19e2",
   "metadata": {},
   "outputs": [
    {
     "name": "stdout",
     "output_type": "stream",
     "text": [
      "content='Here are the steps to solve the problem:\\n\\nStep 1: Remove trailing spaces and punctuation from each word.\\ngood -> good, morning -> morning, Medipal -> Medipal\\n\\nStep 2: Find the last alphabetic letter (A-Z/a-z) of each word.\\ngood -> d, morning -> g, Medipal -> L\\n\\nStep 3: Concatenate these letters in the same order (word1 → word2 → word3).\\nd-g-L\\n\\nResult: dgl' additional_kwargs={} response_metadata={} id='run--e1852036-12c9-4dda-9575-6da38c4f4b10-0'\n"
     ]
    }
   ],
   "source": [
    "# Reasoning test\n",
    "reason_letters_chain = prompt_last_letters_basic | Llama_8b\n",
    "result = reason_letters_chain.invoke({\"w1\":\"good\", \"w2\":\"morning\", \"w3\": \"Medipal\"})\n",
    "print(result)\n",
    "# Expecting: 'dgl'\n",
    "# Result is 'dgl'\n",
    "# It is pretty good!"
   ]
  },
  {
   "cell_type": "code",
   "execution_count": null,
   "id": "31d2d5bf",
   "metadata": {},
   "outputs": [
    {
     "name": "stdout",
     "output_type": "stream",
     "text": [
      "content=\"Step 1: John's father initially has 8 apples.\\nStep 2: John gives 2 apples to his father, so the father receives 2 more apples.\\nStep 3: To find the total number of apples his father has now, add the initial 8 apples to the 2 apples received: 8 + 2 = 10\\nResult: 10\" additional_kwargs={} response_metadata={} id='run--cfa477ae-9516-4d08-823f-21b69ead357d-0'\n"
     ]
    }
   ],
   "source": [
    "reason_math_chain = prompt_simple_math | Llama_8b\n",
    "result = reason_math_chain.invoke({})\n",
    "print(result)\n",
    "# Expecting: 10\n",
    "# Result is 10\n",
    "# It is pretty good!"
   ]
  },
  {
   "cell_type": "code",
   "execution_count": null,
   "id": "5f89debe",
   "metadata": {},
   "outputs": [
    {
     "name": "stdout",
     "output_type": "stream",
     "text": [
      "content=\"Here's the solution:\\n\\nStep 1: John has 12 apples initially.\\nStep 2: John gives 3 apples to his father, so John has 12 - 3 = 9 apples left.\\nStep 3: John's father has 9 apples initially, and then receives 3 apples from John, so John's father has 9 + 3 = 12 apples.\\nStep 4: John's father gives 1/3 of his apples to John's sister, which is 12 ÷ 3 = 4 apples.\\nStep 5: John's sister eats 2 apples, so she has 4 - 2 = 2 apples left.\\nStep 6: John's sister returns the remaining 2 apples to John.\\nStep 7: John already had 9 apples, and now receives 2 more from his sister, so John has 9 + 2 = 11 apples.\\n\\nResult: 11\" additional_kwargs={} response_metadata={} id='run--8360f818-175b-4275-a164-ead553316eae-0'\n"
     ]
    }
   ],
   "source": [
    "# a little harder math\n",
    "reason_math_moderate_chain = prompt_moderate_math | Llama_8b\n",
    "result = reason_math_moderate_chain.invoke({})\n",
    "print(result)\n",
    "# Expecting: 11\n",
    "# Result is 11\n",
    "# Amazing job!"
   ]
  },
  {
   "cell_type": "code",
   "execution_count": null,
   "id": "75927e58",
   "metadata": {},
   "outputs": [
    {
     "name": "stdout",
     "output_type": "stream",
     "text": [
      "content='<json>\\n[\"What are the common uses of phenylephrine?\", \"Can phenylephrine treat the underlying cause of nasal discomfort?\", \"What is the mechanism of action of phenylephrine as a nasal decongestant?\"]\\n</json>' additional_kwargs={} response_metadata={} id='run--ef813a3f-c710-4f41-b9b3-7a6998f2a8aa-0'\n",
      "content='<json>\\n[\"What are the initial symptoms exhibited by Sinner during the second set?\", \"What is the potential cause of Sinner\\'s limping and thigh massaging in the decider?\", \"What is Sinner\\'s attempt to alleviate his cramp symptoms at the 2-1 changeover?\"]\\n</json>' additional_kwargs={} response_metadata={} id='run--ac0d01d6-b3ba-4bb3-bcf8-19071b901edd-0'\n",
      "content='<json>\\n[\"What are the key areas of computing infrastructure being built to support AI investing?\", \"What are the indications that AI will remain a prevailing market theme for several more years?\", \"What is the expected impact of AI investing on the stock market in the near future?\"]\\n</json>' additional_kwargs={} response_metadata={} id='run--64e7aaa7-5f0c-4155-adc3-2773b1b5747b-0'\n",
      "content='<json>\\n[\"What is the recommended frequency of taking phenylephrine?\", \"Can phenylephrine products be given to children under 4 years of age?\", \"How should the liquid form of phenylephrine be measured for proper dosage?\"]\\n</json>' additional_kwargs={} response_metadata={} id='run--bd7ef9f5-f704-4c04-b180-f43f4972deca-0'\n",
      "content='<json>\\n[\"What is the recommended action if a scheduled dose of aluminum hydroxide and magnesium hydroxide is missed?\", \\n\"What is the recommended action if the missed dose is almost time for the next scheduled dose?\", \\n\"What is the recommended action to avoid when taking a missed dose of aluminum hydroxide and magnesium hydroxide?\"]\\n</json>' additional_kwargs={} response_metadata={} id='run--28c1b638-9592-4af4-9e08-006ffed63d28-0'\n"
     ]
    }
   ],
   "source": [
    "# Generate questions based on content\n",
    "generate_question_chain = prompt_generate_questions | Llama_8b\n",
    "\n",
    "for c in contents:\n",
    "    result = generate_question_chain.invoke({\"doc\": c})\n",
    "    print(result)\n",
    "\n",
    "# Pretty good!"
   ]
  },
  {
   "cell_type": "code",
   "execution_count": null,
   "id": "4f4a248f",
   "metadata": {},
   "outputs": [
    {
     "name": "stdout",
     "output_type": "stream",
     "text": [
      "content=\"Phenylephrine is used to relieve nasal discomfort caused by colds, allergies, and hay fever. It's also great for relieving sinus congestion and pressure. When you're feeling stuffy or congested, phenylephrine helps by reducing the swelling of the blood vessels in your nasal passages. This swelling is what's causing your discomfort, so by shrinking it down, phenylephrine helps ease your symptoms. It's like a quick fix to help you breathe easier and feel more comfortable.\" additional_kwargs={} response_metadata={} id='run--8d4a3c09-73d9-49bd-b99d-7d5e2df39e4f-0'\n",
      "content='It seems like Sinner was dealing with some physical struggles during the match. He started to show signs of distress towards the end of the second set, and it only got worse from there. He had to put ice towels around his neck at the changeover before the third set, which suggests he was experiencing some kind of discomfort or pain. Later on, he was limping between points and massaging his right thigh, which implies he was dealing with a muscle cramp or strain. At one point, he even got up from his chair at the 2-1 changeover and put his legs up on the bench, trying to stretch out and relieve the cramp. It was clear he was trying to manage his physical issues as best he could, but it was still affecting his performance on the court.' additional_kwargs={} response_metadata={} id='run--35cc081a-3328-49b6-90e4-002adcf49366-0'\n",
      "content=\"Artificial intelligence is considered a strong investment theme in the stock market today because a massive amount of capital is being invested to build out computing infrastructure and train models. This influx of capital is what's driving the dominance of AI in the market right now.\" additional_kwargs={} response_metadata={} id='run--b60e0ac4-631d-4283-b921-bb16592422cb-0'\n",
      "content=\"When it comes to giving phenylephrine to children, it's crucial to be careful. For kids under 4 years old, it's actually recommended not to give them any nonprescription cough and cold products that contain phenylephrine, as they can cause serious side effects or even be life-threatening. For kids between 4 to 11 years old, make sure to follow the package directions carefully and only use the right product for their age group. When giving phenylephrine to a child, always check the package label to ensure you're giving the correct dose for their age.\\n\\nIt's also important to be mindful of giving multiple cold medications that contain phenylephrine. Check the labels carefully to avoid giving your child too much of the same active ingredient, which can lead to an overdose. If you're unsure, always consult with your child's doctor or pharmacist for guidance.\" additional_kwargs={} response_metadata={} id='run--398f0b32-d60c-42b9-892b-2f97f4ec5c44-0'\n",
      "content=\"If you miss a scheduled dose of aluminum hydroxide and magnesium hydroxide, don't worry! Just take the missed dose as soon as you remember it. But, if it's almost time for your next dose, you can skip the missed one and stick to your regular dosing schedule. Just don't try to make up for the missed dose by taking a double dose - just keep on track with your regular routine.\" additional_kwargs={} response_metadata={} id='run--088ae212-f645-450b-a8b1-77591eade38b-0'\n"
     ]
    }
   ],
   "source": [
    "# Answer questions based on content\n",
    "\n",
    "answer_question_chain = prompt_answer_questions | Llama_8b\n",
    "\n",
    "for q, c in zip(questions,contents):\n",
    "    result = answer_question_chain.invoke({\"document\": c, \"question\": q})\n",
    "    print(result)\n",
    "\n",
    "# Pretty good!"
   ]
  },
  {
   "cell_type": "code",
   "execution_count": null,
   "id": "b934fef5",
   "metadata": {},
   "outputs": [
    {
     "name": "stdout",
     "output_type": "stream",
     "text": [
      "Expecting:{\"score\": \"yes\"}, actual result:content='{\"score\": \"yes\"}' additional_kwargs={} response_metadata={} id='run--7a7660c2-e76b-4dad-96ba-1d710374f8bb-0'\n",
      "Expecting:{\"score\": \"no\"}, actual result:content='{\"score\": \"no\"}' additional_kwargs={} response_metadata={} id='run--e9816c7c-1ce0-4b22-b2f8-e9c6524cab80-0'\n",
      "Expecting:{\"score\": \"yes\"}, actual result:content='{\"score\": \"yes\"}' additional_kwargs={} response_metadata={} id='run--7754d14f-57f2-473b-abf3-823c69640242-0'\n",
      "Expecting:{\"score\": \"yes\"}, actual result:content='{\"score\": \"yes\"}' additional_kwargs={} response_metadata={} id='run--8a07e2aa-9402-4df4-81a9-b2bb131524d2-0'\n",
      "Expecting:{\"score\": \"no\"}, actual result:content='{\"score\": \"no\"}' additional_kwargs={} response_metadata={} id='run--82701dd2-6e18-46b9-a7e5-b10e0fca5370-0'\n",
      "Expecting:{\"score\": \"yes\"}, actual result:content='{\"score\": \"yes\"}' additional_kwargs={} response_metadata={} id='run--f0c498ef-7abc-42c3-86e3-6ce908791831-0'\n",
      "Expecting:{\"score\": \"no\"}, actual result:content='{\"score\": \"no\"}' additional_kwargs={} response_metadata={} id='run--889a2234-1430-4cde-b6b1-56214d667f6e-0'\n",
      "Expecting:{\"score\": \"yes\"}, actual result:content='{\"score\": \"yes\"}' additional_kwargs={} response_metadata={} id='run--d061103b-5872-43d1-9df5-cd388953a25d-0'\n",
      "Expecting:{\"score\": \"no\"}, actual result:content='{\"score\": \"no\"}' additional_kwargs={} response_metadata={} id='run--0594a29f-d591-4f81-8e60-47ee980416a2-0'\n",
      "Expecting:{\"score\": \"yes\"}, actual result:content='{\"score\": \"yes\"}' additional_kwargs={} response_metadata={} id='run--13c2b667-abc2-4161-bd7f-1ecf80442c28-0'\n"
     ]
    }
   ],
   "source": [
    "# Solve Yes or No question， structured_output\n",
    "self_contained_chain = prompt_self_contained | Llama_8b\n",
    "for q in self_contained_questions:\n",
    "    result = self_contained_chain.invoke({\"question\": q[\"question\"]})\n",
    "    print(f\"\"\"Expecting:{q[\"expect\"]}, actual result:{result}\"\"\")\n",
    "\n",
    "# 10 out of 10"
   ]
  },
  {
   "cell_type": "code",
   "execution_count": 25,
   "id": "2ff2eaf3",
   "metadata": {},
   "outputs": [
    {
     "name": "stdout",
     "output_type": "stream",
     "text": [
      "Expecting:{\"score\": \"yes\"}, actual result: content='{\"score\": \"yes\"}' additional_kwargs={} response_metadata={} id='run--88978225-0c7d-4ca8-8263-658261c431e4-0' \n",
      "Expecting:{\"score\": \"no\"}, actual result: content='{\"score\": \"no\"}' additional_kwargs={} response_metadata={} id='run--b33a768c-9550-4617-9ce9-c63f7684d9e3-0' \n",
      "Expecting:{\"score\": \"yes\"}, actual result: content='{\"score\": \"yes\"}' additional_kwargs={} response_metadata={} id='run--8582f436-a0fe-4a9a-973a-3d3d3b1d3da3-0' \n"
     ]
    },
    {
     "name": "stderr",
     "output_type": "stream",
     "text": [
      "You seem to be using the pipelines sequentially on GPU. In order to maximize efficiency please use a dataset\n"
     ]
    },
    {
     "name": "stdout",
     "output_type": "stream",
     "text": [
      "Expecting:{\"score\": \"no\"}, actual result: content='{\"score\": \"no\"}' additional_kwargs={} response_metadata={} id='run--4ce5db25-5b2f-45c5-b650-226114c0ca24-0' \n",
      "Expecting:{\"score\": \"yes\"}, actual result: content='{\"score\": \"yes\"}' additional_kwargs={} response_metadata={} id='run--43ce4240-bc03-462c-884f-1129a5821849-0' \n",
      "Expecting:{\"score\": \"yes\"}, actual result: content='{\"score\": \"yes\"}' additional_kwargs={} response_metadata={} id='run--cee784fd-0c13-4a09-8d96-3cc807cb03d4-0' \n",
      "Expecting:{\"score\": \"no\"}, actual result: content='{\"score\": \"no\"}' additional_kwargs={} response_metadata={} id='run--5d5cf5fb-7585-4fdb-b8ca-efddc86587d8-0' \n",
      "Expecting:{\"score\": \"yes\"}, actual result: content='{\"score\": \"yes\"}' additional_kwargs={} response_metadata={} id='run--32d9d25f-0e1f-42d8-813f-b8e9b02fdf29-0' \n",
      "Expecting:{\"score\": \"yes\"}, actual result: content='{\"score\": \"yes\"}' additional_kwargs={} response_metadata={} id='run--8b62e857-b408-4f10-a05d-b0ea16c5cbc1-0' \n",
      "Expecting:{\"score\": \"yes\"}, actual result: content='{\"score\": \"no\"}' additional_kwargs={} response_metadata={} id='run--a66ff2d5-0a48-41bf-ad39-5d5d60574780-0' \n"
     ]
    }
   ],
   "source": [
    "related_chain = prompt_related_question | Llama_8b\n",
    "for q, d, e in zip(related_questions, documents, expecting):\n",
    "    result  = related_chain.invoke({\"question\": q, \"document\": d})\n",
    "    print(f\"\"\"Expecting:{e}, actual result: {result} \"\"\")\n",
    "\n",
    "# 9 out of 10"
   ]
  },
  {
   "cell_type": "code",
   "execution_count": null,
   "id": "8aa6dd06",
   "metadata": {},
   "outputs": [
    {
     "name": "stdout",
     "output_type": "stream",
     "text": [
      "Result: content='{\\n  \"person\": \"Alice\",\\n  \"item\": \"apples\",\\n  \"quantity\": 3,\\n  \"price\": 5,\\n  \"day\": \"Monday\"\\n}' additional_kwargs={} response_metadata={} id='run--5283cdc7-1d15-44d8-8a45-a94768beefa4-0' \n"
     ]
    }
   ],
   "source": [
    "structured_output_chain = prompt_structured_output | Llama_8b\n",
    "result  = structured_output_chain.invoke({})\n",
    "print(f\"\"\"Result: {result} \"\"\")\n",
    "\n",
    "# Expecting {\\n  \"person\": \"Alice \",\\n  \"item\": \"apples\",\\n  \"quantity\": 3,\\n  \"price\": \"5\",\\n  \"day\": \"Monday\"\\n}\n",
    "# Amazing job!"
   ]
  },
  {
   "cell_type": "markdown",
   "id": "26d3e647",
   "metadata": {},
   "source": [
    "##### Testing ContactDoctor/Bio-Medical-Llama-3-8B"
   ]
  },
  {
   "cell_type": "code",
   "execution_count": 10,
   "id": "c4a13873",
   "metadata": {},
   "outputs": [],
   "source": [
    "model_id = \"ContactDoctor/Bio-Medical-Llama-3-8B\""
   ]
  },
  {
   "cell_type": "code",
   "execution_count": 12,
   "id": "d4c7c054",
   "metadata": {},
   "outputs": [
    {
     "data": {
      "application/vnd.jupyter.widget-view+json": {
       "model_id": "cb662a8449144b228f2f3ec3ec2ac29a",
       "version_major": 2,
       "version_minor": 0
      },
      "text/plain": [
       "Loading checkpoint shards:   0%|          | 0/2 [00:00<?, ?it/s]"
      ]
     },
     "metadata": {},
     "output_type": "display_data"
    },
    {
     "name": "stdout",
     "output_type": "stream",
     "text": [
      "Load ContactDoctor/Bio-Medical-Llama-3-8B done!\n"
     ]
    }
   ],
   "source": [
    "tokenizer = AutoTokenizer.from_pretrained(model_id)\n",
    "\n",
    "tokenizer.pad_token = tokenizer.eos_token\n",
    "\n",
    "model = AutoModelForCausalLM.from_pretrained(\n",
    "            model_id,\n",
    "            dtype = best_dtype(),\n",
    "            device_map={\"\":best_device()}, \n",
    "            low_cpu_mem_usage=True           \n",
    "        )\n",
    "\n",
    "print(f\"Load {model_id} done!\")"
   ]
  },
  {
   "cell_type": "code",
   "execution_count": 13,
   "id": "3d58f55d",
   "metadata": {},
   "outputs": [
    {
     "name": "stderr",
     "output_type": "stream",
     "text": [
      "Device set to use cuda\n"
     ]
    }
   ],
   "source": [
    "pipe = pipeline(\n",
    "    \"text-generation\", \n",
    "    model=model, \n",
    "    tokenizer=tokenizer,\n",
    "    return_full_text=False,   \n",
    "    )\n",
    "\n",
    "# Wrapper normal piple with huggingfacepipeline\n",
    "hug_pipe = HuggingFacePipeline(pipeline=pipe)\n",
    "\n",
    "# Transfer the pipeline to Chat mode.\n",
    "# Because this is a way we can use ChatPromptTemplate to make better prompt.\n",
    "Medical_Llama_8b = ChatHuggingFace(llm=hug_pipe)"
   ]
  },
  {
   "cell_type": "code",
   "execution_count": null,
   "id": "e04d39f2",
   "metadata": {},
   "outputs": [
    {
     "name": "stdout",
     "output_type": "stream",
     "text": [
      "content=' Step 1: Remove trailing spaces and punctuation from each word.\\nStep 2: Find the last alphabetic letter (A–Z/a–z) of each word.\\nStep 3: Concatenate the three letters in the same order.\\nResult: mg' additional_kwargs={} response_metadata={} id='run--d0d49b2a-03bc-46b7-a210-a4f48e085686-0'\n"
     ]
    }
   ],
   "source": [
    "# Reasoning test\n",
    "reason_letters_chain = prompt_last_letters_basic | Medical_Llama_8b\n",
    "result = reason_letters_chain.invoke({\"w1\":\"good\", \"w2\":\"morning\", \"w3\": \"Medipal\"})\n",
    "print(result)\n",
    "\n",
    "# Expecting: 'dgl'\n",
    "# Result is 'mg'\n",
    "# It is pretty bad!"
   ]
  },
  {
   "cell_type": "code",
   "execution_count": null,
   "id": "444ca7e5",
   "metadata": {},
   "outputs": [
    {
     "name": "stdout",
     "output_type": "stream",
     "text": [
      "content=\" Step 1: Initial number of apples father has: 8\\nStep 2: Apples John gives to father: 2\\nStep 3: Subtract apples given from father's initial apples: 8 - 2 = 6\\nResult: 6\" additional_kwargs={} response_metadata={} id='run--53f40231-ee84-4a4e-b7a3-19884634620a-0'\n"
     ]
    }
   ],
   "source": [
    "reason_math_chain = prompt_simple_math | Medical_Llama_8b\n",
    "result = reason_math_chain.invoke({})\n",
    "print(result)\n",
    "# Expecting: 10\n",
    "# Result is 10\n",
    "# It is pretty good!"
   ]
  },
  {
   "cell_type": "code",
   "execution_count": 15,
   "id": "ca97ca99",
   "metadata": {},
   "outputs": [
    {
     "name": "stdout",
     "output_type": "stream",
     "text": [
      "content=\" Step 1: John has 12 apples initially and gives 3 to his father, so he has 12 - 3 = 9 apples left.\\nStep 2: John's father now has 9 + 3 = 12 apples and gives one-third of 12 apples to John, so John gets 12/3 = 4 apples from his father.\\nStep 3: John now has 9 + 4 = 13 apples and his sister eats 2 apples from John, so John has 13 - 2 = 11 apples left.\\nStep 4: John's sister had 4 apples and ate 2, so she has 4 - 2 = 2 apples left and returns the rest to John, which is 2 apples.\\nStep 5: John now has 11 + 2 = 13 apples.\\nResult: 13\" additional_kwargs={} response_metadata={} id='run--7a275202-b5ae-4cd5-a8b2-b9ba3e4ffa04-0'\n"
     ]
    }
   ],
   "source": [
    "# a little harder math\n",
    "reason_math_moderate_chain = prompt_moderate_math | Medical_Llama_8b\n",
    "result = reason_math_moderate_chain.invoke({})\n",
    "print(result)\n",
    "# Expecting: 11\n",
    "# Result is 13\n",
    "# The step is wrong, so result is wrong!"
   ]
  },
  {
   "cell_type": "code",
   "execution_count": 16,
   "id": "b081bcc0",
   "metadata": {},
   "outputs": [
    {
     "name": "stdout",
     "output_type": "stream",
     "text": [
      "content=' <json>\\n[\"Does phenylephrine relieve nasal discomfort caused by a common cold?\", \"Can phenylephrine be used to relieve sinus congestion?\", \"Does phenylephrine belong to a class of medications called nasal decongestants?\"\\n</json>' additional_kwargs={} response_metadata={} id='run--76b62a93-03db-4dfc-bbb2-4c503e63a206-0'\n",
      "content=' <json>\\n[\"Why would Sinner use ice towels around his neck at a changeover?\", \"What might have contributed to Sinner\\'s physical struggles in the second set?\", \"What might be the purpose of Sinner frequently massaging his right thigh?\"\\n</json>' additional_kwargs={} response_metadata={} id='run--df5f178c-93e0-4cea-9837-c11cd674ce17-0'\n",
      "content=' <json>\\n[\"What are the key drivers of the current dominance of AI investing in the stock market?\", \"How does the massive capital investment in AI computing infrastructure and model training contribute to its ongoing prevalence in the market?\", \"What are the likely implications of continued large-scale investment in AI for its status as a market theme?\"\\n</json>' additional_kwargs={} response_metadata={} id='run--ac6c51bd-c6a4-46f1-9e42-dcf48566944e-0'\n",
      "content=' [\"Can phenylephrine be given to children younger than 4 years of age?\", \"How should phenylephrine be given to children?\", \"Can I use a household spoon to give phenylephrine to a child?\"]' additional_kwargs={} response_metadata={} id='run--95b063ab-4bcc-48aa-8d6e-6854d4b80de2-0'\n",
      "content=' <json>\\n[\"When taking aluminum hydroxide and magnesium hydroxide, what should you do if you miss a scheduled dose?\", \"What should you do if you miss a dose of aluminum hydroxide and magnesium hydroxide close to the time for the next one?\", \"What should be avoided when taking a missed dose of aluminum hydroxide and magnesium hydroxide?\"\\n' additional_kwargs={} response_metadata={} id='run--7f1b0ec3-a68e-456f-aa9d-0b636a3f30a2-0'\n"
     ]
    }
   ],
   "source": [
    "# Generate questions based on content\n",
    "generate_question_chain = prompt_generate_questions | Medical_Llama_8b\n",
    "\n",
    "for c in contents:\n",
    "    result = generate_question_chain.invoke({\"doc\": c})\n",
    "    print(result)\n",
    "\n",
    "# questions are good. but format is not stable."
   ]
  },
  {
   "cell_type": "code",
   "execution_count": null,
   "id": "bf872441",
   "metadata": {},
   "outputs": [
    {
     "name": "stdout",
     "output_type": "stream",
     "text": [
      "content=' Phenylephrine is used to relieve nasal discomfort caused by colds, allergies, and hay fever. It works by reducing swelling of the blood vessels in the nasal passages.' additional_kwargs={} response_metadata={} id='run--3e7be86d-9503-4b18-b7a4-33a28ed21a8d-0'\n",
      "content=' Sinner experienced physical struggles, particularly in the second set. He applied ice towels around his neck at the changeover before the start of the third set, indicating he might have had heat-related issues. During the third set, he was limping between points and frequently massaged his right thigh, suggesting he had some kind of muscle or joint pain. At the 2-1 changeover in the decider, instead of sitting down like usual, he put his legs up on his bench to try and manage what seemed to be cramps.' additional_kwargs={} response_metadata={} id='run--78ab53e3-d3ce-4ac5-b00d-9d24364f779f-0'\n",
      "content=' Artificial intelligence (AI) is considered a strong investment theme in the stock market today because a massive amount of capital is being invested to build out computing infrastructure and train models.' additional_kwargs={} response_metadata={} id='run--d0fc8c16-affb-44a6-a3f6-fa3942e7db5a-0'\n",
      "content=\" Phenylephrine should be given to children exactly as directed, and parents or caregivers should check the package label carefully to ensure the right dose for a child of that age. It's also important not to give phenylephrine products that are made for adults to children, as this could be harmful. If a child is taking phenylephrine, their symptoms should improve within 7 days; if they don't or if they develop a fever, they should stop taking the medication and call their doctor. Additionally, when giving phenylephrine or any other medication to children, parents or caregivers should use the measuring spoon or cup that came with the medication, as household spoons can be inaccurate.\" additional_kwargs={} response_metadata={} id='run--83277e53-a1d4-42ce-bf55-67a13ca91852-0'\n",
      "content=' If you miss a scheduled dose of aluminum hydroxide and magnesium hydroxide, take the missed dose as soon as you remember it. However, if it is almost time for the next dose, skip the missed dose and continue your regular dosing schedule. Do not take a double dose to make up for a missed one.' additional_kwargs={} response_metadata={} id='run--b215d7fe-92be-4f26-93aa-045269ae2c9d-0'\n"
     ]
    },
    {
     "ename": "",
     "evalue": "",
     "output_type": "error",
     "traceback": [
      "\u001b[1;31mThe Kernel crashed while executing code in the current cell or a previous cell. \n",
      "\u001b[1;31mPlease review the code in the cell(s) to identify a possible cause of the failure. \n",
      "\u001b[1;31mClick <a href='https://aka.ms/vscodeJupyterKernelCrash'>here</a> for more info. \n",
      "\u001b[1;31mView Jupyter <a href='command:jupyter.viewOutput'>log</a> for further details."
     ]
    }
   ],
   "source": [
    "# Answer questions based on content\n",
    "\n",
    "answer_question_chain = prompt_answer_questions | Medical_Llama_8b\n",
    "\n",
    "for q, c in zip(questions,contents):\n",
    "    result = answer_question_chain.invoke({\"document\": c, \"question\": q})\n",
    "    print(result)\n",
    "\n",
    "# Pretty good!"
   ]
  },
  {
   "cell_type": "code",
   "execution_count": 19,
   "id": "29f05ea9",
   "metadata": {},
   "outputs": [
    {
     "name": "stdout",
     "output_type": "stream",
     "text": [
      "Expecting:{\"score\": \"yes\"}, actual result:content=' {\"score\": \"yes\"}' additional_kwargs={} response_metadata={} id='run--ceba652a-2b20-47cd-b5a2-8851ba2a7586-0'\n",
      "Expecting:{\"score\": \"no\"}, actual result:content=' {\"score\": \"yes\"}' additional_kwargs={} response_metadata={} id='run--2175daff-bff4-4b41-bd7a-1cd1f0accd5b-0'\n",
      "Expecting:{\"score\": \"yes\"}, actual result:content=' {\"score\": \"yes\"}' additional_kwargs={} response_metadata={} id='run--6d2b4316-1b60-4004-9c5f-cc1bae9e03c6-0'\n",
      "Expecting:{\"score\": \"yes\"}, actual result:content=' {\"score\": \"yes\"}' additional_kwargs={} response_metadata={} id='run--95f56aa3-560e-45a4-a96c-5f860bf12b1f-0'\n",
      "Expecting:{\"score\": \"no\"}, actual result:content=' {\"score\": \"no\"}' additional_kwargs={} response_metadata={} id='run--b53857be-4e84-4996-83ee-9730b7fba5a0-0'\n",
      "Expecting:{\"score\": \"yes\"}, actual result:content=' {\"score\": \"yes\"}' additional_kwargs={} response_metadata={} id='run--aa12bf99-f67f-446f-9c40-b8790d253d1c-0'\n",
      "Expecting:{\"score\": \"no\"}, actual result:content=' {\"score\": \"no\"}' additional_kwargs={} response_metadata={} id='run--21a6fb4a-40c0-4fb6-aa26-0f4296c2a975-0'\n",
      "Expecting:{\"score\": \"yes\"}, actual result:content=' {\"score\": \"yes\"}' additional_kwargs={} response_metadata={} id='run--1ef220c6-c3eb-420a-83bc-7fec7c60e95a-0'\n",
      "Expecting:{\"score\": \"no\"}, actual result:content=' {\"score\": \"yes\"}' additional_kwargs={} response_metadata={} id='run--fb003aa5-79bf-4b8d-a73d-9547138d4082-0'\n",
      "Expecting:{\"score\": \"yes\"}, actual result:content=' {\"score\": \"yes\"}' additional_kwargs={} response_metadata={} id='run--a455ba02-3112-49f0-a16c-22c6a51418db-0'\n"
     ]
    }
   ],
   "source": [
    "# Solve Yes or No question， structured_output\n",
    "self_contained_chain = prompt_self_contained | Medical_Llama_8b\n",
    "for q in self_contained_questions:\n",
    "    result = self_contained_chain.invoke({\"question\": q[\"question\"]})\n",
    "    print(f\"\"\"Expecting:{q[\"expect\"]}, actual result:{result}\"\"\")\n",
    "\n",
    "# 8 out of 10"
   ]
  },
  {
   "cell_type": "code",
   "execution_count": 21,
   "id": "d5f1210e",
   "metadata": {},
   "outputs": [
    {
     "name": "stdout",
     "output_type": "stream",
     "text": [
      "Expecting:{\"score\": \"yes\"}, actual result: content=' {\"score\": \"yes\"}' additional_kwargs={} response_metadata={} id='run--2f00db09-ddcc-4df6-b6ab-300f78bb1cc1-0' \n",
      "Expecting:{\"score\": \"no\"}, actual result: content=' {\"score\": \"no\"}' additional_kwargs={} response_metadata={} id='run--5eb100f8-7315-4647-a71c-eee9b781a3f3-0' \n",
      "Expecting:{\"score\": \"yes\"}, actual result: content=' {\"score\": \"yes\"}' additional_kwargs={} response_metadata={} id='run--55888080-db4a-4ca8-ad0d-fb79b8a1512b-0' \n",
      "Expecting:{\"score\": \"no\"}, actual result: content=' {\"score\": \"no\"}' additional_kwargs={} response_metadata={} id='run--31afe703-ee01-43cc-be57-d0e5e4256065-0' \n",
      "Expecting:{\"score\": \"yes\"}, actual result: content=' {\"score\": \"yes\"}' additional_kwargs={} response_metadata={} id='run--ec95d1f5-6ec0-47e7-b336-45b223c85315-0' \n",
      "Expecting:{\"score\": \"yes\"}, actual result: content=' {\"score\": \"yes\"}' additional_kwargs={} response_metadata={} id='run--2a000c19-155a-48c7-9bff-6a5df3e92ca5-0' \n",
      "Expecting:{\"score\": \"no\"}, actual result: content=' {\"score\": \"no\"}' additional_kwargs={} response_metadata={} id='run--3a3ee133-dd3d-4ded-b735-52371c60459a-0' \n",
      "Expecting:{\"score\": \"yes\"}, actual result: content=' {\"score\": \"yes\"}' additional_kwargs={} response_metadata={} id='run--03733671-fcb3-4515-a276-317b34cc126b-0' \n",
      "Expecting:{\"score\": \"yes\"}, actual result: content=' {\"score\": \"yes\"}' additional_kwargs={} response_metadata={} id='run--5c69dbc4-ec46-47f1-95a8-ca7599695be5-0' \n",
      "Expecting:{\"score\": \"yes\"}, actual result: content=' {\"score\": \"yes\"}' additional_kwargs={} response_metadata={} id='run--5a234b67-74c6-45c5-afa1-c5bb8a4aa7a1-0' \n"
     ]
    }
   ],
   "source": [
    "related_chain = prompt_related_question | Medical_Llama_8b\n",
    "for q, d, e in zip(related_questions, documents, expecting):\n",
    "    result  = related_chain.invoke({\"question\": q, \"document\": d})\n",
    "    print(f\"\"\"Expecting:{e}, actual result: {result} \"\"\")\n",
    "\n",
    "# 10 out of 10"
   ]
  },
  {
   "cell_type": "code",
   "execution_count": 21,
   "id": "d1199726",
   "metadata": {},
   "outputs": [
    {
     "name": "stdout",
     "output_type": "stream",
     "text": [
      "Result: content=' {\\n  \"person\": \"Alice\",\\n  \"item\": \"apples\",\\n  \"quantity\": 3,\\n  \"price\": 5,\\n  \"day\": \"Monday\"\\n}' additional_kwargs={} response_metadata={} id='run--e228831b-023b-4f5f-a97a-401b93cde14a-0' \n"
     ]
    }
   ],
   "source": [
    "structured_output_chain = prompt_structured_output | Medical_Llama_8b\n",
    "result  = structured_output_chain.invoke({})\n",
    "print(f\"\"\"Result: {result} \"\"\")\n",
    "\n",
    "# Expecting {\\n  \"person\": \"Alice \",\\n  \"item\": \"apples\",\\n  \"quantity\": 3,\\n  \"price\": \"5\",\\n  \"day\": \"Monday\"\\n}\n",
    "# It is pretty good!"
   ]
  }
 ],
 "metadata": {
  "kernelspec": {
   "display_name": "SFT_QLoRA_Llama3_1B",
   "language": "python",
   "name": "python3"
  },
  "language_info": {
   "codemirror_mode": {
    "name": "ipython",
    "version": 3
   },
   "file_extension": ".py",
   "mimetype": "text/x-python",
   "name": "python",
   "nbconvert_exporter": "python",
   "pygments_lexer": "ipython3",
   "version": "3.11.13"
  }
 },
 "nbformat": 4,
 "nbformat_minor": 5
}
