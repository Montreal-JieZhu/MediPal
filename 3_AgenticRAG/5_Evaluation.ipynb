{
 "cells": [
  {
   "cell_type": "markdown",
   "id": "cc0d6f9e",
   "metadata": {},
   "source": [
    "## MediPal -- Evaluation -- RAGAS"
   ]
  },
  {
   "cell_type": "markdown",
   "id": "97e497bd",
   "metadata": {},
   "source": [
    "### In this section, I evaluate MediPal by RAGAS. I keep everything the same but change different set of models to see the differents. \n",
    "\n",
    "##### I set exact the same evaluation dataset, matrics and environment, comparing two sets of models. They have almost the same size but one set is general models, another one is fine-tuned on medical documents.\n",
    "\n",
    "| Medical Team      |  Normal Team                      |  Big  Team                      |\n",
    "| ----------------- | ---------------------------------- |---------------------------------- |\n",
    "| sentence-transformers/embeddinggemma-300m-medical | google/embeddinggemma-300m |  google/embeddinggemma-300m |\n",
    "| ncbi/MedCPT-Cross-Encoder | cross-encoder/ms-marco-MiniLM-L6-v2 | cross-encoder/ms-marco-MiniLM-L6-v2 |\n",
    "| ContactDoctor/Bio-Medical-Llama-3-8B | meta-llama/Meta-Llama-3-8B-Instruct | meta-llama/Meta-Llama-3-70B-Instruct |\n",
    "\n",
    "\n",
    "##### Matrics: answer_relevancy, faithfulness, context_precision, context_recall, answer_correctness "
   ]
  },
  {
   "cell_type": "code",
   "execution_count": 1,
   "id": "36b685f9",
   "metadata": {},
   "outputs": [],
   "source": [
    "from src.settings import AgentState\n",
    "from datasets import Dataset\n",
    "import pandas as pd\n",
    "from ragas import evaluate\n",
    "from ragas.metrics import answer_relevancy, faithfulness, context_precision, context_recall"
   ]
  },
  {
   "cell_type": "code",
   "execution_count": 2,
   "id": "7b1b2d72",
   "metadata": {},
   "outputs": [
    {
     "name": "stdout",
     "output_type": "stream",
     "text": [
      "Login HuggingFace!\n"
     ]
    },
    {
     "data": {
      "application/vnd.jupyter.widget-view+json": {
       "model_id": "189f0f431fc1417589f8d3dd462fe0c9",
       "version_major": 2,
       "version_minor": 0
      },
      "text/plain": [
       "Loading checkpoint shards:   0%|          | 0/2 [00:00<?, ?it/s]"
      ]
     },
     "metadata": {},
     "output_type": "display_data"
    },
    {
     "name": "stderr",
     "output_type": "stream",
     "text": [
      "Device set to use cuda\n"
     ]
    },
    {
     "name": "stdout",
     "output_type": "stream",
     "text": [
      "Loaded ContactDoctor/Bio-Medical-Llama-3-8B done！\n",
      "setup_retriever starts runing!\n",
      "Login HuggingFace!\n",
      "load_embedding_model starts runing!\n",
      "load_embedding_model took 3.9634s\n",
      "load_crossencoder starts runing!\n",
      "load_crossencoder took 1.1851s\n",
      "setup_retriever took 6.8159s\n"
     ]
    }
   ],
   "source": [
    "from src.medipal import medipal_app"
   ]
  },
  {
   "cell_type": "code",
   "execution_count": 1,
   "id": "e2e41759",
   "metadata": {},
   "outputs": [
    {
     "name": "stdout",
     "output_type": "stream",
     "text": [
      "Login HuggingFace!\n"
     ]
    },
    {
     "data": {
      "application/vnd.jupyter.widget-view+json": {
       "model_id": "275a62c65cbb4910aaa247b20812ea4a",
       "version_major": 2,
       "version_minor": 0
      },
      "text/plain": [
       "Loading checkpoint shards:   0%|          | 0/4 [00:00<?, ?it/s]"
      ]
     },
     "metadata": {},
     "output_type": "display_data"
    },
    {
     "name": "stderr",
     "output_type": "stream",
     "text": [
      "Device set to use cuda\n"
     ]
    },
    {
     "name": "stdout",
     "output_type": "stream",
     "text": [
      "Loaded meta-llama/Meta-Llama-3-8B-Instruct done！\n",
      "setup_retriever starts runing!\n",
      "Login HuggingFace!\n",
      "load_embedding_model starts runing!\n",
      "load_embedding_model took 4.0698s\n",
      "load_crossencoder starts runing!\n",
      "load_crossencoder took 1.0828s\n",
      "setup_retriever took 6.7005s\n"
     ]
    }
   ],
   "source": [
    "from src.medipal import medipal_app"
   ]
  },
  {
   "cell_type": "code",
   "execution_count": null,
   "id": "4aca07d3",
   "metadata": {},
   "outputs": [
    {
     "name": "stdout",
     "output_type": "stream",
     "text": [
      "Login HuggingFace!\n"
     ]
    },
    {
     "data": {
      "application/vnd.jupyter.widget-view+json": {
       "model_id": "98b2e2f6abbc42a1bc7bf243d826b870",
       "version_major": 2,
       "version_minor": 0
      },
      "text/plain": [
       "tokenizer_config.json:   0%|          | 0.00/51.0k [00:00<?, ?B/s]"
      ]
     },
     "metadata": {},
     "output_type": "display_data"
    },
    {
     "data": {
      "application/vnd.jupyter.widget-view+json": {
       "model_id": "dcebf828f8a64b1aa299de3c7f0f7a80",
       "version_major": 2,
       "version_minor": 0
      },
      "text/plain": [
       "tokenizer.json:   0%|          | 0.00/9.09M [00:00<?, ?B/s]"
      ]
     },
     "metadata": {},
     "output_type": "display_data"
    },
    {
     "data": {
      "application/vnd.jupyter.widget-view+json": {
       "model_id": "e7d6d078e18347a58c2cdc01abd57058",
       "version_major": 2,
       "version_minor": 0
      },
      "text/plain": [
       "special_tokens_map.json:   0%|          | 0.00/73.0 [00:00<?, ?B/s]"
      ]
     },
     "metadata": {},
     "output_type": "display_data"
    },
    {
     "data": {
      "application/vnd.jupyter.widget-view+json": {
       "model_id": "0aaccc368e294331976caab10829eeb8",
       "version_major": 2,
       "version_minor": 0
      },
      "text/plain": [
       "config.json:   0%|          | 0.00/654 [00:00<?, ?B/s]"
      ]
     },
     "metadata": {},
     "output_type": "display_data"
    },
    {
     "data": {
      "application/vnd.jupyter.widget-view+json": {
       "model_id": "80cd6da329e2411d9a1cf3fc091c1a14",
       "version_major": 2,
       "version_minor": 0
      },
      "text/plain": [
       "model.safetensors.index.json:   0%|          | 0.00/59.6k [00:00<?, ?B/s]"
      ]
     },
     "metadata": {},
     "output_type": "display_data"
    },
    {
     "data": {
      "application/vnd.jupyter.widget-view+json": {
       "model_id": "f432f24cd54c455db811feb17c13f160",
       "version_major": 2,
       "version_minor": 0
      },
      "text/plain": [
       "Fetching 30 files:   0%|          | 0/30 [00:00<?, ?it/s]"
      ]
     },
     "metadata": {},
     "output_type": "display_data"
    },
    {
     "data": {
      "application/vnd.jupyter.widget-view+json": {
       "model_id": "6219b0f571034d9a8f26d815b3981729",
       "version_major": 2,
       "version_minor": 0
      },
      "text/plain": [
       "model-00006-of-00030.safetensors:   0%|          | 0.00/4.66G [00:00<?, ?B/s]"
      ]
     },
     "metadata": {},
     "output_type": "display_data"
    },
    {
     "data": {
      "application/vnd.jupyter.widget-view+json": {
       "model_id": "34d76c2f1f4e45c59be72485358fa958",
       "version_major": 2,
       "version_minor": 0
      },
      "text/plain": [
       "model-00005-of-00030.safetensors:   0%|          | 0.00/4.66G [00:00<?, ?B/s]"
      ]
     },
     "metadata": {},
     "output_type": "display_data"
    },
    {
     "data": {
      "application/vnd.jupyter.widget-view+json": {
       "model_id": "b249dec5e5824f7e93a82d4d4d85e034",
       "version_major": 2,
       "version_minor": 0
      },
      "text/plain": [
       "model-00001-of-00030.safetensors:   0%|          | 0.00/4.58G [00:00<?, ?B/s]"
      ]
     },
     "metadata": {},
     "output_type": "display_data"
    },
    {
     "data": {
      "application/vnd.jupyter.widget-view+json": {
       "model_id": "9d160973b6a04aaa914ca4167582b441",
       "version_major": 2,
       "version_minor": 0
      },
      "text/plain": [
       "model-00002-of-00030.safetensors:   0%|          | 0.00/4.66G [00:00<?, ?B/s]"
      ]
     },
     "metadata": {},
     "output_type": "display_data"
    },
    {
     "data": {
      "application/vnd.jupyter.widget-view+json": {
       "model_id": "4c4a3fa3121140f88ad531ce97e8c21e",
       "version_major": 2,
       "version_minor": 0
      },
      "text/plain": [
       "model-00004-of-00030.safetensors:   0%|          | 0.00/4.97G [00:00<?, ?B/s]"
      ]
     },
     "metadata": {},
     "output_type": "display_data"
    },
    {
     "data": {
      "application/vnd.jupyter.widget-view+json": {
       "model_id": "a95dbf25afda4eb781fbb5ac291c4972",
       "version_major": 2,
       "version_minor": 0
      },
      "text/plain": [
       "model-00007-of-00030.safetensors:   0%|          | 0.00/4.66G [00:00<?, ?B/s]"
      ]
     },
     "metadata": {},
     "output_type": "display_data"
    },
    {
     "data": {
      "application/vnd.jupyter.widget-view+json": {
       "model_id": "8ab5d07cbfb944c38faa8ab7da3052a9",
       "version_major": 2,
       "version_minor": 0
      },
      "text/plain": [
       "model-00008-of-00030.safetensors:   0%|          | 0.00/5.00G [00:00<?, ?B/s]"
      ]
     },
     "metadata": {},
     "output_type": "display_data"
    },
    {
     "data": {
      "application/vnd.jupyter.widget-view+json": {
       "model_id": "c961e675db2543a4a722c11bf23a0177",
       "version_major": 2,
       "version_minor": 0
      },
      "text/plain": [
       "model-00003-of-00030.safetensors:   0%|          | 0.00/5.00G [00:00<?, ?B/s]"
      ]
     },
     "metadata": {},
     "output_type": "display_data"
    },
    {
     "data": {
      "application/vnd.jupyter.widget-view+json": {
       "model_id": "e97bec80c08249f797ad298af2e69ba2",
       "version_major": 2,
       "version_minor": 0
      },
      "text/plain": [
       "model-00009-of-00030.safetensors:   0%|          | 0.00/4.97G [00:00<?, ?B/s]"
      ]
     },
     "metadata": {},
     "output_type": "display_data"
    },
    {
     "data": {
      "application/vnd.jupyter.widget-view+json": {
       "model_id": "3a55fda34c8f4b21a1f92142b48b0ebd",
       "version_major": 2,
       "version_minor": 0
      },
      "text/plain": [
       "model-00010-of-00030.safetensors:   0%|          | 0.00/4.66G [00:00<?, ?B/s]"
      ]
     },
     "metadata": {},
     "output_type": "display_data"
    },
    {
     "data": {
      "application/vnd.jupyter.widget-view+json": {
       "model_id": "a3f266bfdb3746d3a55b3f8069e616b3",
       "version_major": 2,
       "version_minor": 0
      },
      "text/plain": [
       "model-00011-of-00030.safetensors:   0%|          | 0.00/4.66G [00:00<?, ?B/s]"
      ]
     },
     "metadata": {},
     "output_type": "display_data"
    },
    {
     "data": {
      "application/vnd.jupyter.widget-view+json": {
       "model_id": "471f9e77f0174f93a9cb998d9314dcea",
       "version_major": 2,
       "version_minor": 0
      },
      "text/plain": [
       "model-00012-of-00030.safetensors:   0%|          | 0.00/4.66G [00:00<?, ?B/s]"
      ]
     },
     "metadata": {},
     "output_type": "display_data"
    },
    {
     "data": {
      "application/vnd.jupyter.widget-view+json": {
       "model_id": "db413df84bca47a6a948d2c554a02ab6",
       "version_major": 2,
       "version_minor": 0
      },
      "text/plain": [
       "model-00013-of-00030.safetensors:   0%|          | 0.00/5.00G [00:00<?, ?B/s]"
      ]
     },
     "metadata": {},
     "output_type": "display_data"
    },
    {
     "data": {
      "application/vnd.jupyter.widget-view+json": {
       "model_id": "a3c38ae410234763a964ee42cf1571b4",
       "version_major": 2,
       "version_minor": 0
      },
      "text/plain": [
       "model-00014-of-00030.safetensors:   0%|          | 0.00/4.97G [00:00<?, ?B/s]"
      ]
     },
     "metadata": {},
     "output_type": "display_data"
    },
    {
     "data": {
      "application/vnd.jupyter.widget-view+json": {
       "model_id": "5c0c3aaa16d04270a1483b43e115dbca",
       "version_major": 2,
       "version_minor": 0
      },
      "text/plain": [
       "model-00015-of-00030.safetensors:   0%|          | 0.00/4.66G [00:00<?, ?B/s]"
      ]
     },
     "metadata": {},
     "output_type": "display_data"
    },
    {
     "data": {
      "application/vnd.jupyter.widget-view+json": {
       "model_id": "b8f83aec60374c9c8942812692d594f0",
       "version_major": 2,
       "version_minor": 0
      },
      "text/plain": [
       "model-00016-of-00030.safetensors:   0%|          | 0.00/4.66G [00:00<?, ?B/s]"
      ]
     },
     "metadata": {},
     "output_type": "display_data"
    }
   ],
   "source": [
    "from src.medipal import medipal_app"
   ]
  },
  {
   "cell_type": "code",
   "execution_count": 3,
   "id": "762e7fb3",
   "metadata": {},
   "outputs": [],
   "source": [
    "def print_metrics_table(metrics: dict):\n",
    "    # Convert dict to DataFrame with two columns\n",
    "    df = pd.DataFrame(metrics.items(), columns=[\"Metric\", \"Score\"])\n",
    "    # Round numbers to 4 decimal places\n",
    "    df[\"Score\"] = df[\"Score\"].round(4)\n",
    "    display(df)\n",
    "\n",
    "# # Example input\n",
    "# metrics = {\n",
    "#     'answer_relevancy': 0.9281,\n",
    "#     'faithfulness': 0.8235,\n",
    "#     'context_precision': 0.8824,\n",
    "#     'context_recall': 0.8235,\n",
    "#     'answer_correctness': 0.7584\n",
    "# }\n",
    "\n",
    "# print_metrics_table(metrics)"
   ]
  },
  {
   "cell_type": "code",
   "execution_count": 4,
   "id": "dc979469",
   "metadata": {},
   "outputs": [],
   "source": [
    "qa_pairs = [\n",
    "    {\n",
    "        \"question\": \"What conditions can phenylephrine help relieve?\",\n",
    "        \"answer\": \"Phenylephrine can relieve nasal discomfort caused by colds, allergies, hay fever, and also help with sinus congestion and pressure.\"\n",
    "    },\n",
    "    {\n",
    "        \"question\": \"Does phenylephrine cure the cause of symptoms?\",\n",
    "        \"answer\": \"No. Phenylephrine only relieves the symptoms but does not treat the underlying cause or speed up recovery.\"\n",
    "    },\n",
    "    {\n",
    "        \"question\": \"How does phenylephrine work in the body?\",\n",
    "        \"answer\": \"Phenylephrine is a nasal decongestant. It works by reducing swelling of the blood vessels in the nasal passages.\"\n",
    "    },\n",
    "\t{\n",
    "        \"question\": \"What allergies should you tell your doctor or pharmacist about before using pyrethrin and piperonyl butoxide shampoo?\",\n",
    "        \"answer\": \"You should mention if you are allergic to pyrethrin, piperonyl butoxide, chrysanthemums, ragweed, any other medications, or any of the shampoo's ingredients.\"\n",
    "    },\n",
    "    {\n",
    "        \"question\": \"Why is it important to tell your doctor about other medications or supplements before using pyrethrin and piperonyl butoxide shampoo?\",\n",
    "        \"answer\": \"Because prescription and nonprescription medications, vitamins, nutritional supplements, and herbal products may interact with the shampoo, so your doctor needs to know what you are taking or plan to take.\"\n",
    "    },\n",
    "    {\n",
    "        \"question\": \"What should you tell your doctor regarding your health history before using pyrethrin and piperonyl butoxide shampoo?\",\n",
    "        \"answer\": \"You should tell your doctor if you have or have ever had skin conditions, or if you are pregnant, planning to become pregnant, or are breast-feeding.\"\n",
    "    },\n",
    "\t{\n",
    "        \"question\": \"What should you do if someone swallows pyrethrin and piperonyl butoxide shampoo?\",\n",
    "        \"answer\": \"Call your local poison control center immediately.\"\n",
    "    },\n",
    "    {\n",
    "        \"question\": \"What should you do if the person has collapsed or is not breathing after swallowing pyrethrin and piperonyl butoxide shampoo?\",\n",
    "        \"answer\": \"Call local emergency services at 911 right away.\"\n",
    "    },\n",
    "    {\n",
    "        \"question\": \"Who should you contact first if pyrethrin and piperonyl butoxide shampoo is swallowed?\",\n",
    "        \"answer\": \"You should first contact your local poison control center for instructions.\"\n",
    "    },\n",
    "\t{\n",
    "        \"question\": \"What conditions can antipyrine and benzocaine otic help relieve?\",\n",
    "        \"answer\": \"It can relieve ear pain and swelling caused by middle ear infections.\"\n",
    "    },\n",
    "    {\n",
    "        \"question\": \"Can antipyrine and benzocaine otic be used with antibiotics?\",\n",
    "        \"answer\": \"Yes. It may be used along with antibiotics to treat an ear infection.\"\n",
    "    },\n",
    "    {\n",
    "        \"question\": \"How does the combination of antipyrine and benzocaine work?\",\n",
    "        \"answer\": \"They are analgesics that work by reducing pain and discomfort in the ear.\"\n",
    "    },\n",
    "\t{\n",
    "        \"question\": \"What is methylprednisolone injection used to treat?\",\n",
    "        \"answer\": \"It is used to treat severe allergic reactions, multiple sclerosis, lupus, gastrointestinal disease, certain types of arthritis, and conditions affecting the blood, skin, eyes, nervous system, thyroid, kidneys, and lungs.\"\n",
    "    },\n",
    "    {\n",
    "        \"question\": \"Can methylprednisolone injection be used with other medications?\",\n",
    "        \"answer\": \"Yes. It is sometimes used in combination with other medications to treat symptoms of low corticosteroid levels.\"\n",
    "    },\n",
    "    {\n",
    "        \"question\": \"What class of medications does methylprednisolone injection belong to?\",\n",
    "        \"answer\": \"It belongs to a class of medications called corticosteroids.\"\n",
    "    },\n",
    "    {\n",
    "        \"question\": \"How does methylprednisolone injection help people with low corticosteroid levels?\",\n",
    "        \"answer\": \"It replaces steroids that are normally produced naturally by the body.\"\n",
    "    },\n",
    "    {\n",
    "        \"question\": \"How does methylprednisolone injection treat other conditions?\",\n",
    "        \"answer\": \"It works by reducing swelling and redness and by changing the way the immune system functions.\"\n",
    "    },\n",
    "    {\n",
    "        \"question\": \"How should abacavir, dolutegravir, and lamivudine be taken?\",\n",
    "        \"answer\": \"It should be taken by mouth once daily, with or without food, at around the same time each day, exactly as directed by your doctor.\"\n",
    "    },\n",
    "    {\n",
    "        \"question\": \"How should the tablets for suspension of abacavir, dolutegravir, and lamivudine be prepared and given?\",\n",
    "        \"answer\": \"Place the tablets in the provided cup with 15–20 ml of drinking water, swirl until completely dissolved with no lumps, and swallow the contents within 30 minutes. For young children, the solution can be drawn into a syringe for easier administration.\"\n",
    "    },\n",
    "    {\n",
    "        \"question\": \"Why is it important not to stop taking abacavir, dolutegravir, and lamivudine without consulting a doctor?\",\n",
    "        \"answer\": \"Stopping or skipping doses can make the condition harder to treat and may cause an allergic reaction when restarting the medication.\"\n",
    "    },\n",
    "    {\n",
    "        \"question\": \"What is abaloparatide injection used for?\",\n",
    "        \"answer\": \"Abaloparatide injection is used to treat osteoporosis in postmenopausal women and men who are at high risk of fractures or who have not tolerated other osteoporosis medications.\"\n",
    "    },\n",
    "    {\n",
    "        \"question\": \"How does abaloparatide injection work?\",\n",
    "        \"answer\": \"It contains a synthetic form of parathyroid hormone that helps the body build new bone and increase bone strength and density.\"\n",
    "    },\n",
    "    {\n",
    "        \"question\": \"Who should consider using abaloparatide injection?\",\n",
    "        \"answer\": \"People with osteoporosis who have a history of fractures, multiple fracture risk factors, or who have failed or not tolerated other treatments should consider using it.\"\n",
    "    },\n",
    "    {\n",
    "        \"question\": \"How should abaloparatide injection be used?\",\n",
    "        \"answer\": \"Abaloparatide injection should be injected subcutaneously once a day at around the same time. Follow your doctor’s instructions carefully and do not use more or less than prescribed.\"\n",
    "    },\n",
    "    {\n",
    "        \"question\": \"Where should abaloparatide injection be administered and what precautions should be taken?\",\n",
    "        \"answer\": \"It should be injected into the lower stomach area, avoiding the 2-inch area around the belly button. Rotate injection sites and avoid areas that are tender, bruised, or scarred. Never inject into veins or muscles.\"\n",
    "    },\n",
    "    {\n",
    "        \"question\": \"What safety and handling instructions should be followed when using abaloparatide injection?\",\n",
    "        \"answer\": \"Use the medication only if it is clear and colorless. Do not transfer it to another syringe. Dispose of the pen after 30 days, never reuse or share needles, and discard used needles in a puncture-resistant container as instructed by your doctor or pharmacist.\"\n",
    "    },\n",
    "    {\n",
    "        \"question\": \"What should you tell your doctor before receiving abaloparatide injection?\",\n",
    "        \"answer\": \"You should tell your doctor if you are allergic to abaloparatide or any of its ingredients, and provide a list of all prescription and nonprescription medications, vitamins, supplements, or herbal products you are taking.\"\n",
    "    },\n",
    "    {\n",
    "        \"question\": \"Who should not use abaloparatide injection?\",\n",
    "        \"answer\": \"People with high calcium levels in the blood, hyperparathyroidism, kidney stones, or those at high risk for bone cancer should not use abaloparatide injection. It is also not recommended for women who are pregnant or breastfeeding.\"\n",
    "    },\n",
    "    {\n",
    "        \"question\": \"Why is there a warning about osteosarcoma with abaloparatide injection?\",\n",
    "        \"answer\": \"Abaloparatide has caused osteosarcoma (a type of bone cancer) in rats, but it is not known if it causes this in humans. Therefore, it should not be used by people with conditions that increase the risk of bone cancer.\"\n",
    "    }\n",
    "]"
   ]
  },
  {
   "cell_type": "code",
   "execution_count": 5,
   "id": "e77b85e0",
   "metadata": {},
   "outputs": [],
   "source": [
    "def evaluation_rag(qa_pairs):\n",
    "    questions = []\n",
    "    model_answers = []\n",
    "    retrieved_contexts_lists: list[list] = []\n",
    "    reference_answers = []\n",
    "    for i, s in enumerate(qa_pairs):\n",
    "        question = s[\"question\"]\n",
    "        answer = s[\"answer\"]\n",
    "        questions.append(question)\n",
    "        reference_answers.append(answer)    \n",
    "        query = AgentState(query=question, session_id=1,wiki_used=False,brave_used=False,rewrite_counter=0,regenerate_counter=0)\n",
    "        result = medipal_app.invoke(query) \n",
    "        retrieved_contexts_lists.append([result[\"retrieved_doc\"]])\n",
    "        model_answers.append(result[\"generation\"])       \n",
    "    data = Dataset.from_dict({\n",
    "      \"question\": questions,                 # list[str]\n",
    "      \"answer\": model_answers,               # list[str]\n",
    "      \"contexts\": retrieved_contexts_lists,  # list[list[str]]\n",
    "      \"ground_truth\": reference_answers      # list[str] (optional but needed for correctness)\n",
    "    })\n",
    "    # Everything is ready for evaluation\n",
    "    result = evaluate(\n",
    "      data,\n",
    "      metrics=[answer_relevancy, faithfulness, context_precision, context_recall],\n",
    "      batch_size = 20\n",
    "    )\n",
    "\n",
    "    return result"
   ]
  },
  {
   "cell_type": "markdown",
   "id": "068352ae",
   "metadata": {},
   "source": [
    "##### Medical team first"
   ]
  },
  {
   "cell_type": "code",
   "execution_count": 8,
   "id": "2522329b",
   "metadata": {},
   "outputs": [
    {
     "data": {
      "application/vnd.jupyter.widget-view+json": {
       "model_id": "6673085f6a094afea160ebd8ed36547c",
       "version_major": 2,
       "version_minor": 0
      },
      "text/plain": [
       "Batches:   0%|          | 0/1 [00:00<?, ?it/s]"
      ]
     },
     "metadata": {},
     "output_type": "display_data"
    },
    {
     "data": {
      "application/vnd.jupyter.widget-view+json": {
       "model_id": "4fc3ad15e3f743f9bc83c3ca1e3fad20",
       "version_major": 2,
       "version_minor": 0
      },
      "text/plain": [
       "Batches:   0%|          | 0/1 [00:00<?, ?it/s]"
      ]
     },
     "metadata": {},
     "output_type": "display_data"
    },
    {
     "data": {
      "application/vnd.jupyter.widget-view+json": {
       "model_id": "1b448fe03cd64b079b2785243fa5cede",
       "version_major": 2,
       "version_minor": 0
      },
      "text/plain": [
       "Batches:   0%|          | 0/1 [00:00<?, ?it/s]"
      ]
     },
     "metadata": {},
     "output_type": "display_data"
    },
    {
     "data": {
      "application/vnd.jupyter.widget-view+json": {
       "model_id": "4efeba6fee5942099c27bd189fbf8678",
       "version_major": 2,
       "version_minor": 0
      },
      "text/plain": [
       "Batches:   0%|          | 0/1 [00:00<?, ?it/s]"
      ]
     },
     "metadata": {},
     "output_type": "display_data"
    },
    {
     "data": {
      "application/vnd.jupyter.widget-view+json": {
       "model_id": "d4bdb25a4643461c92a3e96bf1e797e6",
       "version_major": 2,
       "version_minor": 0
      },
      "text/plain": [
       "Batches:   0%|          | 0/1 [00:00<?, ?it/s]"
      ]
     },
     "metadata": {},
     "output_type": "display_data"
    },
    {
     "data": {
      "application/vnd.jupyter.widget-view+json": {
       "model_id": "7cfc81a239c64e9eaf742ce1faa444fd",
       "version_major": 2,
       "version_minor": 0
      },
      "text/plain": [
       "Batches:   0%|          | 0/1 [00:00<?, ?it/s]"
      ]
     },
     "metadata": {},
     "output_type": "display_data"
    },
    {
     "data": {
      "application/vnd.jupyter.widget-view+json": {
       "model_id": "81cd0c57f7404c248db11ab122154804",
       "version_major": 2,
       "version_minor": 0
      },
      "text/plain": [
       "Batches:   0%|          | 0/1 [00:00<?, ?it/s]"
      ]
     },
     "metadata": {},
     "output_type": "display_data"
    },
    {
     "data": {
      "application/vnd.jupyter.widget-view+json": {
       "model_id": "73152d3e5fee4bed91102c9c13e10955",
       "version_major": 2,
       "version_minor": 0
      },
      "text/plain": [
       "Batches:   0%|          | 0/1 [00:00<?, ?it/s]"
      ]
     },
     "metadata": {},
     "output_type": "display_data"
    },
    {
     "data": {
      "application/vnd.jupyter.widget-view+json": {
       "model_id": "2019628b5a704dfd9f926fb9711911f1",
       "version_major": 2,
       "version_minor": 0
      },
      "text/plain": [
       "Batches:   0%|          | 0/1 [00:00<?, ?it/s]"
      ]
     },
     "metadata": {},
     "output_type": "display_data"
    },
    {
     "data": {
      "application/vnd.jupyter.widget-view+json": {
       "model_id": "eb130320cb6543fab2239df13132f5aa",
       "version_major": 2,
       "version_minor": 0
      },
      "text/plain": [
       "Batches:   0%|          | 0/1 [00:00<?, ?it/s]"
      ]
     },
     "metadata": {},
     "output_type": "display_data"
    },
    {
     "data": {
      "application/vnd.jupyter.widget-view+json": {
       "model_id": "9ad07900443f4570adb60a508fefcd23",
       "version_major": 2,
       "version_minor": 0
      },
      "text/plain": [
       "Batches:   0%|          | 0/1 [00:00<?, ?it/s]"
      ]
     },
     "metadata": {},
     "output_type": "display_data"
    },
    {
     "data": {
      "application/vnd.jupyter.widget-view+json": {
       "model_id": "a2aa8f2aad374e78a7dc57fc083ce2f5",
       "version_major": 2,
       "version_minor": 0
      },
      "text/plain": [
       "Batches:   0%|          | 0/1 [00:00<?, ?it/s]"
      ]
     },
     "metadata": {},
     "output_type": "display_data"
    },
    {
     "data": {
      "application/vnd.jupyter.widget-view+json": {
       "model_id": "45c6bc7b944a4d69a12e6fc950667568",
       "version_major": 2,
       "version_minor": 0
      },
      "text/plain": [
       "Batches:   0%|          | 0/1 [00:00<?, ?it/s]"
      ]
     },
     "metadata": {},
     "output_type": "display_data"
    },
    {
     "data": {
      "application/vnd.jupyter.widget-view+json": {
       "model_id": "c0e8d2dfa844430a89e2c15cccaa99b9",
       "version_major": 2,
       "version_minor": 0
      },
      "text/plain": [
       "Batches:   0%|          | 0/1 [00:00<?, ?it/s]"
      ]
     },
     "metadata": {},
     "output_type": "display_data"
    },
    {
     "data": {
      "application/vnd.jupyter.widget-view+json": {
       "model_id": "9ff4a8c8aadd4853bb0d910216d493fd",
       "version_major": 2,
       "version_minor": 0
      },
      "text/plain": [
       "Batches:   0%|          | 0/1 [00:00<?, ?it/s]"
      ]
     },
     "metadata": {},
     "output_type": "display_data"
    },
    {
     "data": {
      "application/vnd.jupyter.widget-view+json": {
       "model_id": "2d0dedb87ada43cd87eb767ebb487c09",
       "version_major": 2,
       "version_minor": 0
      },
      "text/plain": [
       "Batches:   0%|          | 0/1 [00:00<?, ?it/s]"
      ]
     },
     "metadata": {},
     "output_type": "display_data"
    },
    {
     "data": {
      "application/vnd.jupyter.widget-view+json": {
       "model_id": "6f52b1dbad774d2181653d4ac2ae1ee3",
       "version_major": 2,
       "version_minor": 0
      },
      "text/plain": [
       "Batches:   0%|          | 0/1 [00:00<?, ?it/s]"
      ]
     },
     "metadata": {},
     "output_type": "display_data"
    },
    {
     "data": {
      "application/vnd.jupyter.widget-view+json": {
       "model_id": "3b73ee7e69ef41bbbed72068322bc708",
       "version_major": 2,
       "version_minor": 0
      },
      "text/plain": [
       "Batches:   0%|          | 0/1 [00:00<?, ?it/s]"
      ]
     },
     "metadata": {},
     "output_type": "display_data"
    },
    {
     "data": {
      "application/vnd.jupyter.widget-view+json": {
       "model_id": "7c7a75683c8a430e8a48fd7f9d848d32",
       "version_major": 2,
       "version_minor": 0
      },
      "text/plain": [
       "Batches:   0%|          | 0/1 [00:00<?, ?it/s]"
      ]
     },
     "metadata": {},
     "output_type": "display_data"
    },
    {
     "data": {
      "application/vnd.jupyter.widget-view+json": {
       "model_id": "d76c188ba9b04829b7ba9fd6c3649412",
       "version_major": 2,
       "version_minor": 0
      },
      "text/plain": [
       "Batches:   0%|          | 0/1 [00:00<?, ?it/s]"
      ]
     },
     "metadata": {},
     "output_type": "display_data"
    },
    {
     "data": {
      "application/vnd.jupyter.widget-view+json": {
       "model_id": "6ff58805233f4d6aaad1fe94fd3e6b34",
       "version_major": 2,
       "version_minor": 0
      },
      "text/plain": [
       "Batches:   0%|          | 0/1 [00:00<?, ?it/s]"
      ]
     },
     "metadata": {},
     "output_type": "display_data"
    },
    {
     "data": {
      "application/vnd.jupyter.widget-view+json": {
       "model_id": "4013f147204e425ea433305ad37c1eaf",
       "version_major": 2,
       "version_minor": 0
      },
      "text/plain": [
       "Batches:   0%|          | 0/1 [00:00<?, ?it/s]"
      ]
     },
     "metadata": {},
     "output_type": "display_data"
    },
    {
     "data": {
      "application/vnd.jupyter.widget-view+json": {
       "model_id": "f100413aa52f44869249a67bdb7748d6",
       "version_major": 2,
       "version_minor": 0
      },
      "text/plain": [
       "Batches:   0%|          | 0/1 [00:00<?, ?it/s]"
      ]
     },
     "metadata": {},
     "output_type": "display_data"
    },
    {
     "data": {
      "application/vnd.jupyter.widget-view+json": {
       "model_id": "0e9459af52804226b89988dbe067c0eb",
       "version_major": 2,
       "version_minor": 0
      },
      "text/plain": [
       "Batches:   0%|          | 0/1 [00:00<?, ?it/s]"
      ]
     },
     "metadata": {},
     "output_type": "display_data"
    },
    {
     "data": {
      "application/vnd.jupyter.widget-view+json": {
       "model_id": "cc840337b30349a095cc22dfb4111173",
       "version_major": 2,
       "version_minor": 0
      },
      "text/plain": [
       "Batches:   0%|          | 0/1 [00:00<?, ?it/s]"
      ]
     },
     "metadata": {},
     "output_type": "display_data"
    },
    {
     "data": {
      "application/vnd.jupyter.widget-view+json": {
       "model_id": "5b75e3cf6e464d5cb7a814e8a1b743d2",
       "version_major": 2,
       "version_minor": 0
      },
      "text/plain": [
       "Batches:   0%|          | 0/1 [00:00<?, ?it/s]"
      ]
     },
     "metadata": {},
     "output_type": "display_data"
    },
    {
     "data": {
      "application/vnd.jupyter.widget-view+json": {
       "model_id": "ae465074cea04027aac38ea87960a28a",
       "version_major": 2,
       "version_minor": 0
      },
      "text/plain": [
       "Batches:   0%|          | 0/1 [00:00<?, ?it/s]"
      ]
     },
     "metadata": {},
     "output_type": "display_data"
    },
    {
     "data": {
      "application/vnd.jupyter.widget-view+json": {
       "model_id": "b2b967812efb4251abc649747f86d0de",
       "version_major": 2,
       "version_minor": 0
      },
      "text/plain": [
       "Batches:   0%|          | 0/1 [00:00<?, ?it/s]"
      ]
     },
     "metadata": {},
     "output_type": "display_data"
    },
    {
     "data": {
      "application/vnd.jupyter.widget-view+json": {
       "model_id": "f12d60b4c8824214883dbf0a87f53f15",
       "version_major": 2,
       "version_minor": 0
      },
      "text/plain": [
       "Batches:   0%|          | 0/1 [00:00<?, ?it/s]"
      ]
     },
     "metadata": {},
     "output_type": "display_data"
    },
    {
     "data": {
      "application/vnd.jupyter.widget-view+json": {
       "model_id": "64ed60997492440baaea86af7f3a1ef8",
       "version_major": 2,
       "version_minor": 0
      },
      "text/plain": [
       "Evaluating:   0%|          | 0/116 [00:00<?, ?it/s]"
      ]
     },
     "metadata": {},
     "output_type": "display_data"
    },
    {
     "data": {
      "application/vnd.jupyter.widget-view+json": {
       "model_id": "5edaf89e90bd42c0844dfb4ec6013ef7",
       "version_major": 2,
       "version_minor": 0
      },
      "text/plain": [
       "Batch 1/6:   0%|          | 0/20 [00:00<?, ?it/s]"
      ]
     },
     "metadata": {},
     "output_type": "display_data"
    }
   ],
   "source": [
    "result = evaluation_rag(qa_pairs)"
   ]
  },
  {
   "cell_type": "code",
   "execution_count": 9,
   "id": "e525340b",
   "metadata": {},
   "outputs": [],
   "source": [
    "pd_result = result.to_pandas()"
   ]
  },
  {
   "cell_type": "code",
   "execution_count": 10,
   "id": "f062cb1e",
   "metadata": {},
   "outputs": [
    {
     "data": {
      "text/html": [
       "<div>\n",
       "<style scoped>\n",
       "    .dataframe tbody tr th:only-of-type {\n",
       "        vertical-align: middle;\n",
       "    }\n",
       "\n",
       "    .dataframe tbody tr th {\n",
       "        vertical-align: top;\n",
       "    }\n",
       "\n",
       "    .dataframe thead th {\n",
       "        text-align: right;\n",
       "    }\n",
       "</style>\n",
       "<table border=\"1\" class=\"dataframe\">\n",
       "  <thead>\n",
       "    <tr style=\"text-align: right;\">\n",
       "      <th></th>\n",
       "      <th>user_input</th>\n",
       "      <th>retrieved_contexts</th>\n",
       "      <th>response</th>\n",
       "      <th>reference</th>\n",
       "      <th>answer_relevancy</th>\n",
       "      <th>faithfulness</th>\n",
       "      <th>context_precision</th>\n",
       "      <th>context_recall</th>\n",
       "    </tr>\n",
       "  </thead>\n",
       "  <tbody>\n",
       "    <tr>\n",
       "      <th>0</th>\n",
       "      <td>What conditions can phenylephrine help relieve?</td>\n",
       "      <td>[phenylephrine may cause side effects. some si...</td>\n",
       "      <td>Phenylephrine may help relieve nasal congesti...</td>\n",
       "      <td>Phenylephrine can relieve nasal discomfort cau...</td>\n",
       "      <td>0.898695</td>\n",
       "      <td>0.000000</td>\n",
       "      <td>0.0</td>\n",
       "      <td>0.0</td>\n",
       "    </tr>\n",
       "    <tr>\n",
       "      <th>1</th>\n",
       "      <td>Does phenylephrine cure the cause of symptoms?</td>\n",
       "      <td>[phenylephrine may cause side effects. some si...</td>\n",
       "      <td>No</td>\n",
       "      <td>No. Phenylephrine only relieves the symptoms b...</td>\n",
       "      <td>0.718553</td>\n",
       "      <td>0.000000</td>\n",
       "      <td>0.0</td>\n",
       "      <td>0.0</td>\n",
       "    </tr>\n",
       "    <tr>\n",
       "      <th>2</th>\n",
       "      <td>How does phenylephrine work in the body?</td>\n",
       "      <td>[ask your pharmacist any questions you have ab...</td>\n",
       "      <td>Phenylephrine works in the body by stimulatin...</td>\n",
       "      <td>Phenylephrine is a nasal decongestant. It work...</td>\n",
       "      <td>1.000000</td>\n",
       "      <td>0.000000</td>\n",
       "      <td>0.0</td>\n",
       "      <td>0.0</td>\n",
       "    </tr>\n",
       "    <tr>\n",
       "      <th>3</th>\n",
       "      <td>What allergies should you tell your doctor or ...</td>\n",
       "      <td>[pyrethrin and piperonyl butoxide comes as a s...</td>\n",
       "      <td>You should tell your doctor and pharmacist if...</td>\n",
       "      <td>You should mention if you are allergic to pyre...</td>\n",
       "      <td>0.914156</td>\n",
       "      <td>1.000000</td>\n",
       "      <td>1.0</td>\n",
       "      <td>1.0</td>\n",
       "    </tr>\n",
       "    <tr>\n",
       "      <th>4</th>\n",
       "      <td>Why is it important to tell your doctor about ...</td>\n",
       "      <td>[pyrethrin and piperonyl butoxide comes as a s...</td>\n",
       "      <td>It is important to tell your doctor about oth...</td>\n",
       "      <td>Because prescription and nonprescription medic...</td>\n",
       "      <td>0.991313</td>\n",
       "      <td>0.333333</td>\n",
       "      <td>1.0</td>\n",
       "      <td>1.0</td>\n",
       "    </tr>\n",
       "    <tr>\n",
       "      <th>5</th>\n",
       "      <td>What should you tell your doctor regarding you...</td>\n",
       "      <td>[pyrethrin and piperonyl butoxide comes as a s...</td>\n",
       "      <td>Tell your doctor and pharmacist if you are al...</td>\n",
       "      <td>You should tell your doctor if you have or hav...</td>\n",
       "      <td>0.933769</td>\n",
       "      <td>1.000000</td>\n",
       "      <td>1.0</td>\n",
       "      <td>1.0</td>\n",
       "    </tr>\n",
       "    <tr>\n",
       "      <th>6</th>\n",
       "      <td>What should you do if someone swallows pyrethr...</td>\n",
       "      <td>[pyrethrin and piperonyl butoxide comes as a s...</td>\n",
       "      <td>Call your local poison control center at [pho...</td>\n",
       "      <td>Call your local poison control center immediat...</td>\n",
       "      <td>0.872447</td>\n",
       "      <td>1.000000</td>\n",
       "      <td>1.0</td>\n",
       "      <td>1.0</td>\n",
       "    </tr>\n",
       "    <tr>\n",
       "      <th>7</th>\n",
       "      <td>What should you do if the person has collapsed...</td>\n",
       "      <td>[pyrethrin and piperonyl butoxide comes as a s...</td>\n",
       "      <td>911</td>\n",
       "      <td>Call local emergency services at 911 right away.</td>\n",
       "      <td>0.735170</td>\n",
       "      <td>0.000000</td>\n",
       "      <td>1.0</td>\n",
       "      <td>1.0</td>\n",
       "    </tr>\n",
       "    <tr>\n",
       "      <th>8</th>\n",
       "      <td>Who should you contact first if pyrethrin and ...</td>\n",
       "      <td>[pyrethrin and piperonyl butoxide comes as a s...</td>\n",
       "      <td>911</td>\n",
       "      <td>You should first contact your local poison con...</td>\n",
       "      <td>0.751902</td>\n",
       "      <td>0.000000</td>\n",
       "      <td>1.0</td>\n",
       "      <td>1.0</td>\n",
       "    </tr>\n",
       "    <tr>\n",
       "      <th>9</th>\n",
       "      <td>What conditions can antipyrine and benzocaine ...</td>\n",
       "      <td>[antipyrine and benzocaine otic is used to rel...</td>\n",
       "      <td>Antipyrine and benzocaine otic can help relie...</td>\n",
       "      <td>It can relieve ear pain and swelling caused by...</td>\n",
       "      <td>0.944873</td>\n",
       "      <td>1.000000</td>\n",
       "      <td>1.0</td>\n",
       "      <td>1.0</td>\n",
       "    </tr>\n",
       "  </tbody>\n",
       "</table>\n",
       "</div>"
      ],
      "text/plain": [
       "                                          user_input  \\\n",
       "0    What conditions can phenylephrine help relieve?   \n",
       "1     Does phenylephrine cure the cause of symptoms?   \n",
       "2           How does phenylephrine work in the body?   \n",
       "3  What allergies should you tell your doctor or ...   \n",
       "4  Why is it important to tell your doctor about ...   \n",
       "5  What should you tell your doctor regarding you...   \n",
       "6  What should you do if someone swallows pyrethr...   \n",
       "7  What should you do if the person has collapsed...   \n",
       "8  Who should you contact first if pyrethrin and ...   \n",
       "9  What conditions can antipyrine and benzocaine ...   \n",
       "\n",
       "                                  retrieved_contexts  \\\n",
       "0  [phenylephrine may cause side effects. some si...   \n",
       "1  [phenylephrine may cause side effects. some si...   \n",
       "2  [ask your pharmacist any questions you have ab...   \n",
       "3  [pyrethrin and piperonyl butoxide comes as a s...   \n",
       "4  [pyrethrin and piperonyl butoxide comes as a s...   \n",
       "5  [pyrethrin and piperonyl butoxide comes as a s...   \n",
       "6  [pyrethrin and piperonyl butoxide comes as a s...   \n",
       "7  [pyrethrin and piperonyl butoxide comes as a s...   \n",
       "8  [pyrethrin and piperonyl butoxide comes as a s...   \n",
       "9  [antipyrine and benzocaine otic is used to rel...   \n",
       "\n",
       "                                            response  \\\n",
       "0   Phenylephrine may help relieve nasal congesti...   \n",
       "1                                                 No   \n",
       "2   Phenylephrine works in the body by stimulatin...   \n",
       "3   You should tell your doctor and pharmacist if...   \n",
       "4   It is important to tell your doctor about oth...   \n",
       "5   Tell your doctor and pharmacist if you are al...   \n",
       "6   Call your local poison control center at [pho...   \n",
       "7                                                911   \n",
       "8                                                911   \n",
       "9   Antipyrine and benzocaine otic can help relie...   \n",
       "\n",
       "                                           reference  answer_relevancy  \\\n",
       "0  Phenylephrine can relieve nasal discomfort cau...          0.898695   \n",
       "1  No. Phenylephrine only relieves the symptoms b...          0.718553   \n",
       "2  Phenylephrine is a nasal decongestant. It work...          1.000000   \n",
       "3  You should mention if you are allergic to pyre...          0.914156   \n",
       "4  Because prescription and nonprescription medic...          0.991313   \n",
       "5  You should tell your doctor if you have or hav...          0.933769   \n",
       "6  Call your local poison control center immediat...          0.872447   \n",
       "7   Call local emergency services at 911 right away.          0.735170   \n",
       "8  You should first contact your local poison con...          0.751902   \n",
       "9  It can relieve ear pain and swelling caused by...          0.944873   \n",
       "\n",
       "   faithfulness  context_precision  context_recall  \n",
       "0      0.000000                0.0             0.0  \n",
       "1      0.000000                0.0             0.0  \n",
       "2      0.000000                0.0             0.0  \n",
       "3      1.000000                1.0             1.0  \n",
       "4      0.333333                1.0             1.0  \n",
       "5      1.000000                1.0             1.0  \n",
       "6      1.000000                1.0             1.0  \n",
       "7      0.000000                1.0             1.0  \n",
       "8      0.000000                1.0             1.0  \n",
       "9      1.000000                1.0             1.0  "
      ]
     },
     "execution_count": 10,
     "metadata": {},
     "output_type": "execute_result"
    }
   ],
   "source": [
    "pd_result.head(10)"
   ]
  },
  {
   "cell_type": "code",
   "execution_count": 11,
   "id": "deba903e",
   "metadata": {},
   "outputs": [
    {
     "data": {
      "text/html": [
       "<div>\n",
       "<style scoped>\n",
       "    .dataframe tbody tr th:only-of-type {\n",
       "        vertical-align: middle;\n",
       "    }\n",
       "\n",
       "    .dataframe tbody tr th {\n",
       "        vertical-align: top;\n",
       "    }\n",
       "\n",
       "    .dataframe thead th {\n",
       "        text-align: right;\n",
       "    }\n",
       "</style>\n",
       "<table border=\"1\" class=\"dataframe\">\n",
       "  <thead>\n",
       "    <tr style=\"text-align: right;\">\n",
       "      <th></th>\n",
       "      <th>user_input</th>\n",
       "      <th>retrieved_contexts</th>\n",
       "      <th>response</th>\n",
       "      <th>reference</th>\n",
       "      <th>answer_relevancy</th>\n",
       "      <th>faithfulness</th>\n",
       "      <th>context_precision</th>\n",
       "      <th>context_recall</th>\n",
       "    </tr>\n",
       "  </thead>\n",
       "  <tbody>\n",
       "    <tr>\n",
       "      <th>19</th>\n",
       "      <td>Why is it important not to stop taking abacavi...</td>\n",
       "      <td>[unless your doctor tells you otherwise, conti...</td>\n",
       "      <td>If you stop taking abacavir, dolutegravir, an...</td>\n",
       "      <td>Stopping or skipping doses can make the condit...</td>\n",
       "      <td>0.941335</td>\n",
       "      <td>1.00</td>\n",
       "      <td>1.0</td>\n",
       "      <td>1.0</td>\n",
       "    </tr>\n",
       "    <tr>\n",
       "      <th>20</th>\n",
       "      <td>What is abaloparatide injection used for?</td>\n",
       "      <td>[abaloparatide injection comes as a solution (...</td>\n",
       "      <td>Abaloparatide injection is used to treat oste...</td>\n",
       "      <td>Abaloparatide injection is used to treat osteo...</td>\n",
       "      <td>0.997141</td>\n",
       "      <td>0.75</td>\n",
       "      <td>1.0</td>\n",
       "      <td>1.0</td>\n",
       "    </tr>\n",
       "    <tr>\n",
       "      <th>21</th>\n",
       "      <td>How does abaloparatide injection work?</td>\n",
       "      <td>[abaloparatide injection comes as a solution (...</td>\n",
       "      <td>Abaloparatide injection works by causing the ...</td>\n",
       "      <td>It contains a synthetic form of parathyroid ho...</td>\n",
       "      <td>0.998384</td>\n",
       "      <td>1.00</td>\n",
       "      <td>1.0</td>\n",
       "      <td>1.0</td>\n",
       "    </tr>\n",
       "    <tr>\n",
       "      <th>22</th>\n",
       "      <td>Who should consider using abaloparatide inject...</td>\n",
       "      <td>[abaloparatide injection comes as a solution (...</td>\n",
       "      <td>Abaloparatide injection is used to treat oste...</td>\n",
       "      <td>People with osteoporosis who have a history of...</td>\n",
       "      <td>0.922987</td>\n",
       "      <td>1.00</td>\n",
       "      <td>1.0</td>\n",
       "      <td>1.0</td>\n",
       "    </tr>\n",
       "    <tr>\n",
       "      <th>23</th>\n",
       "      <td>How should abaloparatide injection be used?</td>\n",
       "      <td>[abaloparatide injection comes as a solution (...</td>\n",
       "      <td>Abaloparatide injection should be used once a...</td>\n",
       "      <td>Abaloparatide injection should be injected sub...</td>\n",
       "      <td>0.941264</td>\n",
       "      <td>0.70</td>\n",
       "      <td>1.0</td>\n",
       "      <td>1.0</td>\n",
       "    </tr>\n",
       "    <tr>\n",
       "      <th>24</th>\n",
       "      <td>Where should abaloparatide injection be admini...</td>\n",
       "      <td>[abaloparatide injection comes as a solution (...</td>\n",
       "      <td>Abaloparatide injection should be administere...</td>\n",
       "      <td>It should be injected into the lower stomach a...</td>\n",
       "      <td>0.945685</td>\n",
       "      <td>1.00</td>\n",
       "      <td>1.0</td>\n",
       "      <td>1.0</td>\n",
       "    </tr>\n",
       "    <tr>\n",
       "      <th>25</th>\n",
       "      <td>What safety and handling instructions should b...</td>\n",
       "      <td>[abaloparatide injection comes as a solution (...</td>\n",
       "      <td>Always look at your abaloparatide injection b...</td>\n",
       "      <td>Use the medication only if it is clear and col...</td>\n",
       "      <td>0.908436</td>\n",
       "      <td>1.00</td>\n",
       "      <td>1.0</td>\n",
       "      <td>1.0</td>\n",
       "    </tr>\n",
       "    <tr>\n",
       "      <th>26</th>\n",
       "      <td>What should you tell your doctor before receiv...</td>\n",
       "      <td>[abaloparatide injection comes as a solution (...</td>\n",
       "      <td>Before receiving abaloparatide injection, you...</td>\n",
       "      <td>You should tell your doctor if you are allergi...</td>\n",
       "      <td>0.988598</td>\n",
       "      <td>0.00</td>\n",
       "      <td>0.0</td>\n",
       "      <td>0.0</td>\n",
       "    </tr>\n",
       "    <tr>\n",
       "      <th>27</th>\n",
       "      <td>Who should not use abaloparatide injection?</td>\n",
       "      <td>[abaloparatide injection comes as a solution (...</td>\n",
       "      <td>Abaloparatide injection should not be used by...</td>\n",
       "      <td>People with high calcium levels in the blood, ...</td>\n",
       "      <td>0.980687</td>\n",
       "      <td>0.00</td>\n",
       "      <td>0.0</td>\n",
       "      <td>0.0</td>\n",
       "    </tr>\n",
       "    <tr>\n",
       "      <th>28</th>\n",
       "      <td>Why is there a warning about osteosarcoma with...</td>\n",
       "      <td>[abaloparatide injection comes as a solution (...</td>\n",
       "      <td>There is no warning about osteosarcoma with a...</td>\n",
       "      <td>Abaloparatide has caused osteosarcoma (a type ...</td>\n",
       "      <td>0.971460</td>\n",
       "      <td>0.00</td>\n",
       "      <td>0.0</td>\n",
       "      <td>0.0</td>\n",
       "    </tr>\n",
       "  </tbody>\n",
       "</table>\n",
       "</div>"
      ],
      "text/plain": [
       "                                           user_input  \\\n",
       "19  Why is it important not to stop taking abacavi...   \n",
       "20          What is abaloparatide injection used for?   \n",
       "21             How does abaloparatide injection work?   \n",
       "22  Who should consider using abaloparatide inject...   \n",
       "23        How should abaloparatide injection be used?   \n",
       "24  Where should abaloparatide injection be admini...   \n",
       "25  What safety and handling instructions should b...   \n",
       "26  What should you tell your doctor before receiv...   \n",
       "27        Who should not use abaloparatide injection?   \n",
       "28  Why is there a warning about osteosarcoma with...   \n",
       "\n",
       "                                   retrieved_contexts  \\\n",
       "19  [unless your doctor tells you otherwise, conti...   \n",
       "20  [abaloparatide injection comes as a solution (...   \n",
       "21  [abaloparatide injection comes as a solution (...   \n",
       "22  [abaloparatide injection comes as a solution (...   \n",
       "23  [abaloparatide injection comes as a solution (...   \n",
       "24  [abaloparatide injection comes as a solution (...   \n",
       "25  [abaloparatide injection comes as a solution (...   \n",
       "26  [abaloparatide injection comes as a solution (...   \n",
       "27  [abaloparatide injection comes as a solution (...   \n",
       "28  [abaloparatide injection comes as a solution (...   \n",
       "\n",
       "                                             response  \\\n",
       "19   If you stop taking abacavir, dolutegravir, an...   \n",
       "20   Abaloparatide injection is used to treat oste...   \n",
       "21   Abaloparatide injection works by causing the ...   \n",
       "22   Abaloparatide injection is used to treat oste...   \n",
       "23   Abaloparatide injection should be used once a...   \n",
       "24   Abaloparatide injection should be administere...   \n",
       "25   Always look at your abaloparatide injection b...   \n",
       "26   Before receiving abaloparatide injection, you...   \n",
       "27   Abaloparatide injection should not be used by...   \n",
       "28   There is no warning about osteosarcoma with a...   \n",
       "\n",
       "                                            reference  answer_relevancy  \\\n",
       "19  Stopping or skipping doses can make the condit...          0.941335   \n",
       "20  Abaloparatide injection is used to treat osteo...          0.997141   \n",
       "21  It contains a synthetic form of parathyroid ho...          0.998384   \n",
       "22  People with osteoporosis who have a history of...          0.922987   \n",
       "23  Abaloparatide injection should be injected sub...          0.941264   \n",
       "24  It should be injected into the lower stomach a...          0.945685   \n",
       "25  Use the medication only if it is clear and col...          0.908436   \n",
       "26  You should tell your doctor if you are allergi...          0.988598   \n",
       "27  People with high calcium levels in the blood, ...          0.980687   \n",
       "28  Abaloparatide has caused osteosarcoma (a type ...          0.971460   \n",
       "\n",
       "    faithfulness  context_precision  context_recall  \n",
       "19          1.00                1.0             1.0  \n",
       "20          0.75                1.0             1.0  \n",
       "21          1.00                1.0             1.0  \n",
       "22          1.00                1.0             1.0  \n",
       "23          0.70                1.0             1.0  \n",
       "24          1.00                1.0             1.0  \n",
       "25          1.00                1.0             1.0  \n",
       "26          0.00                0.0             0.0  \n",
       "27          0.00                0.0             0.0  \n",
       "28          0.00                0.0             0.0  "
      ]
     },
     "execution_count": 11,
     "metadata": {},
     "output_type": "execute_result"
    }
   ],
   "source": [
    "pd_result.tail(10)"
   ]
  },
  {
   "cell_type": "code",
   "execution_count": 12,
   "id": "b6f64407",
   "metadata": {},
   "outputs": [
    {
     "data": {
      "text/plain": [
       "{'answer_relevancy': 0.9085, 'faithfulness': 0.5636, 'context_precision': 0.7586, 'context_recall': 0.7069}"
      ]
     },
     "execution_count": 12,
     "metadata": {},
     "output_type": "execute_result"
    }
   ],
   "source": [
    "result"
   ]
  },
  {
   "cell_type": "code",
   "execution_count": 13,
   "id": "eaae7ac0",
   "metadata": {},
   "outputs": [
    {
     "name": "stdout",
     "output_type": "stream",
     "text": [
      "Medical Team's performance:\n"
     ]
    },
    {
     "data": {
      "text/html": [
       "<div>\n",
       "<style scoped>\n",
       "    .dataframe tbody tr th:only-of-type {\n",
       "        vertical-align: middle;\n",
       "    }\n",
       "\n",
       "    .dataframe tbody tr th {\n",
       "        vertical-align: top;\n",
       "    }\n",
       "\n",
       "    .dataframe thead th {\n",
       "        text-align: right;\n",
       "    }\n",
       "</style>\n",
       "<table border=\"1\" class=\"dataframe\">\n",
       "  <thead>\n",
       "    <tr style=\"text-align: right;\">\n",
       "      <th></th>\n",
       "      <th>Metric</th>\n",
       "      <th>Score</th>\n",
       "    </tr>\n",
       "  </thead>\n",
       "  <tbody>\n",
       "    <tr>\n",
       "      <th>0</th>\n",
       "      <td>answer_relevancy</td>\n",
       "      <td>0.9085</td>\n",
       "    </tr>\n",
       "    <tr>\n",
       "      <th>1</th>\n",
       "      <td>faithfulness</td>\n",
       "      <td>0.5636</td>\n",
       "    </tr>\n",
       "    <tr>\n",
       "      <th>2</th>\n",
       "      <td>context_precision</td>\n",
       "      <td>0.7586</td>\n",
       "    </tr>\n",
       "    <tr>\n",
       "      <th>3</th>\n",
       "      <td>context_recall</td>\n",
       "      <td>0.7069</td>\n",
       "    </tr>\n",
       "  </tbody>\n",
       "</table>\n",
       "</div>"
      ],
      "text/plain": [
       "              Metric   Score\n",
       "0   answer_relevancy  0.9085\n",
       "1       faithfulness  0.5636\n",
       "2  context_precision  0.7586\n",
       "3     context_recall  0.7069"
      ]
     },
     "metadata": {},
     "output_type": "display_data"
    }
   ],
   "source": [
    "r = {'answer_relevancy': 0.9085, 'faithfulness': 0.5636, 'context_precision': 0.7586, 'context_recall': 0.7069}\n",
    "print(\"Medical Team's performance:\")\n",
    "print_metrics_table(r)"
   ]
  },
  {
   "cell_type": "markdown",
   "id": "e40c5ae5",
   "metadata": {},
   "source": [
    "##### Normal Team's turn"
   ]
  },
  {
   "cell_type": "code",
   "execution_count": 6,
   "id": "170068fe",
   "metadata": {},
   "outputs": [
    {
     "data": {
      "application/vnd.jupyter.widget-view+json": {
       "model_id": "596ca61e1bd24747b913c1a2aec7c417",
       "version_major": 2,
       "version_minor": 0
      },
      "text/plain": [
       "Batches:   0%|          | 0/1 [00:00<?, ?it/s]"
      ]
     },
     "metadata": {},
     "output_type": "display_data"
    },
    {
     "name": "stderr",
     "output_type": "stream",
     "text": [
      "You seem to be using the pipelines sequentially on GPU. In order to maximize efficiency please use a dataset\n"
     ]
    },
    {
     "data": {
      "application/vnd.jupyter.widget-view+json": {
       "model_id": "159f2e4a37ed40c690d0be354aeac5fc",
       "version_major": 2,
       "version_minor": 0
      },
      "text/plain": [
       "Batches:   0%|          | 0/1 [00:00<?, ?it/s]"
      ]
     },
     "metadata": {},
     "output_type": "display_data"
    },
    {
     "data": {
      "application/vnd.jupyter.widget-view+json": {
       "model_id": "5f609227e4c342e69e2a6a279f068ffc",
       "version_major": 2,
       "version_minor": 0
      },
      "text/plain": [
       "Batches:   0%|          | 0/1 [00:00<?, ?it/s]"
      ]
     },
     "metadata": {},
     "output_type": "display_data"
    },
    {
     "data": {
      "application/vnd.jupyter.widget-view+json": {
       "model_id": "0110be4bc5504e009bdf3c29e25b14c9",
       "version_major": 2,
       "version_minor": 0
      },
      "text/plain": [
       "Batches:   0%|          | 0/1 [00:00<?, ?it/s]"
      ]
     },
     "metadata": {},
     "output_type": "display_data"
    },
    {
     "data": {
      "application/vnd.jupyter.widget-view+json": {
       "model_id": "9d07b131c10e431393137bf7371f3fd4",
       "version_major": 2,
       "version_minor": 0
      },
      "text/plain": [
       "Batches:   0%|          | 0/1 [00:00<?, ?it/s]"
      ]
     },
     "metadata": {},
     "output_type": "display_data"
    },
    {
     "data": {
      "application/vnd.jupyter.widget-view+json": {
       "model_id": "637320f22d6f42c68058dc856a11b120",
       "version_major": 2,
       "version_minor": 0
      },
      "text/plain": [
       "Batches:   0%|          | 0/1 [00:00<?, ?it/s]"
      ]
     },
     "metadata": {},
     "output_type": "display_data"
    },
    {
     "data": {
      "application/vnd.jupyter.widget-view+json": {
       "model_id": "11bc9734e139422a872125418bf9141e",
       "version_major": 2,
       "version_minor": 0
      },
      "text/plain": [
       "Batches:   0%|          | 0/1 [00:00<?, ?it/s]"
      ]
     },
     "metadata": {},
     "output_type": "display_data"
    },
    {
     "data": {
      "application/vnd.jupyter.widget-view+json": {
       "model_id": "0714726f6c1c446e81ca92f65928c857",
       "version_major": 2,
       "version_minor": 0
      },
      "text/plain": [
       "Batches:   0%|          | 0/1 [00:00<?, ?it/s]"
      ]
     },
     "metadata": {},
     "output_type": "display_data"
    },
    {
     "data": {
      "application/vnd.jupyter.widget-view+json": {
       "model_id": "c8e660f492c843498848c07f7b345410",
       "version_major": 2,
       "version_minor": 0
      },
      "text/plain": [
       "Batches:   0%|          | 0/1 [00:00<?, ?it/s]"
      ]
     },
     "metadata": {},
     "output_type": "display_data"
    },
    {
     "data": {
      "application/vnd.jupyter.widget-view+json": {
       "model_id": "6ebeb49e2761456c81f5bc725d473c88",
       "version_major": 2,
       "version_minor": 0
      },
      "text/plain": [
       "Batches:   0%|          | 0/1 [00:00<?, ?it/s]"
      ]
     },
     "metadata": {},
     "output_type": "display_data"
    },
    {
     "data": {
      "application/vnd.jupyter.widget-view+json": {
       "model_id": "381af873a0134cb5adde81ece5626aff",
       "version_major": 2,
       "version_minor": 0
      },
      "text/plain": [
       "Batches:   0%|          | 0/1 [00:00<?, ?it/s]"
      ]
     },
     "metadata": {},
     "output_type": "display_data"
    },
    {
     "data": {
      "application/vnd.jupyter.widget-view+json": {
       "model_id": "7bfb90435dc5445a999355557224c4b2",
       "version_major": 2,
       "version_minor": 0
      },
      "text/plain": [
       "Batches:   0%|          | 0/1 [00:00<?, ?it/s]"
      ]
     },
     "metadata": {},
     "output_type": "display_data"
    },
    {
     "data": {
      "application/vnd.jupyter.widget-view+json": {
       "model_id": "9685b604bf97482faf079841c1c60b2a",
       "version_major": 2,
       "version_minor": 0
      },
      "text/plain": [
       "Batches:   0%|          | 0/1 [00:00<?, ?it/s]"
      ]
     },
     "metadata": {},
     "output_type": "display_data"
    },
    {
     "data": {
      "application/vnd.jupyter.widget-view+json": {
       "model_id": "96e68efea16d49a0ad4b6f3a69410cc8",
       "version_major": 2,
       "version_minor": 0
      },
      "text/plain": [
       "Batches:   0%|          | 0/1 [00:00<?, ?it/s]"
      ]
     },
     "metadata": {},
     "output_type": "display_data"
    },
    {
     "data": {
      "application/vnd.jupyter.widget-view+json": {
       "model_id": "d13cca5cab1e492493b25bcab151280c",
       "version_major": 2,
       "version_minor": 0
      },
      "text/plain": [
       "Batches:   0%|          | 0/1 [00:00<?, ?it/s]"
      ]
     },
     "metadata": {},
     "output_type": "display_data"
    },
    {
     "data": {
      "application/vnd.jupyter.widget-view+json": {
       "model_id": "47dab6375ee44cf8892dbfd677685c42",
       "version_major": 2,
       "version_minor": 0
      },
      "text/plain": [
       "Batches:   0%|          | 0/1 [00:00<?, ?it/s]"
      ]
     },
     "metadata": {},
     "output_type": "display_data"
    },
    {
     "data": {
      "application/vnd.jupyter.widget-view+json": {
       "model_id": "3468713277e444dcbcbe63e2d90ff6ce",
       "version_major": 2,
       "version_minor": 0
      },
      "text/plain": [
       "Batches:   0%|          | 0/1 [00:00<?, ?it/s]"
      ]
     },
     "metadata": {},
     "output_type": "display_data"
    },
    {
     "data": {
      "application/vnd.jupyter.widget-view+json": {
       "model_id": "1174bac4896849e4a74d4ff6a3844d0a",
       "version_major": 2,
       "version_minor": 0
      },
      "text/plain": [
       "Batches:   0%|          | 0/1 [00:00<?, ?it/s]"
      ]
     },
     "metadata": {},
     "output_type": "display_data"
    },
    {
     "data": {
      "application/vnd.jupyter.widget-view+json": {
       "model_id": "9b97b521a899446d8cb0a6da4e97ea33",
       "version_major": 2,
       "version_minor": 0
      },
      "text/plain": [
       "Batches:   0%|          | 0/1 [00:00<?, ?it/s]"
      ]
     },
     "metadata": {},
     "output_type": "display_data"
    },
    {
     "data": {
      "application/vnd.jupyter.widget-view+json": {
       "model_id": "e555d2724f774be2a2d1a1db13489d61",
       "version_major": 2,
       "version_minor": 0
      },
      "text/plain": [
       "Batches:   0%|          | 0/1 [00:00<?, ?it/s]"
      ]
     },
     "metadata": {},
     "output_type": "display_data"
    },
    {
     "data": {
      "application/vnd.jupyter.widget-view+json": {
       "model_id": "ece615c11aee4985a409870e7c8dbe02",
       "version_major": 2,
       "version_minor": 0
      },
      "text/plain": [
       "Batches:   0%|          | 0/1 [00:00<?, ?it/s]"
      ]
     },
     "metadata": {},
     "output_type": "display_data"
    },
    {
     "data": {
      "application/vnd.jupyter.widget-view+json": {
       "model_id": "168854c0c60e4248b153406e71bc9cc5",
       "version_major": 2,
       "version_minor": 0
      },
      "text/plain": [
       "Batches:   0%|          | 0/1 [00:00<?, ?it/s]"
      ]
     },
     "metadata": {},
     "output_type": "display_data"
    },
    {
     "data": {
      "application/vnd.jupyter.widget-view+json": {
       "model_id": "66810b88066d476588550119c4482003",
       "version_major": 2,
       "version_minor": 0
      },
      "text/plain": [
       "Batches:   0%|          | 0/1 [00:00<?, ?it/s]"
      ]
     },
     "metadata": {},
     "output_type": "display_data"
    },
    {
     "data": {
      "application/vnd.jupyter.widget-view+json": {
       "model_id": "93550dc1cb764291a6b837b64245925b",
       "version_major": 2,
       "version_minor": 0
      },
      "text/plain": [
       "Batches:   0%|          | 0/1 [00:00<?, ?it/s]"
      ]
     },
     "metadata": {},
     "output_type": "display_data"
    },
    {
     "data": {
      "application/vnd.jupyter.widget-view+json": {
       "model_id": "645cf65a78f5447aba6523e4af9adaad",
       "version_major": 2,
       "version_minor": 0
      },
      "text/plain": [
       "Batches:   0%|          | 0/1 [00:00<?, ?it/s]"
      ]
     },
     "metadata": {},
     "output_type": "display_data"
    },
    {
     "data": {
      "application/vnd.jupyter.widget-view+json": {
       "model_id": "04891b88719e406ba4a54d31d4ced71d",
       "version_major": 2,
       "version_minor": 0
      },
      "text/plain": [
       "Batches:   0%|          | 0/1 [00:00<?, ?it/s]"
      ]
     },
     "metadata": {},
     "output_type": "display_data"
    },
    {
     "data": {
      "application/vnd.jupyter.widget-view+json": {
       "model_id": "e1e9ecf42dbb4b0394baccd8272852b8",
       "version_major": 2,
       "version_minor": 0
      },
      "text/plain": [
       "Batches:   0%|          | 0/1 [00:00<?, ?it/s]"
      ]
     },
     "metadata": {},
     "output_type": "display_data"
    },
    {
     "data": {
      "application/vnd.jupyter.widget-view+json": {
       "model_id": "e913a3b92c92441eb569fe4cec698873",
       "version_major": 2,
       "version_minor": 0
      },
      "text/plain": [
       "Batches:   0%|          | 0/1 [00:00<?, ?it/s]"
      ]
     },
     "metadata": {},
     "output_type": "display_data"
    },
    {
     "data": {
      "application/vnd.jupyter.widget-view+json": {
       "model_id": "bd930dd4c6d94b12a1172147e9a94089",
       "version_major": 2,
       "version_minor": 0
      },
      "text/plain": [
       "Batches:   0%|          | 0/1 [00:00<?, ?it/s]"
      ]
     },
     "metadata": {},
     "output_type": "display_data"
    },
    {
     "data": {
      "application/vnd.jupyter.widget-view+json": {
       "model_id": "7d2bd8a203ec4224a4688eec7732c431",
       "version_major": 2,
       "version_minor": 0
      },
      "text/plain": [
       "Evaluating:   0%|          | 0/116 [00:00<?, ?it/s]"
      ]
     },
     "metadata": {},
     "output_type": "display_data"
    },
    {
     "data": {
      "application/vnd.jupyter.widget-view+json": {
       "model_id": "d9f46a9b40264e2fb52eb8009351113c",
       "version_major": 2,
       "version_minor": 0
      },
      "text/plain": [
       "Batch 1/6:   0%|          | 0/20 [00:00<?, ?it/s]"
      ]
     },
     "metadata": {},
     "output_type": "display_data"
    }
   ],
   "source": [
    "result = evaluation_rag(qa_pairs)"
   ]
  },
  {
   "cell_type": "code",
   "execution_count": 7,
   "id": "a0c07815",
   "metadata": {},
   "outputs": [],
   "source": [
    "pd_result = result.to_pandas()"
   ]
  },
  {
   "cell_type": "code",
   "execution_count": 8,
   "id": "565c0253",
   "metadata": {},
   "outputs": [
    {
     "data": {
      "text/html": [
       "<div>\n",
       "<style scoped>\n",
       "    .dataframe tbody tr th:only-of-type {\n",
       "        vertical-align: middle;\n",
       "    }\n",
       "\n",
       "    .dataframe tbody tr th {\n",
       "        vertical-align: top;\n",
       "    }\n",
       "\n",
       "    .dataframe thead th {\n",
       "        text-align: right;\n",
       "    }\n",
       "</style>\n",
       "<table border=\"1\" class=\"dataframe\">\n",
       "  <thead>\n",
       "    <tr style=\"text-align: right;\">\n",
       "      <th></th>\n",
       "      <th>user_input</th>\n",
       "      <th>retrieved_contexts</th>\n",
       "      <th>response</th>\n",
       "      <th>reference</th>\n",
       "      <th>answer_relevancy</th>\n",
       "      <th>faithfulness</th>\n",
       "      <th>context_precision</th>\n",
       "      <th>context_recall</th>\n",
       "    </tr>\n",
       "  </thead>\n",
       "  <tbody>\n",
       "    <tr>\n",
       "      <th>0</th>\n",
       "      <td>What conditions can phenylephrine help relieve?</td>\n",
       "      <td>[phenylephrine may cause side effects. some si...</td>\n",
       "      <td>Phenylephrine is not mentioned in the document...</td>\n",
       "      <td>Phenylephrine can relieve nasal discomfort cau...</td>\n",
       "      <td>0.000000</td>\n",
       "      <td>1.000000</td>\n",
       "      <td>0.0</td>\n",
       "      <td>0.0</td>\n",
       "    </tr>\n",
       "    <tr>\n",
       "      <th>1</th>\n",
       "      <td>Does phenylephrine cure the cause of symptoms?</td>\n",
       "      <td>[phenylephrine may cause side effects. some si...</td>\n",
       "      <td>Phenylephrine is a medication that can help re...</td>\n",
       "      <td>No. Phenylephrine only relieves the symptoms b...</td>\n",
       "      <td>0.000000</td>\n",
       "      <td>0.428571</td>\n",
       "      <td>0.0</td>\n",
       "      <td>0.0</td>\n",
       "    </tr>\n",
       "    <tr>\n",
       "      <th>2</th>\n",
       "      <td>How does phenylephrine work in the body?</td>\n",
       "      <td>[ask your pharmacist any questions you have ab...</td>\n",
       "      <td>Phenylephrine works in the body by... actually...</td>\n",
       "      <td>Phenylephrine is a nasal decongestant. It work...</td>\n",
       "      <td>0.000000</td>\n",
       "      <td>0.666667</td>\n",
       "      <td>0.0</td>\n",
       "      <td>0.0</td>\n",
       "    </tr>\n",
       "    <tr>\n",
       "      <th>3</th>\n",
       "      <td>What allergies should you tell your doctor or ...</td>\n",
       "      <td>[pyrethrin and piperonyl butoxide comes as a s...</td>\n",
       "      <td>Before using pyrethrin and piperonyl butoxide ...</td>\n",
       "      <td>You should mention if you are allergic to pyre...</td>\n",
       "      <td>0.943715</td>\n",
       "      <td>1.000000</td>\n",
       "      <td>1.0</td>\n",
       "      <td>1.0</td>\n",
       "    </tr>\n",
       "    <tr>\n",
       "      <th>4</th>\n",
       "      <td>Why is it important to tell your doctor about ...</td>\n",
       "      <td>[pyrethrin and piperonyl butoxide comes as a s...</td>\n",
       "      <td>It's important to tell your doctor about other...</td>\n",
       "      <td>Because prescription and nonprescription medic...</td>\n",
       "      <td>0.991313</td>\n",
       "      <td>0.285714</td>\n",
       "      <td>1.0</td>\n",
       "      <td>1.0</td>\n",
       "    </tr>\n",
       "    <tr>\n",
       "      <th>5</th>\n",
       "      <td>What should you tell your doctor regarding you...</td>\n",
       "      <td>[pyrethrin and piperonyl butoxide comes as a s...</td>\n",
       "      <td>Before using pyrethrin and piperonyl butoxide ...</td>\n",
       "      <td>You should tell your doctor if you have or hav...</td>\n",
       "      <td>0.979218</td>\n",
       "      <td>1.000000</td>\n",
       "      <td>1.0</td>\n",
       "      <td>1.0</td>\n",
       "    </tr>\n",
       "    <tr>\n",
       "      <th>6</th>\n",
       "      <td>What should you do if someone swallows pyrethr...</td>\n",
       "      <td>[pyrethrin and piperonyl butoxide comes as a s...</td>\n",
       "      <td>Oh no, if someone swallows pyrethrin and piper...</td>\n",
       "      <td>Call your local poison control center immediat...</td>\n",
       "      <td>1.000000</td>\n",
       "      <td>1.000000</td>\n",
       "      <td>1.0</td>\n",
       "      <td>1.0</td>\n",
       "    </tr>\n",
       "    <tr>\n",
       "      <th>7</th>\n",
       "      <td>What should you do if the person has collapsed...</td>\n",
       "      <td>[pyrethrin and piperonyl butoxide comes as a s...</td>\n",
       "      <td>If someone swallows pyrethrin and piperonyl bu...</td>\n",
       "      <td>Call local emergency services at 911 right away.</td>\n",
       "      <td>0.956313</td>\n",
       "      <td>0.500000</td>\n",
       "      <td>1.0</td>\n",
       "      <td>1.0</td>\n",
       "    </tr>\n",
       "    <tr>\n",
       "      <th>8</th>\n",
       "      <td>Who should you contact first if pyrethrin and ...</td>\n",
       "      <td>[pyrethrin and piperonyl butoxide comes as a s...</td>\n",
       "      <td>If pyrethrin and piperonyl butoxide shampoo is...</td>\n",
       "      <td>You should first contact your local poison con...</td>\n",
       "      <td>0.950626</td>\n",
       "      <td>1.000000</td>\n",
       "      <td>1.0</td>\n",
       "      <td>1.0</td>\n",
       "    </tr>\n",
       "    <tr>\n",
       "      <th>9</th>\n",
       "      <td>What conditions can antipyrine and benzocaine ...</td>\n",
       "      <td>[antipyrine and benzocaine otic is used to rel...</td>\n",
       "      <td>Antipyrine and benzocaine otic can help reliev...</td>\n",
       "      <td>It can relieve ear pain and swelling caused by...</td>\n",
       "      <td>0.944873</td>\n",
       "      <td>1.000000</td>\n",
       "      <td>1.0</td>\n",
       "      <td>1.0</td>\n",
       "    </tr>\n",
       "  </tbody>\n",
       "</table>\n",
       "</div>"
      ],
      "text/plain": [
       "                                          user_input  \\\n",
       "0    What conditions can phenylephrine help relieve?   \n",
       "1     Does phenylephrine cure the cause of symptoms?   \n",
       "2           How does phenylephrine work in the body?   \n",
       "3  What allergies should you tell your doctor or ...   \n",
       "4  Why is it important to tell your doctor about ...   \n",
       "5  What should you tell your doctor regarding you...   \n",
       "6  What should you do if someone swallows pyrethr...   \n",
       "7  What should you do if the person has collapsed...   \n",
       "8  Who should you contact first if pyrethrin and ...   \n",
       "9  What conditions can antipyrine and benzocaine ...   \n",
       "\n",
       "                                  retrieved_contexts  \\\n",
       "0  [phenylephrine may cause side effects. some si...   \n",
       "1  [phenylephrine may cause side effects. some si...   \n",
       "2  [ask your pharmacist any questions you have ab...   \n",
       "3  [pyrethrin and piperonyl butoxide comes as a s...   \n",
       "4  [pyrethrin and piperonyl butoxide comes as a s...   \n",
       "5  [pyrethrin and piperonyl butoxide comes as a s...   \n",
       "6  [pyrethrin and piperonyl butoxide comes as a s...   \n",
       "7  [pyrethrin and piperonyl butoxide comes as a s...   \n",
       "8  [pyrethrin and piperonyl butoxide comes as a s...   \n",
       "9  [antipyrine and benzocaine otic is used to rel...   \n",
       "\n",
       "                                            response  \\\n",
       "0  Phenylephrine is not mentioned in the document...   \n",
       "1  Phenylephrine is a medication that can help re...   \n",
       "2  Phenylephrine works in the body by... actually...   \n",
       "3  Before using pyrethrin and piperonyl butoxide ...   \n",
       "4  It's important to tell your doctor about other...   \n",
       "5  Before using pyrethrin and piperonyl butoxide ...   \n",
       "6  Oh no, if someone swallows pyrethrin and piper...   \n",
       "7  If someone swallows pyrethrin and piperonyl bu...   \n",
       "8  If pyrethrin and piperonyl butoxide shampoo is...   \n",
       "9  Antipyrine and benzocaine otic can help reliev...   \n",
       "\n",
       "                                           reference  answer_relevancy  \\\n",
       "0  Phenylephrine can relieve nasal discomfort cau...          0.000000   \n",
       "1  No. Phenylephrine only relieves the symptoms b...          0.000000   \n",
       "2  Phenylephrine is a nasal decongestant. It work...          0.000000   \n",
       "3  You should mention if you are allergic to pyre...          0.943715   \n",
       "4  Because prescription and nonprescription medic...          0.991313   \n",
       "5  You should tell your doctor if you have or hav...          0.979218   \n",
       "6  Call your local poison control center immediat...          1.000000   \n",
       "7   Call local emergency services at 911 right away.          0.956313   \n",
       "8  You should first contact your local poison con...          0.950626   \n",
       "9  It can relieve ear pain and swelling caused by...          0.944873   \n",
       "\n",
       "   faithfulness  context_precision  context_recall  \n",
       "0      1.000000                0.0             0.0  \n",
       "1      0.428571                0.0             0.0  \n",
       "2      0.666667                0.0             0.0  \n",
       "3      1.000000                1.0             1.0  \n",
       "4      0.285714                1.0             1.0  \n",
       "5      1.000000                1.0             1.0  \n",
       "6      1.000000                1.0             1.0  \n",
       "7      0.500000                1.0             1.0  \n",
       "8      1.000000                1.0             1.0  \n",
       "9      1.000000                1.0             1.0  "
      ]
     },
     "execution_count": 8,
     "metadata": {},
     "output_type": "execute_result"
    }
   ],
   "source": [
    "pd_result.head(10)"
   ]
  },
  {
   "cell_type": "code",
   "execution_count": 9,
   "id": "c0cec1da",
   "metadata": {},
   "outputs": [
    {
     "data": {
      "text/html": [
       "<div>\n",
       "<style scoped>\n",
       "    .dataframe tbody tr th:only-of-type {\n",
       "        vertical-align: middle;\n",
       "    }\n",
       "\n",
       "    .dataframe tbody tr th {\n",
       "        vertical-align: top;\n",
       "    }\n",
       "\n",
       "    .dataframe thead th {\n",
       "        text-align: right;\n",
       "    }\n",
       "</style>\n",
       "<table border=\"1\" class=\"dataframe\">\n",
       "  <thead>\n",
       "    <tr style=\"text-align: right;\">\n",
       "      <th></th>\n",
       "      <th>user_input</th>\n",
       "      <th>retrieved_contexts</th>\n",
       "      <th>response</th>\n",
       "      <th>reference</th>\n",
       "      <th>answer_relevancy</th>\n",
       "      <th>faithfulness</th>\n",
       "      <th>context_precision</th>\n",
       "      <th>context_recall</th>\n",
       "    </tr>\n",
       "  </thead>\n",
       "  <tbody>\n",
       "    <tr>\n",
       "      <th>19</th>\n",
       "      <td>Why is it important not to stop taking abacavi...</td>\n",
       "      <td>[unless your doctor tells you otherwise, conti...</td>\n",
       "      <td>It's really important not to stop taking abaca...</td>\n",
       "      <td>Stopping or skipping doses can make the condit...</td>\n",
       "      <td>1.000000</td>\n",
       "      <td>0.800000</td>\n",
       "      <td>1.0</td>\n",
       "      <td>1.0</td>\n",
       "    </tr>\n",
       "    <tr>\n",
       "      <th>20</th>\n",
       "      <td>What is abaloparatide injection used for?</td>\n",
       "      <td>[abaloparatide injection comes as a solution (...</td>\n",
       "      <td>Abaloparatide injection is used to treat osteo...</td>\n",
       "      <td>Abaloparatide injection is used to treat osteo...</td>\n",
       "      <td>0.997141</td>\n",
       "      <td>0.875000</td>\n",
       "      <td>1.0</td>\n",
       "      <td>1.0</td>\n",
       "    </tr>\n",
       "    <tr>\n",
       "      <th>21</th>\n",
       "      <td>How does abaloparatide injection work?</td>\n",
       "      <td>[abaloparatide injection comes as a solution (...</td>\n",
       "      <td>Abaloparatide injection works by causing the b...</td>\n",
       "      <td>It contains a synthetic form of parathyroid ho...</td>\n",
       "      <td>0.969110</td>\n",
       "      <td>0.857143</td>\n",
       "      <td>1.0</td>\n",
       "      <td>1.0</td>\n",
       "    </tr>\n",
       "    <tr>\n",
       "      <th>22</th>\n",
       "      <td>Who should consider using abaloparatide inject...</td>\n",
       "      <td>[abaloparatide injection comes as a solution (...</td>\n",
       "      <td>According to the information, abaloparatide in...</td>\n",
       "      <td>People with osteoporosis who have a history of...</td>\n",
       "      <td>0.956309</td>\n",
       "      <td>1.000000</td>\n",
       "      <td>1.0</td>\n",
       "      <td>1.0</td>\n",
       "    </tr>\n",
       "    <tr>\n",
       "      <th>23</th>\n",
       "      <td>How should abaloparatide injection be used?</td>\n",
       "      <td>[abaloparatide injection comes as a solution (...</td>\n",
       "      <td>You should use abaloparatide injection exactly...</td>\n",
       "      <td>Abaloparatide injection should be injected sub...</td>\n",
       "      <td>0.982110</td>\n",
       "      <td>1.000000</td>\n",
       "      <td>1.0</td>\n",
       "      <td>1.0</td>\n",
       "    </tr>\n",
       "    <tr>\n",
       "      <th>24</th>\n",
       "      <td>Where should abaloparatide injection be admini...</td>\n",
       "      <td>[abaloparatide injection comes as a solution (...</td>\n",
       "      <td>According to the instructions, abaloparatide i...</td>\n",
       "      <td>It should be injected into the lower stomach a...</td>\n",
       "      <td>0.954704</td>\n",
       "      <td>1.000000</td>\n",
       "      <td>1.0</td>\n",
       "      <td>1.0</td>\n",
       "    </tr>\n",
       "    <tr>\n",
       "      <th>25</th>\n",
       "      <td>What safety and handling instructions should b...</td>\n",
       "      <td>[abaloparatide injection comes as a solution (...</td>\n",
       "      <td>When using abaloparatide injection, it's impor...</td>\n",
       "      <td>Use the medication only if it is clear and col...</td>\n",
       "      <td>0.990843</td>\n",
       "      <td>1.000000</td>\n",
       "      <td>1.0</td>\n",
       "      <td>1.0</td>\n",
       "    </tr>\n",
       "    <tr>\n",
       "      <th>26</th>\n",
       "      <td>What should you tell your doctor before receiv...</td>\n",
       "      <td>[abaloparatide injection comes as a solution (...</td>\n",
       "      <td>Before receiving abaloparatide injection, it's...</td>\n",
       "      <td>You should tell your doctor if you are allergi...</td>\n",
       "      <td>0.947277</td>\n",
       "      <td>0.857143</td>\n",
       "      <td>0.0</td>\n",
       "      <td>0.0</td>\n",
       "    </tr>\n",
       "    <tr>\n",
       "      <th>27</th>\n",
       "      <td>Who should not use abaloparatide injection?</td>\n",
       "      <td>[abaloparatide injection comes as a solution (...</td>\n",
       "      <td>According to the information, abaloparatide in...</td>\n",
       "      <td>People with high calcium levels in the blood, ...</td>\n",
       "      <td>0.948695</td>\n",
       "      <td>1.000000</td>\n",
       "      <td>0.0</td>\n",
       "      <td>0.0</td>\n",
       "    </tr>\n",
       "    <tr>\n",
       "      <th>28</th>\n",
       "      <td>Why is there a warning about osteosarcoma with...</td>\n",
       "      <td>[abaloparatide injection comes as a solution (...</td>\n",
       "      <td>There is no warning about osteosarcoma with ab...</td>\n",
       "      <td>Abaloparatide has caused osteosarcoma (a type ...</td>\n",
       "      <td>0.971460</td>\n",
       "      <td>0.750000</td>\n",
       "      <td>0.0</td>\n",
       "      <td>0.0</td>\n",
       "    </tr>\n",
       "  </tbody>\n",
       "</table>\n",
       "</div>"
      ],
      "text/plain": [
       "                                           user_input  \\\n",
       "19  Why is it important not to stop taking abacavi...   \n",
       "20          What is abaloparatide injection used for?   \n",
       "21             How does abaloparatide injection work?   \n",
       "22  Who should consider using abaloparatide inject...   \n",
       "23        How should abaloparatide injection be used?   \n",
       "24  Where should abaloparatide injection be admini...   \n",
       "25  What safety and handling instructions should b...   \n",
       "26  What should you tell your doctor before receiv...   \n",
       "27        Who should not use abaloparatide injection?   \n",
       "28  Why is there a warning about osteosarcoma with...   \n",
       "\n",
       "                                   retrieved_contexts  \\\n",
       "19  [unless your doctor tells you otherwise, conti...   \n",
       "20  [abaloparatide injection comes as a solution (...   \n",
       "21  [abaloparatide injection comes as a solution (...   \n",
       "22  [abaloparatide injection comes as a solution (...   \n",
       "23  [abaloparatide injection comes as a solution (...   \n",
       "24  [abaloparatide injection comes as a solution (...   \n",
       "25  [abaloparatide injection comes as a solution (...   \n",
       "26  [abaloparatide injection comes as a solution (...   \n",
       "27  [abaloparatide injection comes as a solution (...   \n",
       "28  [abaloparatide injection comes as a solution (...   \n",
       "\n",
       "                                             response  \\\n",
       "19  It's really important not to stop taking abaca...   \n",
       "20  Abaloparatide injection is used to treat osteo...   \n",
       "21  Abaloparatide injection works by causing the b...   \n",
       "22  According to the information, abaloparatide in...   \n",
       "23  You should use abaloparatide injection exactly...   \n",
       "24  According to the instructions, abaloparatide i...   \n",
       "25  When using abaloparatide injection, it's impor...   \n",
       "26  Before receiving abaloparatide injection, it's...   \n",
       "27  According to the information, abaloparatide in...   \n",
       "28  There is no warning about osteosarcoma with ab...   \n",
       "\n",
       "                                            reference  answer_relevancy  \\\n",
       "19  Stopping or skipping doses can make the condit...          1.000000   \n",
       "20  Abaloparatide injection is used to treat osteo...          0.997141   \n",
       "21  It contains a synthetic form of parathyroid ho...          0.969110   \n",
       "22  People with osteoporosis who have a history of...          0.956309   \n",
       "23  Abaloparatide injection should be injected sub...          0.982110   \n",
       "24  It should be injected into the lower stomach a...          0.954704   \n",
       "25  Use the medication only if it is clear and col...          0.990843   \n",
       "26  You should tell your doctor if you are allergi...          0.947277   \n",
       "27  People with high calcium levels in the blood, ...          0.948695   \n",
       "28  Abaloparatide has caused osteosarcoma (a type ...          0.971460   \n",
       "\n",
       "    faithfulness  context_precision  context_recall  \n",
       "19      0.800000                1.0             1.0  \n",
       "20      0.875000                1.0             1.0  \n",
       "21      0.857143                1.0             1.0  \n",
       "22      1.000000                1.0             1.0  \n",
       "23      1.000000                1.0             1.0  \n",
       "24      1.000000                1.0             1.0  \n",
       "25      1.000000                1.0             1.0  \n",
       "26      0.857143                0.0             0.0  \n",
       "27      1.000000                0.0             0.0  \n",
       "28      0.750000                0.0             0.0  "
      ]
     },
     "execution_count": 9,
     "metadata": {},
     "output_type": "execute_result"
    }
   ],
   "source": [
    "pd_result.tail(10)"
   ]
  },
  {
   "cell_type": "code",
   "execution_count": 10,
   "id": "614b8cbf",
   "metadata": {},
   "outputs": [
    {
     "data": {
      "text/plain": [
       "{'answer_relevancy': 0.8018, 'faithfulness': 0.8645, 'context_precision': 0.7586, 'context_recall': 0.7069}"
      ]
     },
     "execution_count": 10,
     "metadata": {},
     "output_type": "execute_result"
    }
   ],
   "source": [
    "result"
   ]
  },
  {
   "cell_type": "code",
   "execution_count": 11,
   "id": "08414685",
   "metadata": {},
   "outputs": [
    {
     "name": "stdout",
     "output_type": "stream",
     "text": [
      "General Team's performance:\n"
     ]
    },
    {
     "data": {
      "text/html": [
       "<div>\n",
       "<style scoped>\n",
       "    .dataframe tbody tr th:only-of-type {\n",
       "        vertical-align: middle;\n",
       "    }\n",
       "\n",
       "    .dataframe tbody tr th {\n",
       "        vertical-align: top;\n",
       "    }\n",
       "\n",
       "    .dataframe thead th {\n",
       "        text-align: right;\n",
       "    }\n",
       "</style>\n",
       "<table border=\"1\" class=\"dataframe\">\n",
       "  <thead>\n",
       "    <tr style=\"text-align: right;\">\n",
       "      <th></th>\n",
       "      <th>Metric</th>\n",
       "      <th>Score</th>\n",
       "    </tr>\n",
       "  </thead>\n",
       "  <tbody>\n",
       "    <tr>\n",
       "      <th>0</th>\n",
       "      <td>answer_relevancy</td>\n",
       "      <td>0.8018</td>\n",
       "    </tr>\n",
       "    <tr>\n",
       "      <th>1</th>\n",
       "      <td>faithfulness</td>\n",
       "      <td>0.8645</td>\n",
       "    </tr>\n",
       "    <tr>\n",
       "      <th>2</th>\n",
       "      <td>context_precision</td>\n",
       "      <td>0.7586</td>\n",
       "    </tr>\n",
       "    <tr>\n",
       "      <th>3</th>\n",
       "      <td>context_recall</td>\n",
       "      <td>0.7069</td>\n",
       "    </tr>\n",
       "  </tbody>\n",
       "</table>\n",
       "</div>"
      ],
      "text/plain": [
       "              Metric   Score\n",
       "0   answer_relevancy  0.8018\n",
       "1       faithfulness  0.8645\n",
       "2  context_precision  0.7586\n",
       "3     context_recall  0.7069"
      ]
     },
     "metadata": {},
     "output_type": "display_data"
    }
   ],
   "source": [
    "r = {'answer_relevancy': 0.8018, 'faithfulness': 0.8645, 'context_precision': 0.7586, 'context_recall': 0.7069}\n",
    "print(\"General Team's performance:\")\n",
    "print_metrics_table(r)"
   ]
  },
  {
   "cell_type": "markdown",
   "id": "6d757e73",
   "metadata": {},
   "source": [
    "##### Big Team"
   ]
  },
  {
   "cell_type": "code",
   "execution_count": null,
   "id": "832bbe06",
   "metadata": {},
   "outputs": [],
   "source": [
    "result = evaluation_rag(qa_pairs)"
   ]
  },
  {
   "cell_type": "code",
   "execution_count": null,
   "id": "e9b58f9f",
   "metadata": {},
   "outputs": [],
   "source": [
    "pd_result = result.to_pandas()"
   ]
  },
  {
   "cell_type": "code",
   "execution_count": null,
   "id": "a0eff086",
   "metadata": {},
   "outputs": [],
   "source": [
    "pd_result.head(10)"
   ]
  },
  {
   "cell_type": "code",
   "execution_count": null,
   "id": "f7c5a4a5",
   "metadata": {},
   "outputs": [],
   "source": [
    "pd_result.tail(10)"
   ]
  },
  {
   "cell_type": "code",
   "execution_count": null,
   "id": "7a5c3b31",
   "metadata": {},
   "outputs": [],
   "source": [
    "result"
   ]
  },
  {
   "cell_type": "code",
   "execution_count": null,
   "id": "5f156e55",
   "metadata": {},
   "outputs": [],
   "source": [
    "r = {'answer_relevancy': 0.6767, 'faithfulness': 0.9046, 'context_precision': 0.7447, 'context_recall': 0.6667, 'answer_correctness': 0.5508}\n",
    "print(\"General Team's performance:\")\n",
    "print_metrics_table(r)"
   ]
  }
 ],
 "metadata": {
  "kernelspec": {
   "display_name": "ai311",
   "language": "python",
   "name": "python3"
  },
  "language_info": {
   "codemirror_mode": {
    "name": "ipython",
    "version": 3
   },
   "file_extension": ".py",
   "mimetype": "text/x-python",
   "name": "python",
   "nbconvert_exporter": "python",
   "pygments_lexer": "ipython3",
   "version": "3.11.13"
  }
 },
 "nbformat": 4,
 "nbformat_minor": 5
}
